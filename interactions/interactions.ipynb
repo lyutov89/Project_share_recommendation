{
 "cells": [
  {
   "cell_type": "code",
   "execution_count": 106,
   "id": "ebc0f30a",
   "metadata": {},
   "outputs": [],
   "source": [
    "import numpy as np\n",
    "import pandas as pd\n",
    "import matplotlib as plt\n",
    "import bs4 as bs\n",
    "import requests\n",
    "from lxml import html\n",
    "from pprint import pprint\n",
    "import random"
   ]
  },
  {
   "cell_type": "markdown",
   "id": "fcae007b",
   "metadata": {},
   "source": [
    "__Дизайн взаимодействий user-item__\n"
   ]
  },
  {
   "cell_type": "markdown",
   "id": "5c4c2881",
   "metadata": {},
   "source": [
    "`1)` Работаем пока только с иностранными компаниями (USA)\n",
    "\n",
    "`2)` Облигации и ETF тоже вычеркиваем из списка покупок\n",
    "\n",
    "`3)` Будем выбирать по несколько акций (3-5) в месяц из списка популярных\n",
    "\n",
    "`4)` Начальные условия: пусть раз в неделю пользователь совершает одну сделку на покупку актива из списка `spb_list` \n",
    "\n",
    "`5)` Времянные рамки: 24 недели. Гарантированно, что пользователь сделает хотя бы одну покупку за 4 недели. "
   ]
  },
  {
   "cell_type": "markdown",
   "id": "af6b2bce",
   "metadata": {},
   "source": [
    "__Фиксация покупок ценных бумаг по неделям__"
   ]
  },
  {
   "cell_type": "code",
   "execution_count": 107,
   "id": "23ff49c4",
   "metadata": {},
   "outputs": [],
   "source": [
    "id_list = np.arange(1, 100001, 1)"
   ]
  },
  {
   "cell_type": "code",
   "execution_count": 108,
   "id": "e005cbde",
   "metadata": {},
   "outputs": [],
   "source": [
    "data=dict()"
   ]
  },
  {
   "cell_type": "code",
   "execution_count": 109,
   "id": "b93ffe50",
   "metadata": {
    "tags": []
   },
   "outputs": [],
   "source": [
    "#Сгенерируем номера недель когда пользователь совершает покупки ценных бумаг\n",
    "for i in range(len(id_list)):\n",
    "    min_week=28\n",
    "    max_week=52\n",
    "    step=4\n",
    "    temp=[]\n",
    "    while min_week!=max_week: \n",
    "        step=4\n",
    "        spam = random.randrange(min_week, min_week+step)\n",
    "        temp.append(spam)\n",
    "        min_week = min_week+step\n",
    "    data[id_list[i]] = temp"
   ]
  },
  {
   "cell_type": "code",
   "execution_count": 110,
   "id": "8ba9f7a3",
   "metadata": {},
   "outputs": [],
   "source": [
    "#из словаря составим серию\n",
    "data = pd.Series(data)"
   ]
  },
  {
   "cell_type": "code",
   "execution_count": 111,
   "id": "0b491581",
   "metadata": {},
   "outputs": [
    {
     "data": {
      "text/plain": [
       "1         [31, 33, 39, 42, 44, 49]\n",
       "2         [31, 33, 36, 41, 46, 48]\n",
       "3         [30, 33, 39, 40, 46, 50]\n",
       "4         [31, 33, 39, 40, 45, 51]\n",
       "5         [28, 32, 38, 42, 46, 48]\n",
       "                    ...           \n",
       "99996     [29, 34, 37, 43, 45, 50]\n",
       "99997     [29, 34, 38, 40, 47, 51]\n",
       "99998     [28, 33, 36, 42, 45, 48]\n",
       "99999     [31, 32, 39, 43, 46, 51]\n",
       "100000    [29, 35, 38, 43, 44, 51]\n",
       "Length: 100000, dtype: object"
      ]
     },
     "execution_count": 111,
     "metadata": {},
     "output_type": "execute_result"
    }
   ],
   "source": [
    "data"
   ]
  },
  {
   "cell_type": "code",
   "execution_count": 112,
   "id": "ffe140cb",
   "metadata": {},
   "outputs": [],
   "source": [
    "df = pd.DataFrame({'week_no': data}).reset_index()"
   ]
  },
  {
   "cell_type": "code",
   "execution_count": 113,
   "id": "5ced6418",
   "metadata": {},
   "outputs": [
    {
     "data": {
      "text/html": [
       "<div>\n",
       "<style scoped>\n",
       "    .dataframe tbody tr th:only-of-type {\n",
       "        vertical-align: middle;\n",
       "    }\n",
       "\n",
       "    .dataframe tbody tr th {\n",
       "        vertical-align: top;\n",
       "    }\n",
       "\n",
       "    .dataframe thead th {\n",
       "        text-align: right;\n",
       "    }\n",
       "</style>\n",
       "<table border=\"1\" class=\"dataframe\">\n",
       "  <thead>\n",
       "    <tr style=\"text-align: right;\">\n",
       "      <th></th>\n",
       "      <th>index</th>\n",
       "      <th>week_no</th>\n",
       "    </tr>\n",
       "  </thead>\n",
       "  <tbody>\n",
       "    <tr>\n",
       "      <th>0</th>\n",
       "      <td>1</td>\n",
       "      <td>[31, 33, 39, 42, 44, 49]</td>\n",
       "    </tr>\n",
       "    <tr>\n",
       "      <th>1</th>\n",
       "      <td>2</td>\n",
       "      <td>[31, 33, 36, 41, 46, 48]</td>\n",
       "    </tr>\n",
       "    <tr>\n",
       "      <th>2</th>\n",
       "      <td>3</td>\n",
       "      <td>[30, 33, 39, 40, 46, 50]</td>\n",
       "    </tr>\n",
       "    <tr>\n",
       "      <th>3</th>\n",
       "      <td>4</td>\n",
       "      <td>[31, 33, 39, 40, 45, 51]</td>\n",
       "    </tr>\n",
       "    <tr>\n",
       "      <th>4</th>\n",
       "      <td>5</td>\n",
       "      <td>[28, 32, 38, 42, 46, 48]</td>\n",
       "    </tr>\n",
       "  </tbody>\n",
       "</table>\n",
       "</div>"
      ],
      "text/plain": [
       "   index                   week_no\n",
       "0      1  [31, 33, 39, 42, 44, 49]\n",
       "1      2  [31, 33, 36, 41, 46, 48]\n",
       "2      3  [30, 33, 39, 40, 46, 50]\n",
       "3      4  [31, 33, 39, 40, 45, 51]\n",
       "4      5  [28, 32, 38, 42, 46, 48]"
      ]
     },
     "execution_count": 113,
     "metadata": {},
     "output_type": "execute_result"
    }
   ],
   "source": [
    "df.head()"
   ]
  },
  {
   "cell_type": "code",
   "execution_count": 114,
   "id": "36571a81",
   "metadata": {},
   "outputs": [],
   "source": [
    "df = df.rename(columns={'index': 'id'})"
   ]
  },
  {
   "cell_type": "code",
   "execution_count": 115,
   "id": "c9888f79",
   "metadata": {},
   "outputs": [
    {
     "data": {
      "text/html": [
       "<div>\n",
       "<style scoped>\n",
       "    .dataframe tbody tr th:only-of-type {\n",
       "        vertical-align: middle;\n",
       "    }\n",
       "\n",
       "    .dataframe tbody tr th {\n",
       "        vertical-align: top;\n",
       "    }\n",
       "\n",
       "    .dataframe thead th {\n",
       "        text-align: right;\n",
       "    }\n",
       "</style>\n",
       "<table border=\"1\" class=\"dataframe\">\n",
       "  <thead>\n",
       "    <tr style=\"text-align: right;\">\n",
       "      <th></th>\n",
       "      <th>id</th>\n",
       "      <th>week_no</th>\n",
       "    </tr>\n",
       "  </thead>\n",
       "  <tbody>\n",
       "    <tr>\n",
       "      <th>0</th>\n",
       "      <td>1</td>\n",
       "      <td>[31, 33, 39, 42, 44, 49]</td>\n",
       "    </tr>\n",
       "    <tr>\n",
       "      <th>1</th>\n",
       "      <td>2</td>\n",
       "      <td>[31, 33, 36, 41, 46, 48]</td>\n",
       "    </tr>\n",
       "    <tr>\n",
       "      <th>2</th>\n",
       "      <td>3</td>\n",
       "      <td>[30, 33, 39, 40, 46, 50]</td>\n",
       "    </tr>\n",
       "    <tr>\n",
       "      <th>3</th>\n",
       "      <td>4</td>\n",
       "      <td>[31, 33, 39, 40, 45, 51]</td>\n",
       "    </tr>\n",
       "    <tr>\n",
       "      <th>4</th>\n",
       "      <td>5</td>\n",
       "      <td>[28, 32, 38, 42, 46, 48]</td>\n",
       "    </tr>\n",
       "  </tbody>\n",
       "</table>\n",
       "</div>"
      ],
      "text/plain": [
       "   id                   week_no\n",
       "0   1  [31, 33, 39, 42, 44, 49]\n",
       "1   2  [31, 33, 36, 41, 46, 48]\n",
       "2   3  [30, 33, 39, 40, 46, 50]\n",
       "3   4  [31, 33, 39, 40, 45, 51]\n",
       "4   5  [28, 32, 38, 42, 46, 48]"
      ]
     },
     "execution_count": 115,
     "metadata": {},
     "output_type": "execute_result"
    }
   ],
   "source": [
    "df.head()"
   ]
  },
  {
   "cell_type": "code",
   "execution_count": 116,
   "id": "6ffd92a1",
   "metadata": {},
   "outputs": [],
   "source": [
    "# \"стакаем\" номера недель \n",
    "s = df.apply(lambda x: pd.Series(x['week_no']), axis=1).stack().reset_index(level=1, drop=True)"
   ]
  },
  {
   "cell_type": "code",
   "execution_count": 117,
   "id": "85ef7e2e",
   "metadata": {},
   "outputs": [],
   "source": [
    "s.name = 'weak_deal'\n",
    "df = df.drop('week_no', axis=1).join(s)"
   ]
  },
  {
   "cell_type": "code",
   "execution_count": 118,
   "id": "ece23d05",
   "metadata": {},
   "outputs": [
    {
     "data": {
      "text/html": [
       "<div>\n",
       "<style scoped>\n",
       "    .dataframe tbody tr th:only-of-type {\n",
       "        vertical-align: middle;\n",
       "    }\n",
       "\n",
       "    .dataframe tbody tr th {\n",
       "        vertical-align: top;\n",
       "    }\n",
       "\n",
       "    .dataframe thead th {\n",
       "        text-align: right;\n",
       "    }\n",
       "</style>\n",
       "<table border=\"1\" class=\"dataframe\">\n",
       "  <thead>\n",
       "    <tr style=\"text-align: right;\">\n",
       "      <th></th>\n",
       "      <th>id</th>\n",
       "      <th>weak_deal</th>\n",
       "    </tr>\n",
       "  </thead>\n",
       "  <tbody>\n",
       "    <tr>\n",
       "      <th>0</th>\n",
       "      <td>1</td>\n",
       "      <td>31</td>\n",
       "    </tr>\n",
       "    <tr>\n",
       "      <th>0</th>\n",
       "      <td>1</td>\n",
       "      <td>33</td>\n",
       "    </tr>\n",
       "    <tr>\n",
       "      <th>0</th>\n",
       "      <td>1</td>\n",
       "      <td>39</td>\n",
       "    </tr>\n",
       "    <tr>\n",
       "      <th>0</th>\n",
       "      <td>1</td>\n",
       "      <td>42</td>\n",
       "    </tr>\n",
       "    <tr>\n",
       "      <th>0</th>\n",
       "      <td>1</td>\n",
       "      <td>44</td>\n",
       "    </tr>\n",
       "    <tr>\n",
       "      <th>0</th>\n",
       "      <td>1</td>\n",
       "      <td>49</td>\n",
       "    </tr>\n",
       "    <tr>\n",
       "      <th>1</th>\n",
       "      <td>2</td>\n",
       "      <td>31</td>\n",
       "    </tr>\n",
       "    <tr>\n",
       "      <th>1</th>\n",
       "      <td>2</td>\n",
       "      <td>33</td>\n",
       "    </tr>\n",
       "    <tr>\n",
       "      <th>1</th>\n",
       "      <td>2</td>\n",
       "      <td>36</td>\n",
       "    </tr>\n",
       "    <tr>\n",
       "      <th>1</th>\n",
       "      <td>2</td>\n",
       "      <td>41</td>\n",
       "    </tr>\n",
       "    <tr>\n",
       "      <th>1</th>\n",
       "      <td>2</td>\n",
       "      <td>46</td>\n",
       "    </tr>\n",
       "    <tr>\n",
       "      <th>1</th>\n",
       "      <td>2</td>\n",
       "      <td>48</td>\n",
       "    </tr>\n",
       "    <tr>\n",
       "      <th>2</th>\n",
       "      <td>3</td>\n",
       "      <td>30</td>\n",
       "    </tr>\n",
       "    <tr>\n",
       "      <th>2</th>\n",
       "      <td>3</td>\n",
       "      <td>33</td>\n",
       "    </tr>\n",
       "    <tr>\n",
       "      <th>2</th>\n",
       "      <td>3</td>\n",
       "      <td>39</td>\n",
       "    </tr>\n",
       "  </tbody>\n",
       "</table>\n",
       "</div>"
      ],
      "text/plain": [
       "   id  weak_deal\n",
       "0   1         31\n",
       "0   1         33\n",
       "0   1         39\n",
       "0   1         42\n",
       "0   1         44\n",
       "0   1         49\n",
       "1   2         31\n",
       "1   2         33\n",
       "1   2         36\n",
       "1   2         41\n",
       "1   2         46\n",
       "1   2         48\n",
       "2   3         30\n",
       "2   3         33\n",
       "2   3         39"
      ]
     },
     "execution_count": 118,
     "metadata": {},
     "output_type": "execute_result"
    }
   ],
   "source": [
    "#проверка\n",
    "df.head(15)"
   ]
  },
  {
   "cell_type": "markdown",
   "id": "e5c844fc",
   "metadata": {},
   "source": [
    "__Забираем данные из СПБ биржи__"
   ]
  },
  {
   "cell_type": "code",
   "execution_count": 14,
   "id": "746e27af",
   "metadata": {},
   "outputs": [],
   "source": [
    "shares_df = pd.read_csv('spb100.csv')"
   ]
  },
  {
   "cell_type": "code",
   "execution_count": 15,
   "id": "2b21ba47",
   "metadata": {},
   "outputs": [
    {
     "data": {
      "text/html": [
       "<div>\n",
       "<style scoped>\n",
       "    .dataframe tbody tr th:only-of-type {\n",
       "        vertical-align: middle;\n",
       "    }\n",
       "\n",
       "    .dataframe tbody tr th {\n",
       "        vertical-align: top;\n",
       "    }\n",
       "\n",
       "    .dataframe thead th {\n",
       "        text-align: right;\n",
       "    }\n",
       "</style>\n",
       "<table border=\"1\" class=\"dataframe\">\n",
       "  <thead>\n",
       "    <tr style=\"text-align: right;\">\n",
       "      <th></th>\n",
       "      <th>tickers</th>\n",
       "      <th>name_company</th>\n",
       "      <th>ISIN</th>\n",
       "    </tr>\n",
       "  </thead>\n",
       "  <tbody>\n",
       "    <tr>\n",
       "      <th>0</th>\n",
       "      <td>BABA</td>\n",
       "      <td>Alibaba Group Holding Limited</td>\n",
       "      <td>US01609W1027</td>\n",
       "    </tr>\n",
       "    <tr>\n",
       "      <th>1</th>\n",
       "      <td>AAPL</td>\n",
       "      <td>Apple Inc.</td>\n",
       "      <td>US0378331005</td>\n",
       "    </tr>\n",
       "    <tr>\n",
       "      <th>2</th>\n",
       "      <td>TSLA</td>\n",
       "      <td>Tesla, Inc.</td>\n",
       "      <td>US88160R1014</td>\n",
       "    </tr>\n",
       "    <tr>\n",
       "      <th>3</th>\n",
       "      <td>SPCE</td>\n",
       "      <td>Virgin Galactic Holdings, Inc.</td>\n",
       "      <td>US92766K1060</td>\n",
       "    </tr>\n",
       "    <tr>\n",
       "      <th>4</th>\n",
       "      <td>AMZN</td>\n",
       "      <td>Amazon.com, Inc.</td>\n",
       "      <td>US0231351067</td>\n",
       "    </tr>\n",
       "  </tbody>\n",
       "</table>\n",
       "</div>"
      ],
      "text/plain": [
       "  tickers                    name_company          ISIN\n",
       "0    BABA   Alibaba Group Holding Limited  US01609W1027\n",
       "1    AAPL                      Apple Inc.  US0378331005\n",
       "2    TSLA                     Tesla, Inc.  US88160R1014\n",
       "3    SPCE  Virgin Galactic Holdings, Inc.  US92766K1060\n",
       "4    AMZN                Amazon.com, Inc.  US0231351067"
      ]
     },
     "execution_count": 15,
     "metadata": {},
     "output_type": "execute_result"
    }
   ],
   "source": [
    "shares_df.head()"
   ]
  },
  {
   "cell_type": "code",
   "execution_count": 16,
   "id": "6a50fff7",
   "metadata": {},
   "outputs": [],
   "source": [
    "isin_tickers = shares_df.ISIN.unique()"
   ]
  },
  {
   "cell_type": "markdown",
   "id": "7f33c349",
   "metadata": {},
   "source": [
    "Отфильтруем по ISIN только те, которые торгуются на USA. "
   ]
  },
  {
   "cell_type": "code",
   "execution_count": 18,
   "id": "f3d2f69c",
   "metadata": {},
   "outputs": [],
   "source": [
    "shares_df = shares_df.loc[shares_df['ISIN'].str.contains('US', case=False)]\n",
    "shares_df = shares_df.loc[~shares_df['tickers'].str.contains(\"@\", case=False)]"
   ]
  },
  {
   "cell_type": "code",
   "execution_count": 19,
   "id": "df338fda",
   "metadata": {},
   "outputs": [
    {
     "data": {
      "text/html": [
       "<div>\n",
       "<style scoped>\n",
       "    .dataframe tbody tr th:only-of-type {\n",
       "        vertical-align: middle;\n",
       "    }\n",
       "\n",
       "    .dataframe tbody tr th {\n",
       "        vertical-align: top;\n",
       "    }\n",
       "\n",
       "    .dataframe thead th {\n",
       "        text-align: right;\n",
       "    }\n",
       "</style>\n",
       "<table border=\"1\" class=\"dataframe\">\n",
       "  <thead>\n",
       "    <tr style=\"text-align: right;\">\n",
       "      <th></th>\n",
       "      <th>tickers</th>\n",
       "      <th>name_company</th>\n",
       "      <th>ISIN</th>\n",
       "    </tr>\n",
       "  </thead>\n",
       "  <tbody>\n",
       "    <tr>\n",
       "      <th>0</th>\n",
       "      <td>BABA</td>\n",
       "      <td>Alibaba Group Holding Limited</td>\n",
       "      <td>US01609W1027</td>\n",
       "    </tr>\n",
       "    <tr>\n",
       "      <th>1</th>\n",
       "      <td>AAPL</td>\n",
       "      <td>Apple Inc.</td>\n",
       "      <td>US0378331005</td>\n",
       "    </tr>\n",
       "    <tr>\n",
       "      <th>2</th>\n",
       "      <td>TSLA</td>\n",
       "      <td>Tesla, Inc.</td>\n",
       "      <td>US88160R1014</td>\n",
       "    </tr>\n",
       "    <tr>\n",
       "      <th>3</th>\n",
       "      <td>SPCE</td>\n",
       "      <td>Virgin Galactic Holdings, Inc.</td>\n",
       "      <td>US92766K1060</td>\n",
       "    </tr>\n",
       "    <tr>\n",
       "      <th>4</th>\n",
       "      <td>AMZN</td>\n",
       "      <td>Amazon.com, Inc.</td>\n",
       "      <td>US0231351067</td>\n",
       "    </tr>\n",
       "  </tbody>\n",
       "</table>\n",
       "</div>"
      ],
      "text/plain": [
       "  tickers                    name_company          ISIN\n",
       "0    BABA   Alibaba Group Holding Limited  US01609W1027\n",
       "1    AAPL                      Apple Inc.  US0378331005\n",
       "2    TSLA                     Tesla, Inc.  US88160R1014\n",
       "3    SPCE  Virgin Galactic Holdings, Inc.  US92766K1060\n",
       "4    AMZN                Amazon.com, Inc.  US0231351067"
      ]
     },
     "execution_count": 19,
     "metadata": {},
     "output_type": "execute_result"
    }
   ],
   "source": [
    "shares_df.head()"
   ]
  },
  {
   "cell_type": "code",
   "execution_count": 20,
   "id": "b96dac1b",
   "metadata": {},
   "outputs": [
    {
     "data": {
      "text/plain": [
       "(92, 3)"
      ]
     },
     "execution_count": 20,
     "metadata": {},
     "output_type": "execute_result"
    }
   ],
   "source": [
    "shares_df.shape"
   ]
  },
  {
   "cell_type": "code",
   "execution_count": 21,
   "id": "b3b34ac0",
   "metadata": {},
   "outputs": [],
   "source": [
    "us_tickers = shares_df.tickers.to_list()"
   ]
  },
  {
   "cell_type": "code",
   "execution_count": 22,
   "id": "cfe97665",
   "metadata": {},
   "outputs": [],
   "source": [
    "# удалим символ /n из списков (на всякий случай)\n",
    "us_tickers = list(map(lambda s: s.strip(), us_tickers))"
   ]
  },
  {
   "cell_type": "code",
   "execution_count": 23,
   "id": "d422b0e4",
   "metadata": {},
   "outputs": [],
   "source": [
    "# выбор кол-ва акций для покупки на этой неделе \n",
    "k = random.randint(1, 6)"
   ]
  },
  {
   "cell_type": "code",
   "execution_count": 24,
   "id": "324595c1",
   "metadata": {},
   "outputs": [
    {
     "data": {
      "text/plain": [
       "3"
      ]
     },
     "execution_count": 24,
     "metadata": {},
     "output_type": "execute_result"
    }
   ],
   "source": [
    "k"
   ]
  },
  {
   "cell_type": "code",
   "execution_count": 25,
   "id": "4244b73b",
   "metadata": {},
   "outputs": [],
   "source": [
    "week_amount=6"
   ]
  },
  {
   "cell_type": "code",
   "execution_count": 26,
   "id": "766d5c89",
   "metadata": {},
   "outputs": [],
   "source": [
    "data_share=dict()"
   ]
  },
  {
   "cell_type": "code",
   "execution_count": 27,
   "id": "6d9dc627",
   "metadata": {},
   "outputs": [],
   "source": [
    "for i in range(len(id_list)): \n",
    "    general_shares = []\n",
    "    for j in range(week_amount): \n",
    "        amount_share = random.randint(1, 6)\n",
    "        shares = random.sample(us_tickers, k=amount_share)\n",
    "        general_shares.append(shares)\n",
    "    data_share[id_list[i]] = general_shares"
   ]
  },
  {
   "cell_type": "code",
   "execution_count": null,
   "id": "f1c5e57d",
   "metadata": {},
   "outputs": [],
   "source": [
    "#data_share"
   ]
  },
  {
   "cell_type": "code",
   "execution_count": 28,
   "id": "bdf564d9",
   "metadata": {},
   "outputs": [],
   "source": [
    "#из словаря составим серию\n",
    "data_share = pd.Series(data_share)"
   ]
  },
  {
   "cell_type": "code",
   "execution_count": 29,
   "id": "83d4189d",
   "metadata": {},
   "outputs": [],
   "source": [
    "data_share_df = pd.DataFrame({'shares': data_share}).reset_index()"
   ]
  },
  {
   "cell_type": "code",
   "execution_count": 30,
   "id": "6c03e0a9",
   "metadata": {},
   "outputs": [
    {
     "data": {
      "text/html": [
       "<div>\n",
       "<style scoped>\n",
       "    .dataframe tbody tr th:only-of-type {\n",
       "        vertical-align: middle;\n",
       "    }\n",
       "\n",
       "    .dataframe tbody tr th {\n",
       "        vertical-align: top;\n",
       "    }\n",
       "\n",
       "    .dataframe thead th {\n",
       "        text-align: right;\n",
       "    }\n",
       "</style>\n",
       "<table border=\"1\" class=\"dataframe\">\n",
       "  <thead>\n",
       "    <tr style=\"text-align: right;\">\n",
       "      <th></th>\n",
       "      <th>index</th>\n",
       "      <th>shares</th>\n",
       "    </tr>\n",
       "  </thead>\n",
       "  <tbody>\n",
       "    <tr>\n",
       "      <th>0</th>\n",
       "      <td>1</td>\n",
       "      <td>[[MSTR, M, TWTR, BIDU], [LMT, VALE, QCOM, CLOV...</td>\n",
       "    </tr>\n",
       "    <tr>\n",
       "      <th>1</th>\n",
       "      <td>2</td>\n",
       "      <td>[[TTE, CRM], [WISH, VZ, BIDU, MOMO], [AMD, BA]...</td>\n",
       "    </tr>\n",
       "    <tr>\n",
       "      <th>2</th>\n",
       "      <td>3</td>\n",
       "      <td>[[TTE, KO, WISH], [OXY, IBM, NVDA, HOOD], [T, ...</td>\n",
       "    </tr>\n",
       "    <tr>\n",
       "      <th>3</th>\n",
       "      <td>4</td>\n",
       "      <td>[[VRTX], [T, VZ], [FB, GOOGL, INTC], [ET, EHTH...</td>\n",
       "    </tr>\n",
       "    <tr>\n",
       "      <th>4</th>\n",
       "      <td>5</td>\n",
       "      <td>[[TCS, BMY, TDOC, PINS, UAL, JPM], [XOM, MOMO,...</td>\n",
       "    </tr>\n",
       "  </tbody>\n",
       "</table>\n",
       "</div>"
      ],
      "text/plain": [
       "   index                                             shares\n",
       "0      1  [[MSTR, M, TWTR, BIDU], [LMT, VALE, QCOM, CLOV...\n",
       "1      2  [[TTE, CRM], [WISH, VZ, BIDU, MOMO], [AMD, BA]...\n",
       "2      3  [[TTE, KO, WISH], [OXY, IBM, NVDA, HOOD], [T, ...\n",
       "3      4  [[VRTX], [T, VZ], [FB, GOOGL, INTC], [ET, EHTH...\n",
       "4      5  [[TCS, BMY, TDOC, PINS, UAL, JPM], [XOM, MOMO,..."
      ]
     },
     "execution_count": 30,
     "metadata": {},
     "output_type": "execute_result"
    }
   ],
   "source": [
    "data_share_df.head()"
   ]
  },
  {
   "cell_type": "code",
   "execution_count": 31,
   "id": "0d0c1d83",
   "metadata": {},
   "outputs": [],
   "source": [
    "# \"стакаем\" акции\n",
    "f = data_share_df.apply(lambda x: pd.Series(x['shares']), axis=1).stack().reset_index(level=1, drop=True)\n",
    "f.name = 'shares_deal'"
   ]
  },
  {
   "cell_type": "code",
   "execution_count": 32,
   "id": "10f46ec7",
   "metadata": {},
   "outputs": [],
   "source": [
    "data_share_df = data_share_df.drop('shares', axis=1).join(f)"
   ]
  },
  {
   "cell_type": "code",
   "execution_count": 38,
   "id": "67fa0623",
   "metadata": {},
   "outputs": [
    {
     "data": {
      "text/html": [
       "<div>\n",
       "<style scoped>\n",
       "    .dataframe tbody tr th:only-of-type {\n",
       "        vertical-align: middle;\n",
       "    }\n",
       "\n",
       "    .dataframe tbody tr th {\n",
       "        vertical-align: top;\n",
       "    }\n",
       "\n",
       "    .dataframe thead th {\n",
       "        text-align: right;\n",
       "    }\n",
       "</style>\n",
       "<table border=\"1\" class=\"dataframe\">\n",
       "  <thead>\n",
       "    <tr style=\"text-align: right;\">\n",
       "      <th></th>\n",
       "      <th>index</th>\n",
       "      <th>shares_deal</th>\n",
       "    </tr>\n",
       "  </thead>\n",
       "  <tbody>\n",
       "    <tr>\n",
       "      <th>0</th>\n",
       "      <td>1</td>\n",
       "      <td>[MSTR, M, TWTR, BIDU]</td>\n",
       "    </tr>\n",
       "    <tr>\n",
       "      <th>0</th>\n",
       "      <td>1</td>\n",
       "      <td>[LMT, VALE, QCOM, CLOV, SPCE, VIPS]</td>\n",
       "    </tr>\n",
       "    <tr>\n",
       "      <th>0</th>\n",
       "      <td>1</td>\n",
       "      <td>[LMT]</td>\n",
       "    </tr>\n",
       "    <tr>\n",
       "      <th>0</th>\n",
       "      <td>1</td>\n",
       "      <td>[ET, DISCA]</td>\n",
       "    </tr>\n",
       "    <tr>\n",
       "      <th>0</th>\n",
       "      <td>1</td>\n",
       "      <td>[OXY, MRNA, BYND]</td>\n",
       "    </tr>\n",
       "  </tbody>\n",
       "</table>\n",
       "</div>"
      ],
      "text/plain": [
       "   index                          shares_deal\n",
       "0      1                [MSTR, M, TWTR, BIDU]\n",
       "0      1  [LMT, VALE, QCOM, CLOV, SPCE, VIPS]\n",
       "0      1                                [LMT]\n",
       "0      1                          [ET, DISCA]\n",
       "0      1                    [OXY, MRNA, BYND]"
      ]
     },
     "execution_count": 38,
     "metadata": {},
     "output_type": "execute_result"
    }
   ],
   "source": [
    "data_share_df.head()"
   ]
  },
  {
   "cell_type": "code",
   "execution_count": 39,
   "id": "3e03abe0",
   "metadata": {},
   "outputs": [
    {
     "data": {
      "text/plain": [
       "(600000, 2)"
      ]
     },
     "execution_count": 39,
     "metadata": {},
     "output_type": "execute_result"
    }
   ],
   "source": [
    "data_share_df.shape"
   ]
  },
  {
   "cell_type": "code",
   "execution_count": 103,
   "id": "c97589c7",
   "metadata": {},
   "outputs": [],
   "source": [
    "temp_list = pd.Series(data_share_df['shares_deal'])"
   ]
  },
  {
   "cell_type": "code",
   "execution_count": 119,
   "id": "0e68f511",
   "metadata": {},
   "outputs": [],
   "source": [
    "df = pd.concat([df, temp_list], axis=1)"
   ]
  },
  {
   "cell_type": "code",
   "execution_count": 122,
   "id": "156afc25",
   "metadata": {},
   "outputs": [
    {
     "data": {
      "text/html": [
       "<div>\n",
       "<style scoped>\n",
       "    .dataframe tbody tr th:only-of-type {\n",
       "        vertical-align: middle;\n",
       "    }\n",
       "\n",
       "    .dataframe tbody tr th {\n",
       "        vertical-align: top;\n",
       "    }\n",
       "\n",
       "    .dataframe thead th {\n",
       "        text-align: right;\n",
       "    }\n",
       "</style>\n",
       "<table border=\"1\" class=\"dataframe\">\n",
       "  <thead>\n",
       "    <tr style=\"text-align: right;\">\n",
       "      <th></th>\n",
       "      <th>id</th>\n",
       "      <th>weak_deal</th>\n",
       "      <th>shares_deal</th>\n",
       "    </tr>\n",
       "  </thead>\n",
       "  <tbody>\n",
       "    <tr>\n",
       "      <th>0</th>\n",
       "      <td>1</td>\n",
       "      <td>31</td>\n",
       "      <td>[MSTR, M, TWTR, BIDU]</td>\n",
       "    </tr>\n",
       "    <tr>\n",
       "      <th>0</th>\n",
       "      <td>1</td>\n",
       "      <td>33</td>\n",
       "      <td>[LMT, VALE, QCOM, CLOV, SPCE, VIPS]</td>\n",
       "    </tr>\n",
       "    <tr>\n",
       "      <th>0</th>\n",
       "      <td>1</td>\n",
       "      <td>39</td>\n",
       "      <td>[LMT]</td>\n",
       "    </tr>\n",
       "    <tr>\n",
       "      <th>0</th>\n",
       "      <td>1</td>\n",
       "      <td>42</td>\n",
       "      <td>[ET, DISCA]</td>\n",
       "    </tr>\n",
       "    <tr>\n",
       "      <th>0</th>\n",
       "      <td>1</td>\n",
       "      <td>44</td>\n",
       "      <td>[OXY, MRNA, BYND]</td>\n",
       "    </tr>\n",
       "    <tr>\n",
       "      <th>0</th>\n",
       "      <td>1</td>\n",
       "      <td>49</td>\n",
       "      <td>[OKE, SPCE, XOM]</td>\n",
       "    </tr>\n",
       "    <tr>\n",
       "      <th>1</th>\n",
       "      <td>2</td>\n",
       "      <td>31</td>\n",
       "      <td>[TTE, CRM]</td>\n",
       "    </tr>\n",
       "    <tr>\n",
       "      <th>1</th>\n",
       "      <td>2</td>\n",
       "      <td>33</td>\n",
       "      <td>[WISH, VZ, BIDU, MOMO]</td>\n",
       "    </tr>\n",
       "    <tr>\n",
       "      <th>1</th>\n",
       "      <td>2</td>\n",
       "      <td>36</td>\n",
       "      <td>[AMD, BA]</td>\n",
       "    </tr>\n",
       "    <tr>\n",
       "      <th>1</th>\n",
       "      <td>2</td>\n",
       "      <td>41</td>\n",
       "      <td>[VRTX, TSN, FB, BYND, CNK, QCOM]</td>\n",
       "    </tr>\n",
       "    <tr>\n",
       "      <th>1</th>\n",
       "      <td>2</td>\n",
       "      <td>46</td>\n",
       "      <td>[ZYNE, WISH, VRTX, SAVE]</td>\n",
       "    </tr>\n",
       "    <tr>\n",
       "      <th>1</th>\n",
       "      <td>2</td>\n",
       "      <td>48</td>\n",
       "      <td>[TSN, INTC, NEM, YY, M, CNK]</td>\n",
       "    </tr>\n",
       "    <tr>\n",
       "      <th>2</th>\n",
       "      <td>3</td>\n",
       "      <td>30</td>\n",
       "      <td>[TTE, KO, WISH]</td>\n",
       "    </tr>\n",
       "    <tr>\n",
       "      <th>2</th>\n",
       "      <td>3</td>\n",
       "      <td>33</td>\n",
       "      <td>[OXY, IBM, NVDA, HOOD]</td>\n",
       "    </tr>\n",
       "    <tr>\n",
       "      <th>2</th>\n",
       "      <td>3</td>\n",
       "      <td>39</td>\n",
       "      <td>[T, PINS, OKE, MO, AAPL]</td>\n",
       "    </tr>\n",
       "  </tbody>\n",
       "</table>\n",
       "</div>"
      ],
      "text/plain": [
       "   id  weak_deal                          shares_deal\n",
       "0   1         31                [MSTR, M, TWTR, BIDU]\n",
       "0   1         33  [LMT, VALE, QCOM, CLOV, SPCE, VIPS]\n",
       "0   1         39                                [LMT]\n",
       "0   1         42                          [ET, DISCA]\n",
       "0   1         44                    [OXY, MRNA, BYND]\n",
       "0   1         49                     [OKE, SPCE, XOM]\n",
       "1   2         31                           [TTE, CRM]\n",
       "1   2         33               [WISH, VZ, BIDU, MOMO]\n",
       "1   2         36                            [AMD, BA]\n",
       "1   2         41     [VRTX, TSN, FB, BYND, CNK, QCOM]\n",
       "1   2         46             [ZYNE, WISH, VRTX, SAVE]\n",
       "1   2         48         [TSN, INTC, NEM, YY, M, CNK]\n",
       "2   3         30                      [TTE, KO, WISH]\n",
       "2   3         33               [OXY, IBM, NVDA, HOOD]\n",
       "2   3         39             [T, PINS, OKE, MO, AAPL]"
      ]
     },
     "execution_count": 122,
     "metadata": {},
     "output_type": "execute_result"
    }
   ],
   "source": [
    "df.head(15)"
   ]
  },
  {
   "cell_type": "code",
   "execution_count": 123,
   "id": "d371f760",
   "metadata": {},
   "outputs": [],
   "source": [
    "file_name = 'interactions.csv'"
   ]
  },
  {
   "cell_type": "code",
   "execution_count": 124,
   "id": "090592fc",
   "metadata": {},
   "outputs": [],
   "source": [
    "df.to_csv(file_name, encoding='utf-8', index=False)"
   ]
  },
  {
   "cell_type": "code",
   "execution_count": null,
   "id": "a0414ecf",
   "metadata": {},
   "outputs": [],
   "source": []
  }
 ],
 "metadata": {
  "kernelspec": {
   "display_name": "Python 3",
   "language": "python",
   "name": "python3"
  },
  "language_info": {
   "codemirror_mode": {
    "name": "ipython",
    "version": 3
   },
   "file_extension": ".py",
   "mimetype": "text/x-python",
   "name": "python",
   "nbconvert_exporter": "python",
   "pygments_lexer": "ipython3",
   "version": "3.9.6"
  }
 },
 "nbformat": 4,
 "nbformat_minor": 5
}
