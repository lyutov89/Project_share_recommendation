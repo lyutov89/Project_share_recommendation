{
 "cells": [
  {
   "cell_type": "code",
   "execution_count": 52,
   "id": "1bc96c30",
   "metadata": {},
   "outputs": [],
   "source": [
    "import numpy as np\n",
    "import pandas as pd\n",
    "import matplotlib as plt\n",
    "import bs4 as bs\n",
    "import requests\n",
    "from lxml import html\n",
    "from pprint import pprint\n",
    "import random"
   ]
  },
  {
   "cell_type": "markdown",
   "id": "78837425",
   "metadata": {},
   "source": [
    "__Дизайн взаимодействий user-item__\n"
   ]
  },
  {
   "cell_type": "markdown",
   "id": "865434b7",
   "metadata": {},
   "source": [
    "`1)` Работаем пока только с иностранными компаниями (USA)\n",
    "\n",
    "`2)` Облигации и ETF тоже вычеркиваем из списка покупок\n",
    "\n",
    "`3)` Будем выбирать по несколько акций (3-5) в месяц из списка популярных\n",
    "\n",
    "`4)` Начальные условия: пусть раз в неделю пользователь совершает одну сделку на покупку актива из списка `spb_list`. UPD: После первого захода на бейзлайны я пришел к выводу, что список нужно расширять, иначе ничего не остается рекомендовать. Теперь пусть пользователи совершают хотя бы одну сделку из всего списка `finviz.` \n",
    "\n",
    "`5)` Времянные рамки: 24 недели. Гарантированно, что пользователь сделает хотя бы одну покупку за 4 недели. "
   ]
  },
  {
   "cell_type": "markdown",
   "id": "8bb23a04",
   "metadata": {},
   "source": [
    "__Фиксация покупок ценных бумаг по неделям__"
   ]
  },
  {
   "cell_type": "code",
   "execution_count": 53,
   "id": "6bad18a3",
   "metadata": {},
   "outputs": [],
   "source": [
    "id_list = np.arange(1, 100001, 1)"
   ]
  },
  {
   "cell_type": "code",
   "execution_count": 54,
   "id": "52b087a1",
   "metadata": {},
   "outputs": [],
   "source": [
    "data=dict()"
   ]
  },
  {
   "cell_type": "code",
   "execution_count": 55,
   "id": "c5037792",
   "metadata": {
    "tags": []
   },
   "outputs": [],
   "source": [
    "#Сгенерируем номера недель когда пользователь совершает покупки ценных бумаг\n",
    "for i in range(len(id_list)):\n",
    "    min_week=28\n",
    "    max_week=52\n",
    "    step=4\n",
    "    temp=[]\n",
    "    while min_week!=max_week: \n",
    "        step=4\n",
    "        spam = random.randrange(min_week, min_week+step)\n",
    "        temp.append(spam)\n",
    "        min_week = min_week+step\n",
    "    data[id_list[i]] = temp"
   ]
  },
  {
   "cell_type": "code",
   "execution_count": 56,
   "id": "c2966c31",
   "metadata": {},
   "outputs": [],
   "source": [
    "#из словаря составим серию\n",
    "data = pd.Series(data)"
   ]
  },
  {
   "cell_type": "code",
   "execution_count": 57,
   "id": "76e0aa28",
   "metadata": {},
   "outputs": [
    {
     "data": {
      "text/plain": [
       "1         [31, 32, 39, 43, 47, 49]\n",
       "2         [28, 33, 37, 42, 47, 48]\n",
       "3         [28, 33, 38, 42, 46, 48]\n",
       "4         [31, 35, 39, 41, 44, 48]\n",
       "5         [28, 35, 36, 41, 45, 49]\n",
       "                    ...           \n",
       "99996     [28, 32, 36, 40, 46, 50]\n",
       "99997     [31, 32, 39, 43, 46, 51]\n",
       "99998     [29, 32, 38, 40, 44, 48]\n",
       "99999     [28, 34, 37, 42, 47, 49]\n",
       "100000    [29, 35, 38, 42, 45, 51]\n",
       "Length: 100000, dtype: object"
      ]
     },
     "execution_count": 57,
     "metadata": {},
     "output_type": "execute_result"
    }
   ],
   "source": [
    "data"
   ]
  },
  {
   "cell_type": "code",
   "execution_count": 58,
   "id": "ee7190d9",
   "metadata": {},
   "outputs": [],
   "source": [
    "df = pd.DataFrame({'week': data}).reset_index()"
   ]
  },
  {
   "cell_type": "code",
   "execution_count": 59,
   "id": "9858115d",
   "metadata": {},
   "outputs": [
    {
     "data": {
      "text/html": [
       "<div>\n",
       "<style scoped>\n",
       "    .dataframe tbody tr th:only-of-type {\n",
       "        vertical-align: middle;\n",
       "    }\n",
       "\n",
       "    .dataframe tbody tr th {\n",
       "        vertical-align: top;\n",
       "    }\n",
       "\n",
       "    .dataframe thead th {\n",
       "        text-align: right;\n",
       "    }\n",
       "</style>\n",
       "<table border=\"1\" class=\"dataframe\">\n",
       "  <thead>\n",
       "    <tr style=\"text-align: right;\">\n",
       "      <th></th>\n",
       "      <th>index</th>\n",
       "      <th>week</th>\n",
       "    </tr>\n",
       "  </thead>\n",
       "  <tbody>\n",
       "    <tr>\n",
       "      <th>0</th>\n",
       "      <td>1</td>\n",
       "      <td>[31, 32, 39, 43, 47, 49]</td>\n",
       "    </tr>\n",
       "    <tr>\n",
       "      <th>1</th>\n",
       "      <td>2</td>\n",
       "      <td>[28, 33, 37, 42, 47, 48]</td>\n",
       "    </tr>\n",
       "    <tr>\n",
       "      <th>2</th>\n",
       "      <td>3</td>\n",
       "      <td>[28, 33, 38, 42, 46, 48]</td>\n",
       "    </tr>\n",
       "    <tr>\n",
       "      <th>3</th>\n",
       "      <td>4</td>\n",
       "      <td>[31, 35, 39, 41, 44, 48]</td>\n",
       "    </tr>\n",
       "    <tr>\n",
       "      <th>4</th>\n",
       "      <td>5</td>\n",
       "      <td>[28, 35, 36, 41, 45, 49]</td>\n",
       "    </tr>\n",
       "  </tbody>\n",
       "</table>\n",
       "</div>"
      ],
      "text/plain": [
       "   index                      week\n",
       "0      1  [31, 32, 39, 43, 47, 49]\n",
       "1      2  [28, 33, 37, 42, 47, 48]\n",
       "2      3  [28, 33, 38, 42, 46, 48]\n",
       "3      4  [31, 35, 39, 41, 44, 48]\n",
       "4      5  [28, 35, 36, 41, 45, 49]"
      ]
     },
     "execution_count": 59,
     "metadata": {},
     "output_type": "execute_result"
    }
   ],
   "source": [
    "df.head()"
   ]
  },
  {
   "cell_type": "code",
   "execution_count": 60,
   "id": "976a2efe",
   "metadata": {},
   "outputs": [],
   "source": [
    "df = df.rename(columns={'index': 'user_id'})"
   ]
  },
  {
   "cell_type": "code",
   "execution_count": 61,
   "id": "29e76a6d",
   "metadata": {},
   "outputs": [
    {
     "data": {
      "text/html": [
       "<div>\n",
       "<style scoped>\n",
       "    .dataframe tbody tr th:only-of-type {\n",
       "        vertical-align: middle;\n",
       "    }\n",
       "\n",
       "    .dataframe tbody tr th {\n",
       "        vertical-align: top;\n",
       "    }\n",
       "\n",
       "    .dataframe thead th {\n",
       "        text-align: right;\n",
       "    }\n",
       "</style>\n",
       "<table border=\"1\" class=\"dataframe\">\n",
       "  <thead>\n",
       "    <tr style=\"text-align: right;\">\n",
       "      <th></th>\n",
       "      <th>user_id</th>\n",
       "      <th>week</th>\n",
       "    </tr>\n",
       "  </thead>\n",
       "  <tbody>\n",
       "    <tr>\n",
       "      <th>0</th>\n",
       "      <td>1</td>\n",
       "      <td>[31, 32, 39, 43, 47, 49]</td>\n",
       "    </tr>\n",
       "    <tr>\n",
       "      <th>1</th>\n",
       "      <td>2</td>\n",
       "      <td>[28, 33, 37, 42, 47, 48]</td>\n",
       "    </tr>\n",
       "    <tr>\n",
       "      <th>2</th>\n",
       "      <td>3</td>\n",
       "      <td>[28, 33, 38, 42, 46, 48]</td>\n",
       "    </tr>\n",
       "    <tr>\n",
       "      <th>3</th>\n",
       "      <td>4</td>\n",
       "      <td>[31, 35, 39, 41, 44, 48]</td>\n",
       "    </tr>\n",
       "    <tr>\n",
       "      <th>4</th>\n",
       "      <td>5</td>\n",
       "      <td>[28, 35, 36, 41, 45, 49]</td>\n",
       "    </tr>\n",
       "  </tbody>\n",
       "</table>\n",
       "</div>"
      ],
      "text/plain": [
       "   user_id                      week\n",
       "0        1  [31, 32, 39, 43, 47, 49]\n",
       "1        2  [28, 33, 37, 42, 47, 48]\n",
       "2        3  [28, 33, 38, 42, 46, 48]\n",
       "3        4  [31, 35, 39, 41, 44, 48]\n",
       "4        5  [28, 35, 36, 41, 45, 49]"
      ]
     },
     "execution_count": 61,
     "metadata": {},
     "output_type": "execute_result"
    }
   ],
   "source": [
    "df.head()"
   ]
  },
  {
   "cell_type": "code",
   "execution_count": 62,
   "id": "72acfc7d",
   "metadata": {},
   "outputs": [],
   "source": [
    "# \"стакаем\" номера недель \n",
    "s = df.apply(lambda x: pd.Series(x['week']), axis=1).stack().reset_index(level=1, drop=True)"
   ]
  },
  {
   "cell_type": "code",
   "execution_count": 63,
   "id": "045f2676",
   "metadata": {},
   "outputs": [],
   "source": [
    "s.name = 'week_no'\n",
    "df = df.drop('week', axis=1).join(s)"
   ]
  },
  {
   "cell_type": "code",
   "execution_count": 64,
   "id": "546bac38",
   "metadata": {},
   "outputs": [],
   "source": [
    "#проверка\n",
    "df = df.reset_index()"
   ]
  },
  {
   "cell_type": "code",
   "execution_count": 65,
   "id": "64a06449",
   "metadata": {},
   "outputs": [],
   "source": [
    "df = df.drop('index', axis=1)"
   ]
  },
  {
   "cell_type": "code",
   "execution_count": 66,
   "id": "db2e5aea",
   "metadata": {},
   "outputs": [
    {
     "data": {
      "text/html": [
       "<div>\n",
       "<style scoped>\n",
       "    .dataframe tbody tr th:only-of-type {\n",
       "        vertical-align: middle;\n",
       "    }\n",
       "\n",
       "    .dataframe tbody tr th {\n",
       "        vertical-align: top;\n",
       "    }\n",
       "\n",
       "    .dataframe thead th {\n",
       "        text-align: right;\n",
       "    }\n",
       "</style>\n",
       "<table border=\"1\" class=\"dataframe\">\n",
       "  <thead>\n",
       "    <tr style=\"text-align: right;\">\n",
       "      <th></th>\n",
       "      <th>user_id</th>\n",
       "      <th>week_no</th>\n",
       "    </tr>\n",
       "  </thead>\n",
       "  <tbody>\n",
       "    <tr>\n",
       "      <th>0</th>\n",
       "      <td>1</td>\n",
       "      <td>31</td>\n",
       "    </tr>\n",
       "    <tr>\n",
       "      <th>1</th>\n",
       "      <td>1</td>\n",
       "      <td>32</td>\n",
       "    </tr>\n",
       "    <tr>\n",
       "      <th>2</th>\n",
       "      <td>1</td>\n",
       "      <td>39</td>\n",
       "    </tr>\n",
       "    <tr>\n",
       "      <th>3</th>\n",
       "      <td>1</td>\n",
       "      <td>43</td>\n",
       "    </tr>\n",
       "    <tr>\n",
       "      <th>4</th>\n",
       "      <td>1</td>\n",
       "      <td>47</td>\n",
       "    </tr>\n",
       "    <tr>\n",
       "      <th>5</th>\n",
       "      <td>1</td>\n",
       "      <td>49</td>\n",
       "    </tr>\n",
       "    <tr>\n",
       "      <th>6</th>\n",
       "      <td>2</td>\n",
       "      <td>28</td>\n",
       "    </tr>\n",
       "    <tr>\n",
       "      <th>7</th>\n",
       "      <td>2</td>\n",
       "      <td>33</td>\n",
       "    </tr>\n",
       "    <tr>\n",
       "      <th>8</th>\n",
       "      <td>2</td>\n",
       "      <td>37</td>\n",
       "    </tr>\n",
       "    <tr>\n",
       "      <th>9</th>\n",
       "      <td>2</td>\n",
       "      <td>42</td>\n",
       "    </tr>\n",
       "    <tr>\n",
       "      <th>10</th>\n",
       "      <td>2</td>\n",
       "      <td>47</td>\n",
       "    </tr>\n",
       "    <tr>\n",
       "      <th>11</th>\n",
       "      <td>2</td>\n",
       "      <td>48</td>\n",
       "    </tr>\n",
       "    <tr>\n",
       "      <th>12</th>\n",
       "      <td>3</td>\n",
       "      <td>28</td>\n",
       "    </tr>\n",
       "    <tr>\n",
       "      <th>13</th>\n",
       "      <td>3</td>\n",
       "      <td>33</td>\n",
       "    </tr>\n",
       "    <tr>\n",
       "      <th>14</th>\n",
       "      <td>3</td>\n",
       "      <td>38</td>\n",
       "    </tr>\n",
       "  </tbody>\n",
       "</table>\n",
       "</div>"
      ],
      "text/plain": [
       "    user_id  week_no\n",
       "0         1       31\n",
       "1         1       32\n",
       "2         1       39\n",
       "3         1       43\n",
       "4         1       47\n",
       "5         1       49\n",
       "6         2       28\n",
       "7         2       33\n",
       "8         2       37\n",
       "9         2       42\n",
       "10        2       47\n",
       "11        2       48\n",
       "12        3       28\n",
       "13        3       33\n",
       "14        3       38"
      ]
     },
     "execution_count": 66,
     "metadata": {},
     "output_type": "execute_result"
    }
   ],
   "source": [
    "df.head(15)"
   ]
  },
  {
   "cell_type": "code",
   "execution_count": 67,
   "id": "4bf028bb",
   "metadata": {},
   "outputs": [
    {
     "data": {
      "text/plain": [
       "(600000, 2)"
      ]
     },
     "execution_count": 67,
     "metadata": {},
     "output_type": "execute_result"
    }
   ],
   "source": [
    "df.shape"
   ]
  },
  {
   "cell_type": "markdown",
   "id": "e7475c3f",
   "metadata": {},
   "source": [
    "__Забираем данные из СПБ биржи__"
   ]
  },
  {
   "cell_type": "code",
   "execution_count": 68,
   "id": "554820e4",
   "metadata": {},
   "outputs": [],
   "source": [
    "shares_df = pd.read_csv('spb100.csv')"
   ]
  },
  {
   "cell_type": "code",
   "execution_count": 69,
   "id": "2fcac30b",
   "metadata": {},
   "outputs": [
    {
     "data": {
      "text/html": [
       "<div>\n",
       "<style scoped>\n",
       "    .dataframe tbody tr th:only-of-type {\n",
       "        vertical-align: middle;\n",
       "    }\n",
       "\n",
       "    .dataframe tbody tr th {\n",
       "        vertical-align: top;\n",
       "    }\n",
       "\n",
       "    .dataframe thead th {\n",
       "        text-align: right;\n",
       "    }\n",
       "</style>\n",
       "<table border=\"1\" class=\"dataframe\">\n",
       "  <thead>\n",
       "    <tr style=\"text-align: right;\">\n",
       "      <th></th>\n",
       "      <th>tickers</th>\n",
       "      <th>name_company</th>\n",
       "      <th>ISIN</th>\n",
       "    </tr>\n",
       "  </thead>\n",
       "  <tbody>\n",
       "    <tr>\n",
       "      <th>0</th>\n",
       "      <td>BABA</td>\n",
       "      <td>Alibaba Group Holding Limited</td>\n",
       "      <td>US01609W1027</td>\n",
       "    </tr>\n",
       "    <tr>\n",
       "      <th>1</th>\n",
       "      <td>AAPL</td>\n",
       "      <td>Apple Inc.</td>\n",
       "      <td>US0378331005</td>\n",
       "    </tr>\n",
       "    <tr>\n",
       "      <th>2</th>\n",
       "      <td>TSLA</td>\n",
       "      <td>Tesla, Inc.</td>\n",
       "      <td>US88160R1014</td>\n",
       "    </tr>\n",
       "    <tr>\n",
       "      <th>3</th>\n",
       "      <td>SPCE</td>\n",
       "      <td>Virgin Galactic Holdings, Inc.</td>\n",
       "      <td>US92766K1060</td>\n",
       "    </tr>\n",
       "    <tr>\n",
       "      <th>4</th>\n",
       "      <td>AMZN</td>\n",
       "      <td>Amazon.com, Inc.</td>\n",
       "      <td>US0231351067</td>\n",
       "    </tr>\n",
       "  </tbody>\n",
       "</table>\n",
       "</div>"
      ],
      "text/plain": [
       "  tickers                    name_company          ISIN\n",
       "0    BABA   Alibaba Group Holding Limited  US01609W1027\n",
       "1    AAPL                      Apple Inc.  US0378331005\n",
       "2    TSLA                     Tesla, Inc.  US88160R1014\n",
       "3    SPCE  Virgin Galactic Holdings, Inc.  US92766K1060\n",
       "4    AMZN                Amazon.com, Inc.  US0231351067"
      ]
     },
     "execution_count": 69,
     "metadata": {},
     "output_type": "execute_result"
    }
   ],
   "source": [
    "shares_df.head()"
   ]
  },
  {
   "cell_type": "code",
   "execution_count": 70,
   "id": "bbe87eb7",
   "metadata": {},
   "outputs": [],
   "source": [
    "isin_tickers = shares_df.ISIN.unique()"
   ]
  },
  {
   "cell_type": "markdown",
   "id": "72e7a641",
   "metadata": {},
   "source": [
    "Отфильтруем по ISIN только те, которые торгуются на USA. "
   ]
  },
  {
   "cell_type": "code",
   "execution_count": 71,
   "id": "a98a410f",
   "metadata": {},
   "outputs": [],
   "source": [
    "shares_df = shares_df.loc[shares_df['ISIN'].str.contains('US', case=False)]\n",
    "shares_df = shares_df.loc[~shares_df['tickers'].str.contains(\"@\", case=False)]"
   ]
  },
  {
   "cell_type": "code",
   "execution_count": 72,
   "id": "286d3576",
   "metadata": {},
   "outputs": [
    {
     "data": {
      "text/html": [
       "<div>\n",
       "<style scoped>\n",
       "    .dataframe tbody tr th:only-of-type {\n",
       "        vertical-align: middle;\n",
       "    }\n",
       "\n",
       "    .dataframe tbody tr th {\n",
       "        vertical-align: top;\n",
       "    }\n",
       "\n",
       "    .dataframe thead th {\n",
       "        text-align: right;\n",
       "    }\n",
       "</style>\n",
       "<table border=\"1\" class=\"dataframe\">\n",
       "  <thead>\n",
       "    <tr style=\"text-align: right;\">\n",
       "      <th></th>\n",
       "      <th>tickers</th>\n",
       "      <th>name_company</th>\n",
       "      <th>ISIN</th>\n",
       "    </tr>\n",
       "  </thead>\n",
       "  <tbody>\n",
       "    <tr>\n",
       "      <th>0</th>\n",
       "      <td>BABA</td>\n",
       "      <td>Alibaba Group Holding Limited</td>\n",
       "      <td>US01609W1027</td>\n",
       "    </tr>\n",
       "    <tr>\n",
       "      <th>1</th>\n",
       "      <td>AAPL</td>\n",
       "      <td>Apple Inc.</td>\n",
       "      <td>US0378331005</td>\n",
       "    </tr>\n",
       "    <tr>\n",
       "      <th>2</th>\n",
       "      <td>TSLA</td>\n",
       "      <td>Tesla, Inc.</td>\n",
       "      <td>US88160R1014</td>\n",
       "    </tr>\n",
       "    <tr>\n",
       "      <th>3</th>\n",
       "      <td>SPCE</td>\n",
       "      <td>Virgin Galactic Holdings, Inc.</td>\n",
       "      <td>US92766K1060</td>\n",
       "    </tr>\n",
       "    <tr>\n",
       "      <th>4</th>\n",
       "      <td>AMZN</td>\n",
       "      <td>Amazon.com, Inc.</td>\n",
       "      <td>US0231351067</td>\n",
       "    </tr>\n",
       "  </tbody>\n",
       "</table>\n",
       "</div>"
      ],
      "text/plain": [
       "  tickers                    name_company          ISIN\n",
       "0    BABA   Alibaba Group Holding Limited  US01609W1027\n",
       "1    AAPL                      Apple Inc.  US0378331005\n",
       "2    TSLA                     Tesla, Inc.  US88160R1014\n",
       "3    SPCE  Virgin Galactic Holdings, Inc.  US92766K1060\n",
       "4    AMZN                Amazon.com, Inc.  US0231351067"
      ]
     },
     "execution_count": 72,
     "metadata": {},
     "output_type": "execute_result"
    }
   ],
   "source": [
    "shares_df.head()"
   ]
  },
  {
   "cell_type": "markdown",
   "id": "1deca5db",
   "metadata": {},
   "source": [
    "Удалим _RDS A_ из списка тикеров, потому что он уже не торгуется"
   ]
  },
  {
   "cell_type": "code",
   "execution_count": 73,
   "id": "7f9efa4d",
   "metadata": {},
   "outputs": [],
   "source": [
    "shares_df = shares_df.drop(shares_df[shares_df.tickers == 'RDS A'].index)"
   ]
  },
  {
   "cell_type": "code",
   "execution_count": 74,
   "id": "45e11c81",
   "metadata": {},
   "outputs": [
    {
     "data": {
      "text/html": [
       "<div>\n",
       "<style scoped>\n",
       "    .dataframe tbody tr th:only-of-type {\n",
       "        vertical-align: middle;\n",
       "    }\n",
       "\n",
       "    .dataframe tbody tr th {\n",
       "        vertical-align: top;\n",
       "    }\n",
       "\n",
       "    .dataframe thead th {\n",
       "        text-align: right;\n",
       "    }\n",
       "</style>\n",
       "<table border=\"1\" class=\"dataframe\">\n",
       "  <thead>\n",
       "    <tr style=\"text-align: right;\">\n",
       "      <th></th>\n",
       "      <th>tickers</th>\n",
       "      <th>name_company</th>\n",
       "      <th>ISIN</th>\n",
       "    </tr>\n",
       "  </thead>\n",
       "  <tbody>\n",
       "    <tr>\n",
       "      <th>0</th>\n",
       "      <td>BABA</td>\n",
       "      <td>Alibaba Group Holding Limited</td>\n",
       "      <td>US01609W1027</td>\n",
       "    </tr>\n",
       "    <tr>\n",
       "      <th>1</th>\n",
       "      <td>AAPL</td>\n",
       "      <td>Apple Inc.</td>\n",
       "      <td>US0378331005</td>\n",
       "    </tr>\n",
       "    <tr>\n",
       "      <th>2</th>\n",
       "      <td>TSLA</td>\n",
       "      <td>Tesla, Inc.</td>\n",
       "      <td>US88160R1014</td>\n",
       "    </tr>\n",
       "    <tr>\n",
       "      <th>3</th>\n",
       "      <td>SPCE</td>\n",
       "      <td>Virgin Galactic Holdings, Inc.</td>\n",
       "      <td>US92766K1060</td>\n",
       "    </tr>\n",
       "    <tr>\n",
       "      <th>4</th>\n",
       "      <td>AMZN</td>\n",
       "      <td>Amazon.com, Inc.</td>\n",
       "      <td>US0231351067</td>\n",
       "    </tr>\n",
       "    <tr>\n",
       "      <th>...</th>\n",
       "      <td>...</td>\n",
       "      <td>...</td>\n",
       "      <td>...</td>\n",
       "    </tr>\n",
       "    <tr>\n",
       "      <th>95</th>\n",
       "      <td>FDX</td>\n",
       "      <td>FedEx Corporation</td>\n",
       "      <td>US31428X1063</td>\n",
       "    </tr>\n",
       "    <tr>\n",
       "      <th>96</th>\n",
       "      <td>PINS</td>\n",
       "      <td>Pinterest, Inc. ClassA</td>\n",
       "      <td>US72352L1061</td>\n",
       "    </tr>\n",
       "    <tr>\n",
       "      <th>97</th>\n",
       "      <td>OKE</td>\n",
       "      <td>ONEOK, Inc.</td>\n",
       "      <td>US6826801036</td>\n",
       "    </tr>\n",
       "    <tr>\n",
       "      <th>98</th>\n",
       "      <td>TSN</td>\n",
       "      <td>Tyson Foods, Inc. Class A</td>\n",
       "      <td>US9024941034</td>\n",
       "    </tr>\n",
       "    <tr>\n",
       "      <th>99</th>\n",
       "      <td>AA</td>\n",
       "      <td>Alcoa Corporation</td>\n",
       "      <td>US0138721065</td>\n",
       "    </tr>\n",
       "  </tbody>\n",
       "</table>\n",
       "<p>91 rows × 3 columns</p>\n",
       "</div>"
      ],
      "text/plain": [
       "   tickers                    name_company          ISIN\n",
       "0     BABA   Alibaba Group Holding Limited  US01609W1027\n",
       "1     AAPL                      Apple Inc.  US0378331005\n",
       "2     TSLA                     Tesla, Inc.  US88160R1014\n",
       "3     SPCE  Virgin Galactic Holdings, Inc.  US92766K1060\n",
       "4     AMZN                Amazon.com, Inc.  US0231351067\n",
       "..     ...                             ...           ...\n",
       "95     FDX               FedEx Corporation  US31428X1063\n",
       "96    PINS          Pinterest, Inc. ClassA  US72352L1061\n",
       "97     OKE                     ONEOK, Inc.  US6826801036\n",
       "98     TSN       Tyson Foods, Inc. Class A  US9024941034\n",
       "99      AA               Alcoa Corporation  US0138721065\n",
       "\n",
       "[91 rows x 3 columns]"
      ]
     },
     "execution_count": 74,
     "metadata": {},
     "output_type": "execute_result"
    }
   ],
   "source": [
    "shares_df"
   ]
  },
  {
   "cell_type": "code",
   "execution_count": 75,
   "id": "c5bed1fd",
   "metadata": {},
   "outputs": [
    {
     "data": {
      "text/plain": [
       "(91, 3)"
      ]
     },
     "execution_count": 75,
     "metadata": {},
     "output_type": "execute_result"
    }
   ],
   "source": [
    "shares_df.shape"
   ]
  },
  {
   "cell_type": "markdown",
   "id": "5510dc07",
   "metadata": {},
   "source": [
    "__\"Приклеим\" сразу же данные из finviz: цену акции, ee id__"
   ]
  },
  {
   "cell_type": "code",
   "execution_count": 76,
   "id": "dc6e4e89",
   "metadata": {},
   "outputs": [],
   "source": [
    "finviz_df = pd.read_csv('finviz_shares.csv')"
   ]
  },
  {
   "cell_type": "code",
   "execution_count": 77,
   "id": "3120cbc8",
   "metadata": {},
   "outputs": [],
   "source": [
    "finviz_df_ticker = finviz_df[['ticker', 'id_share', 'Price']]"
   ]
  },
  {
   "cell_type": "code",
   "execution_count": 78,
   "id": "f3bb5ab0",
   "metadata": {},
   "outputs": [],
   "source": [
    "finviz_df_ticker = finviz_df_ticker.rename(columns={'ticker': 'tickers'})"
   ]
  },
  {
   "cell_type": "code",
   "execution_count": 79,
   "id": "fe9ef995",
   "metadata": {},
   "outputs": [
    {
     "data": {
      "text/html": [
       "<div>\n",
       "<style scoped>\n",
       "    .dataframe tbody tr th:only-of-type {\n",
       "        vertical-align: middle;\n",
       "    }\n",
       "\n",
       "    .dataframe tbody tr th {\n",
       "        vertical-align: top;\n",
       "    }\n",
       "\n",
       "    .dataframe thead th {\n",
       "        text-align: right;\n",
       "    }\n",
       "</style>\n",
       "<table border=\"1\" class=\"dataframe\">\n",
       "  <thead>\n",
       "    <tr style=\"text-align: right;\">\n",
       "      <th></th>\n",
       "      <th>tickers</th>\n",
       "      <th>name_company</th>\n",
       "      <th>ISIN</th>\n",
       "      <th>id_share</th>\n",
       "      <th>Price</th>\n",
       "    </tr>\n",
       "  </thead>\n",
       "  <tbody>\n",
       "    <tr>\n",
       "      <th>0</th>\n",
       "      <td>BABA</td>\n",
       "      <td>Alibaba Group Holding Limited</td>\n",
       "      <td>US01609W1027</td>\n",
       "      <td>706</td>\n",
       "      <td>123.98</td>\n",
       "    </tr>\n",
       "    <tr>\n",
       "      <th>1</th>\n",
       "      <td>AAPL</td>\n",
       "      <td>Apple Inc.</td>\n",
       "      <td>US0378331005</td>\n",
       "      <td>4</td>\n",
       "      <td>172.12</td>\n",
       "    </tr>\n",
       "    <tr>\n",
       "      <th>2</th>\n",
       "      <td>TSLA</td>\n",
       "      <td>Tesla, Inc.</td>\n",
       "      <td>US88160R1014</td>\n",
       "      <td>7664</td>\n",
       "      <td>904.55</td>\n",
       "    </tr>\n",
       "    <tr>\n",
       "      <th>3</th>\n",
       "      <td>SPCE</td>\n",
       "      <td>Virgin Galactic Holdings, Inc.</td>\n",
       "      <td>US92766K1060</td>\n",
       "      <td>7111</td>\n",
       "      <td>8.85</td>\n",
       "    </tr>\n",
       "    <tr>\n",
       "      <th>4</th>\n",
       "      <td>AMZN</td>\n",
       "      <td>Amazon.com, Inc.</td>\n",
       "      <td>US0231351067</td>\n",
       "      <td>388</td>\n",
       "      <td>3180.07</td>\n",
       "    </tr>\n",
       "    <tr>\n",
       "      <th>...</th>\n",
       "      <td>...</td>\n",
       "      <td>...</td>\n",
       "      <td>...</td>\n",
       "      <td>...</td>\n",
       "      <td>...</td>\n",
       "    </tr>\n",
       "    <tr>\n",
       "      <th>85</th>\n",
       "      <td>FDX</td>\n",
       "      <td>FedEx Corporation</td>\n",
       "      <td>US31428X1063</td>\n",
       "      <td>2757</td>\n",
       "      <td>240.41</td>\n",
       "    </tr>\n",
       "    <tr>\n",
       "      <th>86</th>\n",
       "      <td>PINS</td>\n",
       "      <td>Pinterest, Inc. ClassA</td>\n",
       "      <td>US72352L1061</td>\n",
       "      <td>5996</td>\n",
       "      <td>25.55</td>\n",
       "    </tr>\n",
       "    <tr>\n",
       "      <th>87</th>\n",
       "      <td>OKE</td>\n",
       "      <td>ONEOK, Inc.</td>\n",
       "      <td>US6826801036</td>\n",
       "      <td>5604</td>\n",
       "      <td>63.02</td>\n",
       "    </tr>\n",
       "    <tr>\n",
       "      <th>88</th>\n",
       "      <td>TSN</td>\n",
       "      <td>Tyson Foods, Inc. Class A</td>\n",
       "      <td>US9024941034</td>\n",
       "      <td>7661</td>\n",
       "      <td>97.88</td>\n",
       "    </tr>\n",
       "    <tr>\n",
       "      <th>89</th>\n",
       "      <td>AA</td>\n",
       "      <td>Alcoa Corporation</td>\n",
       "      <td>US0138721065</td>\n",
       "      <td>40</td>\n",
       "      <td>71.17</td>\n",
       "    </tr>\n",
       "  </tbody>\n",
       "</table>\n",
       "<p>90 rows × 5 columns</p>\n",
       "</div>"
      ],
      "text/plain": [
       "   tickers                    name_company          ISIN  id_share    Price\n",
       "0     BABA   Alibaba Group Holding Limited  US01609W1027       706   123.98\n",
       "1     AAPL                      Apple Inc.  US0378331005         4   172.12\n",
       "2     TSLA                     Tesla, Inc.  US88160R1014      7664   904.55\n",
       "3     SPCE  Virgin Galactic Holdings, Inc.  US92766K1060      7111     8.85\n",
       "4     AMZN                Amazon.com, Inc.  US0231351067       388  3180.07\n",
       "..     ...                             ...           ...       ...      ...\n",
       "85     FDX               FedEx Corporation  US31428X1063      2757   240.41\n",
       "86    PINS          Pinterest, Inc. ClassA  US72352L1061      5996    25.55\n",
       "87     OKE                     ONEOK, Inc.  US6826801036      5604    63.02\n",
       "88     TSN       Tyson Foods, Inc. Class A  US9024941034      7661    97.88\n",
       "89      AA               Alcoa Corporation  US0138721065        40    71.17\n",
       "\n",
       "[90 rows x 5 columns]"
      ]
     },
     "execution_count": 79,
     "metadata": {},
     "output_type": "execute_result"
    }
   ],
   "source": [
    "pd.merge(shares_df, finviz_df_ticker, how=\"inner\", on=\"tickers\")"
   ]
  },
  {
   "cell_type": "code",
   "execution_count": 80,
   "id": "26f361e3",
   "metadata": {},
   "outputs": [],
   "source": [
    "shares_spb = pd.merge(shares_df, finviz_df_ticker, how=\"inner\", on=\"tickers\")"
   ]
  },
  {
   "cell_type": "code",
   "execution_count": 102,
   "id": "ca820829",
   "metadata": {},
   "outputs": [],
   "source": [
    "shares_spb.to_csv('popular_spb.csv', encoding='utf-8', index=False)"
   ]
  },
  {
   "cell_type": "markdown",
   "id": "b31addf5",
   "metadata": {},
   "source": [
    "_UPD: и все-таки с spb акциями не получается хуже. Лучше взять всю выборку из finviz_"
   ]
  },
  {
   "cell_type": "code",
   "execution_count": 81,
   "id": "cea60ac3",
   "metadata": {},
   "outputs": [],
   "source": [
    "id_shares = finviz_df.id_share.to_list()"
   ]
  },
  {
   "cell_type": "code",
   "execution_count": 85,
   "id": "7e94dd21",
   "metadata": {},
   "outputs": [],
   "source": [
    "data_share=dict()\n",
    "week_amount = 6"
   ]
  },
  {
   "cell_type": "code",
   "execution_count": 86,
   "id": "5a536307",
   "metadata": {},
   "outputs": [],
   "source": [
    "for i in range(len(id_list)): \n",
    "    general_shares = []\n",
    "    for j in range(week_amount): \n",
    "        amount_share = random.randint(1, 6)\n",
    "        shares = random.sample(id_shares, k=amount_share)\n",
    "        general_shares.append(shares)\n",
    "    data_share[id_list[i]] = general_shares"
   ]
  },
  {
   "cell_type": "code",
   "execution_count": 87,
   "id": "73cf2033",
   "metadata": {},
   "outputs": [],
   "source": [
    "#data_share"
   ]
  },
  {
   "cell_type": "code",
   "execution_count": 88,
   "id": "7acf2799",
   "metadata": {},
   "outputs": [],
   "source": [
    "#из словаря составим серию\n",
    "data_share = pd.Series(data_share)"
   ]
  },
  {
   "cell_type": "code",
   "execution_count": 89,
   "id": "9af9cf57",
   "metadata": {},
   "outputs": [],
   "source": [
    "data_share_df = pd.DataFrame({'shares': data_share}).reset_index()"
   ]
  },
  {
   "cell_type": "code",
   "execution_count": 90,
   "id": "d425b440",
   "metadata": {},
   "outputs": [
    {
     "data": {
      "text/html": [
       "<div>\n",
       "<style scoped>\n",
       "    .dataframe tbody tr th:only-of-type {\n",
       "        vertical-align: middle;\n",
       "    }\n",
       "\n",
       "    .dataframe tbody tr th {\n",
       "        vertical-align: top;\n",
       "    }\n",
       "\n",
       "    .dataframe thead th {\n",
       "        text-align: right;\n",
       "    }\n",
       "</style>\n",
       "<table border=\"1\" class=\"dataframe\">\n",
       "  <thead>\n",
       "    <tr style=\"text-align: right;\">\n",
       "      <th></th>\n",
       "      <th>index</th>\n",
       "      <th>shares</th>\n",
       "    </tr>\n",
       "  </thead>\n",
       "  <tbody>\n",
       "    <tr>\n",
       "      <th>0</th>\n",
       "      <td>1</td>\n",
       "      <td>[[3375, 1810], [322, 3965], [2816, 7203, 2227]...</td>\n",
       "    </tr>\n",
       "    <tr>\n",
       "      <th>1</th>\n",
       "      <td>2</td>\n",
       "      <td>[[1317, 7561], [8042, 3448, 3998], [4991, 7989...</td>\n",
       "    </tr>\n",
       "    <tr>\n",
       "      <th>2</th>\n",
       "      <td>3</td>\n",
       "      <td>[[227, 7286, 5394], [2192, 2441], [1730, 3960,...</td>\n",
       "    </tr>\n",
       "    <tr>\n",
       "      <th>3</th>\n",
       "      <td>4</td>\n",
       "      <td>[[3784, 8382, 4785], [2552], [3424, 7858, 4646...</td>\n",
       "    </tr>\n",
       "    <tr>\n",
       "      <th>4</th>\n",
       "      <td>5</td>\n",
       "      <td>[[1792], [146, 1360, 4476], [5783, 3715, 3429]...</td>\n",
       "    </tr>\n",
       "  </tbody>\n",
       "</table>\n",
       "</div>"
      ],
      "text/plain": [
       "   index                                             shares\n",
       "0      1  [[3375, 1810], [322, 3965], [2816, 7203, 2227]...\n",
       "1      2  [[1317, 7561], [8042, 3448, 3998], [4991, 7989...\n",
       "2      3  [[227, 7286, 5394], [2192, 2441], [1730, 3960,...\n",
       "3      4  [[3784, 8382, 4785], [2552], [3424, 7858, 4646...\n",
       "4      5  [[1792], [146, 1360, 4476], [5783, 3715, 3429]..."
      ]
     },
     "execution_count": 90,
     "metadata": {},
     "output_type": "execute_result"
    }
   ],
   "source": [
    "data_share_df.head()"
   ]
  },
  {
   "cell_type": "code",
   "execution_count": 91,
   "id": "b1b8b618",
   "metadata": {},
   "outputs": [
    {
     "data": {
      "text/plain": [
       "(100000, 2)"
      ]
     },
     "execution_count": 91,
     "metadata": {},
     "output_type": "execute_result"
    }
   ],
   "source": [
    "data_share_df.shape"
   ]
  },
  {
   "cell_type": "code",
   "execution_count": 92,
   "id": "706890df",
   "metadata": {},
   "outputs": [],
   "source": [
    "# \"стакаем\" акции\n",
    "f = data_share_df.apply(lambda x: pd.Series(x['shares']), axis=1).stack().reset_index(level=1, drop=True)\n",
    "f.name = 'shares_deal'"
   ]
  },
  {
   "cell_type": "code",
   "execution_count": 93,
   "id": "9babf397",
   "metadata": {},
   "outputs": [],
   "source": [
    "data_share_df = data_share_df.drop('shares', axis=1).join(f)"
   ]
  },
  {
   "cell_type": "code",
   "execution_count": 94,
   "id": "7ecf0259",
   "metadata": {},
   "outputs": [],
   "source": [
    "data_share_df = data_share_df.reset_index()"
   ]
  },
  {
   "cell_type": "code",
   "execution_count": 95,
   "id": "98590fb5",
   "metadata": {},
   "outputs": [
    {
     "data": {
      "text/plain": [
       "(600000, 3)"
      ]
     },
     "execution_count": 95,
     "metadata": {},
     "output_type": "execute_result"
    }
   ],
   "source": [
    "data_share_df.shape"
   ]
  },
  {
   "cell_type": "code",
   "execution_count": 96,
   "id": "0d3e79b9",
   "metadata": {},
   "outputs": [],
   "source": [
    "temp_list = pd.Series(data_share_df['shares_deal'])"
   ]
  },
  {
   "cell_type": "code",
   "execution_count": 97,
   "id": "0385fa34",
   "metadata": {},
   "outputs": [],
   "source": [
    "df = pd.concat([df, temp_list], axis=1)"
   ]
  },
  {
   "cell_type": "code",
   "execution_count": 98,
   "id": "da2e0472",
   "metadata": {},
   "outputs": [
    {
     "data": {
      "text/html": [
       "<div>\n",
       "<style scoped>\n",
       "    .dataframe tbody tr th:only-of-type {\n",
       "        vertical-align: middle;\n",
       "    }\n",
       "\n",
       "    .dataframe tbody tr th {\n",
       "        vertical-align: top;\n",
       "    }\n",
       "\n",
       "    .dataframe thead th {\n",
       "        text-align: right;\n",
       "    }\n",
       "</style>\n",
       "<table border=\"1\" class=\"dataframe\">\n",
       "  <thead>\n",
       "    <tr style=\"text-align: right;\">\n",
       "      <th></th>\n",
       "      <th>user_id</th>\n",
       "      <th>week_no</th>\n",
       "      <th>shares_deal</th>\n",
       "    </tr>\n",
       "  </thead>\n",
       "  <tbody>\n",
       "    <tr>\n",
       "      <th>0</th>\n",
       "      <td>1</td>\n",
       "      <td>31</td>\n",
       "      <td>[3375, 1810]</td>\n",
       "    </tr>\n",
       "    <tr>\n",
       "      <th>1</th>\n",
       "      <td>1</td>\n",
       "      <td>32</td>\n",
       "      <td>[322, 3965]</td>\n",
       "    </tr>\n",
       "    <tr>\n",
       "      <th>2</th>\n",
       "      <td>1</td>\n",
       "      <td>39</td>\n",
       "      <td>[2816, 7203, 2227]</td>\n",
       "    </tr>\n",
       "    <tr>\n",
       "      <th>3</th>\n",
       "      <td>1</td>\n",
       "      <td>43</td>\n",
       "      <td>[3497]</td>\n",
       "    </tr>\n",
       "    <tr>\n",
       "      <th>4</th>\n",
       "      <td>1</td>\n",
       "      <td>47</td>\n",
       "      <td>[8337]</td>\n",
       "    </tr>\n",
       "    <tr>\n",
       "      <th>5</th>\n",
       "      <td>1</td>\n",
       "      <td>49</td>\n",
       "      <td>[689, 1039, 6724, 7819]</td>\n",
       "    </tr>\n",
       "    <tr>\n",
       "      <th>6</th>\n",
       "      <td>2</td>\n",
       "      <td>28</td>\n",
       "      <td>[1317, 7561]</td>\n",
       "    </tr>\n",
       "    <tr>\n",
       "      <th>7</th>\n",
       "      <td>2</td>\n",
       "      <td>33</td>\n",
       "      <td>[8042, 3448, 3998]</td>\n",
       "    </tr>\n",
       "    <tr>\n",
       "      <th>8</th>\n",
       "      <td>2</td>\n",
       "      <td>37</td>\n",
       "      <td>[4991, 7989, 8086]</td>\n",
       "    </tr>\n",
       "    <tr>\n",
       "      <th>9</th>\n",
       "      <td>2</td>\n",
       "      <td>42</td>\n",
       "      <td>[194, 6181]</td>\n",
       "    </tr>\n",
       "    <tr>\n",
       "      <th>10</th>\n",
       "      <td>2</td>\n",
       "      <td>47</td>\n",
       "      <td>[1342, 3794, 4661, 650]</td>\n",
       "    </tr>\n",
       "    <tr>\n",
       "      <th>11</th>\n",
       "      <td>2</td>\n",
       "      <td>48</td>\n",
       "      <td>[731, 6062, 522, 671]</td>\n",
       "    </tr>\n",
       "    <tr>\n",
       "      <th>12</th>\n",
       "      <td>3</td>\n",
       "      <td>28</td>\n",
       "      <td>[227, 7286, 5394]</td>\n",
       "    </tr>\n",
       "    <tr>\n",
       "      <th>13</th>\n",
       "      <td>3</td>\n",
       "      <td>33</td>\n",
       "      <td>[2192, 2441]</td>\n",
       "    </tr>\n",
       "    <tr>\n",
       "      <th>14</th>\n",
       "      <td>3</td>\n",
       "      <td>38</td>\n",
       "      <td>[1730, 3960, 1740, 4076, 2905]</td>\n",
       "    </tr>\n",
       "  </tbody>\n",
       "</table>\n",
       "</div>"
      ],
      "text/plain": [
       "    user_id  week_no                     shares_deal\n",
       "0         1       31                    [3375, 1810]\n",
       "1         1       32                     [322, 3965]\n",
       "2         1       39              [2816, 7203, 2227]\n",
       "3         1       43                          [3497]\n",
       "4         1       47                          [8337]\n",
       "5         1       49         [689, 1039, 6724, 7819]\n",
       "6         2       28                    [1317, 7561]\n",
       "7         2       33              [8042, 3448, 3998]\n",
       "8         2       37              [4991, 7989, 8086]\n",
       "9         2       42                     [194, 6181]\n",
       "10        2       47         [1342, 3794, 4661, 650]\n",
       "11        2       48           [731, 6062, 522, 671]\n",
       "12        3       28               [227, 7286, 5394]\n",
       "13        3       33                    [2192, 2441]\n",
       "14        3       38  [1730, 3960, 1740, 4076, 2905]"
      ]
     },
     "execution_count": 98,
     "metadata": {},
     "output_type": "execute_result"
    }
   ],
   "source": [
    "df.head(15)"
   ]
  },
  {
   "cell_type": "code",
   "execution_count": 99,
   "id": "7a7072b7",
   "metadata": {},
   "outputs": [],
   "source": [
    "file_name = 'interactions.csv'"
   ]
  },
  {
   "cell_type": "code",
   "execution_count": 100,
   "id": "9ebcca73",
   "metadata": {},
   "outputs": [],
   "source": [
    "df.to_csv(file_name, encoding='utf-8', index=False)"
   ]
  }
 ],
 "metadata": {
  "kernelspec": {
   "display_name": "Python 3",
   "language": "python",
   "name": "python3"
  },
  "language_info": {
   "codemirror_mode": {
    "name": "ipython",
    "version": 3
   },
   "file_extension": ".py",
   "mimetype": "text/x-python",
   "name": "python",
   "nbconvert_exporter": "python",
   "pygments_lexer": "ipython3",
   "version": "3.9.6"
  }
 },
 "nbformat": 4,
 "nbformat_minor": 5
}
