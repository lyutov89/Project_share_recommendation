{
 "cells": [
  {
   "cell_type": "markdown",
   "id": "1822c63f",
   "metadata": {},
   "source": [
    "___Shares info collection___"
   ]
  },
  {
   "cell_type": "code",
   "execution_count": 156,
   "id": "3a0cc043",
   "metadata": {},
   "outputs": [],
   "source": [
    "#!pip install yf"
   ]
  },
  {
   "cell_type": "code",
   "execution_count": 3,
   "id": "9466a53b",
   "metadata": {},
   "outputs": [],
   "source": [
    "#pip install yahoofinancials"
   ]
  },
  {
   "cell_type": "code",
   "execution_count": 4,
   "id": "82ac5f62",
   "metadata": {},
   "outputs": [],
   "source": [
    "#pip install yfinance"
   ]
  },
  {
   "cell_type": "code",
   "execution_count": 79,
   "id": "9e6c51d8",
   "metadata": {},
   "outputs": [],
   "source": [
    "from yahoofinancials import YahooFinancials"
   ]
  },
  {
   "cell_type": "code",
   "execution_count": 80,
   "id": "24f80b20",
   "metadata": {},
   "outputs": [],
   "source": [
    "import yfinance as yf\n",
    "import numpy as np \n",
    "import pandas as pd"
   ]
  },
  {
   "cell_type": "code",
   "execution_count": 81,
   "id": "8bbcf706",
   "metadata": {},
   "outputs": [],
   "source": [
    "tsla = yf.Ticker(\"TSLA\")\n",
    "#tsla.info"
   ]
  },
  {
   "cell_type": "code",
   "execution_count": 82,
   "id": "4b092983",
   "metadata": {},
   "outputs": [],
   "source": [
    "tech_stocks = ['AAPL', 'MSFT', 'INTC']"
   ]
  },
  {
   "cell_type": "code",
   "execution_count": 9,
   "id": "d07c7513",
   "metadata": {},
   "outputs": [],
   "source": [
    "yahoo_financials_tech = YahooFinancials(tech_stocks)"
   ]
  },
  {
   "cell_type": "code",
   "execution_count": 10,
   "id": "96c5a55f",
   "metadata": {},
   "outputs": [
    {
     "data": {
      "text/plain": [
       "{'AAPL': 108949000000, 'MSFT': 69916000000, 'INTC': 23876000000}"
      ]
     },
     "execution_count": 10,
     "metadata": {},
     "output_type": "execute_result"
    }
   ],
   "source": [
    "yahoo_financials_tech.get_operating_income()"
   ]
  },
  {
   "cell_type": "code",
   "execution_count": 11,
   "id": "9018639a",
   "metadata": {},
   "outputs": [
    {
     "data": {
      "text/plain": [
       "{'AAPL': 2862096318464, 'MSFT': 2354202017792, 'INTC': 198144245760}"
      ]
     },
     "execution_count": 11,
     "metadata": {},
     "output_type": "execute_result"
    }
   ],
   "source": [
    "yahoo_financials_tech.get_market_cap()"
   ]
  },
  {
   "cell_type": "code",
   "execution_count": 12,
   "id": "731e3458",
   "metadata": {},
   "outputs": [],
   "source": [
    "#yahoo_financials_tech.get_key_statistics_data()"
   ]
  },
  {
   "cell_type": "markdown",
   "id": "c8de7f93",
   "metadata": {},
   "source": [
    "___GET list of shares from S&P 500___"
   ]
  },
  {
   "cell_type": "markdown",
   "id": "b8dd5e55",
   "metadata": {},
   "source": [
    "As we make internal 'pet-project', we collect data from Wikipedia"
   ]
  },
  {
   "cell_type": "code",
   "execution_count": 13,
   "id": "119f1146",
   "metadata": {},
   "outputs": [],
   "source": [
    "import bs4 as bs\n",
    "import requests\n",
    " \n",
    "resp = requests.get('https://en.wikipedia.org/wiki/List_of_S%26P_500_companies')\n",
    "soup = bs.BeautifulSoup(resp.text, 'lxml')"
   ]
  },
  {
   "cell_type": "code",
   "execution_count": 14,
   "id": "e413c530",
   "metadata": {},
   "outputs": [],
   "source": [
    "soup = bs.BeautifulSoup(resp.text, 'lxml')\n",
    "table = soup.find('table', {'class': 'wikitable sortable'})\n",
    "#print(table)"
   ]
  },
  {
   "cell_type": "markdown",
   "id": "d8290759",
   "metadata": {},
   "source": [
    "Для сбора данных интересны все строчки, кроме первой, поэтому: "
   ]
  },
  {
   "cell_type": "code",
   "execution_count": 15,
   "id": "1acd8ea7",
   "metadata": {},
   "outputs": [],
   "source": [
    "#print(table.findAll('tr')[1:])"
   ]
  },
  {
   "cell_type": "code",
   "execution_count": 16,
   "id": "bc5cce32",
   "metadata": {},
   "outputs": [],
   "source": [
    "tickers = []\n",
    "industries = []\n",
    "for row in table.findAll('tr')[1:]:\n",
    "        ticker = row.findAll('td')[0].text\n",
    "        #четвертый элемент в нашей странице\n",
    "        industry = row.findAll('td')[4].text\n",
    "        \n",
    "        tickers.append(ticker)\n",
    "        industries.append(industry)"
   ]
  },
  {
   "cell_type": "code",
   "execution_count": 17,
   "id": "42904d2f",
   "metadata": {},
   "outputs": [],
   "source": [
    "#display(tickers)\n",
    "# удалим символ /n из списков и составим датафрейм в пандас."
   ]
  },
  {
   "cell_type": "code",
   "execution_count": 18,
   "id": "5e0739e7",
   "metadata": {},
   "outputs": [],
   "source": [
    "tickers = pd.Series(list(map(lambda s: s.strip(), tickers)))\n",
    "industries = pd.Series(list(map(lambda s: s.strip(), industries)))"
   ]
  },
  {
   "cell_type": "code",
   "execution_count": 19,
   "id": "51bc2153",
   "metadata": {},
   "outputs": [],
   "source": [
    "data = {'tickers': tickers,\n",
    "        'industries': industries\n",
    "       }\n",
    "\n",
    "# создаем датафрейм:\n",
    "df = pd.DataFrame(data)"
   ]
  },
  {
   "cell_type": "code",
   "execution_count": 20,
   "id": "bf0a2b5c",
   "metadata": {},
   "outputs": [
    {
     "data": {
      "text/html": [
       "<div>\n",
       "<style scoped>\n",
       "    .dataframe tbody tr th:only-of-type {\n",
       "        vertical-align: middle;\n",
       "    }\n",
       "\n",
       "    .dataframe tbody tr th {\n",
       "        vertical-align: top;\n",
       "    }\n",
       "\n",
       "    .dataframe thead th {\n",
       "        text-align: right;\n",
       "    }\n",
       "</style>\n",
       "<table border=\"1\" class=\"dataframe\">\n",
       "  <thead>\n",
       "    <tr style=\"text-align: right;\">\n",
       "      <th></th>\n",
       "      <th>tickers</th>\n",
       "      <th>industries</th>\n",
       "    </tr>\n",
       "  </thead>\n",
       "  <tbody>\n",
       "    <tr>\n",
       "      <th>0</th>\n",
       "      <td>MMM</td>\n",
       "      <td>Industrial Conglomerates</td>\n",
       "    </tr>\n",
       "    <tr>\n",
       "      <th>1</th>\n",
       "      <td>AOS</td>\n",
       "      <td>Building Products</td>\n",
       "    </tr>\n",
       "    <tr>\n",
       "      <th>2</th>\n",
       "      <td>ABT</td>\n",
       "      <td>Health Care Equipment</td>\n",
       "    </tr>\n",
       "    <tr>\n",
       "      <th>3</th>\n",
       "      <td>ABBV</td>\n",
       "      <td>Pharmaceuticals</td>\n",
       "    </tr>\n",
       "    <tr>\n",
       "      <th>4</th>\n",
       "      <td>ABMD</td>\n",
       "      <td>Health Care Equipment</td>\n",
       "    </tr>\n",
       "  </tbody>\n",
       "</table>\n",
       "</div>"
      ],
      "text/plain": [
       "  tickers                industries\n",
       "0     MMM  Industrial Conglomerates\n",
       "1     AOS         Building Products\n",
       "2     ABT     Health Care Equipment\n",
       "3    ABBV           Pharmaceuticals\n",
       "4    ABMD     Health Care Equipment"
      ]
     },
     "execution_count": 20,
     "metadata": {},
     "output_type": "execute_result"
    }
   ],
   "source": [
    "df.head()"
   ]
  },
  {
   "cell_type": "code",
   "execution_count": 64,
   "id": "4701ceb4",
   "metadata": {},
   "outputs": [],
   "source": [
    "tickers = df['tickers'].to_list()"
   ]
  },
  {
   "cell_type": "code",
   "execution_count": 1,
   "id": "9cdec6a8",
   "metadata": {},
   "outputs": [],
   "source": [
    "#tickers\n",
    "# Опция (На будущее) - спарсить Finviz. Все данные, которые мне были нужны, доступны. Включая те, которые залочены в yahoo finance."
   ]
  },
  {
   "cell_type": "code",
   "execution_count": 67,
   "id": "67f6fd32",
   "metadata": {},
   "outputs": [],
   "source": [
    "yahoo_tickers = YahooFinancials(tickers)"
   ]
  },
  {
   "cell_type": "code",
   "execution_count": 68,
   "id": "61340a77",
   "metadata": {},
   "outputs": [
    {
     "data": {
      "text/plain": [
       "<yahoofinancials.YahooFinancials at 0x263af6422b0>"
      ]
     },
     "execution_count": 68,
     "metadata": {},
     "output_type": "execute_result"
    }
   ],
   "source": [
    "yahoo_tickers"
   ]
  },
  {
   "cell_type": "code",
   "execution_count": 69,
   "id": "f6616877",
   "metadata": {},
   "outputs": [],
   "source": [
    "yahoo_tickers_dict = yahoo_tickers.get_key_statistics_data()"
   ]
  },
  {
   "cell_type": "code",
   "execution_count": 70,
   "id": "80fc8c21",
   "metadata": {},
   "outputs": [],
   "source": [
    "yahoo_dataframe = pd.DataFrame(yahoo_tickers_dict)"
   ]
  },
  {
   "cell_type": "code",
   "execution_count": 71,
   "id": "176d473f",
   "metadata": {},
   "outputs": [],
   "source": [
    "df = yahoo_dataframe.T.reset_index()"
   ]
  },
  {
   "cell_type": "code",
   "execution_count": 72,
   "id": "d018634f",
   "metadata": {},
   "outputs": [],
   "source": [
    "# далее это нужно будет сохранить. \n",
    "# следующая задача - сделать описание всех колонок"
   ]
  },
  {
   "cell_type": "code",
   "execution_count": 73,
   "id": "8a49f7bd",
   "metadata": {},
   "outputs": [
    {
     "data": {
      "text/html": [
       "<div>\n",
       "<style scoped>\n",
       "    .dataframe tbody tr th:only-of-type {\n",
       "        vertical-align: middle;\n",
       "    }\n",
       "\n",
       "    .dataframe tbody tr th {\n",
       "        vertical-align: top;\n",
       "    }\n",
       "\n",
       "    .dataframe thead th {\n",
       "        text-align: right;\n",
       "    }\n",
       "</style>\n",
       "<table border=\"1\" class=\"dataframe\">\n",
       "  <thead>\n",
       "    <tr style=\"text-align: right;\">\n",
       "      <th></th>\n",
       "      <th>index</th>\n",
       "      <th>annualHoldingsTurnover</th>\n",
       "      <th>enterpriseToRevenue</th>\n",
       "      <th>beta3Year</th>\n",
       "      <th>profitMargins</th>\n",
       "      <th>enterpriseToEbitda</th>\n",
       "      <th>52WeekChange</th>\n",
       "      <th>morningStarRiskRating</th>\n",
       "      <th>forwardEps</th>\n",
       "      <th>revenueQuarterlyGrowth</th>\n",
       "      <th>...</th>\n",
       "      <th>pegRatio</th>\n",
       "      <th>ytdReturn</th>\n",
       "      <th>forwardPE</th>\n",
       "      <th>maxAge</th>\n",
       "      <th>lastCapGain</th>\n",
       "      <th>shortPercentOfFloat</th>\n",
       "      <th>sharesShortPriorMonth</th>\n",
       "      <th>impliedSharesOutstanding</th>\n",
       "      <th>category</th>\n",
       "      <th>fiveYearAverageReturn</th>\n",
       "    </tr>\n",
       "  </thead>\n",
       "  <tbody>\n",
       "    <tr>\n",
       "      <th>0</th>\n",
       "      <td>MMM</td>\n",
       "      <td>None</td>\n",
       "      <td>3.049</td>\n",
       "      <td>None</td>\n",
       "      <td>0.16747</td>\n",
       "      <td>11.251</td>\n",
       "      <td>-0.045874</td>\n",
       "      <td>None</td>\n",
       "      <td>11.07</td>\n",
       "      <td>None</td>\n",
       "      <td>...</td>\n",
       "      <td>2.16</td>\n",
       "      <td>None</td>\n",
       "      <td>15.046975</td>\n",
       "      <td>1</td>\n",
       "      <td>None</td>\n",
       "      <td>0.0158</td>\n",
       "      <td>9415227</td>\n",
       "      <td>None</td>\n",
       "      <td>None</td>\n",
       "      <td>None</td>\n",
       "    </tr>\n",
       "    <tr>\n",
       "      <th>1</th>\n",
       "      <td>AOS</td>\n",
       "      <td>None</td>\n",
       "      <td>3.304</td>\n",
       "      <td>None</td>\n",
       "      <td>0.13764</td>\n",
       "      <td>17.009</td>\n",
       "      <td>0.320692</td>\n",
       "      <td>None</td>\n",
       "      <td>3.81</td>\n",
       "      <td>None</td>\n",
       "      <td>...</td>\n",
       "      <td>2.65</td>\n",
       "      <td>None</td>\n",
       "      <td>19.71916</td>\n",
       "      <td>1</td>\n",
       "      <td>None</td>\n",
       "      <td>0.0285</td>\n",
       "      <td>3352281</td>\n",
       "      <td>159162000</td>\n",
       "      <td>None</td>\n",
       "      <td>None</td>\n",
       "    </tr>\n",
       "    <tr>\n",
       "      <th>2</th>\n",
       "      <td>ABT</td>\n",
       "      <td>None</td>\n",
       "      <td>5.429</td>\n",
       "      <td>None</td>\n",
       "      <td>0.16416</td>\n",
       "      <td>18.245</td>\n",
       "      <td>0.05806</td>\n",
       "      <td>None</td>\n",
       "      <td>5.2</td>\n",
       "      <td>None</td>\n",
       "      <td>...</td>\n",
       "      <td>1.98</td>\n",
       "      <td>None</td>\n",
       "      <td>25.013464</td>\n",
       "      <td>1</td>\n",
       "      <td>None</td>\n",
       "      <td>0.0052</td>\n",
       "      <td>9684857</td>\n",
       "      <td>None</td>\n",
       "      <td>None</td>\n",
       "      <td>None</td>\n",
       "    </tr>\n",
       "    <tr>\n",
       "      <th>3</th>\n",
       "      <td>ABBV</td>\n",
       "      <td>None</td>\n",
       "      <td>5.632</td>\n",
       "      <td>None</td>\n",
       "      <td>0.13656</td>\n",
       "      <td>10.768</td>\n",
       "      <td>0.280972</td>\n",
       "      <td>None</td>\n",
       "      <td>13.99</td>\n",
       "      <td>None</td>\n",
       "      <td>...</td>\n",
       "      <td>2.28</td>\n",
       "      <td>None</td>\n",
       "      <td>9.83917</td>\n",
       "      <td>1</td>\n",
       "      <td>None</td>\n",
       "      <td>0.0081</td>\n",
       "      <td>15436235</td>\n",
       "      <td>None</td>\n",
       "      <td>None</td>\n",
       "      <td>None</td>\n",
       "    </tr>\n",
       "    <tr>\n",
       "      <th>4</th>\n",
       "      <td>ABMD</td>\n",
       "      <td>None</td>\n",
       "      <td>13.166</td>\n",
       "      <td>None</td>\n",
       "      <td>0.15319</td>\n",
       "      <td>44.482</td>\n",
       "      <td>-0.076265</td>\n",
       "      <td>None</td>\n",
       "      <td>4.91</td>\n",
       "      <td>None</td>\n",
       "      <td>...</td>\n",
       "      <td>7</td>\n",
       "      <td>None</td>\n",
       "      <td>62.142567</td>\n",
       "      <td>1</td>\n",
       "      <td>None</td>\n",
       "      <td>0.0257</td>\n",
       "      <td>1171896</td>\n",
       "      <td>None</td>\n",
       "      <td>None</td>\n",
       "      <td>None</td>\n",
       "    </tr>\n",
       "  </tbody>\n",
       "</table>\n",
       "<p>5 rows × 54 columns</p>\n",
       "</div>"
      ],
      "text/plain": [
       "  index annualHoldingsTurnover enterpriseToRevenue beta3Year profitMargins  \\\n",
       "0   MMM                   None               3.049      None       0.16747   \n",
       "1   AOS                   None               3.304      None       0.13764   \n",
       "2   ABT                   None               5.429      None       0.16416   \n",
       "3  ABBV                   None               5.632      None       0.13656   \n",
       "4  ABMD                   None              13.166      None       0.15319   \n",
       "\n",
       "  enterpriseToEbitda 52WeekChange morningStarRiskRating forwardEps  \\\n",
       "0             11.251    -0.045874                  None      11.07   \n",
       "1             17.009     0.320692                  None       3.81   \n",
       "2             18.245      0.05806                  None        5.2   \n",
       "3             10.768     0.280972                  None      13.99   \n",
       "4             44.482    -0.076265                  None       4.91   \n",
       "\n",
       "  revenueQuarterlyGrowth  ... pegRatio ytdReturn  forwardPE maxAge  \\\n",
       "0                   None  ...     2.16      None  15.046975      1   \n",
       "1                   None  ...     2.65      None   19.71916      1   \n",
       "2                   None  ...     1.98      None  25.013464      1   \n",
       "3                   None  ...     2.28      None    9.83917      1   \n",
       "4                   None  ...        7      None  62.142567      1   \n",
       "\n",
       "  lastCapGain shortPercentOfFloat sharesShortPriorMonth  \\\n",
       "0        None              0.0158               9415227   \n",
       "1        None              0.0285               3352281   \n",
       "2        None              0.0052               9684857   \n",
       "3        None              0.0081              15436235   \n",
       "4        None              0.0257               1171896   \n",
       "\n",
       "  impliedSharesOutstanding category fiveYearAverageReturn  \n",
       "0                     None     None                  None  \n",
       "1                159162000     None                  None  \n",
       "2                     None     None                  None  \n",
       "3                     None     None                  None  \n",
       "4                     None     None                  None  \n",
       "\n",
       "[5 rows x 54 columns]"
      ]
     },
     "execution_count": 73,
     "metadata": {},
     "output_type": "execute_result"
    }
   ],
   "source": [
    "df.head()"
   ]
  },
  {
   "cell_type": "code",
   "execution_count": 75,
   "id": "63f274a1",
   "metadata": {},
   "outputs": [],
   "source": [
    "file_name = 'sp500.csv'"
   ]
  },
  {
   "cell_type": "code",
   "execution_count": 76,
   "id": "e2437d2e",
   "metadata": {},
   "outputs": [],
   "source": [
    "df.to_csv(file_name, encoding='utf-8', index=False)"
   ]
  },
  {
   "cell_type": "code",
   "execution_count": 77,
   "id": "64adde45",
   "metadata": {},
   "outputs": [],
   "source": [
    "df_from_folder = pd.read_csv('sp500.csv')"
   ]
  },
  {
   "cell_type": "code",
   "execution_count": 78,
   "id": "7f00b24f",
   "metadata": {},
   "outputs": [
    {
     "data": {
      "text/html": [
       "<div>\n",
       "<style scoped>\n",
       "    .dataframe tbody tr th:only-of-type {\n",
       "        vertical-align: middle;\n",
       "    }\n",
       "\n",
       "    .dataframe tbody tr th {\n",
       "        vertical-align: top;\n",
       "    }\n",
       "\n",
       "    .dataframe thead th {\n",
       "        text-align: right;\n",
       "    }\n",
       "</style>\n",
       "<table border=\"1\" class=\"dataframe\">\n",
       "  <thead>\n",
       "    <tr style=\"text-align: right;\">\n",
       "      <th></th>\n",
       "      <th>index</th>\n",
       "      <th>annualHoldingsTurnover</th>\n",
       "      <th>enterpriseToRevenue</th>\n",
       "      <th>beta3Year</th>\n",
       "      <th>profitMargins</th>\n",
       "      <th>enterpriseToEbitda</th>\n",
       "      <th>52WeekChange</th>\n",
       "      <th>morningStarRiskRating</th>\n",
       "      <th>forwardEps</th>\n",
       "      <th>revenueQuarterlyGrowth</th>\n",
       "      <th>...</th>\n",
       "      <th>pegRatio</th>\n",
       "      <th>ytdReturn</th>\n",
       "      <th>forwardPE</th>\n",
       "      <th>maxAge</th>\n",
       "      <th>lastCapGain</th>\n",
       "      <th>shortPercentOfFloat</th>\n",
       "      <th>sharesShortPriorMonth</th>\n",
       "      <th>impliedSharesOutstanding</th>\n",
       "      <th>category</th>\n",
       "      <th>fiveYearAverageReturn</th>\n",
       "    </tr>\n",
       "  </thead>\n",
       "  <tbody>\n",
       "    <tr>\n",
       "      <th>0</th>\n",
       "      <td>MMM</td>\n",
       "      <td>NaN</td>\n",
       "      <td>3.049</td>\n",
       "      <td>NaN</td>\n",
       "      <td>0.16747</td>\n",
       "      <td>11.251</td>\n",
       "      <td>-0.045874</td>\n",
       "      <td>NaN</td>\n",
       "      <td>11.07</td>\n",
       "      <td>NaN</td>\n",
       "      <td>...</td>\n",
       "      <td>2.16</td>\n",
       "      <td>NaN</td>\n",
       "      <td>15.046975</td>\n",
       "      <td>1.0</td>\n",
       "      <td>NaN</td>\n",
       "      <td>0.0158</td>\n",
       "      <td>9415227.0</td>\n",
       "      <td>NaN</td>\n",
       "      <td>NaN</td>\n",
       "      <td>NaN</td>\n",
       "    </tr>\n",
       "    <tr>\n",
       "      <th>1</th>\n",
       "      <td>AOS</td>\n",
       "      <td>NaN</td>\n",
       "      <td>3.304</td>\n",
       "      <td>NaN</td>\n",
       "      <td>0.13764</td>\n",
       "      <td>17.009</td>\n",
       "      <td>0.320692</td>\n",
       "      <td>NaN</td>\n",
       "      <td>3.81</td>\n",
       "      <td>NaN</td>\n",
       "      <td>...</td>\n",
       "      <td>2.65</td>\n",
       "      <td>NaN</td>\n",
       "      <td>19.719160</td>\n",
       "      <td>1.0</td>\n",
       "      <td>NaN</td>\n",
       "      <td>0.0285</td>\n",
       "      <td>3352281.0</td>\n",
       "      <td>159162000.0</td>\n",
       "      <td>NaN</td>\n",
       "      <td>NaN</td>\n",
       "    </tr>\n",
       "    <tr>\n",
       "      <th>2</th>\n",
       "      <td>ABT</td>\n",
       "      <td>NaN</td>\n",
       "      <td>5.429</td>\n",
       "      <td>NaN</td>\n",
       "      <td>0.16416</td>\n",
       "      <td>18.245</td>\n",
       "      <td>0.058060</td>\n",
       "      <td>NaN</td>\n",
       "      <td>5.20</td>\n",
       "      <td>NaN</td>\n",
       "      <td>...</td>\n",
       "      <td>1.98</td>\n",
       "      <td>NaN</td>\n",
       "      <td>25.013464</td>\n",
       "      <td>1.0</td>\n",
       "      <td>NaN</td>\n",
       "      <td>0.0052</td>\n",
       "      <td>9684857.0</td>\n",
       "      <td>NaN</td>\n",
       "      <td>NaN</td>\n",
       "      <td>NaN</td>\n",
       "    </tr>\n",
       "    <tr>\n",
       "      <th>3</th>\n",
       "      <td>ABBV</td>\n",
       "      <td>NaN</td>\n",
       "      <td>5.632</td>\n",
       "      <td>NaN</td>\n",
       "      <td>0.13656</td>\n",
       "      <td>10.768</td>\n",
       "      <td>0.280972</td>\n",
       "      <td>NaN</td>\n",
       "      <td>13.99</td>\n",
       "      <td>NaN</td>\n",
       "      <td>...</td>\n",
       "      <td>2.28</td>\n",
       "      <td>NaN</td>\n",
       "      <td>9.839170</td>\n",
       "      <td>1.0</td>\n",
       "      <td>NaN</td>\n",
       "      <td>0.0081</td>\n",
       "      <td>15436235.0</td>\n",
       "      <td>NaN</td>\n",
       "      <td>NaN</td>\n",
       "      <td>NaN</td>\n",
       "    </tr>\n",
       "    <tr>\n",
       "      <th>4</th>\n",
       "      <td>ABMD</td>\n",
       "      <td>NaN</td>\n",
       "      <td>13.166</td>\n",
       "      <td>NaN</td>\n",
       "      <td>0.15319</td>\n",
       "      <td>44.482</td>\n",
       "      <td>-0.076265</td>\n",
       "      <td>NaN</td>\n",
       "      <td>4.91</td>\n",
       "      <td>NaN</td>\n",
       "      <td>...</td>\n",
       "      <td>7.00</td>\n",
       "      <td>NaN</td>\n",
       "      <td>62.142567</td>\n",
       "      <td>1.0</td>\n",
       "      <td>NaN</td>\n",
       "      <td>0.0257</td>\n",
       "      <td>1171896.0</td>\n",
       "      <td>NaN</td>\n",
       "      <td>NaN</td>\n",
       "      <td>NaN</td>\n",
       "    </tr>\n",
       "  </tbody>\n",
       "</table>\n",
       "<p>5 rows × 54 columns</p>\n",
       "</div>"
      ],
      "text/plain": [
       "  index  annualHoldingsTurnover  enterpriseToRevenue  beta3Year  \\\n",
       "0   MMM                     NaN                3.049        NaN   \n",
       "1   AOS                     NaN                3.304        NaN   \n",
       "2   ABT                     NaN                5.429        NaN   \n",
       "3  ABBV                     NaN                5.632        NaN   \n",
       "4  ABMD                     NaN               13.166        NaN   \n",
       "\n",
       "   profitMargins  enterpriseToEbitda  52WeekChange  morningStarRiskRating  \\\n",
       "0        0.16747              11.251     -0.045874                    NaN   \n",
       "1        0.13764              17.009      0.320692                    NaN   \n",
       "2        0.16416              18.245      0.058060                    NaN   \n",
       "3        0.13656              10.768      0.280972                    NaN   \n",
       "4        0.15319              44.482     -0.076265                    NaN   \n",
       "\n",
       "   forwardEps  revenueQuarterlyGrowth  ...  pegRatio ytdReturn  forwardPE  \\\n",
       "0       11.07                     NaN  ...      2.16       NaN  15.046975   \n",
       "1        3.81                     NaN  ...      2.65       NaN  19.719160   \n",
       "2        5.20                     NaN  ...      1.98       NaN  25.013464   \n",
       "3       13.99                     NaN  ...      2.28       NaN   9.839170   \n",
       "4        4.91                     NaN  ...      7.00       NaN  62.142567   \n",
       "\n",
       "   maxAge  lastCapGain  shortPercentOfFloat  sharesShortPriorMonth  \\\n",
       "0     1.0          NaN               0.0158              9415227.0   \n",
       "1     1.0          NaN               0.0285              3352281.0   \n",
       "2     1.0          NaN               0.0052              9684857.0   \n",
       "3     1.0          NaN               0.0081             15436235.0   \n",
       "4     1.0          NaN               0.0257              1171896.0   \n",
       "\n",
       "   impliedSharesOutstanding  category  fiveYearAverageReturn  \n",
       "0                       NaN       NaN                    NaN  \n",
       "1               159162000.0       NaN                    NaN  \n",
       "2                       NaN       NaN                    NaN  \n",
       "3                       NaN       NaN                    NaN  \n",
       "4                       NaN       NaN                    NaN  \n",
       "\n",
       "[5 rows x 54 columns]"
      ]
     },
     "execution_count": 78,
     "metadata": {},
     "output_type": "execute_result"
    }
   ],
   "source": [
    "df_from_folder.head()"
   ]
  },
  {
   "cell_type": "code",
   "execution_count": 27,
   "id": "ff8a23b3",
   "metadata": {},
   "outputs": [],
   "source": [
    "tick_example = ['AOS', 'ABT', 'ABBV']"
   ]
  },
  {
   "cell_type": "code",
   "execution_count": 28,
   "id": "d3f41802",
   "metadata": {},
   "outputs": [],
   "source": [
    "yahoo_example = YahooFinancials(tick_example)"
   ]
  },
  {
   "cell_type": "code",
   "execution_count": 33,
   "id": "1c882608",
   "metadata": {},
   "outputs": [],
   "source": [
    "example_dict = yahoo_example.get_key_statistics_data()"
   ]
  },
  {
   "cell_type": "code",
   "execution_count": 58,
   "id": "e942a1a6",
   "metadata": {},
   "outputs": [],
   "source": [
    "yahoo_dict = pd.DataFrame(example_dict)"
   ]
  },
  {
   "cell_type": "code",
   "execution_count": 62,
   "id": "abcaca48",
   "metadata": {},
   "outputs": [],
   "source": [
    "y = yahoo_dict.T.reset_index()"
   ]
  },
  {
   "cell_type": "code",
   "execution_count": 63,
   "id": "a5d89a01",
   "metadata": {},
   "outputs": [
    {
     "data": {
      "text/html": [
       "<div>\n",
       "<style scoped>\n",
       "    .dataframe tbody tr th:only-of-type {\n",
       "        vertical-align: middle;\n",
       "    }\n",
       "\n",
       "    .dataframe tbody tr th {\n",
       "        vertical-align: top;\n",
       "    }\n",
       "\n",
       "    .dataframe thead th {\n",
       "        text-align: right;\n",
       "    }\n",
       "</style>\n",
       "<table border=\"1\" class=\"dataframe\">\n",
       "  <thead>\n",
       "    <tr style=\"text-align: right;\">\n",
       "      <th></th>\n",
       "      <th>index</th>\n",
       "      <th>annualHoldingsTurnover</th>\n",
       "      <th>enterpriseToRevenue</th>\n",
       "      <th>beta3Year</th>\n",
       "      <th>profitMargins</th>\n",
       "      <th>enterpriseToEbitda</th>\n",
       "      <th>52WeekChange</th>\n",
       "      <th>morningStarRiskRating</th>\n",
       "      <th>forwardEps</th>\n",
       "      <th>revenueQuarterlyGrowth</th>\n",
       "      <th>...</th>\n",
       "      <th>pegRatio</th>\n",
       "      <th>ytdReturn</th>\n",
       "      <th>forwardPE</th>\n",
       "      <th>maxAge</th>\n",
       "      <th>lastCapGain</th>\n",
       "      <th>shortPercentOfFloat</th>\n",
       "      <th>sharesShortPriorMonth</th>\n",
       "      <th>impliedSharesOutstanding</th>\n",
       "      <th>category</th>\n",
       "      <th>fiveYearAverageReturn</th>\n",
       "    </tr>\n",
       "  </thead>\n",
       "  <tbody>\n",
       "    <tr>\n",
       "      <th>0</th>\n",
       "      <td>AOS</td>\n",
       "      <td>None</td>\n",
       "      <td>3.304</td>\n",
       "      <td>None</td>\n",
       "      <td>0.13764</td>\n",
       "      <td>17.009</td>\n",
       "      <td>0.320692</td>\n",
       "      <td>None</td>\n",
       "      <td>3.81</td>\n",
       "      <td>None</td>\n",
       "      <td>...</td>\n",
       "      <td>2.65</td>\n",
       "      <td>None</td>\n",
       "      <td>19.753283</td>\n",
       "      <td>1</td>\n",
       "      <td>None</td>\n",
       "      <td>0.0285</td>\n",
       "      <td>3352281</td>\n",
       "      <td>159162000</td>\n",
       "      <td>None</td>\n",
       "      <td>None</td>\n",
       "    </tr>\n",
       "    <tr>\n",
       "      <th>1</th>\n",
       "      <td>ABT</td>\n",
       "      <td>None</td>\n",
       "      <td>5.429</td>\n",
       "      <td>None</td>\n",
       "      <td>0.16416</td>\n",
       "      <td>18.245</td>\n",
       "      <td>0.05806</td>\n",
       "      <td>None</td>\n",
       "      <td>5.2</td>\n",
       "      <td>None</td>\n",
       "      <td>...</td>\n",
       "      <td>1.98</td>\n",
       "      <td>None</td>\n",
       "      <td>24.888462</td>\n",
       "      <td>1</td>\n",
       "      <td>None</td>\n",
       "      <td>0.0052</td>\n",
       "      <td>9684857</td>\n",
       "      <td>None</td>\n",
       "      <td>None</td>\n",
       "      <td>None</td>\n",
       "    </tr>\n",
       "    <tr>\n",
       "      <th>2</th>\n",
       "      <td>ABBV</td>\n",
       "      <td>None</td>\n",
       "      <td>5.632</td>\n",
       "      <td>None</td>\n",
       "      <td>0.13656</td>\n",
       "      <td>10.768</td>\n",
       "      <td>0.280972</td>\n",
       "      <td>None</td>\n",
       "      <td>13.99</td>\n",
       "      <td>None</td>\n",
       "      <td>...</td>\n",
       "      <td>2.28</td>\n",
       "      <td>None</td>\n",
       "      <td>9.802716</td>\n",
       "      <td>1</td>\n",
       "      <td>None</td>\n",
       "      <td>0.0081</td>\n",
       "      <td>15436235</td>\n",
       "      <td>None</td>\n",
       "      <td>None</td>\n",
       "      <td>None</td>\n",
       "    </tr>\n",
       "  </tbody>\n",
       "</table>\n",
       "<p>3 rows × 54 columns</p>\n",
       "</div>"
      ],
      "text/plain": [
       "  index annualHoldingsTurnover enterpriseToRevenue beta3Year profitMargins  \\\n",
       "0   AOS                   None               3.304      None       0.13764   \n",
       "1   ABT                   None               5.429      None       0.16416   \n",
       "2  ABBV                   None               5.632      None       0.13656   \n",
       "\n",
       "  enterpriseToEbitda 52WeekChange morningStarRiskRating forwardEps  \\\n",
       "0             17.009     0.320692                  None       3.81   \n",
       "1             18.245      0.05806                  None        5.2   \n",
       "2             10.768     0.280972                  None      13.99   \n",
       "\n",
       "  revenueQuarterlyGrowth  ... pegRatio ytdReturn  forwardPE maxAge  \\\n",
       "0                   None  ...     2.65      None  19.753283      1   \n",
       "1                   None  ...     1.98      None  24.888462      1   \n",
       "2                   None  ...     2.28      None   9.802716      1   \n",
       "\n",
       "  lastCapGain shortPercentOfFloat sharesShortPriorMonth  \\\n",
       "0        None              0.0285               3352281   \n",
       "1        None              0.0052               9684857   \n",
       "2        None              0.0081              15436235   \n",
       "\n",
       "  impliedSharesOutstanding category fiveYearAverageReturn  \n",
       "0                159162000     None                  None  \n",
       "1                     None     None                  None  \n",
       "2                     None     None                  None  \n",
       "\n",
       "[3 rows x 54 columns]"
      ]
     },
     "execution_count": 63,
     "metadata": {},
     "output_type": "execute_result"
    }
   ],
   "source": [
    "y.head()"
   ]
  },
  {
   "cell_type": "code",
   "execution_count": 83,
   "id": "9b6d126e",
   "metadata": {},
   "outputs": [],
   "source": [
    "columns = y.columns.to_list()"
   ]
  },
  {
   "cell_type": "code",
   "execution_count": 85,
   "id": "ef1633dc",
   "metadata": {},
   "outputs": [],
   "source": [
    "#columns"
   ]
  },
  {
   "cell_type": "markdown",
   "id": "c6df1df9",
   "metadata": {},
   "source": [
    "__ГИПОТЕЗА__: думаю, что все помеченное NONE обязательно есть в платной подписке yahoo finance. "
   ]
  },
  {
   "cell_type": "markdown",
   "id": "7e648def",
   "metadata": {},
   "source": [
    "`annualHoldingsTurnover` - годовой оборот компании (здесь NONE, подумать как добыть) \n",
    "\n",
    "`enterpriseToRevenue` мультипликатор [EV/R](https://smart-lab.ru/blog/552628.php) \n",
    "\n",
    "`beta3Year` - трехлетний показатель beta (устойчивость компании к изменениям на рынке - здесь NONE) \n",
    "\n",
    "`profitMargins` - величина прибыли \n",
    "\n",
    "`enterpriseToEbitda` - мультипликатор [EV/EBITDA](https://smart-lab.ru/blog/619139.php)\n",
    "\n",
    "`52WeekChange` изменение котировок за год\n",
    "\n",
    "`morningStarRiskRating` - звездный рейтинг, помогает инвесторам быстро определить средства для рассмотрения их портфелей (здесь - NONE)\n",
    "\n",
    "`forwardEps` - форвардный EPS\n",
    "\n",
    "`revenueQuarterlyGrowth` - квартальный рост прибыли (г/г)\n",
    "\n",
    "`sharesOutstanding` - акции в обращении\n",
    "\n",
    "`fundInceptionDate` - дата создания фонда, учитывается в расчетах по окупаемости\n",
    "\n",
    "`annualReportExpenseRatio` - годовые издержки (затраты за год)\n",
    "\n",
    "`totalAssets` - общие активы\n",
    " \n",
    "`bookValue` - балансовая стоимость\n",
    " \n",
    "`sharesShort` - (short interest ratio) - количество акций в коротких позициях к среднеторговому обороту этих акций\n",
    " \n",
    "`sharesPercentSharesOut` - процент акций вышедших из обращения\n",
    " \n",
    "`fundFamily` - семейные фонды. Независимые семейные фонды управляются инвестиционными компаниями. \n",
    " \n",
    "`lastFiscalYearEnd` - окончание налогового периода (декабрь или апрель)\n",
    " \n",
    "`heldPercentInstitutions` - процент акций, которые держат институциональные инвесторы\n",
    " \n",
    " `netIncomeToCommon` - [Net income applicable to common shares](https://www.thebalance.com/net-income-applicable-to-common-shares-357584) - чистая прибыль на обыкновенные акции\n",
    " \n",
    " `trailingEps` - прибыль на акцию, полученная за предыдущий календарный год\n",
    " \n",
    " `lastDividendValue` - величина последнего дивиденда\n",
    " \n",
    " `SandP52WeekChange`\n",
    " \n",
    " `priceToBook` - мультипликатор [P/B](https://smart-lab.ru/blog/544822.php)\n",
    " \n",
    " `heldPercentInsiders`\n",
    " \n",
    " `nextFiscalYearEnd` - окончание следующего налогового периода\n",
    " \n",
    " `yield`- доходность\n",
    " \n",
    " `mostRecentQuarter` - финансовый квартал, который закончился совсем недавно (термин MRQ)\n",
    " \n",
    " `shortRatio` - соотношение коротких позиций\n",
    " \n",
    " `sharesShortPreviousMonthDate` - соотношение коротких позиций к предыдущему месяцу\n",
    " \n",
    " `floatShares` - общее кол-во акций в свободном для торговли доступе\n",
    " \n",
    " `beta` - коэф. бета\n",
    " \n",
    " `enterpriseValue` - мультипликатор [EV](https://smart-lab.ru/blog/552628.php). показатель, который сообщает инвестору сколько необходимо суммарно заплатить за компанию, если бы ее чистый долг был бы равен 0. \n",
    " \n",
    " `priceHint` - __(tbd ???)__\n",
    " \n",
    " `threeYearAverageReturn` - средняя величина возврата за последние три года\n",
    " \n",
    " `lastSplitDate` - дата, когда проводился последний сплит акций\n",
    " \n",
    " `lastSplitFactor` - мультипликатор (???), который показывает в каком соотношении проводился последний сплит акций\n",
    " \n",
    " `legalType` - юр. тип\n",
    " \n",
    " `lastDividendDate` - дата последнего дивиденда\n",
    " \n",
    " `morningStarOverallRating` - полный рейтинг от Overall Star\n",
    " \n",
    " `earningsQuarterlyGrowth` - рост квартальной прибыли\n",
    " \n",
    " `priceToSalesTrailing12Months` - мультипликатор P/S за последние 12 месяцев\n",
    " \n",
    " `dateShortInterest` - дата последних сделок с короткими позициями (уточнить???)\n",
    " \n",
    " `pegRatio` - price to earning growth ration - коэффициент, который позволяет оценить степень недооцененности\\переоцененности компании\n",
    " \n",
    " `ytdReturn` - параметр, который показывает доходность акции, индекса или другого финансового инструмента с начала года по сегодняшний день\n",
    " \n",
    " `forwardPE` - форвардный P/E\n",
    " \n",
    " `maxAge` - __(tbd ???)__\n",
    " \n",
    " `lastCapGain` - прирост капитала за последний период\n",
    " \n",
    " `shortPercentOfFloat` - величина коротких позиций к величине свободно обращающихся акций\n",
    " \n",
    " `sharesShortPriorMonth` - кол-во акций в коротких позициях за последний месяц\n",
    " \n",
    "`impliedSharesOutstanding` - кол-во акций в обращении\n",
    " \n",
    "`category` - категория (???)\n",
    " \n",
    "`fiveYearAverageReturn` - средняя величина возврата за последние 5 лет"
   ]
  },
  {
   "cell_type": "code",
   "execution_count": 90,
   "id": "95c66c0a",
   "metadata": {},
   "outputs": [],
   "source": [
    "yahoo_tickers_interest_expense = yahoo_tickers.get_interest_expense()\n",
    "yahoo_tickers_operating_income = yahoo_tickers.get_operating_income()\n",
    "yahoo_tickers_total_operating_expens = yahoo_tickers.get_total_operating_expense()"
   ]
  },
  {
   "cell_type": "code",
   "execution_count": 122,
   "id": "3cf0bc98",
   "metadata": {},
   "outputs": [],
   "source": [
    "spam = 'get_total_revenue()'"
   ]
  },
  {
   "cell_type": "code",
   "execution_count": 129,
   "id": "067ae676",
   "metadata": {},
   "outputs": [
    {
     "data": {
      "text/plain": [
       "'a = yahoo_tickers.get_total_revenue()'"
      ]
     },
     "execution_count": 129,
     "metadata": {},
     "output_type": "execute_result"
    }
   ],
   "source": [
    "f'a = yahoo_tickers.{spam}'"
   ]
  },
  {
   "cell_type": "code",
   "execution_count": 134,
   "id": "02b61d78",
   "metadata": {},
   "outputs": [
    {
     "data": {
      "text/plain": [
       "'yahoo_tickers.get_total_revenue()'"
      ]
     },
     "execution_count": 134,
     "metadata": {},
     "output_type": "execute_result"
    }
   ],
   "source": [
    "a.strip().strip()"
   ]
  },
  {
   "cell_type": "code",
   "execution_count": 149,
   "id": "98a61cf9",
   "metadata": {},
   "outputs": [],
   "source": [
    "spam2 = ['get_total_revenue()', 'get_cost_of_revenue()', 'get_income_before_tax()']"
   ]
  },
  {
   "cell_type": "code",
   "execution_count": 150,
   "id": "83763405",
   "metadata": {},
   "outputs": [],
   "source": [
    "spam_tickers=[]"
   ]
  },
  {
   "cell_type": "code",
   "execution_count": 151,
   "id": "edcaba98",
   "metadata": {},
   "outputs": [],
   "source": [
    "for i in range(len(spam2)):\n",
    "    spam_i = f'yahoo_tickers.{spam2[i]}'\n",
    "    spam_tickers.append(spam_i)"
   ]
  },
  {
   "cell_type": "code",
   "execution_count": 153,
   "id": "dc0c69d7",
   "metadata": {},
   "outputs": [
    {
     "data": {
      "text/plain": [
       "'yahoo_tickers.get_total_revenue()'"
      ]
     },
     "execution_count": 153,
     "metadata": {},
     "output_type": "execute_result"
    }
   ],
   "source": [
    "spam_tickers[0].strip()"
   ]
  },
  {
   "cell_type": "markdown",
   "id": "cfda45d1",
   "metadata": {},
   "source": [
    "Какие еще данные нам было бы интересно стащить из библиотеки? "
   ]
  },
  {
   "cell_type": "code",
   "execution_count": 155,
   "id": "c9e2847c",
   "metadata": {},
   "outputs": [],
   "source": [
    "yahoo_tickers_get_total_revenue = yahoo_tickers.get_total_revenue()\n",
    "yahoo_tickers_get_cost_of_revenue = yahoo_tickers.get_cost_of_revenue()\n",
    "yahoo_tickers_get_income_before_tax = yahoo_tickers.get_income_before_tax()\n",
    "yahoo_tickers_get_income_tax_expense = yahoo_tickers.get_income_tax_expense()\n",
    "\n",
    "yahoo_tickers_get_gross_profit = yahoo_tickers.get_gross_profit()\n",
    "yahoo_tickers_get_net_income_from_continuing_ops = yahoo_tickers.get_net_income_from_continuing_ops()\n",
    "yahoo_tickers_get_research_and_development = yahoo_tickers.get_research_and_development()\n",
    "yahoo_tickers_get_current_price = yahoo_tickers.get_current_price()\n",
    "yahoo_tickers_get_current_change = yahoo_tickers.get_current_change()\n",
    "yahoo_tickers_get_current_percent_change = yahoo_tickers.get_current_percent_change()\n",
    "yahoo_tickers_get_current_volume = yahoo_tickers.get_current_volume()\n",
    "yahoo_tickers_get_prev_close_price = yahoo_tickers.get_prev_close_price()\n",
    "yahoo_tickers_get_open_price = yahoo_tickers.get_open_price()\n",
    "yahoo_tickers_get_ten_day_avg_daily_volume = yahoo_tickers.get_ten_day_avg_daily_volume()\n",
    "yahoo_tickers_get_three_month_avg_daily_volume = yahoo_tickers.get_three_month_avg_daily_volume()\n",
    "yahoo_tickers_get_stock_exchange = yahoo_tickers.get_stock_exchange()\n",
    "yahoo_tickers_get_market_cap = yahoo_tickers.get_market_cap()\n",
    "yahoo_tickers_get_daily_low = yahoo_tickers.get_daily_low()\n",
    "yahoo_tickers_get_daily_high = yahoo_tickers.get_daily_high()\n",
    "yahoo_tickers_get_yearly_high = yahoo_tickers.get_yearly_high()\n",
    "yahoo_tickers_get_yearly_low = yahoo_tickers.get_yearly_low()\n",
    "yahoo_tickers_get_dividend_yield = yahoo_tickers.get_dividend_yield()\n",
    "yahoo_tickers_get_annual_avg_div_yield = yahoo_tickers.get_annual_avg_div_yield()\n",
    "yahoo_tickers_get_five_yr_avg_div_yield = yahoo_tickers.get_five_yr_avg_div_yield()\n",
    "yahoo_tickers_get_dividend_rate = yahoo_tickers.get_dividend_rate()\n",
    "yahoo_tickers_get_annual_avg_div_rate = yahoo_tickers.get_annual_avg_div_rate()\n",
    "yahoo_tickers_get_50day_moving_avg = yahoo_tickers.get_50day_moving_avg()\n",
    "yahoo_tickers_get_200day_moving_avg = yahoo_tickers.get_200day_moving_avg()\n",
    "yahoo_tickers_get_beta = yahoo_tickers.get_beta()\n",
    "yahoo_tickers_get_payout_ratio = yahoo_tickers.get_payout_ratio()\n",
    "yahoo_tickers_get_pe_ratio = yahoo_tickers.get_pe_ratio()\n",
    "yahoo_tickers_get_price_to_sales = yahoo_tickers.get_price_to_sales()\n",
    "yahoo_tickers_get_exdividend_date = yahoo_tickers.get_exdividend_date()\n",
    "yahoo_tickers_get_ebit = yahoo_tickers.get_ebit()\n",
    "yahoo_tickers_get_net_income = yahoo_tickers.get_net_income()\n",
    "yahoo_tickers_get_earnings_per_share = yahoo_tickers.get_earnings_per_share()"
   ]
  },
  {
   "cell_type": "code",
   "execution_count": null,
   "id": "5302b879",
   "metadata": {},
   "outputs": [],
   "source": []
  },
  {
   "cell_type": "code",
   "execution_count": null,
   "id": "7fd2c72f",
   "metadata": {},
   "outputs": [],
   "source": []
  }
 ],
 "metadata": {
  "kernelspec": {
   "display_name": "Python 3",
   "language": "python",
   "name": "python3"
  },
  "language_info": {
   "codemirror_mode": {
    "name": "ipython",
    "version": 3
   },
   "file_extension": ".py",
   "mimetype": "text/x-python",
   "name": "python",
   "nbconvert_exporter": "python",
   "pygments_lexer": "ipython3",
   "version": "3.9.6"
  }
 },
 "nbformat": 4,
 "nbformat_minor": 5
}
