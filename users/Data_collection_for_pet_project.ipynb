{
 "cells": [
  {
   "cell_type": "code",
   "execution_count": 1,
   "id": "8d26782d",
   "metadata": {},
   "outputs": [],
   "source": [
    "import numpy as np \n",
    "import pandas as pd\n",
    "import matplotlib as plt"
   ]
  },
  {
   "cell_type": "markdown",
   "id": "529f9fa5",
   "metadata": {},
   "source": [
    "__Создание искусственного датасета на основе данных [Tinkoff](https://vc.ru/tinkoff_invest/257662-molodye-i-derzkie-tinkoff-investicii-sostavili-portret-novogo-millionera)__"
   ]
  },
  {
   "cell_type": "markdown",
   "id": "456bffe4",
   "metadata": {},
   "source": [
    "__Шаг 1. Заводим искусственных юзеров__"
   ]
  },
  {
   "cell_type": "code",
   "execution_count": 2,
   "id": "9c6e68b0",
   "metadata": {},
   "outputs": [],
   "source": [
    "id_list = np.arange(1, 100001, 1)"
   ]
  },
  {
   "cell_type": "code",
   "execution_count": 3,
   "id": "8b03ee18",
   "metadata": {},
   "outputs": [
    {
     "data": {
      "text/plain": [
       "array([     1,      2,      3, ...,  99998,  99999, 100000])"
      ]
     },
     "execution_count": 3,
     "metadata": {},
     "output_type": "execute_result"
    }
   ],
   "source": [
    "id_list"
   ]
  },
  {
   "cell_type": "code",
   "execution_count": 4,
   "id": "829eb5f0",
   "metadata": {},
   "outputs": [],
   "source": [
    "# 100 000 юзеров - вполне достаточно. \n",
    "# Строчка ниже - распределение по гендерному признаку."
   ]
  },
  {
   "cell_type": "code",
   "execution_count": 5,
   "id": "5d6a7b7a",
   "metadata": {},
   "outputs": [],
   "source": [
    "men_per = 0.866\n",
    "women_per = 0.134"
   ]
  },
  {
   "cell_type": "code",
   "execution_count": 6,
   "id": "83e31bc4",
   "metadata": {},
   "outputs": [],
   "source": [
    "shape = len(id_list)"
   ]
  },
  {
   "cell_type": "code",
   "execution_count": 7,
   "id": "fe5841a5",
   "metadata": {},
   "outputs": [
    {
     "data": {
      "text/plain": [
       "100000"
      ]
     },
     "execution_count": 7,
     "metadata": {},
     "output_type": "execute_result"
    }
   ],
   "source": [
    "shape"
   ]
  },
  {
   "cell_type": "code",
   "execution_count": 8,
   "id": "ad591d22",
   "metadata": {},
   "outputs": [],
   "source": [
    "percentile = [men_per, women_per]"
   ]
  },
  {
   "cell_type": "markdown",
   "id": "54dd7069",
   "metadata": {},
   "source": [
    "__SEX__"
   ]
  },
  {
   "cell_type": "code",
   "execution_count": 9,
   "id": "d73042d0",
   "metadata": {},
   "outputs": [],
   "source": [
    "sex_value = [1, 0]"
   ]
  },
  {
   "cell_type": "code",
   "execution_count": 10,
   "id": "91efd1e6",
   "metadata": {},
   "outputs": [],
   "source": [
    "data = dict()"
   ]
  },
  {
   "cell_type": "code",
   "execution_count": 11,
   "id": "5ab3e76c",
   "metadata": {},
   "outputs": [],
   "source": [
    "for i in range(len(id_list)): \n",
    "    data[id_list[i]] = np.random.choice(sex_value, p=percentile)"
   ]
  },
  {
   "cell_type": "code",
   "execution_count": 12,
   "id": "9684d788",
   "metadata": {},
   "outputs": [],
   "source": [
    "ser = pd.Series(data)"
   ]
  },
  {
   "cell_type": "code",
   "execution_count": 13,
   "id": "1b0ad41c",
   "metadata": {},
   "outputs": [
    {
     "data": {
      "text/plain": [
       "1         1\n",
       "2         1\n",
       "3         1\n",
       "4         1\n",
       "5         1\n",
       "         ..\n",
       "99996     1\n",
       "99997     1\n",
       "99998     1\n",
       "99999     1\n",
       "100000    1\n",
       "Length: 100000, dtype: int64"
      ]
     },
     "execution_count": 13,
     "metadata": {},
     "output_type": "execute_result"
    }
   ],
   "source": [
    "ser"
   ]
  },
  {
   "cell_type": "markdown",
   "id": "66c6907c",
   "metadata": {},
   "source": [
    "__HEIGHT__"
   ]
  },
  {
   "cell_type": "code",
   "execution_count": 14,
   "id": "35fb5623",
   "metadata": {},
   "outputs": [],
   "source": [
    "# распределение по возрастному признаку. "
   ]
  },
  {
   "cell_type": "code",
   "execution_count": 15,
   "id": "23da06ef",
   "metadata": {},
   "outputs": [],
   "source": [
    "general_height = ['18-28', '28-38', '38-48', '48+']"
   ]
  },
  {
   "cell_type": "code",
   "execution_count": 16,
   "id": "3c904d00",
   "metadata": {},
   "outputs": [],
   "source": [
    "height_percent = [0.037, 0.365, 0.389, 0.209]"
   ]
  },
  {
   "cell_type": "code",
   "execution_count": 17,
   "id": "b030da40",
   "metadata": {},
   "outputs": [],
   "source": [
    "for i in range(len(id_list)): \n",
    "    data[id_list[i]] = np.random.choice(general_height, p=height_percent)"
   ]
  },
  {
   "cell_type": "code",
   "execution_count": 18,
   "id": "74e8d072",
   "metadata": {},
   "outputs": [],
   "source": [
    "ser2 = pd.Series(data)"
   ]
  },
  {
   "cell_type": "code",
   "execution_count": 19,
   "id": "c7e1e193",
   "metadata": {},
   "outputs": [],
   "source": [
    "df = pd.DataFrame({'sex': ser, 'height': ser2})"
   ]
  },
  {
   "cell_type": "code",
   "execution_count": 20,
   "id": "f8990757",
   "metadata": {},
   "outputs": [
    {
     "data": {
      "text/html": [
       "<div>\n",
       "<style scoped>\n",
       "    .dataframe tbody tr th:only-of-type {\n",
       "        vertical-align: middle;\n",
       "    }\n",
       "\n",
       "    .dataframe tbody tr th {\n",
       "        vertical-align: top;\n",
       "    }\n",
       "\n",
       "    .dataframe thead th {\n",
       "        text-align: right;\n",
       "    }\n",
       "</style>\n",
       "<table border=\"1\" class=\"dataframe\">\n",
       "  <thead>\n",
       "    <tr style=\"text-align: right;\">\n",
       "      <th></th>\n",
       "      <th>sex</th>\n",
       "      <th>height</th>\n",
       "    </tr>\n",
       "  </thead>\n",
       "  <tbody>\n",
       "    <tr>\n",
       "      <th>1</th>\n",
       "      <td>1</td>\n",
       "      <td>28-38</td>\n",
       "    </tr>\n",
       "    <tr>\n",
       "      <th>2</th>\n",
       "      <td>1</td>\n",
       "      <td>38-48</td>\n",
       "    </tr>\n",
       "    <tr>\n",
       "      <th>3</th>\n",
       "      <td>1</td>\n",
       "      <td>38-48</td>\n",
       "    </tr>\n",
       "    <tr>\n",
       "      <th>4</th>\n",
       "      <td>1</td>\n",
       "      <td>48+</td>\n",
       "    </tr>\n",
       "    <tr>\n",
       "      <th>5</th>\n",
       "      <td>1</td>\n",
       "      <td>28-38</td>\n",
       "    </tr>\n",
       "  </tbody>\n",
       "</table>\n",
       "</div>"
      ],
      "text/plain": [
       "   sex height\n",
       "1    1  28-38\n",
       "2    1  38-48\n",
       "3    1  38-48\n",
       "4    1    48+\n",
       "5    1  28-38"
      ]
     },
     "execution_count": 20,
     "metadata": {},
     "output_type": "execute_result"
    }
   ],
   "source": [
    "df.head()"
   ]
  },
  {
   "cell_type": "code",
   "execution_count": 21,
   "id": "bcd4cddb",
   "metadata": {},
   "outputs": [
    {
     "data": {
      "text/plain": [
       "1    86643\n",
       "0    13357\n",
       "Name: sex, dtype: int64"
      ]
     },
     "execution_count": 21,
     "metadata": {},
     "output_type": "execute_result"
    }
   ],
   "source": [
    "df.sex.value_counts()"
   ]
  },
  {
   "cell_type": "code",
   "execution_count": 22,
   "id": "6e7d7891",
   "metadata": {},
   "outputs": [
    {
     "data": {
      "text/plain": [
       "38-48    38932\n",
       "28-38    36592\n",
       "48+      20729\n",
       "18-28     3747\n",
       "Name: height, dtype: int64"
      ]
     },
     "execution_count": 22,
     "metadata": {},
     "output_type": "execute_result"
    }
   ],
   "source": [
    "df.height.value_counts()"
   ]
  },
  {
   "cell_type": "code",
   "execution_count": 23,
   "id": "7fe8b759",
   "metadata": {},
   "outputs": [],
   "source": [
    "#Комментарий: ну что же, реверс-инжиниринг данных хорошо идет, двигаемся дальше..."
   ]
  },
  {
   "cell_type": "markdown",
   "id": "1cda9f73",
   "metadata": {},
   "source": [
    "__Marital status__"
   ]
  },
  {
   "cell_type": "code",
   "execution_count": 24,
   "id": "60c59ffc",
   "metadata": {},
   "outputs": [],
   "source": [
    "status = ['married', 'not_married']"
   ]
  },
  {
   "cell_type": "code",
   "execution_count": 25,
   "id": "8edf6fd2",
   "metadata": {},
   "outputs": [],
   "source": [
    "status_percent = [0.55, 0.45]"
   ]
  },
  {
   "cell_type": "code",
   "execution_count": 26,
   "id": "6f282b09",
   "metadata": {},
   "outputs": [],
   "source": [
    "# для простоты работы создадим функцию, которая будет принимать список из вероятностей признака (prob_feature) и \n",
    "# сам признак (feature_list), а также id_list.\n",
    "\n",
    "# Оставим поэтапную обработку добора фичей, чтобы вслучае каких-либо обстоятельств мы могли добавить или удалить признак."
   ]
  },
  {
   "cell_type": "code",
   "execution_count": 31,
   "id": "121842f0",
   "metadata": {},
   "outputs": [],
   "source": [
    "def get_series(feature_list, prob_feature, id_feature_list): \n",
    "    \n",
    "    \"\"\"\"\n",
    "    \n",
    "    feture_list -> (List) - Данные признака, который хотим восстановить\n",
    "    prob_feature -> (List) - Вероятность этого признака\n",
    "    id_feature_list -> (List) - id_list синтетических юзеров\n",
    "    \n",
    "    \"\"\"\n",
    "    \n",
    "    data = dict()\n",
    "    for i in range(len(id_feature_list)): \n",
    "        data[id_feature_list[i]] = np.random.choice(feature_list, p=prob_feature)\n",
    "    ser_feature = pd.Series(data)\n",
    "    \n",
    "    return ser_feature"
   ]
  },
  {
   "cell_type": "code",
   "execution_count": 32,
   "id": "8af98d7b",
   "metadata": {},
   "outputs": [],
   "source": [
    "mar_status = get_series(status, status_percent, id_list)"
   ]
  },
  {
   "cell_type": "code",
   "execution_count": 33,
   "id": "3cb5fe9e",
   "metadata": {},
   "outputs": [],
   "source": [
    "df['marital_status'] = mar_status"
   ]
  },
  {
   "cell_type": "code",
   "execution_count": 34,
   "id": "816bcb4e",
   "metadata": {},
   "outputs": [
    {
     "data": {
      "text/html": [
       "<div>\n",
       "<style scoped>\n",
       "    .dataframe tbody tr th:only-of-type {\n",
       "        vertical-align: middle;\n",
       "    }\n",
       "\n",
       "    .dataframe tbody tr th {\n",
       "        vertical-align: top;\n",
       "    }\n",
       "\n",
       "    .dataframe thead th {\n",
       "        text-align: right;\n",
       "    }\n",
       "</style>\n",
       "<table border=\"1\" class=\"dataframe\">\n",
       "  <thead>\n",
       "    <tr style=\"text-align: right;\">\n",
       "      <th></th>\n",
       "      <th>sex</th>\n",
       "      <th>height</th>\n",
       "      <th>marital_status</th>\n",
       "    </tr>\n",
       "  </thead>\n",
       "  <tbody>\n",
       "    <tr>\n",
       "      <th>1</th>\n",
       "      <td>1</td>\n",
       "      <td>28-38</td>\n",
       "      <td>married</td>\n",
       "    </tr>\n",
       "    <tr>\n",
       "      <th>2</th>\n",
       "      <td>1</td>\n",
       "      <td>38-48</td>\n",
       "      <td>not_married</td>\n",
       "    </tr>\n",
       "    <tr>\n",
       "      <th>3</th>\n",
       "      <td>1</td>\n",
       "      <td>38-48</td>\n",
       "      <td>married</td>\n",
       "    </tr>\n",
       "    <tr>\n",
       "      <th>4</th>\n",
       "      <td>1</td>\n",
       "      <td>48+</td>\n",
       "      <td>not_married</td>\n",
       "    </tr>\n",
       "    <tr>\n",
       "      <th>5</th>\n",
       "      <td>1</td>\n",
       "      <td>28-38</td>\n",
       "      <td>married</td>\n",
       "    </tr>\n",
       "  </tbody>\n",
       "</table>\n",
       "</div>"
      ],
      "text/plain": [
       "   sex height marital_status\n",
       "1    1  28-38        married\n",
       "2    1  38-48    not_married\n",
       "3    1  38-48        married\n",
       "4    1    48+    not_married\n",
       "5    1  28-38        married"
      ]
     },
     "execution_count": 34,
     "metadata": {},
     "output_type": "execute_result"
    }
   ],
   "source": [
    "df.head()"
   ]
  },
  {
   "cell_type": "code",
   "execution_count": 35,
   "id": "6e6aa3d3",
   "metadata": {},
   "outputs": [
    {
     "data": {
      "text/plain": [
       "married        54827\n",
       "not_married    45173\n",
       "Name: marital_status, dtype: int64"
      ]
     },
     "execution_count": 35,
     "metadata": {},
     "output_type": "execute_result"
    }
   ],
   "source": [
    "#как всегда проверяем сами себя: \n",
    "df.marital_status.value_counts()"
   ]
  },
  {
   "cell_type": "markdown",
   "id": "b007bedb",
   "metadata": {},
   "source": [
    "__Education__"
   ]
  },
  {
   "cell_type": "code",
   "execution_count": 36,
   "id": "ed52f0b6",
   "metadata": {},
   "outputs": [],
   "source": [
    "education = ['high_education', 'medium_education', 'second_high_education', 'academic_credential']\n",
    "education_percent = [0.8, 0.06, 0.11, 0.03]"
   ]
  },
  {
   "cell_type": "code",
   "execution_count": 37,
   "id": "5d5e6892",
   "metadata": {},
   "outputs": [],
   "source": [
    "education_status = get_series(education, education_percent, id_list)"
   ]
  },
  {
   "cell_type": "code",
   "execution_count": 38,
   "id": "ba5a957a",
   "metadata": {},
   "outputs": [],
   "source": [
    "df['education_status'] = education_status"
   ]
  },
  {
   "cell_type": "code",
   "execution_count": 39,
   "id": "962bd994",
   "metadata": {},
   "outputs": [
    {
     "data": {
      "text/html": [
       "<div>\n",
       "<style scoped>\n",
       "    .dataframe tbody tr th:only-of-type {\n",
       "        vertical-align: middle;\n",
       "    }\n",
       "\n",
       "    .dataframe tbody tr th {\n",
       "        vertical-align: top;\n",
       "    }\n",
       "\n",
       "    .dataframe thead th {\n",
       "        text-align: right;\n",
       "    }\n",
       "</style>\n",
       "<table border=\"1\" class=\"dataframe\">\n",
       "  <thead>\n",
       "    <tr style=\"text-align: right;\">\n",
       "      <th></th>\n",
       "      <th>sex</th>\n",
       "      <th>height</th>\n",
       "      <th>marital_status</th>\n",
       "      <th>education_status</th>\n",
       "    </tr>\n",
       "  </thead>\n",
       "  <tbody>\n",
       "    <tr>\n",
       "      <th>1</th>\n",
       "      <td>1</td>\n",
       "      <td>28-38</td>\n",
       "      <td>married</td>\n",
       "      <td>high_education</td>\n",
       "    </tr>\n",
       "    <tr>\n",
       "      <th>2</th>\n",
       "      <td>1</td>\n",
       "      <td>38-48</td>\n",
       "      <td>not_married</td>\n",
       "      <td>high_education</td>\n",
       "    </tr>\n",
       "    <tr>\n",
       "      <th>3</th>\n",
       "      <td>1</td>\n",
       "      <td>38-48</td>\n",
       "      <td>married</td>\n",
       "      <td>high_education</td>\n",
       "    </tr>\n",
       "    <tr>\n",
       "      <th>4</th>\n",
       "      <td>1</td>\n",
       "      <td>48+</td>\n",
       "      <td>not_married</td>\n",
       "      <td>high_education</td>\n",
       "    </tr>\n",
       "    <tr>\n",
       "      <th>5</th>\n",
       "      <td>1</td>\n",
       "      <td>28-38</td>\n",
       "      <td>married</td>\n",
       "      <td>high_education</td>\n",
       "    </tr>\n",
       "  </tbody>\n",
       "</table>\n",
       "</div>"
      ],
      "text/plain": [
       "   sex height marital_status education_status\n",
       "1    1  28-38        married   high_education\n",
       "2    1  38-48    not_married   high_education\n",
       "3    1  38-48        married   high_education\n",
       "4    1    48+    not_married   high_education\n",
       "5    1  28-38        married   high_education"
      ]
     },
     "execution_count": 39,
     "metadata": {},
     "output_type": "execute_result"
    }
   ],
   "source": [
    "df.head()"
   ]
  },
  {
   "cell_type": "code",
   "execution_count": 40,
   "id": "827e2d45",
   "metadata": {},
   "outputs": [
    {
     "data": {
      "text/plain": [
       "high_education           79731\n",
       "second_high_education    11212\n",
       "medium_education          6031\n",
       "academic_credential       3026\n",
       "Name: education_status, dtype: int64"
      ]
     },
     "execution_count": 40,
     "metadata": {},
     "output_type": "execute_result"
    }
   ],
   "source": [
    "df.education_status.value_counts()"
   ]
  },
  {
   "cell_type": "markdown",
   "id": "01c802ea",
   "metadata": {},
   "source": [
    "__Children__"
   ]
  },
  {
   "cell_type": "code",
   "execution_count": 41,
   "id": "5e9d456d",
   "metadata": {},
   "outputs": [],
   "source": [
    "child = ['children', 'no_children']"
   ]
  },
  {
   "cell_type": "code",
   "execution_count": 42,
   "id": "67db9843",
   "metadata": {},
   "outputs": [],
   "source": [
    "children_percent = [0.5, 0.5]"
   ]
  },
  {
   "cell_type": "code",
   "execution_count": 43,
   "id": "4b42e29d",
   "metadata": {},
   "outputs": [],
   "source": [
    "children_status = get_series(child, children_percent, id_list)"
   ]
  },
  {
   "cell_type": "code",
   "execution_count": 44,
   "id": "584c2427",
   "metadata": {},
   "outputs": [],
   "source": [
    "df['children_status'] = children_status"
   ]
  },
  {
   "cell_type": "code",
   "execution_count": 45,
   "id": "8a1c397e",
   "metadata": {},
   "outputs": [
    {
     "data": {
      "text/html": [
       "<div>\n",
       "<style scoped>\n",
       "    .dataframe tbody tr th:only-of-type {\n",
       "        vertical-align: middle;\n",
       "    }\n",
       "\n",
       "    .dataframe tbody tr th {\n",
       "        vertical-align: top;\n",
       "    }\n",
       "\n",
       "    .dataframe thead th {\n",
       "        text-align: right;\n",
       "    }\n",
       "</style>\n",
       "<table border=\"1\" class=\"dataframe\">\n",
       "  <thead>\n",
       "    <tr style=\"text-align: right;\">\n",
       "      <th></th>\n",
       "      <th>sex</th>\n",
       "      <th>height</th>\n",
       "      <th>marital_status</th>\n",
       "      <th>education_status</th>\n",
       "      <th>children_status</th>\n",
       "    </tr>\n",
       "  </thead>\n",
       "  <tbody>\n",
       "    <tr>\n",
       "      <th>1</th>\n",
       "      <td>1</td>\n",
       "      <td>28-38</td>\n",
       "      <td>married</td>\n",
       "      <td>high_education</td>\n",
       "      <td>children</td>\n",
       "    </tr>\n",
       "    <tr>\n",
       "      <th>2</th>\n",
       "      <td>1</td>\n",
       "      <td>38-48</td>\n",
       "      <td>not_married</td>\n",
       "      <td>high_education</td>\n",
       "      <td>children</td>\n",
       "    </tr>\n",
       "    <tr>\n",
       "      <th>3</th>\n",
       "      <td>1</td>\n",
       "      <td>38-48</td>\n",
       "      <td>married</td>\n",
       "      <td>high_education</td>\n",
       "      <td>no_children</td>\n",
       "    </tr>\n",
       "    <tr>\n",
       "      <th>4</th>\n",
       "      <td>1</td>\n",
       "      <td>48+</td>\n",
       "      <td>not_married</td>\n",
       "      <td>high_education</td>\n",
       "      <td>children</td>\n",
       "    </tr>\n",
       "    <tr>\n",
       "      <th>5</th>\n",
       "      <td>1</td>\n",
       "      <td>28-38</td>\n",
       "      <td>married</td>\n",
       "      <td>high_education</td>\n",
       "      <td>no_children</td>\n",
       "    </tr>\n",
       "  </tbody>\n",
       "</table>\n",
       "</div>"
      ],
      "text/plain": [
       "   sex height marital_status education_status children_status\n",
       "1    1  28-38        married   high_education        children\n",
       "2    1  38-48    not_married   high_education        children\n",
       "3    1  38-48        married   high_education     no_children\n",
       "4    1    48+    not_married   high_education        children\n",
       "5    1  28-38        married   high_education     no_children"
      ]
     },
     "execution_count": 45,
     "metadata": {},
     "output_type": "execute_result"
    }
   ],
   "source": [
    "df.head()"
   ]
  },
  {
   "cell_type": "code",
   "execution_count": 46,
   "id": "6293496e",
   "metadata": {},
   "outputs": [
    {
     "data": {
      "text/plain": [
       "children       50058\n",
       "no_children    49942\n",
       "Name: children_status, dtype: int64"
      ]
     },
     "execution_count": 46,
     "metadata": {},
     "output_type": "execute_result"
    }
   ],
   "source": [
    "df.children_status.value_counts()"
   ]
  },
  {
   "cell_type": "markdown",
   "id": "cae8eab3",
   "metadata": {},
   "source": [
    "__Risk profile__ "
   ]
  },
  {
   "cell_type": "code",
   "execution_count": 47,
   "id": "521ae419",
   "metadata": {},
   "outputs": [],
   "source": [
    "# Уровень риска, который указывает инвестор в анкете. "
   ]
  },
  {
   "cell_type": "code",
   "execution_count": 48,
   "id": "c48ea9c5",
   "metadata": {},
   "outputs": [],
   "source": [
    "risk_profile = ['high_risk', 'medium_risk', 'low_risk']"
   ]
  },
  {
   "cell_type": "code",
   "execution_count": 49,
   "id": "9276afb3",
   "metadata": {},
   "outputs": [],
   "source": [
    "risk_percent = [0.6, 0.36, 0.04]"
   ]
  },
  {
   "cell_type": "code",
   "execution_count": 50,
   "id": "1a8a8263",
   "metadata": {},
   "outputs": [],
   "source": [
    "risk_status = get_series(risk_profile, risk_percent, id_list)"
   ]
  },
  {
   "cell_type": "code",
   "execution_count": 51,
   "id": "8ad866ba",
   "metadata": {},
   "outputs": [],
   "source": [
    "df['risk_status'] = risk_status"
   ]
  },
  {
   "cell_type": "code",
   "execution_count": 52,
   "id": "5cefe72c",
   "metadata": {},
   "outputs": [
    {
     "data": {
      "text/html": [
       "<div>\n",
       "<style scoped>\n",
       "    .dataframe tbody tr th:only-of-type {\n",
       "        vertical-align: middle;\n",
       "    }\n",
       "\n",
       "    .dataframe tbody tr th {\n",
       "        vertical-align: top;\n",
       "    }\n",
       "\n",
       "    .dataframe thead th {\n",
       "        text-align: right;\n",
       "    }\n",
       "</style>\n",
       "<table border=\"1\" class=\"dataframe\">\n",
       "  <thead>\n",
       "    <tr style=\"text-align: right;\">\n",
       "      <th></th>\n",
       "      <th>sex</th>\n",
       "      <th>height</th>\n",
       "      <th>marital_status</th>\n",
       "      <th>education_status</th>\n",
       "      <th>children_status</th>\n",
       "      <th>risk_status</th>\n",
       "    </tr>\n",
       "  </thead>\n",
       "  <tbody>\n",
       "    <tr>\n",
       "      <th>1</th>\n",
       "      <td>1</td>\n",
       "      <td>28-38</td>\n",
       "      <td>married</td>\n",
       "      <td>high_education</td>\n",
       "      <td>children</td>\n",
       "      <td>medium_risk</td>\n",
       "    </tr>\n",
       "    <tr>\n",
       "      <th>2</th>\n",
       "      <td>1</td>\n",
       "      <td>38-48</td>\n",
       "      <td>not_married</td>\n",
       "      <td>high_education</td>\n",
       "      <td>children</td>\n",
       "      <td>high_risk</td>\n",
       "    </tr>\n",
       "    <tr>\n",
       "      <th>3</th>\n",
       "      <td>1</td>\n",
       "      <td>38-48</td>\n",
       "      <td>married</td>\n",
       "      <td>high_education</td>\n",
       "      <td>no_children</td>\n",
       "      <td>high_risk</td>\n",
       "    </tr>\n",
       "    <tr>\n",
       "      <th>4</th>\n",
       "      <td>1</td>\n",
       "      <td>48+</td>\n",
       "      <td>not_married</td>\n",
       "      <td>high_education</td>\n",
       "      <td>children</td>\n",
       "      <td>high_risk</td>\n",
       "    </tr>\n",
       "    <tr>\n",
       "      <th>5</th>\n",
       "      <td>1</td>\n",
       "      <td>28-38</td>\n",
       "      <td>married</td>\n",
       "      <td>high_education</td>\n",
       "      <td>no_children</td>\n",
       "      <td>medium_risk</td>\n",
       "    </tr>\n",
       "  </tbody>\n",
       "</table>\n",
       "</div>"
      ],
      "text/plain": [
       "   sex height marital_status education_status children_status  risk_status\n",
       "1    1  28-38        married   high_education        children  medium_risk\n",
       "2    1  38-48    not_married   high_education        children    high_risk\n",
       "3    1  38-48        married   high_education     no_children    high_risk\n",
       "4    1    48+    not_married   high_education        children    high_risk\n",
       "5    1  28-38        married   high_education     no_children  medium_risk"
      ]
     },
     "execution_count": 52,
     "metadata": {},
     "output_type": "execute_result"
    }
   ],
   "source": [
    "df.head()"
   ]
  },
  {
   "cell_type": "code",
   "execution_count": 53,
   "id": "42d2415d",
   "metadata": {},
   "outputs": [
    {
     "data": {
      "text/plain": [
       "high_risk      60122\n",
       "medium_risk    35984\n",
       "low_risk        3894\n",
       "Name: risk_status, dtype: int64"
      ]
     },
     "execution_count": 53,
     "metadata": {},
     "output_type": "execute_result"
    }
   ],
   "source": [
    "df.risk_status.value_counts()"
   ]
  },
  {
   "cell_type": "markdown",
   "id": "72e1eca6",
   "metadata": {},
   "source": [
    "__Location__"
   ]
  },
  {
   "cell_type": "code",
   "execution_count": 54,
   "id": "91951416",
   "metadata": {},
   "outputs": [],
   "source": [
    "#Город, в котором проживает инвестор"
   ]
  },
  {
   "cell_type": "code",
   "execution_count": 55,
   "id": "e2c43d07",
   "metadata": {},
   "outputs": [],
   "source": [
    "city = ['Moscow', 'Sain-Petersburg', 'Krasnodar', 'Moscow_region', 'Tatarstan',\n",
    "        'Rostov','Samara', 'Ekaterinburg', 'Volgograd', 'Novosibirsk']"
   ]
  },
  {
   "cell_type": "code",
   "execution_count": 56,
   "id": "03132e43",
   "metadata": {},
   "outputs": [],
   "source": [
    "citizens = np.array([12678, 5398, 933, 7708, 1129, 1138, 1157, 1494, 1009, 1626])"
   ]
  },
  {
   "cell_type": "code",
   "execution_count": 57,
   "id": "5560b039",
   "metadata": {},
   "outputs": [],
   "source": [
    "citizens_sum = citizens.sum()"
   ]
  },
  {
   "cell_type": "code",
   "execution_count": 58,
   "id": "bc628169",
   "metadata": {},
   "outputs": [],
   "source": [
    "city_percent = [round(citizens[i]/citizens_sum, 3) for i in range(len(city))] "
   ]
  },
  {
   "cell_type": "code",
   "execution_count": 59,
   "id": "8ea959be",
   "metadata": {},
   "outputs": [
    {
     "data": {
      "text/plain": [
       "[0.37, 0.158, 0.027, 0.225, 0.033, 0.033, 0.034, 0.044, 0.029, 0.047]"
      ]
     },
     "execution_count": 59,
     "metadata": {},
     "output_type": "execute_result"
    }
   ],
   "source": [
    "city_percent"
   ]
  },
  {
   "cell_type": "code",
   "execution_count": 60,
   "id": "36947e21",
   "metadata": {},
   "outputs": [],
   "source": [
    "city_percent=np.array([city_percent])"
   ]
  },
  {
   "cell_type": "code",
   "execution_count": 61,
   "id": "cb10f265",
   "metadata": {},
   "outputs": [],
   "source": [
    "assert city_percent.sum()==1."
   ]
  },
  {
   "cell_type": "code",
   "execution_count": 62,
   "id": "618b23e3",
   "metadata": {},
   "outputs": [
    {
     "data": {
      "text/plain": [
       "1.0"
      ]
     },
     "execution_count": 62,
     "metadata": {},
     "output_type": "execute_result"
    }
   ],
   "source": [
    "city_percent.sum()"
   ]
  },
  {
   "cell_type": "code",
   "execution_count": 63,
   "id": "a44fbe3c",
   "metadata": {},
   "outputs": [],
   "source": [
    "location_status = get_series(city, city_percent.flatten(), id_list)"
   ]
  },
  {
   "cell_type": "code",
   "execution_count": 64,
   "id": "bb3dbd69",
   "metadata": {},
   "outputs": [],
   "source": [
    "df['location_status'] = location_status"
   ]
  },
  {
   "cell_type": "code",
   "execution_count": 65,
   "id": "3cefe0e0",
   "metadata": {},
   "outputs": [
    {
     "data": {
      "text/html": [
       "<div>\n",
       "<style scoped>\n",
       "    .dataframe tbody tr th:only-of-type {\n",
       "        vertical-align: middle;\n",
       "    }\n",
       "\n",
       "    .dataframe tbody tr th {\n",
       "        vertical-align: top;\n",
       "    }\n",
       "\n",
       "    .dataframe thead th {\n",
       "        text-align: right;\n",
       "    }\n",
       "</style>\n",
       "<table border=\"1\" class=\"dataframe\">\n",
       "  <thead>\n",
       "    <tr style=\"text-align: right;\">\n",
       "      <th></th>\n",
       "      <th>sex</th>\n",
       "      <th>height</th>\n",
       "      <th>marital_status</th>\n",
       "      <th>education_status</th>\n",
       "      <th>children_status</th>\n",
       "      <th>risk_status</th>\n",
       "      <th>location_status</th>\n",
       "    </tr>\n",
       "  </thead>\n",
       "  <tbody>\n",
       "    <tr>\n",
       "      <th>1</th>\n",
       "      <td>1</td>\n",
       "      <td>28-38</td>\n",
       "      <td>married</td>\n",
       "      <td>high_education</td>\n",
       "      <td>children</td>\n",
       "      <td>medium_risk</td>\n",
       "      <td>Moscow</td>\n",
       "    </tr>\n",
       "    <tr>\n",
       "      <th>2</th>\n",
       "      <td>1</td>\n",
       "      <td>38-48</td>\n",
       "      <td>not_married</td>\n",
       "      <td>high_education</td>\n",
       "      <td>children</td>\n",
       "      <td>high_risk</td>\n",
       "      <td>Sain-Petersburg</td>\n",
       "    </tr>\n",
       "    <tr>\n",
       "      <th>3</th>\n",
       "      <td>1</td>\n",
       "      <td>38-48</td>\n",
       "      <td>married</td>\n",
       "      <td>high_education</td>\n",
       "      <td>no_children</td>\n",
       "      <td>high_risk</td>\n",
       "      <td>Moscow</td>\n",
       "    </tr>\n",
       "    <tr>\n",
       "      <th>4</th>\n",
       "      <td>1</td>\n",
       "      <td>48+</td>\n",
       "      <td>not_married</td>\n",
       "      <td>high_education</td>\n",
       "      <td>children</td>\n",
       "      <td>high_risk</td>\n",
       "      <td>Novosibirsk</td>\n",
       "    </tr>\n",
       "    <tr>\n",
       "      <th>5</th>\n",
       "      <td>1</td>\n",
       "      <td>28-38</td>\n",
       "      <td>married</td>\n",
       "      <td>high_education</td>\n",
       "      <td>no_children</td>\n",
       "      <td>medium_risk</td>\n",
       "      <td>Sain-Petersburg</td>\n",
       "    </tr>\n",
       "  </tbody>\n",
       "</table>\n",
       "</div>"
      ],
      "text/plain": [
       "   sex height marital_status education_status children_status  risk_status  \\\n",
       "1    1  28-38        married   high_education        children  medium_risk   \n",
       "2    1  38-48    not_married   high_education        children    high_risk   \n",
       "3    1  38-48        married   high_education     no_children    high_risk   \n",
       "4    1    48+    not_married   high_education        children    high_risk   \n",
       "5    1  28-38        married   high_education     no_children  medium_risk   \n",
       "\n",
       "   location_status  \n",
       "1           Moscow  \n",
       "2  Sain-Petersburg  \n",
       "3           Moscow  \n",
       "4      Novosibirsk  \n",
       "5  Sain-Petersburg  "
      ]
     },
     "execution_count": 65,
     "metadata": {},
     "output_type": "execute_result"
    }
   ],
   "source": [
    "df.head()"
   ]
  },
  {
   "cell_type": "code",
   "execution_count": 66,
   "id": "8a06d076",
   "metadata": {},
   "outputs": [
    {
     "data": {
      "text/plain": [
       "Moscow             37081\n",
       "Moscow_region      22364\n",
       "Sain-Petersburg    15604\n",
       "Novosibirsk         4724\n",
       "Ekaterinburg        4539\n",
       "Samara              3439\n",
       "Tatarstan           3383\n",
       "Rostov              3270\n",
       "Volgograd           2828\n",
       "Krasnodar           2768\n",
       "Name: location_status, dtype: int64"
      ]
     },
     "execution_count": 66,
     "metadata": {},
     "output_type": "execute_result"
    }
   ],
   "source": [
    "df.location_status.value_counts()"
   ]
  },
  {
   "cell_type": "markdown",
   "id": "f4621354",
   "metadata": {},
   "source": [
    "__Activity__"
   ]
  },
  {
   "cell_type": "code",
   "execution_count": 67,
   "id": "72cee758",
   "metadata": {},
   "outputs": [],
   "source": [
    "# Занятость"
   ]
  },
  {
   "cell_type": "code",
   "execution_count": 68,
   "id": "93612f55",
   "metadata": {},
   "outputs": [],
   "source": [
    "activity = ['retirement', 'not_working', 'employee', 'own_business', 'senior_officer']"
   ]
  },
  {
   "cell_type": "code",
   "execution_count": 69,
   "id": "6383e08f",
   "metadata": {},
   "outputs": [],
   "source": [
    "activity_percent = [0.02, 0.11, 0.2, 0.31, 0.36]"
   ]
  },
  {
   "cell_type": "code",
   "execution_count": 70,
   "id": "1c020bb8",
   "metadata": {},
   "outputs": [],
   "source": [
    "activity_status = get_series(activity, activity_percent, id_list)"
   ]
  },
  {
   "cell_type": "code",
   "execution_count": 71,
   "id": "0235a556",
   "metadata": {},
   "outputs": [],
   "source": [
    "df['activity_status'] = activity_status "
   ]
  },
  {
   "cell_type": "code",
   "execution_count": 72,
   "id": "4bb1986e",
   "metadata": {},
   "outputs": [
    {
     "data": {
      "text/html": [
       "<div>\n",
       "<style scoped>\n",
       "    .dataframe tbody tr th:only-of-type {\n",
       "        vertical-align: middle;\n",
       "    }\n",
       "\n",
       "    .dataframe tbody tr th {\n",
       "        vertical-align: top;\n",
       "    }\n",
       "\n",
       "    .dataframe thead th {\n",
       "        text-align: right;\n",
       "    }\n",
       "</style>\n",
       "<table border=\"1\" class=\"dataframe\">\n",
       "  <thead>\n",
       "    <tr style=\"text-align: right;\">\n",
       "      <th></th>\n",
       "      <th>sex</th>\n",
       "      <th>height</th>\n",
       "      <th>marital_status</th>\n",
       "      <th>education_status</th>\n",
       "      <th>children_status</th>\n",
       "      <th>risk_status</th>\n",
       "      <th>location_status</th>\n",
       "      <th>activity_status</th>\n",
       "    </tr>\n",
       "  </thead>\n",
       "  <tbody>\n",
       "    <tr>\n",
       "      <th>1</th>\n",
       "      <td>1</td>\n",
       "      <td>28-38</td>\n",
       "      <td>married</td>\n",
       "      <td>high_education</td>\n",
       "      <td>children</td>\n",
       "      <td>medium_risk</td>\n",
       "      <td>Moscow</td>\n",
       "      <td>senior_officer</td>\n",
       "    </tr>\n",
       "    <tr>\n",
       "      <th>2</th>\n",
       "      <td>1</td>\n",
       "      <td>38-48</td>\n",
       "      <td>not_married</td>\n",
       "      <td>high_education</td>\n",
       "      <td>children</td>\n",
       "      <td>high_risk</td>\n",
       "      <td>Sain-Petersburg</td>\n",
       "      <td>senior_officer</td>\n",
       "    </tr>\n",
       "    <tr>\n",
       "      <th>3</th>\n",
       "      <td>1</td>\n",
       "      <td>38-48</td>\n",
       "      <td>married</td>\n",
       "      <td>high_education</td>\n",
       "      <td>no_children</td>\n",
       "      <td>high_risk</td>\n",
       "      <td>Moscow</td>\n",
       "      <td>own_business</td>\n",
       "    </tr>\n",
       "    <tr>\n",
       "      <th>4</th>\n",
       "      <td>1</td>\n",
       "      <td>48+</td>\n",
       "      <td>not_married</td>\n",
       "      <td>high_education</td>\n",
       "      <td>children</td>\n",
       "      <td>high_risk</td>\n",
       "      <td>Novosibirsk</td>\n",
       "      <td>senior_officer</td>\n",
       "    </tr>\n",
       "    <tr>\n",
       "      <th>5</th>\n",
       "      <td>1</td>\n",
       "      <td>28-38</td>\n",
       "      <td>married</td>\n",
       "      <td>high_education</td>\n",
       "      <td>no_children</td>\n",
       "      <td>medium_risk</td>\n",
       "      <td>Sain-Petersburg</td>\n",
       "      <td>own_business</td>\n",
       "    </tr>\n",
       "  </tbody>\n",
       "</table>\n",
       "</div>"
      ],
      "text/plain": [
       "   sex height marital_status education_status children_status  risk_status  \\\n",
       "1    1  28-38        married   high_education        children  medium_risk   \n",
       "2    1  38-48    not_married   high_education        children    high_risk   \n",
       "3    1  38-48        married   high_education     no_children    high_risk   \n",
       "4    1    48+    not_married   high_education        children    high_risk   \n",
       "5    1  28-38        married   high_education     no_children  medium_risk   \n",
       "\n",
       "   location_status activity_status  \n",
       "1           Moscow  senior_officer  \n",
       "2  Sain-Petersburg  senior_officer  \n",
       "3           Moscow    own_business  \n",
       "4      Novosibirsk  senior_officer  \n",
       "5  Sain-Petersburg    own_business  "
      ]
     },
     "execution_count": 72,
     "metadata": {},
     "output_type": "execute_result"
    }
   ],
   "source": [
    "df.head()"
   ]
  },
  {
   "cell_type": "code",
   "execution_count": 73,
   "id": "93dea058",
   "metadata": {},
   "outputs": [
    {
     "data": {
      "text/plain": [
       "senior_officer    36118\n",
       "own_business      31016\n",
       "employee          19916\n",
       "not_working       10991\n",
       "retirement         1959\n",
       "Name: activity_status, dtype: int64"
      ]
     },
     "execution_count": 73,
     "metadata": {},
     "output_type": "execute_result"
    }
   ],
   "source": [
    "df.activity_status.value_counts()"
   ]
  },
  {
   "cell_type": "markdown",
   "id": "2fd93dd6",
   "metadata": {},
   "source": [
    "__Deposit amount__"
   ]
  },
  {
   "cell_type": "code",
   "execution_count": 74,
   "id": "a4922aeb",
   "metadata": {},
   "outputs": [],
   "source": [
    "# Размер средств на счете"
   ]
  },
  {
   "cell_type": "code",
   "execution_count": 75,
   "id": "be0894d3",
   "metadata": {},
   "outputs": [],
   "source": [
    "deposit_mln = ['1-5', '5-10', '10-20']"
   ]
  },
  {
   "cell_type": "code",
   "execution_count": 76,
   "id": "fc2d2a57",
   "metadata": {},
   "outputs": [],
   "source": [
    "depo_perc = [0.6, 0.2, 0.2]"
   ]
  },
  {
   "cell_type": "code",
   "execution_count": 77,
   "id": "eccfb082",
   "metadata": {},
   "outputs": [],
   "source": [
    "depo_status = get_series(deposit_mln, depo_perc, id_list)"
   ]
  },
  {
   "cell_type": "code",
   "execution_count": 78,
   "id": "0e85bd3b",
   "metadata": {},
   "outputs": [],
   "source": [
    "df['depo_status'] = depo_status "
   ]
  },
  {
   "cell_type": "code",
   "execution_count": 79,
   "id": "95e36074",
   "metadata": {},
   "outputs": [
    {
     "data": {
      "text/html": [
       "<div>\n",
       "<style scoped>\n",
       "    .dataframe tbody tr th:only-of-type {\n",
       "        vertical-align: middle;\n",
       "    }\n",
       "\n",
       "    .dataframe tbody tr th {\n",
       "        vertical-align: top;\n",
       "    }\n",
       "\n",
       "    .dataframe thead th {\n",
       "        text-align: right;\n",
       "    }\n",
       "</style>\n",
       "<table border=\"1\" class=\"dataframe\">\n",
       "  <thead>\n",
       "    <tr style=\"text-align: right;\">\n",
       "      <th></th>\n",
       "      <th>sex</th>\n",
       "      <th>height</th>\n",
       "      <th>marital_status</th>\n",
       "      <th>education_status</th>\n",
       "      <th>children_status</th>\n",
       "      <th>risk_status</th>\n",
       "      <th>location_status</th>\n",
       "      <th>activity_status</th>\n",
       "      <th>depo_status</th>\n",
       "    </tr>\n",
       "  </thead>\n",
       "  <tbody>\n",
       "    <tr>\n",
       "      <th>1</th>\n",
       "      <td>1</td>\n",
       "      <td>28-38</td>\n",
       "      <td>married</td>\n",
       "      <td>high_education</td>\n",
       "      <td>children</td>\n",
       "      <td>medium_risk</td>\n",
       "      <td>Moscow</td>\n",
       "      <td>senior_officer</td>\n",
       "      <td>1-5</td>\n",
       "    </tr>\n",
       "    <tr>\n",
       "      <th>2</th>\n",
       "      <td>1</td>\n",
       "      <td>38-48</td>\n",
       "      <td>not_married</td>\n",
       "      <td>high_education</td>\n",
       "      <td>children</td>\n",
       "      <td>high_risk</td>\n",
       "      <td>Sain-Petersburg</td>\n",
       "      <td>senior_officer</td>\n",
       "      <td>5-10</td>\n",
       "    </tr>\n",
       "    <tr>\n",
       "      <th>3</th>\n",
       "      <td>1</td>\n",
       "      <td>38-48</td>\n",
       "      <td>married</td>\n",
       "      <td>high_education</td>\n",
       "      <td>no_children</td>\n",
       "      <td>high_risk</td>\n",
       "      <td>Moscow</td>\n",
       "      <td>own_business</td>\n",
       "      <td>5-10</td>\n",
       "    </tr>\n",
       "    <tr>\n",
       "      <th>4</th>\n",
       "      <td>1</td>\n",
       "      <td>48+</td>\n",
       "      <td>not_married</td>\n",
       "      <td>high_education</td>\n",
       "      <td>children</td>\n",
       "      <td>high_risk</td>\n",
       "      <td>Novosibirsk</td>\n",
       "      <td>senior_officer</td>\n",
       "      <td>5-10</td>\n",
       "    </tr>\n",
       "    <tr>\n",
       "      <th>5</th>\n",
       "      <td>1</td>\n",
       "      <td>28-38</td>\n",
       "      <td>married</td>\n",
       "      <td>high_education</td>\n",
       "      <td>no_children</td>\n",
       "      <td>medium_risk</td>\n",
       "      <td>Sain-Petersburg</td>\n",
       "      <td>own_business</td>\n",
       "      <td>1-5</td>\n",
       "    </tr>\n",
       "  </tbody>\n",
       "</table>\n",
       "</div>"
      ],
      "text/plain": [
       "   sex height marital_status education_status children_status  risk_status  \\\n",
       "1    1  28-38        married   high_education        children  medium_risk   \n",
       "2    1  38-48    not_married   high_education        children    high_risk   \n",
       "3    1  38-48        married   high_education     no_children    high_risk   \n",
       "4    1    48+    not_married   high_education        children    high_risk   \n",
       "5    1  28-38        married   high_education     no_children  medium_risk   \n",
       "\n",
       "   location_status activity_status depo_status  \n",
       "1           Moscow  senior_officer         1-5  \n",
       "2  Sain-Petersburg  senior_officer        5-10  \n",
       "3           Moscow    own_business        5-10  \n",
       "4      Novosibirsk  senior_officer        5-10  \n",
       "5  Sain-Petersburg    own_business         1-5  "
      ]
     },
     "execution_count": 79,
     "metadata": {},
     "output_type": "execute_result"
    }
   ],
   "source": [
    "df.head()"
   ]
  },
  {
   "cell_type": "code",
   "execution_count": 80,
   "id": "df2d3aef",
   "metadata": {},
   "outputs": [
    {
     "data": {
      "text/plain": [
       "1-5      59959\n",
       "10-20    20193\n",
       "5-10     19848\n",
       "Name: depo_status, dtype: int64"
      ]
     },
     "execution_count": 80,
     "metadata": {},
     "output_type": "execute_result"
    }
   ],
   "source": [
    "df.depo_status.value_counts()"
   ]
  },
  {
   "cell_type": "code",
   "execution_count": 81,
   "id": "47c79fb9",
   "metadata": {},
   "outputs": [],
   "source": [
    "# Датасет готов. Его можно будет дополнять, это mvp от которого будем отталкиваться. Сохраним его в csv."
   ]
  },
  {
   "cell_type": "code",
   "execution_count": 82,
   "id": "a38220e4",
   "metadata": {},
   "outputs": [],
   "source": [
    "file_name = 'users_initial.csv'"
   ]
  },
  {
   "cell_type": "code",
   "execution_count": 86,
   "id": "56a9905b",
   "metadata": {},
   "outputs": [],
   "source": [
    "df.to_csv(file_name, encoding='utf-8', index=False)"
   ]
  },
  {
   "cell_type": "markdown",
   "id": "138a4d42",
   "metadata": {},
   "source": [
    "__Short EDA__ "
   ]
  },
  {
   "cell_type": "code",
   "execution_count": 88,
   "id": "8de0b83f",
   "metadata": {},
   "outputs": [],
   "source": [
    "df = pd.read_csv('users_initial.csv')"
   ]
  },
  {
   "cell_type": "code",
   "execution_count": 89,
   "id": "ccb029a1",
   "metadata": {},
   "outputs": [
    {
     "data": {
      "text/html": [
       "<div>\n",
       "<style scoped>\n",
       "    .dataframe tbody tr th:only-of-type {\n",
       "        vertical-align: middle;\n",
       "    }\n",
       "\n",
       "    .dataframe tbody tr th {\n",
       "        vertical-align: top;\n",
       "    }\n",
       "\n",
       "    .dataframe thead th {\n",
       "        text-align: right;\n",
       "    }\n",
       "</style>\n",
       "<table border=\"1\" class=\"dataframe\">\n",
       "  <thead>\n",
       "    <tr style=\"text-align: right;\">\n",
       "      <th></th>\n",
       "      <th>sex</th>\n",
       "      <th>height</th>\n",
       "      <th>marital_status</th>\n",
       "      <th>education_status</th>\n",
       "      <th>children_status</th>\n",
       "      <th>risk_status</th>\n",
       "      <th>location_status</th>\n",
       "      <th>activity_status</th>\n",
       "      <th>depo_status</th>\n",
       "    </tr>\n",
       "  </thead>\n",
       "  <tbody>\n",
       "    <tr>\n",
       "      <th>0</th>\n",
       "      <td>1</td>\n",
       "      <td>28-38</td>\n",
       "      <td>married</td>\n",
       "      <td>high_education</td>\n",
       "      <td>children</td>\n",
       "      <td>medium_risk</td>\n",
       "      <td>Moscow</td>\n",
       "      <td>senior_officer</td>\n",
       "      <td>1-5</td>\n",
       "    </tr>\n",
       "    <tr>\n",
       "      <th>1</th>\n",
       "      <td>1</td>\n",
       "      <td>38-48</td>\n",
       "      <td>not_married</td>\n",
       "      <td>high_education</td>\n",
       "      <td>children</td>\n",
       "      <td>high_risk</td>\n",
       "      <td>Sain-Petersburg</td>\n",
       "      <td>senior_officer</td>\n",
       "      <td>5-10</td>\n",
       "    </tr>\n",
       "    <tr>\n",
       "      <th>2</th>\n",
       "      <td>1</td>\n",
       "      <td>38-48</td>\n",
       "      <td>married</td>\n",
       "      <td>high_education</td>\n",
       "      <td>no_children</td>\n",
       "      <td>high_risk</td>\n",
       "      <td>Moscow</td>\n",
       "      <td>own_business</td>\n",
       "      <td>5-10</td>\n",
       "    </tr>\n",
       "    <tr>\n",
       "      <th>3</th>\n",
       "      <td>1</td>\n",
       "      <td>48+</td>\n",
       "      <td>not_married</td>\n",
       "      <td>high_education</td>\n",
       "      <td>children</td>\n",
       "      <td>high_risk</td>\n",
       "      <td>Novosibirsk</td>\n",
       "      <td>senior_officer</td>\n",
       "      <td>5-10</td>\n",
       "    </tr>\n",
       "    <tr>\n",
       "      <th>4</th>\n",
       "      <td>1</td>\n",
       "      <td>28-38</td>\n",
       "      <td>married</td>\n",
       "      <td>high_education</td>\n",
       "      <td>no_children</td>\n",
       "      <td>medium_risk</td>\n",
       "      <td>Sain-Petersburg</td>\n",
       "      <td>own_business</td>\n",
       "      <td>1-5</td>\n",
       "    </tr>\n",
       "  </tbody>\n",
       "</table>\n",
       "</div>"
      ],
      "text/plain": [
       "   sex height marital_status education_status children_status  risk_status  \\\n",
       "0    1  28-38        married   high_education        children  medium_risk   \n",
       "1    1  38-48    not_married   high_education        children    high_risk   \n",
       "2    1  38-48        married   high_education     no_children    high_risk   \n",
       "3    1    48+    not_married   high_education        children    high_risk   \n",
       "4    1  28-38        married   high_education     no_children  medium_risk   \n",
       "\n",
       "   location_status activity_status depo_status  \n",
       "0           Moscow  senior_officer         1-5  \n",
       "1  Sain-Petersburg  senior_officer        5-10  \n",
       "2           Moscow    own_business        5-10  \n",
       "3      Novosibirsk  senior_officer        5-10  \n",
       "4  Sain-Petersburg    own_business         1-5  "
      ]
     },
     "execution_count": 89,
     "metadata": {},
     "output_type": "execute_result"
    }
   ],
   "source": [
    "df.head()"
   ]
  },
  {
   "cell_type": "code",
   "execution_count": 90,
   "id": "88bf3729",
   "metadata": {},
   "outputs": [
    {
     "name": "stdout",
     "output_type": "stream",
     "text": [
      "<class 'pandas.core.frame.DataFrame'>\n",
      "RangeIndex: 100000 entries, 0 to 99999\n",
      "Data columns (total 9 columns):\n",
      " #   Column            Non-Null Count   Dtype \n",
      "---  ------            --------------   ----- \n",
      " 0   sex               100000 non-null  int64 \n",
      " 1   height            100000 non-null  object\n",
      " 2   marital_status    100000 non-null  object\n",
      " 3   education_status  100000 non-null  object\n",
      " 4   children_status   100000 non-null  object\n",
      " 5   risk_status       100000 non-null  object\n",
      " 6   location_status   100000 non-null  object\n",
      " 7   activity_status   100000 non-null  object\n",
      " 8   depo_status       100000 non-null  object\n",
      "dtypes: int64(1), object(8)\n",
      "memory usage: 6.9+ MB\n"
     ]
    }
   ],
   "source": [
    "df.info()"
   ]
  },
  {
   "cell_type": "code",
   "execution_count": 91,
   "id": "1c694ab4",
   "metadata": {},
   "outputs": [],
   "source": [
    "# Сначала визуализируем, затем обработаем наши данные."
   ]
  },
  {
   "cell_type": "markdown",
   "id": "5790ac7c",
   "metadata": {},
   "source": [
    "__SEX__"
   ]
  },
  {
   "cell_type": "code",
   "execution_count": 92,
   "id": "8d40d637",
   "metadata": {},
   "outputs": [
    {
     "data": {
      "text/plain": [
       "<AxesSubplot:>"
      ]
     },
     "execution_count": 92,
     "metadata": {},
     "output_type": "execute_result"
    },
    {
     "data": {
      "image/png": "[encoded data removed]",
      "text/plain": [
       "<Figure size 432x288 with 1 Axes>"
      ]
     },
     "metadata": {
      "needs_background": "light"
     },
     "output_type": "display_data"
    }
   ],
   "source": [
    "df.sex.value_counts().plot(kind='bar', grid = True)"
   ]
  },
  {
   "cell_type": "markdown",
   "id": "4a51783e",
   "metadata": {},
   "source": [
    "__HEIGHT__"
   ]
  },
  {
   "cell_type": "code",
   "execution_count": 93,
   "id": "2f651d79",
   "metadata": {},
   "outputs": [
    {
     "data": {
      "text/plain": [
       "<AxesSubplot:>"
      ]
     },
     "execution_count": 93,
     "metadata": {},
     "output_type": "execute_result"
    },
    {
     "data": {
      "image/png": "[encoded data removed]",
      "text/plain": [
       "<Figure size 432x288 with 1 Axes>"
      ]
     },
     "metadata": {
      "needs_background": "light"
     },
     "output_type": "display_data"
    }
   ],
   "source": [
    "df.height.value_counts().plot(kind='bar', grid = True)"
   ]
  },
  {
   "cell_type": "markdown",
   "id": "1f6ed327",
   "metadata": {},
   "source": [
    "__MARITAL STATUS__"
   ]
  },
  {
   "cell_type": "code",
   "execution_count": 94,
   "id": "f35f3683",
   "metadata": {},
   "outputs": [
    {
     "data": {
      "text/plain": [
       "<AxesSubplot:>"
      ]
     },
     "execution_count": 94,
     "metadata": {},
     "output_type": "execute_result"
    },
    {
     "data": {
      "image/png": "[encoded data removed]",
      "text/plain": [
       "<Figure size 432x288 with 1 Axes>"
      ]
     },
     "metadata": {
      "needs_background": "light"
     },
     "output_type": "display_data"
    }
   ],
   "source": [
    "df.marital_status.value_counts().plot(kind='bar', grid = True)"
   ]
  },
  {
   "cell_type": "markdown",
   "id": "0c1dc91c",
   "metadata": {},
   "source": [
    "__EDUCATION STATUS__"
   ]
  },
  {
   "cell_type": "code",
   "execution_count": 95,
   "id": "db0bac3a",
   "metadata": {},
   "outputs": [
    {
     "data": {
      "text/plain": [
       "<AxesSubplot:>"
      ]
     },
     "execution_count": 95,
     "metadata": {},
     "output_type": "execute_result"
    },
    {
     "data": {
      "image/png": "[encoded data removed]",
      "text/plain": [
       "<Figure size 432x288 with 1 Axes>"
      ]
     },
     "metadata": {
      "needs_background": "light"
     },
     "output_type": "display_data"
    }
   ],
   "source": [
    "df.education_status.value_counts().plot(kind='bar', grid = True)"
   ]
  },
  {
   "cell_type": "markdown",
   "id": "1776fb13",
   "metadata": {},
   "source": [
    "__CHILDREN STATUS___"
   ]
  },
  {
   "cell_type": "code",
   "execution_count": 96,
   "id": "8feb2b1f",
   "metadata": {},
   "outputs": [
    {
     "data": {
      "text/plain": [
       "<AxesSubplot:>"
      ]
     },
     "execution_count": 96,
     "metadata": {},
     "output_type": "execute_result"
    },
    {
     "data": {
      "image/png": "[encoded data removed]",
      "text/plain": [
       "<Figure size 432x288 with 1 Axes>"
      ]
     },
     "metadata": {
      "needs_background": "light"
     },
     "output_type": "display_data"
    }
   ],
   "source": [
    "df.children_status.value_counts().plot(kind='bar', grid = True)"
   ]
  },
  {
   "cell_type": "markdown",
   "id": "537a74ec",
   "metadata": {},
   "source": [
    "__RISK STATUS__"
   ]
  },
  {
   "cell_type": "code",
   "execution_count": 97,
   "id": "dcda5128",
   "metadata": {},
   "outputs": [
    {
     "data": {
      "text/plain": [
       "<AxesSubplot:>"
      ]
     },
     "execution_count": 97,
     "metadata": {},
     "output_type": "execute_result"
    },
    {
     "data": {
      "image/png": "[encoded data removed]",
      "text/plain": [
       "<Figure size 432x288 with 1 Axes>"
      ]
     },
     "metadata": {
      "needs_background": "light"
     },
     "output_type": "display_data"
    }
   ],
   "source": [
    "df.risk_status.value_counts().plot(kind='bar', grid = True)"
   ]
  },
  {
   "cell_type": "markdown",
   "id": "f699c0fd",
   "metadata": {},
   "source": [
    "__LOCATION STATUS__"
   ]
  },
  {
   "cell_type": "code",
   "execution_count": 98,
   "id": "5ed6d669",
   "metadata": {},
   "outputs": [
    {
     "data": {
      "text/plain": [
       "<AxesSubplot:>"
      ]
     },
     "execution_count": 98,
     "metadata": {},
     "output_type": "execute_result"
    },
    {
     "data": {
      "image/png": "[encoded data removed]",
      "text/plain": [
       "<Figure size 432x288 with 1 Axes>"
      ]
     },
     "metadata": {
      "needs_background": "light"
     },
     "output_type": "display_data"
    }
   ],
   "source": [
    "df.location_status.value_counts().plot(kind='bar', grid = True)"
   ]
  },
  {
   "cell_type": "markdown",
   "id": "902d812e",
   "metadata": {},
   "source": [
    "__ACTIVITY STATUS__"
   ]
  },
  {
   "cell_type": "code",
   "execution_count": 99,
   "id": "1a7789d0",
   "metadata": {},
   "outputs": [
    {
     "data": {
      "text/plain": [
       "<AxesSubplot:>"
      ]
     },
     "execution_count": 99,
     "metadata": {},
     "output_type": "execute_result"
    },
    {
     "data": {
      "image/png": "[encoded data removed]",
      "text/plain": [
       "<Figure size 432x288 with 1 Axes>"
      ]
     },
     "metadata": {
      "needs_background": "light"
     },
     "output_type": "display_data"
    }
   ],
   "source": [
    "df.activity_status.value_counts().plot(kind='bar', grid = True)"
   ]
  },
  {
   "cell_type": "markdown",
   "id": "75a9e960",
   "metadata": {},
   "source": [
    "__DEPO STATUS__"
   ]
  },
  {
   "cell_type": "code",
   "execution_count": 100,
   "id": "205bb867",
   "metadata": {},
   "outputs": [
    {
     "data": {
      "text/plain": [
       "<AxesSubplot:>"
      ]
     },
     "execution_count": 100,
     "metadata": {},
     "output_type": "execute_result"
    },
    {
     "data": {
      "image/png": "[encoded data removed]",
      "text/plain": [
       "<Figure size 432x288 with 1 Axes>"
      ]
     },
     "metadata": {
      "needs_background": "light"
     },
     "output_type": "display_data"
    }
   ],
   "source": [
    "df.depo_status.value_counts().plot(kind='bar', grid = True)"
   ]
  },
  {
   "cell_type": "markdown",
   "id": "56da4ac7",
   "metadata": {},
   "source": [
    "__INITIAL DATASET TREATMENT__"
   ]
  },
  {
   "cell_type": "code",
   "execution_count": 101,
   "id": "7850acc4",
   "metadata": {},
   "outputs": [],
   "source": [
    "height_dict = {'18-28': 23,\n",
    "               '28-38': 43,\n",
    "               '38-48': 53,\n",
    "               '48+': 60}\n",
    "\n",
    "activity_dict = {'own_business': 5, 'senior_officer': 4, 'not_working': 3, 'employee': 2,\n",
    "                 'retirement': 1}\n",
    "\n",
    "depo_dict = {'1-5': 2.5,\n",
    "             '5-10': 7.5,\n",
    "             '10-20': 15}\n",
    "\n",
    "city_dict = {'Moscow': 1,\n",
    "             'Sain-Petersburg': 2,\n",
    "             'Krasnodar': 3,\n",
    "             'Moscow_region': 4,\n",
    "             'Tatarstan': 5,\n",
    "             'Rostov': 6,\n",
    "             'Samara': 7,\n",
    "             'Ekaterinburg': 8,\n",
    "             'Volgograd': 9,\n",
    "             'Novosibirsk': 10}\n",
    "\n",
    "risk_profile_dict = {'high_risk': 1,\n",
    "                     'medium_risk': 2,\n",
    "                     'low_risk': 3}\n",
    "\n",
    "child_dict = {'children': 1,\n",
    "              'no_children': 0}\n",
    "\n",
    "education_dict = {'high_education': 1,\n",
    "                  'medium_education': 2,\n",
    "                  'second_high_education': 3,\n",
    "                  'academic_credential':4}\n",
    "\n",
    "status_dict = {'married': 1,\n",
    "               'not_married': 0}"
   ]
  },
  {
   "cell_type": "code",
   "execution_count": 102,
   "id": "184376be",
   "metadata": {},
   "outputs": [],
   "source": [
    "df['height_ord'] = df.height.map(height_dict)\n",
    "df['marital_status_ord'] = df.marital_status.map(status_dict)\n",
    "df['education_status_ord'] = df.education_status.map(education_dict)\n",
    "df['children_status_ord'] = df.children_status.map(child_dict)\n",
    "df['risk_status_ord'] = df.risk_status.map(risk_profile_dict)\n",
    "df['location_status_ord'] = df.location_status.map(city_dict)\n",
    "df['activity_status_ord'] = df.activity_status.map(activity_dict)\n",
    "df['depo_status_ord'] = df.depo_status.map(depo_dict)"
   ]
  },
  {
   "cell_type": "code",
   "execution_count": 103,
   "id": "60bc3c45",
   "metadata": {},
   "outputs": [],
   "source": [
    "# со временем это все можно обернуть в функцию и автоматизировать мэппинг через цикл. "
   ]
  },
  {
   "cell_type": "code",
   "execution_count": 104,
   "id": "e10699ab",
   "metadata": {},
   "outputs": [
    {
     "data": {
      "text/html": [
       "<div>\n",
       "<style scoped>\n",
       "    .dataframe tbody tr th:only-of-type {\n",
       "        vertical-align: middle;\n",
       "    }\n",
       "\n",
       "    .dataframe tbody tr th {\n",
       "        vertical-align: top;\n",
       "    }\n",
       "\n",
       "    .dataframe thead th {\n",
       "        text-align: right;\n",
       "    }\n",
       "</style>\n",
       "<table border=\"1\" class=\"dataframe\">\n",
       "  <thead>\n",
       "    <tr style=\"text-align: right;\">\n",
       "      <th></th>\n",
       "      <th>sex</th>\n",
       "      <th>height</th>\n",
       "      <th>marital_status</th>\n",
       "      <th>education_status</th>\n",
       "      <th>children_status</th>\n",
       "      <th>risk_status</th>\n",
       "      <th>location_status</th>\n",
       "      <th>activity_status</th>\n",
       "      <th>depo_status</th>\n",
       "      <th>height_ord</th>\n",
       "      <th>marital_status_ord</th>\n",
       "      <th>education_status_ord</th>\n",
       "      <th>children_status_ord</th>\n",
       "      <th>risk_status_ord</th>\n",
       "      <th>location_status_ord</th>\n",
       "      <th>activity_status_ord</th>\n",
       "      <th>depo_status_ord</th>\n",
       "    </tr>\n",
       "  </thead>\n",
       "  <tbody>\n",
       "    <tr>\n",
       "      <th>0</th>\n",
       "      <td>1</td>\n",
       "      <td>28-38</td>\n",
       "      <td>married</td>\n",
       "      <td>high_education</td>\n",
       "      <td>children</td>\n",
       "      <td>medium_risk</td>\n",
       "      <td>Moscow</td>\n",
       "      <td>senior_officer</td>\n",
       "      <td>1-5</td>\n",
       "      <td>43</td>\n",
       "      <td>1</td>\n",
       "      <td>1</td>\n",
       "      <td>1</td>\n",
       "      <td>2</td>\n",
       "      <td>1</td>\n",
       "      <td>4</td>\n",
       "      <td>2.5</td>\n",
       "    </tr>\n",
       "    <tr>\n",
       "      <th>1</th>\n",
       "      <td>1</td>\n",
       "      <td>38-48</td>\n",
       "      <td>not_married</td>\n",
       "      <td>high_education</td>\n",
       "      <td>children</td>\n",
       "      <td>high_risk</td>\n",
       "      <td>Sain-Petersburg</td>\n",
       "      <td>senior_officer</td>\n",
       "      <td>5-10</td>\n",
       "      <td>53</td>\n",
       "      <td>0</td>\n",
       "      <td>1</td>\n",
       "      <td>1</td>\n",
       "      <td>1</td>\n",
       "      <td>2</td>\n",
       "      <td>4</td>\n",
       "      <td>7.5</td>\n",
       "    </tr>\n",
       "    <tr>\n",
       "      <th>2</th>\n",
       "      <td>1</td>\n",
       "      <td>38-48</td>\n",
       "      <td>married</td>\n",
       "      <td>high_education</td>\n",
       "      <td>no_children</td>\n",
       "      <td>high_risk</td>\n",
       "      <td>Moscow</td>\n",
       "      <td>own_business</td>\n",
       "      <td>5-10</td>\n",
       "      <td>53</td>\n",
       "      <td>1</td>\n",
       "      <td>1</td>\n",
       "      <td>0</td>\n",
       "      <td>1</td>\n",
       "      <td>1</td>\n",
       "      <td>5</td>\n",
       "      <td>7.5</td>\n",
       "    </tr>\n",
       "    <tr>\n",
       "      <th>3</th>\n",
       "      <td>1</td>\n",
       "      <td>48+</td>\n",
       "      <td>not_married</td>\n",
       "      <td>high_education</td>\n",
       "      <td>children</td>\n",
       "      <td>high_risk</td>\n",
       "      <td>Novosibirsk</td>\n",
       "      <td>senior_officer</td>\n",
       "      <td>5-10</td>\n",
       "      <td>60</td>\n",
       "      <td>0</td>\n",
       "      <td>1</td>\n",
       "      <td>1</td>\n",
       "      <td>1</td>\n",
       "      <td>10</td>\n",
       "      <td>4</td>\n",
       "      <td>7.5</td>\n",
       "    </tr>\n",
       "    <tr>\n",
       "      <th>4</th>\n",
       "      <td>1</td>\n",
       "      <td>28-38</td>\n",
       "      <td>married</td>\n",
       "      <td>high_education</td>\n",
       "      <td>no_children</td>\n",
       "      <td>medium_risk</td>\n",
       "      <td>Sain-Petersburg</td>\n",
       "      <td>own_business</td>\n",
       "      <td>1-5</td>\n",
       "      <td>43</td>\n",
       "      <td>1</td>\n",
       "      <td>1</td>\n",
       "      <td>0</td>\n",
       "      <td>2</td>\n",
       "      <td>2</td>\n",
       "      <td>5</td>\n",
       "      <td>2.5</td>\n",
       "    </tr>\n",
       "  </tbody>\n",
       "</table>\n",
       "</div>"
      ],
      "text/plain": [
       "   sex height marital_status education_status children_status  risk_status  \\\n",
       "0    1  28-38        married   high_education        children  medium_risk   \n",
       "1    1  38-48    not_married   high_education        children    high_risk   \n",
       "2    1  38-48        married   high_education     no_children    high_risk   \n",
       "3    1    48+    not_married   high_education        children    high_risk   \n",
       "4    1  28-38        married   high_education     no_children  medium_risk   \n",
       "\n",
       "   location_status activity_status depo_status  height_ord  \\\n",
       "0           Moscow  senior_officer         1-5          43   \n",
       "1  Sain-Petersburg  senior_officer        5-10          53   \n",
       "2           Moscow    own_business        5-10          53   \n",
       "3      Novosibirsk  senior_officer        5-10          60   \n",
       "4  Sain-Petersburg    own_business         1-5          43   \n",
       "\n",
       "   marital_status_ord  education_status_ord  children_status_ord  \\\n",
       "0                   1                     1                    1   \n",
       "1                   0                     1                    1   \n",
       "2                   1                     1                    0   \n",
       "3                   0                     1                    1   \n",
       "4                   1                     1                    0   \n",
       "\n",
       "   risk_status_ord  location_status_ord  activity_status_ord  depo_status_ord  \n",
       "0                2                    1                    4              2.5  \n",
       "1                1                    2                    4              7.5  \n",
       "2                1                    1                    5              7.5  \n",
       "3                1                   10                    4              7.5  \n",
       "4                2                    2                    5              2.5  "
      ]
     },
     "execution_count": 104,
     "metadata": {},
     "output_type": "execute_result"
    }
   ],
   "source": [
    "df.head()"
   ]
  },
  {
   "cell_type": "code",
   "execution_count": 105,
   "id": "8b3f78a4",
   "metadata": {},
   "outputs": [],
   "source": [
    "df_treated = df[['sex', 'height_ord', 'marital_status_ord',\n",
    "                 'education_status_ord', 'children_status_ord', 'risk_status_ord',\n",
    "                 'location_status_ord', 'depo_status_ord', 'activity_status_ord']]"
   ]
  },
  {
   "cell_type": "code",
   "execution_count": 106,
   "id": "1cab94e5",
   "metadata": {},
   "outputs": [
    {
     "data": {
      "text/html": [
       "<div>\n",
       "<style scoped>\n",
       "    .dataframe tbody tr th:only-of-type {\n",
       "        vertical-align: middle;\n",
       "    }\n",
       "\n",
       "    .dataframe tbody tr th {\n",
       "        vertical-align: top;\n",
       "    }\n",
       "\n",
       "    .dataframe thead th {\n",
       "        text-align: right;\n",
       "    }\n",
       "</style>\n",
       "<table border=\"1\" class=\"dataframe\">\n",
       "  <thead>\n",
       "    <tr style=\"text-align: right;\">\n",
       "      <th></th>\n",
       "      <th>sex</th>\n",
       "      <th>height_ord</th>\n",
       "      <th>marital_status_ord</th>\n",
       "      <th>education_status_ord</th>\n",
       "      <th>children_status_ord</th>\n",
       "      <th>risk_status_ord</th>\n",
       "      <th>location_status_ord</th>\n",
       "      <th>depo_status_ord</th>\n",
       "      <th>activity_status_ord</th>\n",
       "    </tr>\n",
       "  </thead>\n",
       "  <tbody>\n",
       "    <tr>\n",
       "      <th>0</th>\n",
       "      <td>1</td>\n",
       "      <td>43</td>\n",
       "      <td>1</td>\n",
       "      <td>1</td>\n",
       "      <td>1</td>\n",
       "      <td>2</td>\n",
       "      <td>1</td>\n",
       "      <td>2.5</td>\n",
       "      <td>4</td>\n",
       "    </tr>\n",
       "    <tr>\n",
       "      <th>1</th>\n",
       "      <td>1</td>\n",
       "      <td>53</td>\n",
       "      <td>0</td>\n",
       "      <td>1</td>\n",
       "      <td>1</td>\n",
       "      <td>1</td>\n",
       "      <td>2</td>\n",
       "      <td>7.5</td>\n",
       "      <td>4</td>\n",
       "    </tr>\n",
       "    <tr>\n",
       "      <th>2</th>\n",
       "      <td>1</td>\n",
       "      <td>53</td>\n",
       "      <td>1</td>\n",
       "      <td>1</td>\n",
       "      <td>0</td>\n",
       "      <td>1</td>\n",
       "      <td>1</td>\n",
       "      <td>7.5</td>\n",
       "      <td>5</td>\n",
       "    </tr>\n",
       "    <tr>\n",
       "      <th>3</th>\n",
       "      <td>1</td>\n",
       "      <td>60</td>\n",
       "      <td>0</td>\n",
       "      <td>1</td>\n",
       "      <td>1</td>\n",
       "      <td>1</td>\n",
       "      <td>10</td>\n",
       "      <td>7.5</td>\n",
       "      <td>4</td>\n",
       "    </tr>\n",
       "    <tr>\n",
       "      <th>4</th>\n",
       "      <td>1</td>\n",
       "      <td>43</td>\n",
       "      <td>1</td>\n",
       "      <td>1</td>\n",
       "      <td>0</td>\n",
       "      <td>2</td>\n",
       "      <td>2</td>\n",
       "      <td>2.5</td>\n",
       "      <td>5</td>\n",
       "    </tr>\n",
       "  </tbody>\n",
       "</table>\n",
       "</div>"
      ],
      "text/plain": [
       "   sex  height_ord  marital_status_ord  education_status_ord  \\\n",
       "0    1          43                   1                     1   \n",
       "1    1          53                   0                     1   \n",
       "2    1          53                   1                     1   \n",
       "3    1          60                   0                     1   \n",
       "4    1          43                   1                     1   \n",
       "\n",
       "   children_status_ord  risk_status_ord  location_status_ord  depo_status_ord  \\\n",
       "0                    1                2                    1              2.5   \n",
       "1                    1                1                    2              7.5   \n",
       "2                    0                1                    1              7.5   \n",
       "3                    1                1                   10              7.5   \n",
       "4                    0                2                    2              2.5   \n",
       "\n",
       "   activity_status_ord  \n",
       "0                    4  \n",
       "1                    4  \n",
       "2                    5  \n",
       "3                    4  \n",
       "4                    5  "
      ]
     },
     "execution_count": 106,
     "metadata": {},
     "output_type": "execute_result"
    }
   ],
   "source": [
    "df_treated.head()"
   ]
  },
  {
   "cell_type": "code",
   "execution_count": 107,
   "id": "54f7fca4",
   "metadata": {},
   "outputs": [],
   "source": [
    "#сохраним обновленный датасет для дальнейшей работы с ним"
   ]
  },
  {
   "cell_type": "code",
   "execution_count": 108,
   "id": "10eeaa81",
   "metadata": {},
   "outputs": [],
   "source": [
    "file_name_tr = 'users_treated.csv'"
   ]
  },
  {
   "cell_type": "code",
   "execution_count": 109,
   "id": "e19b3d77",
   "metadata": {},
   "outputs": [],
   "source": [
    "df.to_csv(file_name_tr, encoding='utf-8', index=False)"
   ]
  },
  {
   "cell_type": "code",
   "execution_count": null,
   "id": "cd17a1da",
   "metadata": {},
   "outputs": [],
   "source": []
  }
 ],
 "metadata": {
  "kernelspec": {
   "display_name": "Python 3",
   "language": "python",
   "name": "python3"
  },
  "language_info": {
   "codemirror_mode": {
    "name": "ipython",
    "version": 3
   },
   "file_extension": ".py",
   "mimetype": "text/x-python",
   "name": "python",
   "nbconvert_exporter": "python",
   "pygments_lexer": "ipython3",
   "version": "3.9.6"
  }
 },
 "nbformat": 4,
 "nbformat_minor": 5
}
