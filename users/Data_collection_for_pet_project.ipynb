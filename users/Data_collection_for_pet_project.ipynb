{
 "cells": [
  {
   "cell_type": "code",
   "execution_count": 2,
   "id": "21a9bb14",
   "metadata": {},
   "outputs": [],
   "source": [
    "import numpy as np \n",
    "import pandas as pd\n",
    "import matplotlib as plt"
   ]
  },
  {
   "cell_type": "markdown",
   "id": "02907200",
   "metadata": {},
   "source": [
    "__Создание искусственного датасета на основе статьи [Tinkoff](https://vc.ru/tinkoff_invest/257662-molodye-i-derzkie-tinkoff-investicii-sostavili-portret-novogo-millionera)__"
   ]
  },
  {
   "cell_type": "markdown",
   "id": "2b52b1b9",
   "metadata": {},
   "source": [
    "После изучения данной [статьи](https://smart-lab.ru/blog/722471.php) берем за основу кол-во активных юзеров 1 427 621.\n",
    "Доля Тинькофф на этом рынке - 40%. Доля юзеров со счетом от 1 до 5 млн рублей составляет 4.7% ([данные ЦБ](https://cbr.ru/analytics/rcb/broker_market/))"
   ]
  },
  {
   "cell_type": "markdown",
   "id": "b6b7d52c",
   "metadata": {},
   "source": [
    "__Заводим искусственных юзеров__"
   ]
  },
  {
   "cell_type": "code",
   "execution_count": 3,
   "id": "e25419ec",
   "metadata": {},
   "outputs": [],
   "source": [
    "id_list = np.arange(1, 25001, 1)"
   ]
  },
  {
   "cell_type": "code",
   "execution_count": 4,
   "id": "4c66b1ae",
   "metadata": {},
   "outputs": [
    {
     "data": {
      "text/plain": [
       "array([    1,     2,     3, ..., 24998, 24999, 25000])"
      ]
     },
     "execution_count": 4,
     "metadata": {},
     "output_type": "execute_result"
    }
   ],
   "source": [
    "id_list"
   ]
  },
  {
   "cell_type": "code",
   "execution_count": 7,
   "id": "f82a3264",
   "metadata": {},
   "outputs": [],
   "source": [
    "# 25 000 юзеров - вполне достаточно. \n",
    "# Строчка ниже - распределение по гендерному признаку."
   ]
  },
  {
   "cell_type": "code",
   "execution_count": 8,
   "id": "7ec1f919",
   "metadata": {},
   "outputs": [],
   "source": [
    "men_per = 0.866\n",
    "women_per = 0.134"
   ]
  },
  {
   "cell_type": "code",
   "execution_count": 9,
   "id": "cee4b2e7",
   "metadata": {},
   "outputs": [],
   "source": [
    "shape = len(id_list)"
   ]
  },
  {
   "cell_type": "code",
   "execution_count": 10,
   "id": "5c526a6f",
   "metadata": {},
   "outputs": [
    {
     "data": {
      "text/plain": [
       "25000"
      ]
     },
     "execution_count": 10,
     "metadata": {},
     "output_type": "execute_result"
    }
   ],
   "source": [
    "shape"
   ]
  },
  {
   "cell_type": "code",
   "execution_count": 11,
   "id": "b5a5bafe",
   "metadata": {},
   "outputs": [],
   "source": [
    "percentile = [men_per, women_per]"
   ]
  },
  {
   "cell_type": "markdown",
   "id": "a5ab57f6",
   "metadata": {},
   "source": [
    "__SEX__"
   ]
  },
  {
   "cell_type": "code",
   "execution_count": 12,
   "id": "be30d225",
   "metadata": {},
   "outputs": [],
   "source": [
    "sex_value = [1, 0]"
   ]
  },
  {
   "cell_type": "code",
   "execution_count": 13,
   "id": "efc9d347",
   "metadata": {},
   "outputs": [],
   "source": [
    "data = dict()"
   ]
  },
  {
   "cell_type": "code",
   "execution_count": 14,
   "id": "9635c07e",
   "metadata": {},
   "outputs": [],
   "source": [
    "for i in range(len(id_list)): \n",
    "    data[id_list[i]] = np.random.choice(sex_value, p=percentile)"
   ]
  },
  {
   "cell_type": "code",
   "execution_count": 15,
   "id": "b625451a",
   "metadata": {},
   "outputs": [],
   "source": [
    "ser = pd.Series(data)"
   ]
  },
  {
   "cell_type": "code",
   "execution_count": 16,
   "id": "9c47ee48",
   "metadata": {},
   "outputs": [
    {
     "data": {
      "text/plain": [
       "1        1\n",
       "2        1\n",
       "3        1\n",
       "4        1\n",
       "5        0\n",
       "        ..\n",
       "24996    1\n",
       "24997    1\n",
       "24998    0\n",
       "24999    1\n",
       "25000    1\n",
       "Length: 25000, dtype: int64"
      ]
     },
     "execution_count": 16,
     "metadata": {},
     "output_type": "execute_result"
    }
   ],
   "source": [
    "ser"
   ]
  },
  {
   "cell_type": "markdown",
   "id": "9104bdbc",
   "metadata": {},
   "source": [
    "__HEIGHT__"
   ]
  },
  {
   "cell_type": "code",
   "execution_count": 17,
   "id": "4064230b",
   "metadata": {},
   "outputs": [],
   "source": [
    "# распределение по возрастному признаку. "
   ]
  },
  {
   "cell_type": "code",
   "execution_count": 18,
   "id": "9886ccc5",
   "metadata": {},
   "outputs": [],
   "source": [
    "general_height = ['18-28', '28-38', '38-48', '48+']"
   ]
  },
  {
   "cell_type": "code",
   "execution_count": 19,
   "id": "ef42e38d",
   "metadata": {},
   "outputs": [],
   "source": [
    "height_percent = [0.037, 0.365, 0.389, 0.209]"
   ]
  },
  {
   "cell_type": "code",
   "execution_count": 20,
   "id": "2c74824b",
   "metadata": {},
   "outputs": [],
   "source": [
    "for i in range(len(id_list)): \n",
    "    data[id_list[i]] = np.random.choice(general_height, p=height_percent)"
   ]
  },
  {
   "cell_type": "code",
   "execution_count": 21,
   "id": "9fb76241",
   "metadata": {},
   "outputs": [],
   "source": [
    "ser2 = pd.Series(data)"
   ]
  },
  {
   "cell_type": "code",
   "execution_count": 22,
   "id": "d52ec0fd",
   "metadata": {},
   "outputs": [],
   "source": [
    "df = pd.DataFrame({'sex': ser, 'height': ser2})"
   ]
  },
  {
   "cell_type": "code",
   "execution_count": 23,
   "id": "991fe83e",
   "metadata": {},
   "outputs": [
    {
     "data": {
      "text/html": [
       "<div>\n",
       "<style scoped>\n",
       "    .dataframe tbody tr th:only-of-type {\n",
       "        vertical-align: middle;\n",
       "    }\n",
       "\n",
       "    .dataframe tbody tr th {\n",
       "        vertical-align: top;\n",
       "    }\n",
       "\n",
       "    .dataframe thead th {\n",
       "        text-align: right;\n",
       "    }\n",
       "</style>\n",
       "<table border=\"1\" class=\"dataframe\">\n",
       "  <thead>\n",
       "    <tr style=\"text-align: right;\">\n",
       "      <th></th>\n",
       "      <th>sex</th>\n",
       "      <th>height</th>\n",
       "    </tr>\n",
       "  </thead>\n",
       "  <tbody>\n",
       "    <tr>\n",
       "      <th>1</th>\n",
       "      <td>1</td>\n",
       "      <td>48+</td>\n",
       "    </tr>\n",
       "    <tr>\n",
       "      <th>2</th>\n",
       "      <td>1</td>\n",
       "      <td>28-38</td>\n",
       "    </tr>\n",
       "    <tr>\n",
       "      <th>3</th>\n",
       "      <td>1</td>\n",
       "      <td>48+</td>\n",
       "    </tr>\n",
       "    <tr>\n",
       "      <th>4</th>\n",
       "      <td>1</td>\n",
       "      <td>38-48</td>\n",
       "    </tr>\n",
       "    <tr>\n",
       "      <th>5</th>\n",
       "      <td>0</td>\n",
       "      <td>48+</td>\n",
       "    </tr>\n",
       "  </tbody>\n",
       "</table>\n",
       "</div>"
      ],
      "text/plain": [
       "   sex height\n",
       "1    1    48+\n",
       "2    1  28-38\n",
       "3    1    48+\n",
       "4    1  38-48\n",
       "5    0    48+"
      ]
     },
     "execution_count": 23,
     "metadata": {},
     "output_type": "execute_result"
    }
   ],
   "source": [
    "df.head()"
   ]
  },
  {
   "cell_type": "code",
   "execution_count": 24,
   "id": "4c103bcc",
   "metadata": {},
   "outputs": [
    {
     "data": {
      "text/plain": [
       "1    21639\n",
       "0     3361\n",
       "Name: sex, dtype: int64"
      ]
     },
     "execution_count": 24,
     "metadata": {},
     "output_type": "execute_result"
    }
   ],
   "source": [
    "df.sex.value_counts()"
   ]
  },
  {
   "cell_type": "code",
   "execution_count": 25,
   "id": "9a18fa7f",
   "metadata": {},
   "outputs": [
    {
     "data": {
      "text/plain": [
       "38-48    9727\n",
       "28-38    9158\n",
       "48+      5225\n",
       "18-28     890\n",
       "Name: height, dtype: int64"
      ]
     },
     "execution_count": 25,
     "metadata": {},
     "output_type": "execute_result"
    }
   ],
   "source": [
    "df.height.value_counts()"
   ]
  },
  {
   "cell_type": "code",
   "execution_count": 26,
   "id": "e019d776",
   "metadata": {},
   "outputs": [],
   "source": [
    "#Комментарий: ну что же, реверс-инжиниринг данных хорошо идет, двигаемся дальше..."
   ]
  },
  {
   "cell_type": "markdown",
   "id": "3f823e04",
   "metadata": {},
   "source": [
    "__Marital status__"
   ]
  },
  {
   "cell_type": "code",
   "execution_count": 27,
   "id": "421924e5",
   "metadata": {},
   "outputs": [],
   "source": [
    "status = ['married', 'not_married']"
   ]
  },
  {
   "cell_type": "code",
   "execution_count": 28,
   "id": "80d2f3d9",
   "metadata": {},
   "outputs": [],
   "source": [
    "status_percent = [0.55, 0.45]"
   ]
  },
  {
   "cell_type": "code",
   "execution_count": 29,
   "id": "31a76be9",
   "metadata": {},
   "outputs": [],
   "source": [
    "# для простоты работы создадим функцию, которая будет принимать список из вероятностей признака (prob_feature) и \n",
    "# сам признак (feature_list), а также id_list.\n",
    "\n",
    "# Оставим поэтапную обработку добора фичей, чтобы вслучае каких-либо обстоятельств мы могли добавить или удалить признак."
   ]
  },
  {
   "cell_type": "code",
   "execution_count": 30,
   "id": "ece08123",
   "metadata": {},
   "outputs": [],
   "source": [
    "def get_series(feature_list, prob_feature, id_feature_list): \n",
    "    \n",
    "    \"\"\"\"\n",
    "    \n",
    "    feture_list -> (List) - Данные признака, который хотим восстановить\n",
    "    prob_feature -> (List) - Вероятность этого признака\n",
    "    id_feature_list -> (List) - id_list синтетических юзеров\n",
    "    \n",
    "    \"\"\"\n",
    "    \n",
    "    data = dict()\n",
    "    for i in range(len(id_feature_list)): \n",
    "        data[id_feature_list[i]] = np.random.choice(feature_list, p=prob_feature)\n",
    "    ser_feature = pd.Series(data)\n",
    "    \n",
    "    return ser_feature"
   ]
  },
  {
   "cell_type": "code",
   "execution_count": 31,
   "id": "13a97592",
   "metadata": {},
   "outputs": [],
   "source": [
    "mar_status = get_series(status, status_percent, id_list)"
   ]
  },
  {
   "cell_type": "code",
   "execution_count": 32,
   "id": "063dd6b1",
   "metadata": {},
   "outputs": [],
   "source": [
    "df['marital_status'] = mar_status"
   ]
  },
  {
   "cell_type": "code",
   "execution_count": 33,
   "id": "b7c8e8f8",
   "metadata": {},
   "outputs": [
    {
     "data": {
      "text/html": [
       "<div>\n",
       "<style scoped>\n",
       "    .dataframe tbody tr th:only-of-type {\n",
       "        vertical-align: middle;\n",
       "    }\n",
       "\n",
       "    .dataframe tbody tr th {\n",
       "        vertical-align: top;\n",
       "    }\n",
       "\n",
       "    .dataframe thead th {\n",
       "        text-align: right;\n",
       "    }\n",
       "</style>\n",
       "<table border=\"1\" class=\"dataframe\">\n",
       "  <thead>\n",
       "    <tr style=\"text-align: right;\">\n",
       "      <th></th>\n",
       "      <th>sex</th>\n",
       "      <th>height</th>\n",
       "      <th>marital_status</th>\n",
       "    </tr>\n",
       "  </thead>\n",
       "  <tbody>\n",
       "    <tr>\n",
       "      <th>1</th>\n",
       "      <td>1</td>\n",
       "      <td>48+</td>\n",
       "      <td>married</td>\n",
       "    </tr>\n",
       "    <tr>\n",
       "      <th>2</th>\n",
       "      <td>1</td>\n",
       "      <td>28-38</td>\n",
       "      <td>married</td>\n",
       "    </tr>\n",
       "    <tr>\n",
       "      <th>3</th>\n",
       "      <td>1</td>\n",
       "      <td>48+</td>\n",
       "      <td>not_married</td>\n",
       "    </tr>\n",
       "    <tr>\n",
       "      <th>4</th>\n",
       "      <td>1</td>\n",
       "      <td>38-48</td>\n",
       "      <td>not_married</td>\n",
       "    </tr>\n",
       "    <tr>\n",
       "      <th>5</th>\n",
       "      <td>0</td>\n",
       "      <td>48+</td>\n",
       "      <td>married</td>\n",
       "    </tr>\n",
       "  </tbody>\n",
       "</table>\n",
       "</div>"
      ],
      "text/plain": [
       "   sex height marital_status\n",
       "1    1    48+        married\n",
       "2    1  28-38        married\n",
       "3    1    48+    not_married\n",
       "4    1  38-48    not_married\n",
       "5    0    48+        married"
      ]
     },
     "execution_count": 33,
     "metadata": {},
     "output_type": "execute_result"
    }
   ],
   "source": [
    "df.head()"
   ]
  },
  {
   "cell_type": "code",
   "execution_count": 34,
   "id": "ec524fd1",
   "metadata": {},
   "outputs": [
    {
     "data": {
      "text/plain": [
       "married        13815\n",
       "not_married    11185\n",
       "Name: marital_status, dtype: int64"
      ]
     },
     "execution_count": 34,
     "metadata": {},
     "output_type": "execute_result"
    }
   ],
   "source": [
    "#как всегда проверяем сами себя: \n",
    "df.marital_status.value_counts()"
   ]
  },
  {
   "cell_type": "markdown",
   "id": "ac8700cc",
   "metadata": {},
   "source": [
    "__Education__"
   ]
  },
  {
   "cell_type": "code",
   "execution_count": 35,
   "id": "145b6a3d",
   "metadata": {},
   "outputs": [],
   "source": [
    "education = ['high_education', 'medium_education', 'second_high_education', 'academic_credential']\n",
    "education_percent = [0.8, 0.06, 0.11, 0.03]"
   ]
  },
  {
   "cell_type": "code",
   "execution_count": 36,
   "id": "e201404b",
   "metadata": {},
   "outputs": [],
   "source": [
    "education_status = get_series(education, education_percent, id_list)"
   ]
  },
  {
   "cell_type": "code",
   "execution_count": 37,
   "id": "c47850c1",
   "metadata": {},
   "outputs": [],
   "source": [
    "df['education_status'] = education_status"
   ]
  },
  {
   "cell_type": "code",
   "execution_count": 38,
   "id": "955df4b9",
   "metadata": {},
   "outputs": [
    {
     "data": {
      "text/html": [
       "<div>\n",
       "<style scoped>\n",
       "    .dataframe tbody tr th:only-of-type {\n",
       "        vertical-align: middle;\n",
       "    }\n",
       "\n",
       "    .dataframe tbody tr th {\n",
       "        vertical-align: top;\n",
       "    }\n",
       "\n",
       "    .dataframe thead th {\n",
       "        text-align: right;\n",
       "    }\n",
       "</style>\n",
       "<table border=\"1\" class=\"dataframe\">\n",
       "  <thead>\n",
       "    <tr style=\"text-align: right;\">\n",
       "      <th></th>\n",
       "      <th>sex</th>\n",
       "      <th>height</th>\n",
       "      <th>marital_status</th>\n",
       "      <th>education_status</th>\n",
       "    </tr>\n",
       "  </thead>\n",
       "  <tbody>\n",
       "    <tr>\n",
       "      <th>1</th>\n",
       "      <td>1</td>\n",
       "      <td>48+</td>\n",
       "      <td>married</td>\n",
       "      <td>high_education</td>\n",
       "    </tr>\n",
       "    <tr>\n",
       "      <th>2</th>\n",
       "      <td>1</td>\n",
       "      <td>28-38</td>\n",
       "      <td>married</td>\n",
       "      <td>second_high_education</td>\n",
       "    </tr>\n",
       "    <tr>\n",
       "      <th>3</th>\n",
       "      <td>1</td>\n",
       "      <td>48+</td>\n",
       "      <td>not_married</td>\n",
       "      <td>high_education</td>\n",
       "    </tr>\n",
       "    <tr>\n",
       "      <th>4</th>\n",
       "      <td>1</td>\n",
       "      <td>38-48</td>\n",
       "      <td>not_married</td>\n",
       "      <td>second_high_education</td>\n",
       "    </tr>\n",
       "    <tr>\n",
       "      <th>5</th>\n",
       "      <td>0</td>\n",
       "      <td>48+</td>\n",
       "      <td>married</td>\n",
       "      <td>high_education</td>\n",
       "    </tr>\n",
       "  </tbody>\n",
       "</table>\n",
       "</div>"
      ],
      "text/plain": [
       "   sex height marital_status       education_status\n",
       "1    1    48+        married         high_education\n",
       "2    1  28-38        married  second_high_education\n",
       "3    1    48+    not_married         high_education\n",
       "4    1  38-48    not_married  second_high_education\n",
       "5    0    48+        married         high_education"
      ]
     },
     "execution_count": 38,
     "metadata": {},
     "output_type": "execute_result"
    }
   ],
   "source": [
    "df.head()"
   ]
  },
  {
   "cell_type": "code",
   "execution_count": 39,
   "id": "76559eeb",
   "metadata": {},
   "outputs": [
    {
     "data": {
      "text/plain": [
       "high_education           19969\n",
       "second_high_education     2773\n",
       "medium_education          1520\n",
       "academic_credential        738\n",
       "Name: education_status, dtype: int64"
      ]
     },
     "execution_count": 39,
     "metadata": {},
     "output_type": "execute_result"
    }
   ],
   "source": [
    "df.education_status.value_counts()"
   ]
  },
  {
   "cell_type": "markdown",
   "id": "a6c2ba96",
   "metadata": {},
   "source": [
    "__Children__"
   ]
  },
  {
   "cell_type": "code",
   "execution_count": 40,
   "id": "fc97a966",
   "metadata": {},
   "outputs": [],
   "source": [
    "child = ['children', 'no_children']"
   ]
  },
  {
   "cell_type": "code",
   "execution_count": 41,
   "id": "854bc001",
   "metadata": {},
   "outputs": [],
   "source": [
    "children_percent = [0.5, 0.5]"
   ]
  },
  {
   "cell_type": "code",
   "execution_count": 42,
   "id": "83c8502b",
   "metadata": {},
   "outputs": [],
   "source": [
    "children_status = get_series(child, children_percent, id_list)"
   ]
  },
  {
   "cell_type": "code",
   "execution_count": 43,
   "id": "6cb34b90",
   "metadata": {},
   "outputs": [],
   "source": [
    "df['children_status'] = children_status"
   ]
  },
  {
   "cell_type": "code",
   "execution_count": 44,
   "id": "29300b5d",
   "metadata": {},
   "outputs": [
    {
     "data": {
      "text/html": [
       "<div>\n",
       "<style scoped>\n",
       "    .dataframe tbody tr th:only-of-type {\n",
       "        vertical-align: middle;\n",
       "    }\n",
       "\n",
       "    .dataframe tbody tr th {\n",
       "        vertical-align: top;\n",
       "    }\n",
       "\n",
       "    .dataframe thead th {\n",
       "        text-align: right;\n",
       "    }\n",
       "</style>\n",
       "<table border=\"1\" class=\"dataframe\">\n",
       "  <thead>\n",
       "    <tr style=\"text-align: right;\">\n",
       "      <th></th>\n",
       "      <th>sex</th>\n",
       "      <th>height</th>\n",
       "      <th>marital_status</th>\n",
       "      <th>education_status</th>\n",
       "      <th>children_status</th>\n",
       "    </tr>\n",
       "  </thead>\n",
       "  <tbody>\n",
       "    <tr>\n",
       "      <th>1</th>\n",
       "      <td>1</td>\n",
       "      <td>48+</td>\n",
       "      <td>married</td>\n",
       "      <td>high_education</td>\n",
       "      <td>no_children</td>\n",
       "    </tr>\n",
       "    <tr>\n",
       "      <th>2</th>\n",
       "      <td>1</td>\n",
       "      <td>28-38</td>\n",
       "      <td>married</td>\n",
       "      <td>second_high_education</td>\n",
       "      <td>children</td>\n",
       "    </tr>\n",
       "    <tr>\n",
       "      <th>3</th>\n",
       "      <td>1</td>\n",
       "      <td>48+</td>\n",
       "      <td>not_married</td>\n",
       "      <td>high_education</td>\n",
       "      <td>no_children</td>\n",
       "    </tr>\n",
       "    <tr>\n",
       "      <th>4</th>\n",
       "      <td>1</td>\n",
       "      <td>38-48</td>\n",
       "      <td>not_married</td>\n",
       "      <td>second_high_education</td>\n",
       "      <td>no_children</td>\n",
       "    </tr>\n",
       "    <tr>\n",
       "      <th>5</th>\n",
       "      <td>0</td>\n",
       "      <td>48+</td>\n",
       "      <td>married</td>\n",
       "      <td>high_education</td>\n",
       "      <td>children</td>\n",
       "    </tr>\n",
       "  </tbody>\n",
       "</table>\n",
       "</div>"
      ],
      "text/plain": [
       "   sex height marital_status       education_status children_status\n",
       "1    1    48+        married         high_education     no_children\n",
       "2    1  28-38        married  second_high_education        children\n",
       "3    1    48+    not_married         high_education     no_children\n",
       "4    1  38-48    not_married  second_high_education     no_children\n",
       "5    0    48+        married         high_education        children"
      ]
     },
     "execution_count": 44,
     "metadata": {},
     "output_type": "execute_result"
    }
   ],
   "source": [
    "df.head()"
   ]
  },
  {
   "cell_type": "code",
   "execution_count": 45,
   "id": "e1988e44",
   "metadata": {},
   "outputs": [
    {
     "data": {
      "text/plain": [
       "no_children    12576\n",
       "children       12424\n",
       "Name: children_status, dtype: int64"
      ]
     },
     "execution_count": 45,
     "metadata": {},
     "output_type": "execute_result"
    }
   ],
   "source": [
    "df.children_status.value_counts()"
   ]
  },
  {
   "cell_type": "markdown",
   "id": "f3a4c794",
   "metadata": {},
   "source": [
    "__Risk profile__ "
   ]
  },
  {
   "cell_type": "code",
   "execution_count": 46,
   "id": "d05628b0",
   "metadata": {},
   "outputs": [],
   "source": [
    "# Уровень риска, который указывает инвестор в анкете. "
   ]
  },
  {
   "cell_type": "code",
   "execution_count": 47,
   "id": "8ef9ad66",
   "metadata": {},
   "outputs": [],
   "source": [
    "risk_profile = ['high_risk', 'medium_risk', 'low_risk']"
   ]
  },
  {
   "cell_type": "code",
   "execution_count": 48,
   "id": "1f6555d1",
   "metadata": {},
   "outputs": [],
   "source": [
    "risk_percent = [0.6, 0.36, 0.04]"
   ]
  },
  {
   "cell_type": "code",
   "execution_count": 49,
   "id": "029e9339",
   "metadata": {},
   "outputs": [],
   "source": [
    "risk_status = get_series(risk_profile, risk_percent, id_list)"
   ]
  },
  {
   "cell_type": "code",
   "execution_count": 50,
   "id": "06520e1f",
   "metadata": {},
   "outputs": [],
   "source": [
    "df['risk_status'] = risk_status"
   ]
  },
  {
   "cell_type": "code",
   "execution_count": 51,
   "id": "e9eb7953",
   "metadata": {},
   "outputs": [
    {
     "data": {
      "text/html": [
       "<div>\n",
       "<style scoped>\n",
       "    .dataframe tbody tr th:only-of-type {\n",
       "        vertical-align: middle;\n",
       "    }\n",
       "\n",
       "    .dataframe tbody tr th {\n",
       "        vertical-align: top;\n",
       "    }\n",
       "\n",
       "    .dataframe thead th {\n",
       "        text-align: right;\n",
       "    }\n",
       "</style>\n",
       "<table border=\"1\" class=\"dataframe\">\n",
       "  <thead>\n",
       "    <tr style=\"text-align: right;\">\n",
       "      <th></th>\n",
       "      <th>sex</th>\n",
       "      <th>height</th>\n",
       "      <th>marital_status</th>\n",
       "      <th>education_status</th>\n",
       "      <th>children_status</th>\n",
       "      <th>risk_status</th>\n",
       "    </tr>\n",
       "  </thead>\n",
       "  <tbody>\n",
       "    <tr>\n",
       "      <th>1</th>\n",
       "      <td>1</td>\n",
       "      <td>48+</td>\n",
       "      <td>married</td>\n",
       "      <td>high_education</td>\n",
       "      <td>no_children</td>\n",
       "      <td>medium_risk</td>\n",
       "    </tr>\n",
       "    <tr>\n",
       "      <th>2</th>\n",
       "      <td>1</td>\n",
       "      <td>28-38</td>\n",
       "      <td>married</td>\n",
       "      <td>second_high_education</td>\n",
       "      <td>children</td>\n",
       "      <td>low_risk</td>\n",
       "    </tr>\n",
       "    <tr>\n",
       "      <th>3</th>\n",
       "      <td>1</td>\n",
       "      <td>48+</td>\n",
       "      <td>not_married</td>\n",
       "      <td>high_education</td>\n",
       "      <td>no_children</td>\n",
       "      <td>medium_risk</td>\n",
       "    </tr>\n",
       "    <tr>\n",
       "      <th>4</th>\n",
       "      <td>1</td>\n",
       "      <td>38-48</td>\n",
       "      <td>not_married</td>\n",
       "      <td>second_high_education</td>\n",
       "      <td>no_children</td>\n",
       "      <td>medium_risk</td>\n",
       "    </tr>\n",
       "    <tr>\n",
       "      <th>5</th>\n",
       "      <td>0</td>\n",
       "      <td>48+</td>\n",
       "      <td>married</td>\n",
       "      <td>high_education</td>\n",
       "      <td>children</td>\n",
       "      <td>medium_risk</td>\n",
       "    </tr>\n",
       "  </tbody>\n",
       "</table>\n",
       "</div>"
      ],
      "text/plain": [
       "   sex height marital_status       education_status children_status  \\\n",
       "1    1    48+        married         high_education     no_children   \n",
       "2    1  28-38        married  second_high_education        children   \n",
       "3    1    48+    not_married         high_education     no_children   \n",
       "4    1  38-48    not_married  second_high_education     no_children   \n",
       "5    0    48+        married         high_education        children   \n",
       "\n",
       "   risk_status  \n",
       "1  medium_risk  \n",
       "2     low_risk  \n",
       "3  medium_risk  \n",
       "4  medium_risk  \n",
       "5  medium_risk  "
      ]
     },
     "execution_count": 51,
     "metadata": {},
     "output_type": "execute_result"
    }
   ],
   "source": [
    "df.head()"
   ]
  },
  {
   "cell_type": "code",
   "execution_count": 52,
   "id": "4f1e7930",
   "metadata": {},
   "outputs": [
    {
     "data": {
      "text/plain": [
       "high_risk      15021\n",
       "medium_risk     8933\n",
       "low_risk        1046\n",
       "Name: risk_status, dtype: int64"
      ]
     },
     "execution_count": 52,
     "metadata": {},
     "output_type": "execute_result"
    }
   ],
   "source": [
    "df.risk_status.value_counts()"
   ]
  },
  {
   "cell_type": "markdown",
   "id": "0fbc2e2c",
   "metadata": {},
   "source": [
    "__Location__"
   ]
  },
  {
   "cell_type": "code",
   "execution_count": 53,
   "id": "62ef8da2",
   "metadata": {},
   "outputs": [],
   "source": [
    "#Город, в котором проживает инвестор"
   ]
  },
  {
   "cell_type": "code",
   "execution_count": 54,
   "id": "a18a2054",
   "metadata": {},
   "outputs": [],
   "source": [
    "city = ['Moscow', 'Sain-Petersburg', 'Krasnodar', 'Moscow_region', 'Tatarstan',\n",
    "        'Rostov','Samara', 'Ekaterinburg', 'Volgograd', 'Novosibirsk']"
   ]
  },
  {
   "cell_type": "code",
   "execution_count": 55,
   "id": "dcb6659c",
   "metadata": {},
   "outputs": [],
   "source": [
    "citizens = np.array([12678, 5398, 933, 7708, 1129, 1138, 1157, 1494, 1009, 1626])"
   ]
  },
  {
   "cell_type": "code",
   "execution_count": 56,
   "id": "4adbd48d",
   "metadata": {},
   "outputs": [],
   "source": [
    "citizens_sum = citizens.sum()"
   ]
  },
  {
   "cell_type": "code",
   "execution_count": 57,
   "id": "70e9b526",
   "metadata": {},
   "outputs": [],
   "source": [
    "city_percent = [round(citizens[i]/citizens_sum, 3) for i in range(len(city))] "
   ]
  },
  {
   "cell_type": "code",
   "execution_count": 58,
   "id": "01b0d168",
   "metadata": {},
   "outputs": [
    {
     "data": {
      "text/plain": [
       "[0.37, 0.158, 0.027, 0.225, 0.033, 0.033, 0.034, 0.044, 0.029, 0.047]"
      ]
     },
     "execution_count": 58,
     "metadata": {},
     "output_type": "execute_result"
    }
   ],
   "source": [
    "city_percent"
   ]
  },
  {
   "cell_type": "code",
   "execution_count": 59,
   "id": "6a888dc4",
   "metadata": {},
   "outputs": [],
   "source": [
    "city_percent=np.array([city_percent])"
   ]
  },
  {
   "cell_type": "code",
   "execution_count": 60,
   "id": "0e95501b",
   "metadata": {},
   "outputs": [],
   "source": [
    "assert city_percent.sum()==1."
   ]
  },
  {
   "cell_type": "code",
   "execution_count": 61,
   "id": "92dd3d6c",
   "metadata": {},
   "outputs": [
    {
     "data": {
      "text/plain": [
       "1.0"
      ]
     },
     "execution_count": 61,
     "metadata": {},
     "output_type": "execute_result"
    }
   ],
   "source": [
    "city_percent.sum()"
   ]
  },
  {
   "cell_type": "code",
   "execution_count": 62,
   "id": "5d511193",
   "metadata": {},
   "outputs": [],
   "source": [
    "location_status = get_series(city, city_percent.flatten(), id_list)"
   ]
  },
  {
   "cell_type": "code",
   "execution_count": 63,
   "id": "263c6bcc",
   "metadata": {},
   "outputs": [],
   "source": [
    "df['location_status'] = location_status"
   ]
  },
  {
   "cell_type": "code",
   "execution_count": 64,
   "id": "25a62507",
   "metadata": {},
   "outputs": [
    {
     "data": {
      "text/html": [
       "<div>\n",
       "<style scoped>\n",
       "    .dataframe tbody tr th:only-of-type {\n",
       "        vertical-align: middle;\n",
       "    }\n",
       "\n",
       "    .dataframe tbody tr th {\n",
       "        vertical-align: top;\n",
       "    }\n",
       "\n",
       "    .dataframe thead th {\n",
       "        text-align: right;\n",
       "    }\n",
       "</style>\n",
       "<table border=\"1\" class=\"dataframe\">\n",
       "  <thead>\n",
       "    <tr style=\"text-align: right;\">\n",
       "      <th></th>\n",
       "      <th>sex</th>\n",
       "      <th>height</th>\n",
       "      <th>marital_status</th>\n",
       "      <th>education_status</th>\n",
       "      <th>children_status</th>\n",
       "      <th>risk_status</th>\n",
       "      <th>location_status</th>\n",
       "    </tr>\n",
       "  </thead>\n",
       "  <tbody>\n",
       "    <tr>\n",
       "      <th>1</th>\n",
       "      <td>1</td>\n",
       "      <td>48+</td>\n",
       "      <td>married</td>\n",
       "      <td>high_education</td>\n",
       "      <td>no_children</td>\n",
       "      <td>medium_risk</td>\n",
       "      <td>Ekaterinburg</td>\n",
       "    </tr>\n",
       "    <tr>\n",
       "      <th>2</th>\n",
       "      <td>1</td>\n",
       "      <td>28-38</td>\n",
       "      <td>married</td>\n",
       "      <td>second_high_education</td>\n",
       "      <td>children</td>\n",
       "      <td>low_risk</td>\n",
       "      <td>Moscow</td>\n",
       "    </tr>\n",
       "    <tr>\n",
       "      <th>3</th>\n",
       "      <td>1</td>\n",
       "      <td>48+</td>\n",
       "      <td>not_married</td>\n",
       "      <td>high_education</td>\n",
       "      <td>no_children</td>\n",
       "      <td>medium_risk</td>\n",
       "      <td>Moscow</td>\n",
       "    </tr>\n",
       "    <tr>\n",
       "      <th>4</th>\n",
       "      <td>1</td>\n",
       "      <td>38-48</td>\n",
       "      <td>not_married</td>\n",
       "      <td>second_high_education</td>\n",
       "      <td>no_children</td>\n",
       "      <td>medium_risk</td>\n",
       "      <td>Rostov</td>\n",
       "    </tr>\n",
       "    <tr>\n",
       "      <th>5</th>\n",
       "      <td>0</td>\n",
       "      <td>48+</td>\n",
       "      <td>married</td>\n",
       "      <td>high_education</td>\n",
       "      <td>children</td>\n",
       "      <td>medium_risk</td>\n",
       "      <td>Moscow</td>\n",
       "    </tr>\n",
       "  </tbody>\n",
       "</table>\n",
       "</div>"
      ],
      "text/plain": [
       "   sex height marital_status       education_status children_status  \\\n",
       "1    1    48+        married         high_education     no_children   \n",
       "2    1  28-38        married  second_high_education        children   \n",
       "3    1    48+    not_married         high_education     no_children   \n",
       "4    1  38-48    not_married  second_high_education     no_children   \n",
       "5    0    48+        married         high_education        children   \n",
       "\n",
       "   risk_status location_status  \n",
       "1  medium_risk    Ekaterinburg  \n",
       "2     low_risk          Moscow  \n",
       "3  medium_risk          Moscow  \n",
       "4  medium_risk          Rostov  \n",
       "5  medium_risk          Moscow  "
      ]
     },
     "execution_count": 64,
     "metadata": {},
     "output_type": "execute_result"
    }
   ],
   "source": [
    "df.head()"
   ]
  },
  {
   "cell_type": "code",
   "execution_count": 65,
   "id": "8b65a8af",
   "metadata": {},
   "outputs": [
    {
     "data": {
      "text/plain": [
       "Moscow             9286\n",
       "Moscow_region      5710\n",
       "Sain-Petersburg    3931\n",
       "Novosibirsk        1158\n",
       "Ekaterinburg       1066\n",
       "Samara              847\n",
       "Rostov              817\n",
       "Tatarstan           791\n",
       "Volgograd           727\n",
       "Krasnodar           667\n",
       "Name: location_status, dtype: int64"
      ]
     },
     "execution_count": 65,
     "metadata": {},
     "output_type": "execute_result"
    }
   ],
   "source": [
    "df.location_status.value_counts()"
   ]
  },
  {
   "cell_type": "markdown",
   "id": "dae25bb2",
   "metadata": {},
   "source": [
    "__Activity__"
   ]
  },
  {
   "cell_type": "code",
   "execution_count": 66,
   "id": "0198f73a",
   "metadata": {},
   "outputs": [],
   "source": [
    "# Занятость"
   ]
  },
  {
   "cell_type": "code",
   "execution_count": 67,
   "id": "48cef348",
   "metadata": {},
   "outputs": [],
   "source": [
    "activity = ['retirement', 'not_working', 'employee', 'own_business', 'senior_officer']"
   ]
  },
  {
   "cell_type": "code",
   "execution_count": 68,
   "id": "8eb85c22",
   "metadata": {},
   "outputs": [],
   "source": [
    "activity_percent = [0.02, 0.11, 0.2, 0.31, 0.36]"
   ]
  },
  {
   "cell_type": "code",
   "execution_count": 69,
   "id": "bb6fb363",
   "metadata": {},
   "outputs": [],
   "source": [
    "activity_status = get_series(activity, activity_percent, id_list)"
   ]
  },
  {
   "cell_type": "code",
   "execution_count": 70,
   "id": "5c7dc0d9",
   "metadata": {},
   "outputs": [],
   "source": [
    "df['activity_status'] = activity_status "
   ]
  },
  {
   "cell_type": "code",
   "execution_count": 71,
   "id": "b8cd1e60",
   "metadata": {},
   "outputs": [
    {
     "data": {
      "text/html": [
       "<div>\n",
       "<style scoped>\n",
       "    .dataframe tbody tr th:only-of-type {\n",
       "        vertical-align: middle;\n",
       "    }\n",
       "\n",
       "    .dataframe tbody tr th {\n",
       "        vertical-align: top;\n",
       "    }\n",
       "\n",
       "    .dataframe thead th {\n",
       "        text-align: right;\n",
       "    }\n",
       "</style>\n",
       "<table border=\"1\" class=\"dataframe\">\n",
       "  <thead>\n",
       "    <tr style=\"text-align: right;\">\n",
       "      <th></th>\n",
       "      <th>sex</th>\n",
       "      <th>height</th>\n",
       "      <th>marital_status</th>\n",
       "      <th>education_status</th>\n",
       "      <th>children_status</th>\n",
       "      <th>risk_status</th>\n",
       "      <th>location_status</th>\n",
       "      <th>activity_status</th>\n",
       "    </tr>\n",
       "  </thead>\n",
       "  <tbody>\n",
       "    <tr>\n",
       "      <th>1</th>\n",
       "      <td>1</td>\n",
       "      <td>48+</td>\n",
       "      <td>married</td>\n",
       "      <td>high_education</td>\n",
       "      <td>no_children</td>\n",
       "      <td>medium_risk</td>\n",
       "      <td>Ekaterinburg</td>\n",
       "      <td>employee</td>\n",
       "    </tr>\n",
       "    <tr>\n",
       "      <th>2</th>\n",
       "      <td>1</td>\n",
       "      <td>28-38</td>\n",
       "      <td>married</td>\n",
       "      <td>second_high_education</td>\n",
       "      <td>children</td>\n",
       "      <td>low_risk</td>\n",
       "      <td>Moscow</td>\n",
       "      <td>senior_officer</td>\n",
       "    </tr>\n",
       "    <tr>\n",
       "      <th>3</th>\n",
       "      <td>1</td>\n",
       "      <td>48+</td>\n",
       "      <td>not_married</td>\n",
       "      <td>high_education</td>\n",
       "      <td>no_children</td>\n",
       "      <td>medium_risk</td>\n",
       "      <td>Moscow</td>\n",
       "      <td>own_business</td>\n",
       "    </tr>\n",
       "    <tr>\n",
       "      <th>4</th>\n",
       "      <td>1</td>\n",
       "      <td>38-48</td>\n",
       "      <td>not_married</td>\n",
       "      <td>second_high_education</td>\n",
       "      <td>no_children</td>\n",
       "      <td>medium_risk</td>\n",
       "      <td>Rostov</td>\n",
       "      <td>own_business</td>\n",
       "    </tr>\n",
       "    <tr>\n",
       "      <th>5</th>\n",
       "      <td>0</td>\n",
       "      <td>48+</td>\n",
       "      <td>married</td>\n",
       "      <td>high_education</td>\n",
       "      <td>children</td>\n",
       "      <td>medium_risk</td>\n",
       "      <td>Moscow</td>\n",
       "      <td>own_business</td>\n",
       "    </tr>\n",
       "  </tbody>\n",
       "</table>\n",
       "</div>"
      ],
      "text/plain": [
       "   sex height marital_status       education_status children_status  \\\n",
       "1    1    48+        married         high_education     no_children   \n",
       "2    1  28-38        married  second_high_education        children   \n",
       "3    1    48+    not_married         high_education     no_children   \n",
       "4    1  38-48    not_married  second_high_education     no_children   \n",
       "5    0    48+        married         high_education        children   \n",
       "\n",
       "   risk_status location_status activity_status  \n",
       "1  medium_risk    Ekaterinburg        employee  \n",
       "2     low_risk          Moscow  senior_officer  \n",
       "3  medium_risk          Moscow    own_business  \n",
       "4  medium_risk          Rostov    own_business  \n",
       "5  medium_risk          Moscow    own_business  "
      ]
     },
     "execution_count": 71,
     "metadata": {},
     "output_type": "execute_result"
    }
   ],
   "source": [
    "df.head()"
   ]
  },
  {
   "cell_type": "code",
   "execution_count": 72,
   "id": "ca437aca",
   "metadata": {},
   "outputs": [
    {
     "data": {
      "text/plain": [
       "senior_officer    9034\n",
       "own_business      7723\n",
       "employee          5016\n",
       "not_working       2722\n",
       "retirement         505\n",
       "Name: activity_status, dtype: int64"
      ]
     },
     "execution_count": 72,
     "metadata": {},
     "output_type": "execute_result"
    }
   ],
   "source": [
    "df.activity_status.value_counts()"
   ]
  },
  {
   "cell_type": "markdown",
   "id": "a5839db0",
   "metadata": {},
   "source": [
    "__Deposit amount__"
   ]
  },
  {
   "cell_type": "code",
   "execution_count": 73,
   "id": "ee7532ed",
   "metadata": {},
   "outputs": [],
   "source": [
    "# Размер средств на счете"
   ]
  },
  {
   "cell_type": "code",
   "execution_count": 74,
   "id": "7db41afa",
   "metadata": {},
   "outputs": [],
   "source": [
    "deposit_mln = ['1-5', '5-10', '10-20']"
   ]
  },
  {
   "cell_type": "code",
   "execution_count": 75,
   "id": "d256763f",
   "metadata": {},
   "outputs": [],
   "source": [
    "depo_perc = [0.6, 0.2, 0.2]"
   ]
  },
  {
   "cell_type": "code",
   "execution_count": 76,
   "id": "9c5e185d",
   "metadata": {},
   "outputs": [],
   "source": [
    "depo_status = get_series(deposit_mln, depo_perc, id_list)"
   ]
  },
  {
   "cell_type": "code",
   "execution_count": 77,
   "id": "d1ceb0fe",
   "metadata": {},
   "outputs": [],
   "source": [
    "df['depo_status'] = depo_status "
   ]
  },
  {
   "cell_type": "code",
   "execution_count": 78,
   "id": "1405ed43",
   "metadata": {},
   "outputs": [
    {
     "data": {
      "text/html": [
       "<div>\n",
       "<style scoped>\n",
       "    .dataframe tbody tr th:only-of-type {\n",
       "        vertical-align: middle;\n",
       "    }\n",
       "\n",
       "    .dataframe tbody tr th {\n",
       "        vertical-align: top;\n",
       "    }\n",
       "\n",
       "    .dataframe thead th {\n",
       "        text-align: right;\n",
       "    }\n",
       "</style>\n",
       "<table border=\"1\" class=\"dataframe\">\n",
       "  <thead>\n",
       "    <tr style=\"text-align: right;\">\n",
       "      <th></th>\n",
       "      <th>sex</th>\n",
       "      <th>height</th>\n",
       "      <th>marital_status</th>\n",
       "      <th>education_status</th>\n",
       "      <th>children_status</th>\n",
       "      <th>risk_status</th>\n",
       "      <th>location_status</th>\n",
       "      <th>activity_status</th>\n",
       "      <th>depo_status</th>\n",
       "    </tr>\n",
       "  </thead>\n",
       "  <tbody>\n",
       "    <tr>\n",
       "      <th>1</th>\n",
       "      <td>1</td>\n",
       "      <td>48+</td>\n",
       "      <td>married</td>\n",
       "      <td>high_education</td>\n",
       "      <td>no_children</td>\n",
       "      <td>medium_risk</td>\n",
       "      <td>Ekaterinburg</td>\n",
       "      <td>employee</td>\n",
       "      <td>1-5</td>\n",
       "    </tr>\n",
       "    <tr>\n",
       "      <th>2</th>\n",
       "      <td>1</td>\n",
       "      <td>28-38</td>\n",
       "      <td>married</td>\n",
       "      <td>second_high_education</td>\n",
       "      <td>children</td>\n",
       "      <td>low_risk</td>\n",
       "      <td>Moscow</td>\n",
       "      <td>senior_officer</td>\n",
       "      <td>5-10</td>\n",
       "    </tr>\n",
       "    <tr>\n",
       "      <th>3</th>\n",
       "      <td>1</td>\n",
       "      <td>48+</td>\n",
       "      <td>not_married</td>\n",
       "      <td>high_education</td>\n",
       "      <td>no_children</td>\n",
       "      <td>medium_risk</td>\n",
       "      <td>Moscow</td>\n",
       "      <td>own_business</td>\n",
       "      <td>5-10</td>\n",
       "    </tr>\n",
       "    <tr>\n",
       "      <th>4</th>\n",
       "      <td>1</td>\n",
       "      <td>38-48</td>\n",
       "      <td>not_married</td>\n",
       "      <td>second_high_education</td>\n",
       "      <td>no_children</td>\n",
       "      <td>medium_risk</td>\n",
       "      <td>Rostov</td>\n",
       "      <td>own_business</td>\n",
       "      <td>1-5</td>\n",
       "    </tr>\n",
       "    <tr>\n",
       "      <th>5</th>\n",
       "      <td>0</td>\n",
       "      <td>48+</td>\n",
       "      <td>married</td>\n",
       "      <td>high_education</td>\n",
       "      <td>children</td>\n",
       "      <td>medium_risk</td>\n",
       "      <td>Moscow</td>\n",
       "      <td>own_business</td>\n",
       "      <td>1-5</td>\n",
       "    </tr>\n",
       "  </tbody>\n",
       "</table>\n",
       "</div>"
      ],
      "text/plain": [
       "   sex height marital_status       education_status children_status  \\\n",
       "1    1    48+        married         high_education     no_children   \n",
       "2    1  28-38        married  second_high_education        children   \n",
       "3    1    48+    not_married         high_education     no_children   \n",
       "4    1  38-48    not_married  second_high_education     no_children   \n",
       "5    0    48+        married         high_education        children   \n",
       "\n",
       "   risk_status location_status activity_status depo_status  \n",
       "1  medium_risk    Ekaterinburg        employee         1-5  \n",
       "2     low_risk          Moscow  senior_officer        5-10  \n",
       "3  medium_risk          Moscow    own_business        5-10  \n",
       "4  medium_risk          Rostov    own_business         1-5  \n",
       "5  medium_risk          Moscow    own_business         1-5  "
      ]
     },
     "execution_count": 78,
     "metadata": {},
     "output_type": "execute_result"
    }
   ],
   "source": [
    "df.head()"
   ]
  },
  {
   "cell_type": "code",
   "execution_count": 79,
   "id": "5c0d318a",
   "metadata": {},
   "outputs": [
    {
     "data": {
      "text/plain": [
       "1-5      15122\n",
       "5-10      4979\n",
       "10-20     4899\n",
       "Name: depo_status, dtype: int64"
      ]
     },
     "execution_count": 79,
     "metadata": {},
     "output_type": "execute_result"
    }
   ],
   "source": [
    "df.depo_status.value_counts()"
   ]
  },
  {
   "cell_type": "code",
   "execution_count": 80,
   "id": "6e7c7645",
   "metadata": {},
   "outputs": [],
   "source": [
    "# Датасет готов. Его можно будет дополнять, это mvp от которого будем отталкиваться. Сохраним его в csv."
   ]
  },
  {
   "cell_type": "code",
   "execution_count": 81,
   "id": "0498997b",
   "metadata": {},
   "outputs": [],
   "source": [
    "file_name = 'users_initial.csv'"
   ]
  },
  {
   "cell_type": "code",
   "execution_count": 82,
   "id": "9f7a484e",
   "metadata": {},
   "outputs": [],
   "source": [
    "df.to_csv(file_name, encoding='utf-8', index=False)"
   ]
  },
  {
   "cell_type": "markdown",
   "id": "2666cae1",
   "metadata": {},
   "source": [
    "__Short EDA__ "
   ]
  },
  {
   "cell_type": "code",
   "execution_count": 83,
   "id": "ed41c415",
   "metadata": {},
   "outputs": [],
   "source": [
    "df = pd.read_csv('users_initial.csv')"
   ]
  },
  {
   "cell_type": "code",
   "execution_count": 84,
   "id": "7f5d37a4",
   "metadata": {},
   "outputs": [
    {
     "data": {
      "text/html": [
       "<div>\n",
       "<style scoped>\n",
       "    .dataframe tbody tr th:only-of-type {\n",
       "        vertical-align: middle;\n",
       "    }\n",
       "\n",
       "    .dataframe tbody tr th {\n",
       "        vertical-align: top;\n",
       "    }\n",
       "\n",
       "    .dataframe thead th {\n",
       "        text-align: right;\n",
       "    }\n",
       "</style>\n",
       "<table border=\"1\" class=\"dataframe\">\n",
       "  <thead>\n",
       "    <tr style=\"text-align: right;\">\n",
       "      <th></th>\n",
       "      <th>sex</th>\n",
       "      <th>height</th>\n",
       "      <th>marital_status</th>\n",
       "      <th>education_status</th>\n",
       "      <th>children_status</th>\n",
       "      <th>risk_status</th>\n",
       "      <th>location_status</th>\n",
       "      <th>activity_status</th>\n",
       "      <th>depo_status</th>\n",
       "    </tr>\n",
       "  </thead>\n",
       "  <tbody>\n",
       "    <tr>\n",
       "      <th>0</th>\n",
       "      <td>1</td>\n",
       "      <td>48+</td>\n",
       "      <td>married</td>\n",
       "      <td>high_education</td>\n",
       "      <td>no_children</td>\n",
       "      <td>medium_risk</td>\n",
       "      <td>Ekaterinburg</td>\n",
       "      <td>employee</td>\n",
       "      <td>1-5</td>\n",
       "    </tr>\n",
       "    <tr>\n",
       "      <th>1</th>\n",
       "      <td>1</td>\n",
       "      <td>28-38</td>\n",
       "      <td>married</td>\n",
       "      <td>second_high_education</td>\n",
       "      <td>children</td>\n",
       "      <td>low_risk</td>\n",
       "      <td>Moscow</td>\n",
       "      <td>senior_officer</td>\n",
       "      <td>5-10</td>\n",
       "    </tr>\n",
       "    <tr>\n",
       "      <th>2</th>\n",
       "      <td>1</td>\n",
       "      <td>48+</td>\n",
       "      <td>not_married</td>\n",
       "      <td>high_education</td>\n",
       "      <td>no_children</td>\n",
       "      <td>medium_risk</td>\n",
       "      <td>Moscow</td>\n",
       "      <td>own_business</td>\n",
       "      <td>5-10</td>\n",
       "    </tr>\n",
       "    <tr>\n",
       "      <th>3</th>\n",
       "      <td>1</td>\n",
       "      <td>38-48</td>\n",
       "      <td>not_married</td>\n",
       "      <td>second_high_education</td>\n",
       "      <td>no_children</td>\n",
       "      <td>medium_risk</td>\n",
       "      <td>Rostov</td>\n",
       "      <td>own_business</td>\n",
       "      <td>1-5</td>\n",
       "    </tr>\n",
       "    <tr>\n",
       "      <th>4</th>\n",
       "      <td>0</td>\n",
       "      <td>48+</td>\n",
       "      <td>married</td>\n",
       "      <td>high_education</td>\n",
       "      <td>children</td>\n",
       "      <td>medium_risk</td>\n",
       "      <td>Moscow</td>\n",
       "      <td>own_business</td>\n",
       "      <td>1-5</td>\n",
       "    </tr>\n",
       "  </tbody>\n",
       "</table>\n",
       "</div>"
      ],
      "text/plain": [
       "   sex height marital_status       education_status children_status  \\\n",
       "0    1    48+        married         high_education     no_children   \n",
       "1    1  28-38        married  second_high_education        children   \n",
       "2    1    48+    not_married         high_education     no_children   \n",
       "3    1  38-48    not_married  second_high_education     no_children   \n",
       "4    0    48+        married         high_education        children   \n",
       "\n",
       "   risk_status location_status activity_status depo_status  \n",
       "0  medium_risk    Ekaterinburg        employee         1-5  \n",
       "1     low_risk          Moscow  senior_officer        5-10  \n",
       "2  medium_risk          Moscow    own_business        5-10  \n",
       "3  medium_risk          Rostov    own_business         1-5  \n",
       "4  medium_risk          Moscow    own_business         1-5  "
      ]
     },
     "execution_count": 84,
     "metadata": {},
     "output_type": "execute_result"
    }
   ],
   "source": [
    "df.head()"
   ]
  },
  {
   "cell_type": "code",
   "execution_count": 85,
   "id": "47524326",
   "metadata": {},
   "outputs": [
    {
     "name": "stdout",
     "output_type": "stream",
     "text": [
      "<class 'pandas.core.frame.DataFrame'>\n",
      "RangeIndex: 25000 entries, 0 to 24999\n",
      "Data columns (total 9 columns):\n",
      " #   Column            Non-Null Count  Dtype \n",
      "---  ------            --------------  ----- \n",
      " 0   sex               25000 non-null  int64 \n",
      " 1   height            25000 non-null  object\n",
      " 2   marital_status    25000 non-null  object\n",
      " 3   education_status  25000 non-null  object\n",
      " 4   children_status   25000 non-null  object\n",
      " 5   risk_status       25000 non-null  object\n",
      " 6   location_status   25000 non-null  object\n",
      " 7   activity_status   25000 non-null  object\n",
      " 8   depo_status       25000 non-null  object\n",
      "dtypes: int64(1), object(8)\n",
      "memory usage: 1.7+ MB\n"
     ]
    }
   ],
   "source": [
    "df.info()"
   ]
  },
  {
   "cell_type": "code",
   "execution_count": 86,
   "id": "6c3857b1",
   "metadata": {},
   "outputs": [],
   "source": [
    "# Сначала визуализируем, затем обработаем наши данные."
   ]
  },
  {
   "cell_type": "markdown",
   "id": "3980c62d",
   "metadata": {},
   "source": [
    "__SEX__"
   ]
  },
  {
   "cell_type": "code",
   "execution_count": 87,
   "id": "a57c5517",
   "metadata": {},
   "outputs": [
    {
     "data": {
      "text/plain": [
       "<AxesSubplot:>"
      ]
     },
     "execution_count": 87,
     "metadata": {},
     "output_type": "execute_result"
    },
    {
     "data": {
      "image/png": "[encoded data removed]",
      "text/plain": [
       "<Figure size 432x288 with 1 Axes>"
      ]
     },
     "metadata": {
      "needs_background": "light"
     },
     "output_type": "display_data"
    }
   ],
   "source": [
    "df.sex.value_counts().plot(kind='bar', grid = True)"
   ]
  },
  {
   "cell_type": "markdown",
   "id": "aa7abe67",
   "metadata": {},
   "source": [
    "__HEIGHT__"
   ]
  },
  {
   "cell_type": "code",
   "execution_count": 88,
   "id": "b3f74e34",
   "metadata": {},
   "outputs": [
    {
     "data": {
      "text/plain": [
       "<AxesSubplot:>"
      ]
     },
     "execution_count": 88,
     "metadata": {},
     "output_type": "execute_result"
    },
    {
     "data": {
      "image/png": "[encoded data removed]",
      "text/plain": [
       "<Figure size 432x288 with 1 Axes>"
      ]
     },
     "metadata": {
      "needs_background": "light"
     },
     "output_type": "display_data"
    }
   ],
   "source": [
    "df.height.value_counts().plot(kind='bar', grid = True)"
   ]
  },
  {
   "cell_type": "markdown",
   "id": "b3be48b8",
   "metadata": {},
   "source": [
    "__MARITAL STATUS__"
   ]
  },
  {
   "cell_type": "code",
   "execution_count": 89,
   "id": "85da32dd",
   "metadata": {},
   "outputs": [
    {
     "data": {
      "text/plain": [
       "<AxesSubplot:>"
      ]
     },
     "execution_count": 89,
     "metadata": {},
     "output_type": "execute_result"
    },
    {
     "data": {
      "image/png": "[encoded data removed]",
      "text/plain": [
       "<Figure size 432x288 with 1 Axes>"
      ]
     },
     "metadata": {
      "needs_background": "light"
     },
     "output_type": "display_data"
    }
   ],
   "source": [
    "df.marital_status.value_counts().plot(kind='bar', grid = True)"
   ]
  },
  {
   "cell_type": "markdown",
   "id": "ba99e377",
   "metadata": {},
   "source": [
    "__EDUCATION STATUS__"
   ]
  },
  {
   "cell_type": "code",
   "execution_count": 90,
   "id": "1bb8a30a",
   "metadata": {},
   "outputs": [
    {
     "data": {
      "text/plain": [
       "<AxesSubplot:>"
      ]
     },
     "execution_count": 90,
     "metadata": {},
     "output_type": "execute_result"
    },
    {
     "data": {
      "image/png": "[encoded data removed]",
      "text/plain": [
       "<Figure size 432x288 with 1 Axes>"
      ]
     },
     "metadata": {
      "needs_background": "light"
     },
     "output_type": "display_data"
    }
   ],
   "source": [
    "df.education_status.value_counts().plot(kind='bar', grid = True)"
   ]
  },
  {
   "cell_type": "markdown",
   "id": "70c0418d",
   "metadata": {},
   "source": [
    "__CHILDREN STATUS__"
   ]
  },
  {
   "cell_type": "code",
   "execution_count": 91,
   "id": "d83b71b1",
   "metadata": {},
   "outputs": [
    {
     "data": {
      "text/plain": [
       "<AxesSubplot:>"
      ]
     },
     "execution_count": 91,
     "metadata": {},
     "output_type": "execute_result"
    },
    {
     "data": {
      "image/png": "[encoded data removed]",
      "text/plain": [
       "<Figure size 432x288 with 1 Axes>"
      ]
     },
     "metadata": {
      "needs_background": "light"
     },
     "output_type": "display_data"
    }
   ],
   "source": [
    "df.children_status.value_counts().plot(kind='bar', grid = True)"
   ]
  },
  {
   "cell_type": "markdown",
   "id": "3c241698",
   "metadata": {},
   "source": [
    "__RISK STATUS__"
   ]
  },
  {
   "cell_type": "code",
   "execution_count": 92,
   "id": "4ec48a8d",
   "metadata": {},
   "outputs": [
    {
     "data": {
      "text/plain": [
       "<AxesSubplot:>"
      ]
     },
     "execution_count": 92,
     "metadata": {},
     "output_type": "execute_result"
    },
    {
     "data": {
      "image/png": "[encoded data removed]",
      "text/plain": [
       "<Figure size 432x288 with 1 Axes>"
      ]
     },
     "metadata": {
      "needs_background": "light"
     },
     "output_type": "display_data"
    }
   ],
   "source": [
    "df.risk_status.value_counts().plot(kind='bar', grid = True)"
   ]
  },
  {
   "cell_type": "markdown",
   "id": "ef1bfb8f",
   "metadata": {},
   "source": [
    "__LOCATION STATUS__"
   ]
  },
  {
   "cell_type": "code",
   "execution_count": 93,
   "id": "a029d75b",
   "metadata": {},
   "outputs": [
    {
     "data": {
      "text/plain": [
       "<AxesSubplot:>"
      ]
     },
     "execution_count": 93,
     "metadata": {},
     "output_type": "execute_result"
    },
    {
     "data": {
      "image/png": "[encoded data removed]",
      "text/plain": [
       "<Figure size 432x288 with 1 Axes>"
      ]
     },
     "metadata": {
      "needs_background": "light"
     },
     "output_type": "display_data"
    }
   ],
   "source": [
    "df.location_status.value_counts().plot(kind='bar', grid = True)"
   ]
  },
  {
   "cell_type": "markdown",
   "id": "e90726a5",
   "metadata": {},
   "source": [
    "__ACTIVITY STATUS__"
   ]
  },
  {
   "cell_type": "code",
   "execution_count": 94,
   "id": "0e88b261",
   "metadata": {},
   "outputs": [
    {
     "data": {
      "text/plain": [
       "<AxesSubplot:>"
      ]
     },
     "execution_count": 94,
     "metadata": {},
     "output_type": "execute_result"
    },
    {
     "data": {
      "image/png": "[encoded data removed]",
      "text/plain": [
       "<Figure size 432x288 with 1 Axes>"
      ]
     },
     "metadata": {
      "needs_background": "light"
     },
     "output_type": "display_data"
    }
   ],
   "source": [
    "df.activity_status.value_counts().plot(kind='bar', grid = True)"
   ]
  },
  {
   "cell_type": "markdown",
   "id": "af4db0d9",
   "metadata": {},
   "source": [
    "__DEPO STATUS__"
   ]
  },
  {
   "cell_type": "code",
   "execution_count": 95,
   "id": "4098c971",
   "metadata": {},
   "outputs": [
    {
     "data": {
      "text/plain": [
       "<AxesSubplot:>"
      ]
     },
     "execution_count": 95,
     "metadata": {},
     "output_type": "execute_result"
    },
    {
     "data": {
      "image/png": "[encoded data removed]",
      "text/plain": [
       "<Figure size 432x288 with 1 Axes>"
      ]
     },
     "metadata": {
      "needs_background": "light"
     },
     "output_type": "display_data"
    }
   ],
   "source": [
    "df.depo_status.value_counts().plot(kind='bar', grid = True)"
   ]
  },
  {
   "cell_type": "markdown",
   "id": "d365fb61",
   "metadata": {},
   "source": [
    "__INITIAL DATASET TREATMENT__"
   ]
  },
  {
   "cell_type": "code",
   "execution_count": 96,
   "id": "6b9e867b",
   "metadata": {},
   "outputs": [],
   "source": [
    "height_dict = {'18-28': 23,\n",
    "               '28-38': 43,\n",
    "               '38-48': 53,\n",
    "               '48+': 60}\n",
    "\n",
    "activity_dict = {'own_business': 5, 'senior_officer': 4, 'not_working': 3, 'employee': 2,\n",
    "                 'retirement': 1}\n",
    "\n",
    "depo_dict = {'1-5': 2.5,\n",
    "             '5-10': 7.5,\n",
    "             '10-20': 15}\n",
    "\n",
    "city_dict = {'Moscow': 1,\n",
    "             'Sain-Petersburg': 2,\n",
    "             'Krasnodar': 3,\n",
    "             'Moscow_region': 4,\n",
    "             'Tatarstan': 5,\n",
    "             'Rostov': 6,\n",
    "             'Samara': 7,\n",
    "             'Ekaterinburg': 8,\n",
    "             'Volgograd': 9,\n",
    "             'Novosibirsk': 10}\n",
    "\n",
    "risk_profile_dict = {'high_risk': 1,\n",
    "                     'medium_risk': 2,\n",
    "                     'low_risk': 3}\n",
    "\n",
    "child_dict = {'children': 1,\n",
    "              'no_children': 0}\n",
    "\n",
    "education_dict = {'high_education': 1,\n",
    "                  'medium_education': 2,\n",
    "                  'second_high_education': 3,\n",
    "                  'academic_credential':4}\n",
    "\n",
    "status_dict = {'married': 1,\n",
    "               'not_married': 0}"
   ]
  },
  {
   "cell_type": "code",
   "execution_count": 97,
   "id": "b316a686",
   "metadata": {},
   "outputs": [],
   "source": [
    "df['height_ord'] = df.height.map(height_dict)\n",
    "df['marital_status_ord'] = df.marital_status.map(status_dict)\n",
    "df['education_status_ord'] = df.education_status.map(education_dict)\n",
    "df['children_status_ord'] = df.children_status.map(child_dict)\n",
    "df['risk_status_ord'] = df.risk_status.map(risk_profile_dict)\n",
    "df['location_status_ord'] = df.location_status.map(city_dict)\n",
    "df['activity_status_ord'] = df.activity_status.map(activity_dict)\n",
    "df['depo_status_ord'] = df.depo_status.map(depo_dict)"
   ]
  },
  {
   "cell_type": "code",
   "execution_count": 98,
   "id": "f9e06db7",
   "metadata": {},
   "outputs": [],
   "source": [
    "# со временем это все можно обернуть в функцию и автоматизировать мэппинг через цикл. "
   ]
  },
  {
   "cell_type": "code",
   "execution_count": 99,
   "id": "7149de65",
   "metadata": {},
   "outputs": [
    {
     "data": {
      "text/html": [
       "<div>\n",
       "<style scoped>\n",
       "    .dataframe tbody tr th:only-of-type {\n",
       "        vertical-align: middle;\n",
       "    }\n",
       "\n",
       "    .dataframe tbody tr th {\n",
       "        vertical-align: top;\n",
       "    }\n",
       "\n",
       "    .dataframe thead th {\n",
       "        text-align: right;\n",
       "    }\n",
       "</style>\n",
       "<table border=\"1\" class=\"dataframe\">\n",
       "  <thead>\n",
       "    <tr style=\"text-align: right;\">\n",
       "      <th></th>\n",
       "      <th>sex</th>\n",
       "      <th>height</th>\n",
       "      <th>marital_status</th>\n",
       "      <th>education_status</th>\n",
       "      <th>children_status</th>\n",
       "      <th>risk_status</th>\n",
       "      <th>location_status</th>\n",
       "      <th>activity_status</th>\n",
       "      <th>depo_status</th>\n",
       "      <th>height_ord</th>\n",
       "      <th>marital_status_ord</th>\n",
       "      <th>education_status_ord</th>\n",
       "      <th>children_status_ord</th>\n",
       "      <th>risk_status_ord</th>\n",
       "      <th>location_status_ord</th>\n",
       "      <th>activity_status_ord</th>\n",
       "      <th>depo_status_ord</th>\n",
       "    </tr>\n",
       "  </thead>\n",
       "  <tbody>\n",
       "    <tr>\n",
       "      <th>0</th>\n",
       "      <td>1</td>\n",
       "      <td>48+</td>\n",
       "      <td>married</td>\n",
       "      <td>high_education</td>\n",
       "      <td>no_children</td>\n",
       "      <td>medium_risk</td>\n",
       "      <td>Ekaterinburg</td>\n",
       "      <td>employee</td>\n",
       "      <td>1-5</td>\n",
       "      <td>60</td>\n",
       "      <td>1</td>\n",
       "      <td>1</td>\n",
       "      <td>0</td>\n",
       "      <td>2</td>\n",
       "      <td>8</td>\n",
       "      <td>2</td>\n",
       "      <td>2.5</td>\n",
       "    </tr>\n",
       "    <tr>\n",
       "      <th>1</th>\n",
       "      <td>1</td>\n",
       "      <td>28-38</td>\n",
       "      <td>married</td>\n",
       "      <td>second_high_education</td>\n",
       "      <td>children</td>\n",
       "      <td>low_risk</td>\n",
       "      <td>Moscow</td>\n",
       "      <td>senior_officer</td>\n",
       "      <td>5-10</td>\n",
       "      <td>43</td>\n",
       "      <td>1</td>\n",
       "      <td>3</td>\n",
       "      <td>1</td>\n",
       "      <td>3</td>\n",
       "      <td>1</td>\n",
       "      <td>4</td>\n",
       "      <td>7.5</td>\n",
       "    </tr>\n",
       "    <tr>\n",
       "      <th>2</th>\n",
       "      <td>1</td>\n",
       "      <td>48+</td>\n",
       "      <td>not_married</td>\n",
       "      <td>high_education</td>\n",
       "      <td>no_children</td>\n",
       "      <td>medium_risk</td>\n",
       "      <td>Moscow</td>\n",
       "      <td>own_business</td>\n",
       "      <td>5-10</td>\n",
       "      <td>60</td>\n",
       "      <td>0</td>\n",
       "      <td>1</td>\n",
       "      <td>0</td>\n",
       "      <td>2</td>\n",
       "      <td>1</td>\n",
       "      <td>5</td>\n",
       "      <td>7.5</td>\n",
       "    </tr>\n",
       "    <tr>\n",
       "      <th>3</th>\n",
       "      <td>1</td>\n",
       "      <td>38-48</td>\n",
       "      <td>not_married</td>\n",
       "      <td>second_high_education</td>\n",
       "      <td>no_children</td>\n",
       "      <td>medium_risk</td>\n",
       "      <td>Rostov</td>\n",
       "      <td>own_business</td>\n",
       "      <td>1-5</td>\n",
       "      <td>53</td>\n",
       "      <td>0</td>\n",
       "      <td>3</td>\n",
       "      <td>0</td>\n",
       "      <td>2</td>\n",
       "      <td>6</td>\n",
       "      <td>5</td>\n",
       "      <td>2.5</td>\n",
       "    </tr>\n",
       "    <tr>\n",
       "      <th>4</th>\n",
       "      <td>0</td>\n",
       "      <td>48+</td>\n",
       "      <td>married</td>\n",
       "      <td>high_education</td>\n",
       "      <td>children</td>\n",
       "      <td>medium_risk</td>\n",
       "      <td>Moscow</td>\n",
       "      <td>own_business</td>\n",
       "      <td>1-5</td>\n",
       "      <td>60</td>\n",
       "      <td>1</td>\n",
       "      <td>1</td>\n",
       "      <td>1</td>\n",
       "      <td>2</td>\n",
       "      <td>1</td>\n",
       "      <td>5</td>\n",
       "      <td>2.5</td>\n",
       "    </tr>\n",
       "  </tbody>\n",
       "</table>\n",
       "</div>"
      ],
      "text/plain": [
       "   sex height marital_status       education_status children_status  \\\n",
       "0    1    48+        married         high_education     no_children   \n",
       "1    1  28-38        married  second_high_education        children   \n",
       "2    1    48+    not_married         high_education     no_children   \n",
       "3    1  38-48    not_married  second_high_education     no_children   \n",
       "4    0    48+        married         high_education        children   \n",
       "\n",
       "   risk_status location_status activity_status depo_status  height_ord  \\\n",
       "0  medium_risk    Ekaterinburg        employee         1-5          60   \n",
       "1     low_risk          Moscow  senior_officer        5-10          43   \n",
       "2  medium_risk          Moscow    own_business        5-10          60   \n",
       "3  medium_risk          Rostov    own_business         1-5          53   \n",
       "4  medium_risk          Moscow    own_business         1-5          60   \n",
       "\n",
       "   marital_status_ord  education_status_ord  children_status_ord  \\\n",
       "0                   1                     1                    0   \n",
       "1                   1                     3                    1   \n",
       "2                   0                     1                    0   \n",
       "3                   0                     3                    0   \n",
       "4                   1                     1                    1   \n",
       "\n",
       "   risk_status_ord  location_status_ord  activity_status_ord  depo_status_ord  \n",
       "0                2                    8                    2              2.5  \n",
       "1                3                    1                    4              7.5  \n",
       "2                2                    1                    5              7.5  \n",
       "3                2                    6                    5              2.5  \n",
       "4                2                    1                    5              2.5  "
      ]
     },
     "execution_count": 99,
     "metadata": {},
     "output_type": "execute_result"
    }
   ],
   "source": [
    "df.head()"
   ]
  },
  {
   "cell_type": "code",
   "execution_count": 100,
   "id": "d1c5f2c5",
   "metadata": {},
   "outputs": [],
   "source": [
    "df_treated = df[['sex', 'height_ord', 'marital_status_ord',\n",
    "                 'education_status_ord', 'children_status_ord', 'risk_status_ord',\n",
    "                 'location_status_ord', 'depo_status_ord', 'activity_status_ord']]"
   ]
  },
  {
   "cell_type": "code",
   "execution_count": 101,
   "id": "cb49da9b",
   "metadata": {},
   "outputs": [
    {
     "data": {
      "text/html": [
       "<div>\n",
       "<style scoped>\n",
       "    .dataframe tbody tr th:only-of-type {\n",
       "        vertical-align: middle;\n",
       "    }\n",
       "\n",
       "    .dataframe tbody tr th {\n",
       "        vertical-align: top;\n",
       "    }\n",
       "\n",
       "    .dataframe thead th {\n",
       "        text-align: right;\n",
       "    }\n",
       "</style>\n",
       "<table border=\"1\" class=\"dataframe\">\n",
       "  <thead>\n",
       "    <tr style=\"text-align: right;\">\n",
       "      <th></th>\n",
       "      <th>sex</th>\n",
       "      <th>height_ord</th>\n",
       "      <th>marital_status_ord</th>\n",
       "      <th>education_status_ord</th>\n",
       "      <th>children_status_ord</th>\n",
       "      <th>risk_status_ord</th>\n",
       "      <th>location_status_ord</th>\n",
       "      <th>depo_status_ord</th>\n",
       "      <th>activity_status_ord</th>\n",
       "    </tr>\n",
       "  </thead>\n",
       "  <tbody>\n",
       "    <tr>\n",
       "      <th>0</th>\n",
       "      <td>1</td>\n",
       "      <td>60</td>\n",
       "      <td>1</td>\n",
       "      <td>1</td>\n",
       "      <td>0</td>\n",
       "      <td>2</td>\n",
       "      <td>8</td>\n",
       "      <td>2.5</td>\n",
       "      <td>2</td>\n",
       "    </tr>\n",
       "    <tr>\n",
       "      <th>1</th>\n",
       "      <td>1</td>\n",
       "      <td>43</td>\n",
       "      <td>1</td>\n",
       "      <td>3</td>\n",
       "      <td>1</td>\n",
       "      <td>3</td>\n",
       "      <td>1</td>\n",
       "      <td>7.5</td>\n",
       "      <td>4</td>\n",
       "    </tr>\n",
       "    <tr>\n",
       "      <th>2</th>\n",
       "      <td>1</td>\n",
       "      <td>60</td>\n",
       "      <td>0</td>\n",
       "      <td>1</td>\n",
       "      <td>0</td>\n",
       "      <td>2</td>\n",
       "      <td>1</td>\n",
       "      <td>7.5</td>\n",
       "      <td>5</td>\n",
       "    </tr>\n",
       "    <tr>\n",
       "      <th>3</th>\n",
       "      <td>1</td>\n",
       "      <td>53</td>\n",
       "      <td>0</td>\n",
       "      <td>3</td>\n",
       "      <td>0</td>\n",
       "      <td>2</td>\n",
       "      <td>6</td>\n",
       "      <td>2.5</td>\n",
       "      <td>5</td>\n",
       "    </tr>\n",
       "    <tr>\n",
       "      <th>4</th>\n",
       "      <td>0</td>\n",
       "      <td>60</td>\n",
       "      <td>1</td>\n",
       "      <td>1</td>\n",
       "      <td>1</td>\n",
       "      <td>2</td>\n",
       "      <td>1</td>\n",
       "      <td>2.5</td>\n",
       "      <td>5</td>\n",
       "    </tr>\n",
       "  </tbody>\n",
       "</table>\n",
       "</div>"
      ],
      "text/plain": [
       "   sex  height_ord  marital_status_ord  education_status_ord  \\\n",
       "0    1          60                   1                     1   \n",
       "1    1          43                   1                     3   \n",
       "2    1          60                   0                     1   \n",
       "3    1          53                   0                     3   \n",
       "4    0          60                   1                     1   \n",
       "\n",
       "   children_status_ord  risk_status_ord  location_status_ord  depo_status_ord  \\\n",
       "0                    0                2                    8              2.5   \n",
       "1                    1                3                    1              7.5   \n",
       "2                    0                2                    1              7.5   \n",
       "3                    0                2                    6              2.5   \n",
       "4                    1                2                    1              2.5   \n",
       "\n",
       "   activity_status_ord  \n",
       "0                    2  \n",
       "1                    4  \n",
       "2                    5  \n",
       "3                    5  \n",
       "4                    5  "
      ]
     },
     "execution_count": 101,
     "metadata": {},
     "output_type": "execute_result"
    }
   ],
   "source": [
    "df_treated.head()"
   ]
  },
  {
   "cell_type": "code",
   "execution_count": 102,
   "id": "22f68a39",
   "metadata": {},
   "outputs": [],
   "source": [
    "#сохраним обновленный датасет для дальнейшей работы с ним"
   ]
  },
  {
   "cell_type": "code",
   "execution_count": 103,
   "id": "2fae9910",
   "metadata": {},
   "outputs": [],
   "source": [
    "file_name_tr = 'users_treated.csv'"
   ]
  },
  {
   "cell_type": "code",
   "execution_count": 104,
   "id": "702e722f",
   "metadata": {},
   "outputs": [],
   "source": [
    "df.to_csv(file_name_tr, encoding='utf-8', index=False)"
   ]
  },
  {
   "cell_type": "code",
   "execution_count": null,
   "id": "375b72d3",
   "metadata": {},
   "outputs": [],
   "source": []
  }
 ],
 "metadata": {
  "kernelspec": {
   "display_name": "Python 3",
   "language": "python",
   "name": "python3"
  },
  "language_info": {
   "codemirror_mode": {
    "name": "ipython",
    "version": 3
   },
   "file_extension": ".py",
   "mimetype": "text/x-python",
   "name": "python",
   "nbconvert_exporter": "python",
   "pygments_lexer": "ipython3",
   "version": "3.9.6"
  }
 },
 "nbformat": 4,
 "nbformat_minor": 5
}
