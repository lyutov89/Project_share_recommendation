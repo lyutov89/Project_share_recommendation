{
 "cells": [
  {
   "cell_type": "code",
   "execution_count": 1,
   "id": "599ddf40",
   "metadata": {},
   "outputs": [],
   "source": [
    "import pandas as pd\n",
    "import numpy as np "
   ]
  },
  {
   "cell_type": "code",
   "execution_count": 2,
   "id": "2f61e535",
   "metadata": {},
   "outputs": [],
   "source": [
    "df_finviz = pd.read_csv('finviz_shares.csv')"
   ]
  },
  {
   "cell_type": "code",
   "execution_count": 3,
   "id": "a0919a13",
   "metadata": {},
   "outputs": [
    {
     "data": {
      "text/html": [
       "<div>\n",
       "<style scoped>\n",
       "    .dataframe tbody tr th:only-of-type {\n",
       "        vertical-align: middle;\n",
       "    }\n",
       "\n",
       "    .dataframe tbody tr th {\n",
       "        vertical-align: top;\n",
       "    }\n",
       "\n",
       "    .dataframe thead th {\n",
       "        text-align: right;\n",
       "    }\n",
       "</style>\n",
       "<table border=\"1\" class=\"dataframe\">\n",
       "  <thead>\n",
       "    <tr style=\"text-align: right;\">\n",
       "      <th></th>\n",
       "      <th>ticker</th>\n",
       "      <th>id_share</th>\n",
       "      <th>industry</th>\n",
       "      <th>Index</th>\n",
       "      <th>P/E</th>\n",
       "      <th>EPS (ttm)</th>\n",
       "      <th>Insider Own</th>\n",
       "      <th>Perf Week</th>\n",
       "      <th>Forward P/E</th>\n",
       "      <th>EPS next Y</th>\n",
       "      <th>...</th>\n",
       "      <th>Market Cap_full_count</th>\n",
       "      <th>Income_full_count</th>\n",
       "      <th>Sales_full_count</th>\n",
       "      <th>Shs Outstand_full_count</th>\n",
       "      <th>Shs Float_full_count</th>\n",
       "      <th>Avg Volume_full_count</th>\n",
       "      <th>52_w_range_low</th>\n",
       "      <th>52_w_range_high</th>\n",
       "      <th>Volatility_low_%</th>\n",
       "      <th>Volatility_high_%</th>\n",
       "    </tr>\n",
       "  </thead>\n",
       "  <tbody>\n",
       "    <tr>\n",
       "      <th>0</th>\n",
       "      <td>AAP</td>\n",
       "      <td>1</td>\n",
       "      <td>Consumer Cyclical</td>\n",
       "      <td>S&amp;P 500</td>\n",
       "      <td>22.54</td>\n",
       "      <td>9.88</td>\n",
       "      <td>0.10</td>\n",
       "      <td>-4.20</td>\n",
       "      <td>16.78</td>\n",
       "      <td>11.37</td>\n",
       "      <td>...</td>\n",
       "      <td>1.423000e+13</td>\n",
       "      <td>6.464000e+08</td>\n",
       "      <td>1.097000e+13</td>\n",
       "      <td>6.285000e+07</td>\n",
       "      <td>6.208000e+07</td>\n",
       "      <td>679290.0</td>\n",
       "      <td>151.01</td>\n",
       "      <td>244.55</td>\n",
       "      <td>2.73</td>\n",
       "      <td>2.73</td>\n",
       "    </tr>\n",
       "    <tr>\n",
       "      <th>1</th>\n",
       "      <td>AAQC</td>\n",
       "      <td>2</td>\n",
       "      <td>Financial</td>\n",
       "      <td>-</td>\n",
       "      <td>NaN</td>\n",
       "      <td>NaN</td>\n",
       "      <td>NaN</td>\n",
       "      <td>-0.10</td>\n",
       "      <td>NaN</td>\n",
       "      <td>NaN</td>\n",
       "      <td>...</td>\n",
       "      <td>3.880000e+08</td>\n",
       "      <td>NaN</td>\n",
       "      <td>NaN</td>\n",
       "      <td>4.000000e+07</td>\n",
       "      <td>NaN</td>\n",
       "      <td>55940.0</td>\n",
       "      <td>9.60</td>\n",
       "      <td>9.96</td>\n",
       "      <td>0.16</td>\n",
       "      <td>0.18</td>\n",
       "    </tr>\n",
       "    <tr>\n",
       "      <th>2</th>\n",
       "      <td>AAOI</td>\n",
       "      <td>3</td>\n",
       "      <td>Technology</td>\n",
       "      <td>-</td>\n",
       "      <td>NaN</td>\n",
       "      <td>-2.05</td>\n",
       "      <td>6.40</td>\n",
       "      <td>2.08</td>\n",
       "      <td>NaN</td>\n",
       "      <td>15.40</td>\n",
       "      <td>...</td>\n",
       "      <td>1.045800e+08</td>\n",
       "      <td>-5.310000e+07</td>\n",
       "      <td>2.095000e+08</td>\n",
       "      <td>2.710000e+07</td>\n",
       "      <td>2.539000e+07</td>\n",
       "      <td>506560.0</td>\n",
       "      <td>3.63</td>\n",
       "      <td>12.97</td>\n",
       "      <td>5.01</td>\n",
       "      <td>5.43</td>\n",
       "    </tr>\n",
       "    <tr>\n",
       "      <th>3</th>\n",
       "      <td>AAPL</td>\n",
       "      <td>4</td>\n",
       "      <td>Technology</td>\n",
       "      <td>DJIA S&amp;P500</td>\n",
       "      <td>28.58</td>\n",
       "      <td>6.02</td>\n",
       "      <td>0.07</td>\n",
       "      <td>-0.45</td>\n",
       "      <td>26.29</td>\n",
       "      <td>6.42</td>\n",
       "      <td>...</td>\n",
       "      <td>2.817210e+15</td>\n",
       "      <td>1.005600e+14</td>\n",
       "      <td>3.783200e+14</td>\n",
       "      <td>1.639000e+13</td>\n",
       "      <td>1.631000e+13</td>\n",
       "      <td>101620000.0</td>\n",
       "      <td>116.21</td>\n",
       "      <td>182.94</td>\n",
       "      <td>1.87</td>\n",
       "      <td>2.63</td>\n",
       "    </tr>\n",
       "    <tr>\n",
       "      <th>4</th>\n",
       "      <td>AAON</td>\n",
       "      <td>5</td>\n",
       "      <td>Industrials</td>\n",
       "      <td>-</td>\n",
       "      <td>43.79</td>\n",
       "      <td>1.33</td>\n",
       "      <td>16.60</td>\n",
       "      <td>-4.43</td>\n",
       "      <td>34.57</td>\n",
       "      <td>34.88</td>\n",
       "      <td>...</td>\n",
       "      <td>3.120000e+12</td>\n",
       "      <td>7.150000e+07</td>\n",
       "      <td>5.149000e+08</td>\n",
       "      <td>5.242000e+07</td>\n",
       "      <td>4.156000e+07</td>\n",
       "      <td>244130.0</td>\n",
       "      <td>58.65</td>\n",
       "      <td>83.79</td>\n",
       "      <td>3.30</td>\n",
       "      <td>3.88</td>\n",
       "    </tr>\n",
       "  </tbody>\n",
       "</table>\n",
       "<p>5 rows × 76 columns</p>\n",
       "</div>"
      ],
      "text/plain": [
       "  ticker  id_share           industry        Index    P/E  EPS (ttm)  \\\n",
       "0    AAP         1  Consumer Cyclical      S&P 500  22.54       9.88   \n",
       "1   AAQC         2          Financial            -    NaN        NaN   \n",
       "2   AAOI         3         Technology            -    NaN      -2.05   \n",
       "3   AAPL         4         Technology  DJIA S&P500  28.58       6.02   \n",
       "4   AAON         5        Industrials            -  43.79       1.33   \n",
       "\n",
       "   Insider Own  Perf Week  Forward P/E  EPS next Y  ...  \\\n",
       "0         0.10      -4.20        16.78       11.37  ...   \n",
       "1          NaN      -0.10          NaN         NaN  ...   \n",
       "2         6.40       2.08          NaN       15.40  ...   \n",
       "3         0.07      -0.45        26.29        6.42  ...   \n",
       "4        16.60      -4.43        34.57       34.88  ...   \n",
       "\n",
       "   Market Cap_full_count  Income_full_count  Sales_full_count  \\\n",
       "0           1.423000e+13       6.464000e+08      1.097000e+13   \n",
       "1           3.880000e+08                NaN               NaN   \n",
       "2           1.045800e+08      -5.310000e+07      2.095000e+08   \n",
       "3           2.817210e+15       1.005600e+14      3.783200e+14   \n",
       "4           3.120000e+12       7.150000e+07      5.149000e+08   \n",
       "\n",
       "   Shs Outstand_full_count  Shs Float_full_count  Avg Volume_full_count  \\\n",
       "0             6.285000e+07          6.208000e+07               679290.0   \n",
       "1             4.000000e+07                   NaN                55940.0   \n",
       "2             2.710000e+07          2.539000e+07               506560.0   \n",
       "3             1.639000e+13          1.631000e+13            101620000.0   \n",
       "4             5.242000e+07          4.156000e+07               244130.0   \n",
       "\n",
       "   52_w_range_low  52_w_range_high  Volatility_low_%  Volatility_high_%  \n",
       "0          151.01           244.55              2.73               2.73  \n",
       "1            9.60             9.96              0.16               0.18  \n",
       "2            3.63            12.97              5.01               5.43  \n",
       "3          116.21           182.94              1.87               2.63  \n",
       "4           58.65            83.79              3.30               3.88  \n",
       "\n",
       "[5 rows x 76 columns]"
      ]
     },
     "execution_count": 3,
     "metadata": {},
     "output_type": "execute_result"
    }
   ],
   "source": [
    "df_finviz.head()"
   ]
  },
  {
   "cell_type": "markdown",
   "id": "6dfe2f89",
   "metadata": {},
   "source": [
    "__PEG__"
   ]
  },
  {
   "cell_type": "code",
   "execution_count": 4,
   "id": "de2a9500",
   "metadata": {},
   "outputs": [],
   "source": [
    "def get_peg_label(peg):\n",
    "    \n",
    "    \"\"\" Return the peg group label (int). \"\"\"\n",
    "\n",
    "    if pd.isnull(peg) is True:\n",
    "        return -1\n",
    "    elif (peg > 0) and (peg < 1):\n",
    "        return 1\n",
    "    elif (peg > 1) and (peg < 3):\n",
    "        return 2\n",
    "    else: \n",
    "        return 3\n",
    "\n",
    "# сегментация по PEG\n",
    "df_finviz['PEG_label'] = df_finviz['PEG'].apply(lambda x: get_peg_label(x))"
   ]
  },
  {
   "cell_type": "code",
   "execution_count": 5,
   "id": "eeeabab5",
   "metadata": {},
   "outputs": [
    {
     "data": {
      "text/plain": [
       "Index(['ticker', 'id_share', 'industry', 'Index', 'P/E', 'EPS (ttm)',\n",
       "       'Insider Own', 'Perf Week', 'Forward P/E', 'EPS next Y',\n",
       "       'Insider Trans', 'Perf Month', 'PEG', 'EPS next Q', 'Inst Own',\n",
       "       'Short Float', 'Perf Quarter', 'P/S', 'EPS this Y', 'Inst Trans',\n",
       "       'Short Ratio', 'Perf Half Y', 'Book/sh', 'P/B', 'ROA', 'Target Price',\n",
       "       'Perf Year', 'Cash/sh', 'P/C', 'EPS next 5Y', 'ROE', 'Perf YTD',\n",
       "       'Dividend', 'P/FCF', 'EPS past 5Y', 'ROI', '52W High', 'Beta',\n",
       "       'Dividend %', 'Quick Ratio', 'Sales past 5Y', 'Gross Margin', '52W Low',\n",
       "       'ATR', 'Employees', 'Current Ratio', 'Sales Q/Q', 'Oper. Margin',\n",
       "       'RSI (14)', 'Optionable', 'Debt/Eq', 'EPS Q/Q', 'Profit Margin',\n",
       "       'Rel Volume', 'Prev Close', 'Shortable', 'LT Debt/Eq', 'Earnings',\n",
       "       'Payout', 'Price', 'Recom', 'SMA20', 'SMA50', 'SMA200', 'Volume',\n",
       "       'Change', 'Market Cap_full_count', 'Income_full_count',\n",
       "       'Sales_full_count', 'Shs Outstand_full_count', 'Shs Float_full_count',\n",
       "       'Avg Volume_full_count', '52_w_range_low', '52_w_range_high',\n",
       "       'Volatility_low_%', 'Volatility_high_%', 'PEG_label'],\n",
       "      dtype='object')"
      ]
     },
     "execution_count": 5,
     "metadata": {},
     "output_type": "execute_result"
    }
   ],
   "source": [
    "df_finviz.columns"
   ]
  },
  {
   "cell_type": "markdown",
   "id": "e151c5fc",
   "metadata": {},
   "source": [
    "__quick_ratio__"
   ]
  },
  {
   "cell_type": "code",
   "execution_count": 6,
   "id": "176f0b38",
   "metadata": {},
   "outputs": [],
   "source": [
    "def quick_ratio_label(quick_ratio): \n",
    "    \n",
    "    \"\"\" Return the quick_ratio group label (int). \"\"\"\n",
    "    \n",
    "    if quick_ratio >= 1:\n",
    "        return 2\n",
    "    elif (quick_ratio >= 0.3) and (quick_ratio < 1):\n",
    "        return 0.5\n",
    "    else: \n",
    "        return -1\n",
    "    \n",
    "# сегментация по quick_ratio\n",
    "df_finviz['quick_ratio_label'] = df_finviz['Quick Ratio'].apply(lambda x: quick_ratio_label(x))  "
   ]
  },
  {
   "cell_type": "markdown",
   "id": "9b8191d5",
   "metadata": {},
   "source": [
    "__div_rate to int_rate and clear div__"
   ]
  },
  {
   "cell_type": "code",
   "execution_count": 7,
   "id": "4a002e65",
   "metadata": {},
   "outputs": [],
   "source": [
    "# текущая процентная ставка в ФРС\n",
    "interest_rate = 0.25\n",
    "df_finviz['div_rate_to_int_rate'] = df_finviz['Dividend %']/interest_rate"
   ]
  },
  {
   "cell_type": "code",
   "execution_count": 8,
   "id": "c3f6f481",
   "metadata": {},
   "outputs": [],
   "source": [
    "df_finviz['clear_dividend'] = df_finviz['Dividend %'] - interest_rate"
   ]
  },
  {
   "cell_type": "code",
   "execution_count": 9,
   "id": "b31f08de",
   "metadata": {},
   "outputs": [],
   "source": [
    "df_finviz['norm_div'] = (df_finviz['Dividend %'] - interest_rate)*100/df_finviz['Dividend %']"
   ]
  },
  {
   "cell_type": "markdown",
   "id": "691bbaa2",
   "metadata": {},
   "source": [
    "__P/B__"
   ]
  },
  {
   "cell_type": "code",
   "execution_count": 10,
   "id": "86e6c9ac",
   "metadata": {},
   "outputs": [],
   "source": [
    "def pb_label(pb): \n",
    "    \n",
    "    \"\"\" Return the pb group label (int). \"\"\"\n",
    "    \n",
    "    if pb >= 1:\n",
    "        return 1\n",
    "    elif (pb >= 0.3) and (pb < 1):\n",
    "        return 2\n",
    "    else: \n",
    "        return -1\n",
    "    \n",
    "# сегментация по quick_ratio\n",
    "df_finviz['pb_label'] = df_finviz['P/B'].apply(lambda x: pb_label(x)) "
   ]
  },
  {
   "cell_type": "markdown",
   "id": "69df77a2",
   "metadata": {},
   "source": [
    "__Average by industry P/E__"
   ]
  },
  {
   "cell_type": "code",
   "execution_count": 11,
   "id": "c1dd7d4f",
   "metadata": {},
   "outputs": [
    {
     "data": {
      "text/plain": [
       "array(['Consumer Cyclical', 'Financial', 'Technology', 'Industrials',\n",
       "       'Healthcare', 'Consumer Defensive', 'Real Estate',\n",
       "       'Basic Materials', 'Communication Services', 'Utilities', 'Energy'],\n",
       "      dtype=object)"
      ]
     },
     "execution_count": 11,
     "metadata": {},
     "output_type": "execute_result"
    }
   ],
   "source": [
    "df_finviz['industry'].unique()"
   ]
  },
  {
   "cell_type": "code",
   "execution_count": 12,
   "id": "2bfaf7af",
   "metadata": {},
   "outputs": [
    {
     "data": {
      "text/html": [
       "<div>\n",
       "<style scoped>\n",
       "    .dataframe tbody tr th:only-of-type {\n",
       "        vertical-align: middle;\n",
       "    }\n",
       "\n",
       "    .dataframe tbody tr th {\n",
       "        vertical-align: top;\n",
       "    }\n",
       "\n",
       "    .dataframe thead th {\n",
       "        text-align: right;\n",
       "    }\n",
       "</style>\n",
       "<table border=\"1\" class=\"dataframe\">\n",
       "  <thead>\n",
       "    <tr style=\"text-align: right;\">\n",
       "      <th></th>\n",
       "      <th>industry</th>\n",
       "      <th>P/E</th>\n",
       "    </tr>\n",
       "  </thead>\n",
       "  <tbody>\n",
       "    <tr>\n",
       "      <th>0</th>\n",
       "      <td>Communication Services</td>\n",
       "      <td>143.488</td>\n",
       "    </tr>\n",
       "    <tr>\n",
       "      <th>1</th>\n",
       "      <td>Healthcare</td>\n",
       "      <td>91.753</td>\n",
       "    </tr>\n",
       "    <tr>\n",
       "      <th>2</th>\n",
       "      <td>Technology</td>\n",
       "      <td>90.447</td>\n",
       "    </tr>\n",
       "    <tr>\n",
       "      <th>3</th>\n",
       "      <td>Basic Materials</td>\n",
       "      <td>90.139</td>\n",
       "    </tr>\n",
       "    <tr>\n",
       "      <th>4</th>\n",
       "      <td>Industrials</td>\n",
       "      <td>63.051</td>\n",
       "    </tr>\n",
       "    <tr>\n",
       "      <th>5</th>\n",
       "      <td>Real Estate</td>\n",
       "      <td>62.753</td>\n",
       "    </tr>\n",
       "    <tr>\n",
       "      <th>6</th>\n",
       "      <td>Consumer Cyclical</td>\n",
       "      <td>44.116</td>\n",
       "    </tr>\n",
       "    <tr>\n",
       "      <th>7</th>\n",
       "      <td>Energy</td>\n",
       "      <td>42.221</td>\n",
       "    </tr>\n",
       "    <tr>\n",
       "      <th>8</th>\n",
       "      <td>Financial</td>\n",
       "      <td>39.517</td>\n",
       "    </tr>\n",
       "    <tr>\n",
       "      <th>9</th>\n",
       "      <td>Utilities</td>\n",
       "      <td>35.943</td>\n",
       "    </tr>\n",
       "    <tr>\n",
       "      <th>10</th>\n",
       "      <td>Consumer Defensive</td>\n",
       "      <td>34.490</td>\n",
       "    </tr>\n",
       "  </tbody>\n",
       "</table>\n",
       "</div>"
      ],
      "text/plain": [
       "                  industry      P/E\n",
       "0   Communication Services  143.488\n",
       "1               Healthcare   91.753\n",
       "2               Technology   90.447\n",
       "3          Basic Materials   90.139\n",
       "4              Industrials   63.051\n",
       "5              Real Estate   62.753\n",
       "6        Consumer Cyclical   44.116\n",
       "7                   Energy   42.221\n",
       "8                Financial   39.517\n",
       "9                Utilities   35.943\n",
       "10      Consumer Defensive   34.490"
      ]
     },
     "execution_count": 12,
     "metadata": {},
     "output_type": "execute_result"
    }
   ],
   "source": [
    "df_pe_mean = df_finviz.groupby([\"industry\"]).mean().sort_values(\"P/E\", ascending=False)\n",
    "df_pe_mean = df_pe_mean[[\"P/E\"]].round(3) \n",
    "df_pe_mean.reset_index(inplace=True) \n",
    "df_pe_mean"
   ]
  },
  {
   "cell_type": "code",
   "execution_count": 18,
   "id": "7cf9dc52",
   "metadata": {},
   "outputs": [],
   "source": [
    "dict_pe = df_pe_mean.set_index('industry').to_dict()"
   ]
  },
  {
   "cell_type": "code",
   "execution_count": 21,
   "id": "6a19e3b5",
   "metadata": {},
   "outputs": [],
   "source": [
    "dict_pe = dict_pe['P/E']"
   ]
  },
  {
   "cell_type": "code",
   "execution_count": 22,
   "id": "524236c9",
   "metadata": {},
   "outputs": [
    {
     "data": {
      "text/plain": [
       "{'Communication Services': 143.488,\n",
       " 'Healthcare': 91.753,\n",
       " 'Technology': 90.447,\n",
       " 'Basic Materials': 90.139,\n",
       " 'Industrials': 63.051,\n",
       " 'Real Estate': 62.753,\n",
       " 'Consumer Cyclical': 44.116,\n",
       " 'Energy': 42.221,\n",
       " 'Financial': 39.517,\n",
       " 'Utilities': 35.943,\n",
       " 'Consumer Defensive': 34.49}"
      ]
     },
     "execution_count": 22,
     "metadata": {},
     "output_type": "execute_result"
    }
   ],
   "source": [
    "dict_pe"
   ]
  },
  {
   "cell_type": "code",
   "execution_count": 23,
   "id": "b92a1eda",
   "metadata": {},
   "outputs": [],
   "source": [
    "df_finviz['pe_average'] = df_finviz['industry'].map(dict_pe)"
   ]
  },
  {
   "cell_type": "code",
   "execution_count": 25,
   "id": "f8f80e25",
   "metadata": {},
   "outputs": [],
   "source": [
    "def pe_label_average(row):\n",
    "    \n",
    "    \"\"\" Return the pe label (int).\n",
    "    If current p/e > pe_average - > 0\n",
    "    else - > 0 \"\"\"\n",
    "    \n",
    "    if row['P/E'] >= row['pe_average']: \n",
    "        return 0\n",
    "    if row['P/E'] < row['pe_average']: \n",
    "        return 1"
   ]
  },
  {
   "cell_type": "code",
   "execution_count": 26,
   "id": "66e8b32c",
   "metadata": {},
   "outputs": [],
   "source": [
    "df_finviz['pe_label'] = df_finviz.apply(pe_label_average, axis=1)"
   ]
  },
  {
   "cell_type": "code",
   "execution_count": 28,
   "id": "d820c9e8",
   "metadata": {},
   "outputs": [],
   "source": [
    "def pe_label_forward(row):\n",
    "    \n",
    "    \"\"\" Return the pe label (int).\n",
    "    If current p/e > pe_forward - > 1\n",
    "    else - > -1 \"\"\"\n",
    "    \n",
    "    if row['P/E'] >= row['Forward P/E']: \n",
    "        return 1\n",
    "    if row['P/E'] < row['Forward P/E']: \n",
    "        return -1"
   ]
  },
  {
   "cell_type": "code",
   "execution_count": 29,
   "id": "1f8836ef",
   "metadata": {},
   "outputs": [],
   "source": [
    "df_finviz['pe_label_forward'] = df_finviz.apply(pe_label_forward, axis=1)"
   ]
  },
  {
   "cell_type": "markdown",
   "id": "eae43782",
   "metadata": {},
   "source": [
    "__Average by industry P/S__"
   ]
  },
  {
   "cell_type": "code",
   "execution_count": 30,
   "id": "4a90012e",
   "metadata": {},
   "outputs": [
    {
     "data": {
      "text/html": [
       "<div>\n",
       "<style scoped>\n",
       "    .dataframe tbody tr th:only-of-type {\n",
       "        vertical-align: middle;\n",
       "    }\n",
       "\n",
       "    .dataframe tbody tr th {\n",
       "        vertical-align: top;\n",
       "    }\n",
       "\n",
       "    .dataframe thead th {\n",
       "        text-align: right;\n",
       "    }\n",
       "</style>\n",
       "<table border=\"1\" class=\"dataframe\">\n",
       "  <thead>\n",
       "    <tr style=\"text-align: right;\">\n",
       "      <th></th>\n",
       "      <th>industry</th>\n",
       "      <th>P/S</th>\n",
       "    </tr>\n",
       "  </thead>\n",
       "  <tbody>\n",
       "    <tr>\n",
       "      <th>0</th>\n",
       "      <td>Financial</td>\n",
       "      <td>6513.675</td>\n",
       "    </tr>\n",
       "    <tr>\n",
       "      <th>1</th>\n",
       "      <td>Technology</td>\n",
       "      <td>6405.752</td>\n",
       "    </tr>\n",
       "    <tr>\n",
       "      <th>2</th>\n",
       "      <td>Consumer Cyclical</td>\n",
       "      <td>5963.949</td>\n",
       "    </tr>\n",
       "    <tr>\n",
       "      <th>3</th>\n",
       "      <td>Healthcare</td>\n",
       "      <td>535.476</td>\n",
       "    </tr>\n",
       "    <tr>\n",
       "      <th>4</th>\n",
       "      <td>Industrials</td>\n",
       "      <td>81.556</td>\n",
       "    </tr>\n",
       "    <tr>\n",
       "      <th>5</th>\n",
       "      <td>Energy</td>\n",
       "      <td>40.945</td>\n",
       "    </tr>\n",
       "    <tr>\n",
       "      <th>6</th>\n",
       "      <td>Communication Services</td>\n",
       "      <td>13.435</td>\n",
       "    </tr>\n",
       "    <tr>\n",
       "      <th>7</th>\n",
       "      <td>Consumer Defensive</td>\n",
       "      <td>10.684</td>\n",
       "    </tr>\n",
       "    <tr>\n",
       "      <th>8</th>\n",
       "      <td>Real Estate</td>\n",
       "      <td>7.866</td>\n",
       "    </tr>\n",
       "    <tr>\n",
       "      <th>9</th>\n",
       "      <td>Basic Materials</td>\n",
       "      <td>6.330</td>\n",
       "    </tr>\n",
       "    <tr>\n",
       "      <th>10</th>\n",
       "      <td>Utilities</td>\n",
       "      <td>6.199</td>\n",
       "    </tr>\n",
       "  </tbody>\n",
       "</table>\n",
       "</div>"
      ],
      "text/plain": [
       "                  industry       P/S\n",
       "0                Financial  6513.675\n",
       "1               Technology  6405.752\n",
       "2        Consumer Cyclical  5963.949\n",
       "3               Healthcare   535.476\n",
       "4              Industrials    81.556\n",
       "5                   Energy    40.945\n",
       "6   Communication Services    13.435\n",
       "7       Consumer Defensive    10.684\n",
       "8              Real Estate     7.866\n",
       "9          Basic Materials     6.330\n",
       "10               Utilities     6.199"
      ]
     },
     "execution_count": 30,
     "metadata": {},
     "output_type": "execute_result"
    }
   ],
   "source": [
    "df_ps_mean = df_finviz.groupby([\"industry\"]).mean().sort_values(\"P/S\", ascending=False)\n",
    "df_ps_mean = df_ps_mean[[\"P/S\"]].round(3) \n",
    "df_ps_mean.reset_index(inplace=True) \n",
    "df_ps_mean"
   ]
  },
  {
   "cell_type": "code",
   "execution_count": 31,
   "id": "46161204",
   "metadata": {},
   "outputs": [],
   "source": [
    "dict_ps = df_ps_mean.set_index('industry').to_dict()"
   ]
  },
  {
   "cell_type": "code",
   "execution_count": 32,
   "id": "f54cf9b6",
   "metadata": {},
   "outputs": [],
   "source": [
    "dict_ps = dict_ps['P/S']"
   ]
  },
  {
   "cell_type": "code",
   "execution_count": 33,
   "id": "24491ac2",
   "metadata": {},
   "outputs": [
    {
     "data": {
      "text/plain": [
       "{'Financial': 6513.675,\n",
       " 'Technology': 6405.752,\n",
       " 'Consumer Cyclical': 5963.949,\n",
       " 'Healthcare': 535.476,\n",
       " 'Industrials': 81.556,\n",
       " 'Energy': 40.945,\n",
       " 'Communication Services': 13.435,\n",
       " 'Consumer Defensive': 10.684,\n",
       " 'Real Estate': 7.866,\n",
       " 'Basic Materials': 6.33,\n",
       " 'Utilities': 6.199}"
      ]
     },
     "execution_count": 33,
     "metadata": {},
     "output_type": "execute_result"
    }
   ],
   "source": [
    "dict_ps"
   ]
  },
  {
   "cell_type": "code",
   "execution_count": 34,
   "id": "ae6da625",
   "metadata": {},
   "outputs": [],
   "source": [
    "df_finviz['ps_average'] = df_finviz['industry'].map(dict_ps)"
   ]
  },
  {
   "cell_type": "code",
   "execution_count": 35,
   "id": "7b63504a",
   "metadata": {},
   "outputs": [],
   "source": [
    "def ps_label_average(row):\n",
    "    \n",
    "    \"\"\" Return the ps label (int).\n",
    "    If current p/s > ps_average - > 0\n",
    "    else - > 1 \"\"\"\n",
    "    \n",
    "    if row['P/S'] >= row['ps_average']: \n",
    "        return 0\n",
    "    if row['P/S'] < row['ps_average']: \n",
    "        return 1"
   ]
  },
  {
   "cell_type": "code",
   "execution_count": 36,
   "id": "139491ac",
   "metadata": {},
   "outputs": [],
   "source": [
    "df_finviz['ps_label'] = df_finviz.apply(ps_label_average, axis=1)"
   ]
  },
  {
   "cell_type": "markdown",
   "id": "b78f697d",
   "metadata": {},
   "source": [
    "__Average by industry P/B__"
   ]
  },
  {
   "cell_type": "code",
   "execution_count": 37,
   "id": "089fee89",
   "metadata": {},
   "outputs": [
    {
     "data": {
      "text/html": [
       "<div>\n",
       "<style scoped>\n",
       "    .dataframe tbody tr th:only-of-type {\n",
       "        vertical-align: middle;\n",
       "    }\n",
       "\n",
       "    .dataframe tbody tr th {\n",
       "        vertical-align: top;\n",
       "    }\n",
       "\n",
       "    .dataframe thead th {\n",
       "        text-align: right;\n",
       "    }\n",
       "</style>\n",
       "<table border=\"1\" class=\"dataframe\">\n",
       "  <thead>\n",
       "    <tr style=\"text-align: right;\">\n",
       "      <th></th>\n",
       "      <th>industry</th>\n",
       "      <th>P/B</th>\n",
       "    </tr>\n",
       "  </thead>\n",
       "  <tbody>\n",
       "    <tr>\n",
       "      <th>0</th>\n",
       "      <td>Financial</td>\n",
       "      <td>205.492</td>\n",
       "    </tr>\n",
       "    <tr>\n",
       "      <th>1</th>\n",
       "      <td>Energy</td>\n",
       "      <td>14.616</td>\n",
       "    </tr>\n",
       "    <tr>\n",
       "      <th>2</th>\n",
       "      <td>Technology</td>\n",
       "      <td>12.160</td>\n",
       "    </tr>\n",
       "    <tr>\n",
       "      <th>3</th>\n",
       "      <td>Consumer Cyclical</td>\n",
       "      <td>10.786</td>\n",
       "    </tr>\n",
       "    <tr>\n",
       "      <th>4</th>\n",
       "      <td>Communication Services</td>\n",
       "      <td>6.041</td>\n",
       "    </tr>\n",
       "    <tr>\n",
       "      <th>5</th>\n",
       "      <td>Healthcare</td>\n",
       "      <td>5.310</td>\n",
       "    </tr>\n",
       "    <tr>\n",
       "      <th>6</th>\n",
       "      <td>Consumer Defensive</td>\n",
       "      <td>5.028</td>\n",
       "    </tr>\n",
       "    <tr>\n",
       "      <th>7</th>\n",
       "      <td>Basic Materials</td>\n",
       "      <td>4.877</td>\n",
       "    </tr>\n",
       "    <tr>\n",
       "      <th>8</th>\n",
       "      <td>Industrials</td>\n",
       "      <td>4.120</td>\n",
       "    </tr>\n",
       "    <tr>\n",
       "      <th>9</th>\n",
       "      <td>Utilities</td>\n",
       "      <td>2.751</td>\n",
       "    </tr>\n",
       "    <tr>\n",
       "      <th>10</th>\n",
       "      <td>Real Estate</td>\n",
       "      <td>2.668</td>\n",
       "    </tr>\n",
       "  </tbody>\n",
       "</table>\n",
       "</div>"
      ],
      "text/plain": [
       "                  industry      P/B\n",
       "0                Financial  205.492\n",
       "1                   Energy   14.616\n",
       "2               Technology   12.160\n",
       "3        Consumer Cyclical   10.786\n",
       "4   Communication Services    6.041\n",
       "5               Healthcare    5.310\n",
       "6       Consumer Defensive    5.028\n",
       "7          Basic Materials    4.877\n",
       "8              Industrials    4.120\n",
       "9                Utilities    2.751\n",
       "10             Real Estate    2.668"
      ]
     },
     "execution_count": 37,
     "metadata": {},
     "output_type": "execute_result"
    }
   ],
   "source": [
    "df_pb_mean = df_finviz.groupby([\"industry\"]).mean().sort_values(\"P/B\", ascending=False)\n",
    "df_pb_mean = df_pb_mean[[\"P/B\"]].round(3) \n",
    "df_pb_mean.reset_index(inplace=True) \n",
    "df_pb_mean"
   ]
  },
  {
   "cell_type": "code",
   "execution_count": 38,
   "id": "4dfc6ac7",
   "metadata": {},
   "outputs": [],
   "source": [
    "dict_pb = df_pb_mean.set_index('industry').to_dict()"
   ]
  },
  {
   "cell_type": "code",
   "execution_count": 39,
   "id": "6d57315c",
   "metadata": {},
   "outputs": [],
   "source": [
    "dict_pb = dict_pb['P/B']"
   ]
  },
  {
   "cell_type": "code",
   "execution_count": 40,
   "id": "16842ac0",
   "metadata": {},
   "outputs": [
    {
     "data": {
      "text/plain": [
       "{'Financial': 205.492,\n",
       " 'Energy': 14.616,\n",
       " 'Technology': 12.16,\n",
       " 'Consumer Cyclical': 10.786,\n",
       " 'Communication Services': 6.041,\n",
       " 'Healthcare': 5.31,\n",
       " 'Consumer Defensive': 5.028,\n",
       " 'Basic Materials': 4.877,\n",
       " 'Industrials': 4.12,\n",
       " 'Utilities': 2.751,\n",
       " 'Real Estate': 2.668}"
      ]
     },
     "execution_count": 40,
     "metadata": {},
     "output_type": "execute_result"
    }
   ],
   "source": [
    "dict_pb"
   ]
  },
  {
   "cell_type": "code",
   "execution_count": 41,
   "id": "23f19c1a",
   "metadata": {},
   "outputs": [],
   "source": [
    "df_finviz['pb_average'] = df_finviz['industry'].map(dict_pb)"
   ]
  },
  {
   "cell_type": "code",
   "execution_count": 42,
   "id": "a39efcd4",
   "metadata": {},
   "outputs": [],
   "source": [
    "def pb_label_average(row):\n",
    "    \n",
    "    \"\"\" Return the ps label (int).\n",
    "    If current p/b > pb_average - > 0\n",
    "    else - > 1 \"\"\"\n",
    "    \n",
    "    if row['P/B'] >= row['pb_average']: \n",
    "        return 0\n",
    "    if row['P/B'] < row['pb_average']: \n",
    "        return 1"
   ]
  },
  {
   "cell_type": "code",
   "execution_count": 43,
   "id": "ac5e32a9",
   "metadata": {},
   "outputs": [],
   "source": [
    "df_finviz['pb_label'] = df_finviz.apply(pb_label_average, axis=1)"
   ]
  },
  {
   "cell_type": "markdown",
   "id": "0fb0e16e",
   "metadata": {},
   "source": [
    "__Gross margin__"
   ]
  },
  {
   "cell_type": "code",
   "execution_count": 44,
   "id": "f7600b5f",
   "metadata": {},
   "outputs": [],
   "source": [
    "def gross_margin_label(gross_margin): \n",
    "    \n",
    "    \"\"\" Return the gross margin label (int). \"\"\"\n",
    "    \n",
    "    if gross_margin >= 30:\n",
    "        return 2\n",
    "    elif (gross_margin >= 0) and (gross_margin < 30):\n",
    "        return 1\n",
    "    else: \n",
    "        return -1\n",
    "    \n",
    "# сегментация по quick_ratio\n",
    "df_finviz['gross_margin_label'] = df_finviz['Gross Margin'].apply(lambda x: pb_label(x)) "
   ]
  },
  {
   "cell_type": "markdown",
   "id": "ab7a13fb",
   "metadata": {},
   "source": [
    "__Target price__"
   ]
  },
  {
   "cell_type": "code",
   "execution_count": 52,
   "id": "5b107d80",
   "metadata": {},
   "outputs": [],
   "source": [
    "def target_price_label(row): \n",
    "    \n",
    "    \"\"\" Return the gross margin label (int). \"\"\"\n",
    "    \n",
    "    if (row['Target Price']/row['Price'] >= 1.5) and ((row['RSI (14)']>30) and (row['RSI (14)']<40)): \n",
    "        return 2\n",
    "    elif row['Target Price']/row['Price'] >= 1.5: \n",
    "        return 1\n",
    "    else:\n",
    "        return -1\n",
    "    \n",
    "# сегментация по quick_ratio\n",
    "df_finviz['target_price_label'] = df_finviz.apply(target_price_label, axis=1)"
   ]
  },
  {
   "cell_type": "code",
   "execution_count": null,
   "id": "04ffcb49",
   "metadata": {},
   "outputs": [],
   "source": []
  },
  {
   "cell_type": "code",
   "execution_count": null,
   "id": "2e184f2e",
   "metadata": {},
   "outputs": [],
   "source": []
  },
  {
   "cell_type": "code",
   "execution_count": null,
   "id": "effda60e",
   "metadata": {},
   "outputs": [],
   "source": []
  },
  {
   "cell_type": "code",
   "execution_count": null,
   "id": "0b9c8b12",
   "metadata": {},
   "outputs": [],
   "source": []
  }
 ],
 "metadata": {
  "kernelspec": {
   "display_name": "Python 3",
   "language": "python",
   "name": "python3"
  },
  "language_info": {
   "codemirror_mode": {
    "name": "ipython",
    "version": 3
   },
   "file_extension": ".py",
   "mimetype": "text/x-python",
   "name": "python",
   "nbconvert_exporter": "python",
   "pygments_lexer": "ipython3",
   "version": "3.9.6"
  }
 },
 "nbformat": 4,
 "nbformat_minor": 5
}
