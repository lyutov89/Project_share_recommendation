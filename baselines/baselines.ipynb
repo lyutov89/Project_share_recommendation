{
 "cells": [
  {
   "cell_type": "code",
   "execution_count": 33,
   "id": "d61d1bb3",
   "metadata": {},
   "outputs": [],
   "source": [
    "import numpy as np\n",
    "import pandas as pd\n",
    "import random"
   ]
  },
  {
   "cell_type": "code",
   "execution_count": 34,
   "id": "4ef153c3",
   "metadata": {},
   "outputs": [],
   "source": [
    "df_interactions = pd.read_csv('interactions.csv')"
   ]
  },
  {
   "cell_type": "code",
   "execution_count": 36,
   "id": "d6d7cfd4",
   "metadata": {},
   "outputs": [
    {
     "data": {
      "text/html": [
       "<div>\n",
       "<style scoped>\n",
       "    .dataframe tbody tr th:only-of-type {\n",
       "        vertical-align: middle;\n",
       "    }\n",
       "\n",
       "    .dataframe tbody tr th {\n",
       "        vertical-align: top;\n",
       "    }\n",
       "\n",
       "    .dataframe thead th {\n",
       "        text-align: right;\n",
       "    }\n",
       "</style>\n",
       "<table border=\"1\" class=\"dataframe\">\n",
       "  <thead>\n",
       "    <tr style=\"text-align: right;\">\n",
       "      <th></th>\n",
       "      <th>user_id</th>\n",
       "      <th>week_no</th>\n",
       "      <th>shares_deal</th>\n",
       "    </tr>\n",
       "  </thead>\n",
       "  <tbody>\n",
       "    <tr>\n",
       "      <th>0</th>\n",
       "      <td>1</td>\n",
       "      <td>30</td>\n",
       "      <td>[7681, 8498, 5529, 5351, 1174, 2026, 5907]</td>\n",
       "    </tr>\n",
       "    <tr>\n",
       "      <th>1</th>\n",
       "      <td>1</td>\n",
       "      <td>34</td>\n",
       "      <td>[5511, 3289, 7661, 8398]</td>\n",
       "    </tr>\n",
       "    <tr>\n",
       "      <th>2</th>\n",
       "      <td>1</td>\n",
       "      <td>39</td>\n",
       "      <td>[1274, 3627, 1833, 1, 2387, 7291]</td>\n",
       "    </tr>\n",
       "    <tr>\n",
       "      <th>3</th>\n",
       "      <td>1</td>\n",
       "      <td>41</td>\n",
       "      <td>[2661, 354]</td>\n",
       "    </tr>\n",
       "    <tr>\n",
       "      <th>4</th>\n",
       "      <td>1</td>\n",
       "      <td>46</td>\n",
       "      <td>[4383, 349, 2173, 7362, 4671, 7162]</td>\n",
       "    </tr>\n",
       "    <tr>\n",
       "      <th>...</th>\n",
       "      <td>...</td>\n",
       "      <td>...</td>\n",
       "      <td>...</td>\n",
       "    </tr>\n",
       "    <tr>\n",
       "      <th>149995</th>\n",
       "      <td>25000</td>\n",
       "      <td>32</td>\n",
       "      <td>[4633, 3494, 5524, 3498]</td>\n",
       "    </tr>\n",
       "    <tr>\n",
       "      <th>149996</th>\n",
       "      <td>25000</td>\n",
       "      <td>38</td>\n",
       "      <td>[3494, 279, 2142]</td>\n",
       "    </tr>\n",
       "    <tr>\n",
       "      <th>149997</th>\n",
       "      <td>25000</td>\n",
       "      <td>43</td>\n",
       "      <td>[2757]</td>\n",
       "    </tr>\n",
       "    <tr>\n",
       "      <th>149998</th>\n",
       "      <td>25000</td>\n",
       "      <td>44</td>\n",
       "      <td>[8154, 716]</td>\n",
       "    </tr>\n",
       "    <tr>\n",
       "      <th>149999</th>\n",
       "      <td>25000</td>\n",
       "      <td>51</td>\n",
       "      <td>[5996]</td>\n",
       "    </tr>\n",
       "  </tbody>\n",
       "</table>\n",
       "<p>150000 rows × 3 columns</p>\n",
       "</div>"
      ],
      "text/plain": [
       "        user_id  week_no                                 shares_deal\n",
       "0             1       30  [7681, 8498, 5529, 5351, 1174, 2026, 5907]\n",
       "1             1       34                    [5511, 3289, 7661, 8398]\n",
       "2             1       39           [1274, 3627, 1833, 1, 2387, 7291]\n",
       "3             1       41                                 [2661, 354]\n",
       "4             1       46         [4383, 349, 2173, 7362, 4671, 7162]\n",
       "...         ...      ...                                         ...\n",
       "149995    25000       32                    [4633, 3494, 5524, 3498]\n",
       "149996    25000       38                           [3494, 279, 2142]\n",
       "149997    25000       43                                      [2757]\n",
       "149998    25000       44                                 [8154, 716]\n",
       "149999    25000       51                                      [5996]\n",
       "\n",
       "[150000 rows x 3 columns]"
      ]
     },
     "execution_count": 36,
     "metadata": {},
     "output_type": "execute_result"
    }
   ],
   "source": [
    "df_interactions"
   ]
  },
  {
   "cell_type": "code",
   "execution_count": 37,
   "id": "6f0049b5",
   "metadata": {},
   "outputs": [
    {
     "data": {
      "text/plain": [
       "(150000, 3)"
      ]
     },
     "execution_count": 37,
     "metadata": {},
     "output_type": "execute_result"
    }
   ],
   "source": [
    "df_interactions.shape"
   ]
  },
  {
   "cell_type": "code",
   "execution_count": 38,
   "id": "8dfda220",
   "metadata": {},
   "outputs": [],
   "source": [
    "df_shares = pd.read_csv('finviz_shares.csv')"
   ]
  },
  {
   "cell_type": "code",
   "execution_count": 39,
   "id": "a9d77d04",
   "metadata": {},
   "outputs": [
    {
     "data": {
      "text/html": [
       "<div>\n",
       "<style scoped>\n",
       "    .dataframe tbody tr th:only-of-type {\n",
       "        vertical-align: middle;\n",
       "    }\n",
       "\n",
       "    .dataframe tbody tr th {\n",
       "        vertical-align: top;\n",
       "    }\n",
       "\n",
       "    .dataframe thead th {\n",
       "        text-align: right;\n",
       "    }\n",
       "</style>\n",
       "<table border=\"1\" class=\"dataframe\">\n",
       "  <thead>\n",
       "    <tr style=\"text-align: right;\">\n",
       "      <th></th>\n",
       "      <th>ticker</th>\n",
       "      <th>id_share</th>\n",
       "      <th>industry</th>\n",
       "      <th>Index</th>\n",
       "      <th>P/E</th>\n",
       "      <th>EPS (ttm)</th>\n",
       "      <th>Insider Own</th>\n",
       "      <th>Perf Week</th>\n",
       "      <th>Forward P/E</th>\n",
       "      <th>EPS next Y</th>\n",
       "      <th>...</th>\n",
       "      <th>Market Cap_full_count</th>\n",
       "      <th>Income_full_count</th>\n",
       "      <th>Sales_full_count</th>\n",
       "      <th>Shs Outstand_full_count</th>\n",
       "      <th>Shs Float_full_count</th>\n",
       "      <th>Avg Volume_full_count</th>\n",
       "      <th>52_w_range_low</th>\n",
       "      <th>52_w_range_high</th>\n",
       "      <th>Volatility_low_%</th>\n",
       "      <th>Volatility_high_%</th>\n",
       "    </tr>\n",
       "  </thead>\n",
       "  <tbody>\n",
       "    <tr>\n",
       "      <th>0</th>\n",
       "      <td>AAP</td>\n",
       "      <td>1</td>\n",
       "      <td>Consumer Cyclical</td>\n",
       "      <td>S&amp;P 500</td>\n",
       "      <td>22.54</td>\n",
       "      <td>9.88</td>\n",
       "      <td>0.10</td>\n",
       "      <td>-4.20</td>\n",
       "      <td>16.78</td>\n",
       "      <td>11.37</td>\n",
       "      <td>...</td>\n",
       "      <td>1.423000e+13</td>\n",
       "      <td>6.464000e+08</td>\n",
       "      <td>1.097000e+13</td>\n",
       "      <td>6.285000e+07</td>\n",
       "      <td>6.208000e+07</td>\n",
       "      <td>679290.0</td>\n",
       "      <td>151.01</td>\n",
       "      <td>244.55</td>\n",
       "      <td>2.73</td>\n",
       "      <td>2.73</td>\n",
       "    </tr>\n",
       "    <tr>\n",
       "      <th>1</th>\n",
       "      <td>AAQC</td>\n",
       "      <td>2</td>\n",
       "      <td>Financial</td>\n",
       "      <td>-</td>\n",
       "      <td>NaN</td>\n",
       "      <td>NaN</td>\n",
       "      <td>NaN</td>\n",
       "      <td>-0.10</td>\n",
       "      <td>NaN</td>\n",
       "      <td>NaN</td>\n",
       "      <td>...</td>\n",
       "      <td>3.880000e+08</td>\n",
       "      <td>NaN</td>\n",
       "      <td>NaN</td>\n",
       "      <td>4.000000e+07</td>\n",
       "      <td>NaN</td>\n",
       "      <td>55940.0</td>\n",
       "      <td>9.60</td>\n",
       "      <td>9.96</td>\n",
       "      <td>0.16</td>\n",
       "      <td>0.18</td>\n",
       "    </tr>\n",
       "    <tr>\n",
       "      <th>2</th>\n",
       "      <td>AAOI</td>\n",
       "      <td>3</td>\n",
       "      <td>Technology</td>\n",
       "      <td>-</td>\n",
       "      <td>NaN</td>\n",
       "      <td>-2.05</td>\n",
       "      <td>6.40</td>\n",
       "      <td>2.08</td>\n",
       "      <td>NaN</td>\n",
       "      <td>15.40</td>\n",
       "      <td>...</td>\n",
       "      <td>1.045800e+08</td>\n",
       "      <td>-5.310000e+07</td>\n",
       "      <td>2.095000e+08</td>\n",
       "      <td>2.710000e+07</td>\n",
       "      <td>2.539000e+07</td>\n",
       "      <td>506560.0</td>\n",
       "      <td>3.63</td>\n",
       "      <td>12.97</td>\n",
       "      <td>5.01</td>\n",
       "      <td>5.43</td>\n",
       "    </tr>\n",
       "    <tr>\n",
       "      <th>3</th>\n",
       "      <td>AAPL</td>\n",
       "      <td>4</td>\n",
       "      <td>Technology</td>\n",
       "      <td>DJIA S&amp;P500</td>\n",
       "      <td>28.58</td>\n",
       "      <td>6.02</td>\n",
       "      <td>0.07</td>\n",
       "      <td>-0.45</td>\n",
       "      <td>26.29</td>\n",
       "      <td>6.42</td>\n",
       "      <td>...</td>\n",
       "      <td>2.817210e+15</td>\n",
       "      <td>1.005600e+14</td>\n",
       "      <td>3.783200e+14</td>\n",
       "      <td>1.639000e+13</td>\n",
       "      <td>1.631000e+13</td>\n",
       "      <td>101620000.0</td>\n",
       "      <td>116.21</td>\n",
       "      <td>182.94</td>\n",
       "      <td>1.87</td>\n",
       "      <td>2.63</td>\n",
       "    </tr>\n",
       "    <tr>\n",
       "      <th>4</th>\n",
       "      <td>AAON</td>\n",
       "      <td>5</td>\n",
       "      <td>Industrials</td>\n",
       "      <td>-</td>\n",
       "      <td>43.79</td>\n",
       "      <td>1.33</td>\n",
       "      <td>16.60</td>\n",
       "      <td>-4.43</td>\n",
       "      <td>34.57</td>\n",
       "      <td>34.88</td>\n",
       "      <td>...</td>\n",
       "      <td>3.120000e+12</td>\n",
       "      <td>7.150000e+07</td>\n",
       "      <td>5.149000e+08</td>\n",
       "      <td>5.242000e+07</td>\n",
       "      <td>4.156000e+07</td>\n",
       "      <td>244130.0</td>\n",
       "      <td>58.65</td>\n",
       "      <td>83.79</td>\n",
       "      <td>3.30</td>\n",
       "      <td>3.88</td>\n",
       "    </tr>\n",
       "  </tbody>\n",
       "</table>\n",
       "<p>5 rows × 76 columns</p>\n",
       "</div>"
      ],
      "text/plain": [
       "  ticker  id_share           industry        Index    P/E  EPS (ttm)  \\\n",
       "0    AAP         1  Consumer Cyclical      S&P 500  22.54       9.88   \n",
       "1   AAQC         2          Financial            -    NaN        NaN   \n",
       "2   AAOI         3         Technology            -    NaN      -2.05   \n",
       "3   AAPL         4         Technology  DJIA S&P500  28.58       6.02   \n",
       "4   AAON         5        Industrials            -  43.79       1.33   \n",
       "\n",
       "   Insider Own  Perf Week  Forward P/E  EPS next Y  ...  \\\n",
       "0         0.10      -4.20        16.78       11.37  ...   \n",
       "1          NaN      -0.10          NaN         NaN  ...   \n",
       "2         6.40       2.08          NaN       15.40  ...   \n",
       "3         0.07      -0.45        26.29        6.42  ...   \n",
       "4        16.60      -4.43        34.57       34.88  ...   \n",
       "\n",
       "   Market Cap_full_count  Income_full_count  Sales_full_count  \\\n",
       "0           1.423000e+13       6.464000e+08      1.097000e+13   \n",
       "1           3.880000e+08                NaN               NaN   \n",
       "2           1.045800e+08      -5.310000e+07      2.095000e+08   \n",
       "3           2.817210e+15       1.005600e+14      3.783200e+14   \n",
       "4           3.120000e+12       7.150000e+07      5.149000e+08   \n",
       "\n",
       "   Shs Outstand_full_count  Shs Float_full_count  Avg Volume_full_count  \\\n",
       "0             6.285000e+07          6.208000e+07               679290.0   \n",
       "1             4.000000e+07                   NaN                55940.0   \n",
       "2             2.710000e+07          2.539000e+07               506560.0   \n",
       "3             1.639000e+13          1.631000e+13            101620000.0   \n",
       "4             5.242000e+07          4.156000e+07               244130.0   \n",
       "\n",
       "   52_w_range_low  52_w_range_high  Volatility_low_%  Volatility_high_%  \n",
       "0          151.01           244.55              2.73               2.73  \n",
       "1            9.60             9.96              0.16               0.18  \n",
       "2            3.63            12.97              5.01               5.43  \n",
       "3          116.21           182.94              1.87               2.63  \n",
       "4           58.65            83.79              3.30               3.88  \n",
       "\n",
       "[5 rows x 76 columns]"
      ]
     },
     "execution_count": 39,
     "metadata": {},
     "output_type": "execute_result"
    }
   ],
   "source": [
    "df_shares.head()"
   ]
  },
  {
   "cell_type": "code",
   "execution_count": 40,
   "id": "18391074",
   "metadata": {},
   "outputs": [
    {
     "name": "stderr",
     "output_type": "stream",
     "text": [
      "<ipython-input-40-79dd445d72ac>:1: FutureWarning: The default value of regex will change from True to False in a future version. In addition, single character regular expressions will*not* be treated as literal strings when regex=True.\n",
      "  df_interactions.shares_deal = df_interactions.shares_deal.astype(str).str.replace('[', '')\n"
     ]
    }
   ],
   "source": [
    "df_interactions.shares_deal = df_interactions.shares_deal.astype(str).str.replace('[', '')"
   ]
  },
  {
   "cell_type": "code",
   "execution_count": 41,
   "id": "8f821225",
   "metadata": {},
   "outputs": [
    {
     "name": "stderr",
     "output_type": "stream",
     "text": [
      "<ipython-input-41-4bbf7af6bae3>:1: FutureWarning: The default value of regex will change from True to False in a future version. In addition, single character regular expressions will*not* be treated as literal strings when regex=True.\n",
      "  df_interactions.shares_deal = df_interactions.shares_deal.astype(str).str.replace(']', '')\n"
     ]
    }
   ],
   "source": [
    "df_interactions.shares_deal = df_interactions.shares_deal.astype(str).str.replace(']', '')"
   ]
  },
  {
   "cell_type": "code",
   "execution_count": 42,
   "id": "082185e1",
   "metadata": {},
   "outputs": [],
   "source": [
    "df_interactions.shares_deal = df_interactions.shares_deal.map(lambda x: x.split(', '))"
   ]
  },
  {
   "cell_type": "code",
   "execution_count": 43,
   "id": "044e69fb",
   "metadata": {},
   "outputs": [
    {
     "data": {
      "text/plain": [
       "list"
      ]
     },
     "execution_count": 43,
     "metadata": {},
     "output_type": "execute_result"
    }
   ],
   "source": [
    "type(df_interactions.shares_deal[1])"
   ]
  },
  {
   "cell_type": "code",
   "execution_count": 44,
   "id": "bf635daa",
   "metadata": {},
   "outputs": [
    {
     "data": {
      "text/html": [
       "<div>\n",
       "<style scoped>\n",
       "    .dataframe tbody tr th:only-of-type {\n",
       "        vertical-align: middle;\n",
       "    }\n",
       "\n",
       "    .dataframe tbody tr th {\n",
       "        vertical-align: top;\n",
       "    }\n",
       "\n",
       "    .dataframe thead th {\n",
       "        text-align: right;\n",
       "    }\n",
       "</style>\n",
       "<table border=\"1\" class=\"dataframe\">\n",
       "  <thead>\n",
       "    <tr style=\"text-align: right;\">\n",
       "      <th></th>\n",
       "      <th>user_id</th>\n",
       "      <th>week_no</th>\n",
       "      <th>shares_deal</th>\n",
       "    </tr>\n",
       "  </thead>\n",
       "  <tbody>\n",
       "    <tr>\n",
       "      <th>149995</th>\n",
       "      <td>25000</td>\n",
       "      <td>32</td>\n",
       "      <td>[4633, 3494, 5524, 3498]</td>\n",
       "    </tr>\n",
       "    <tr>\n",
       "      <th>149996</th>\n",
       "      <td>25000</td>\n",
       "      <td>38</td>\n",
       "      <td>[3494, 279, 2142]</td>\n",
       "    </tr>\n",
       "    <tr>\n",
       "      <th>149997</th>\n",
       "      <td>25000</td>\n",
       "      <td>43</td>\n",
       "      <td>[2757]</td>\n",
       "    </tr>\n",
       "    <tr>\n",
       "      <th>149998</th>\n",
       "      <td>25000</td>\n",
       "      <td>44</td>\n",
       "      <td>[8154, 716]</td>\n",
       "    </tr>\n",
       "    <tr>\n",
       "      <th>149999</th>\n",
       "      <td>25000</td>\n",
       "      <td>51</td>\n",
       "      <td>[5996]</td>\n",
       "    </tr>\n",
       "  </tbody>\n",
       "</table>\n",
       "</div>"
      ],
      "text/plain": [
       "        user_id  week_no               shares_deal\n",
       "149995    25000       32  [4633, 3494, 5524, 3498]\n",
       "149996    25000       38         [3494, 279, 2142]\n",
       "149997    25000       43                    [2757]\n",
       "149998    25000       44               [8154, 716]\n",
       "149999    25000       51                    [5996]"
      ]
     },
     "execution_count": 44,
     "metadata": {},
     "output_type": "execute_result"
    }
   ],
   "source": [
    "df_interactions.tail()"
   ]
  },
  {
   "cell_type": "code",
   "execution_count": 45,
   "id": "0fb63a8c",
   "metadata": {},
   "outputs": [],
   "source": [
    "def shares_treatment(feature_name, X):\n",
    "    \n",
    "    list_of_shares = X[feature_name]\n",
    "    new_list = []\n",
    "    \n",
    "    for i in range(X.shape[0]):\n",
    "        temp_list = []\n",
    "        for j in range(len(list_of_shares[i])): \n",
    "            if list_of_shares[i][j].isdigit() == True: \n",
    "                temp_list.append(float(list_of_shares[i][j]))\n",
    "        new_list.append(temp_list)\n",
    "    \n",
    "    X[feature_name] = new_list\n",
    "    \n",
    "    return X"
   ]
  },
  {
   "cell_type": "code",
   "execution_count": 46,
   "id": "e09b8624",
   "metadata": {},
   "outputs": [],
   "source": [
    "df_interactions = shares_treatment(feature_name = 'shares_deal', X = df_interactions)"
   ]
  },
  {
   "cell_type": "code",
   "execution_count": 47,
   "id": "18f8e5a6",
   "metadata": {},
   "outputs": [],
   "source": [
    "# кол-во покупок акций за 1 неделю\n",
    "df_interactions['count_shares'] = df_interactions.shares_deal.map(lambda x: len(x))"
   ]
  },
  {
   "cell_type": "code",
   "execution_count": 52,
   "id": "d819ec5e",
   "metadata": {},
   "outputs": [
    {
     "data": {
      "text/html": [
       "<div>\n",
       "<style scoped>\n",
       "    .dataframe tbody tr th:only-of-type {\n",
       "        vertical-align: middle;\n",
       "    }\n",
       "\n",
       "    .dataframe tbody tr th {\n",
       "        vertical-align: top;\n",
       "    }\n",
       "\n",
       "    .dataframe thead th {\n",
       "        text-align: right;\n",
       "    }\n",
       "</style>\n",
       "<table border=\"1\" class=\"dataframe\">\n",
       "  <thead>\n",
       "    <tr style=\"text-align: right;\">\n",
       "      <th></th>\n",
       "      <th>user_id</th>\n",
       "      <th>week_no</th>\n",
       "      <th>count_shares</th>\n",
       "      <th>id_shares</th>\n",
       "    </tr>\n",
       "  </thead>\n",
       "  <tbody>\n",
       "    <tr>\n",
       "      <th>0</th>\n",
       "      <td>1</td>\n",
       "      <td>30</td>\n",
       "      <td>7</td>\n",
       "      <td>7681.0</td>\n",
       "    </tr>\n",
       "    <tr>\n",
       "      <th>0</th>\n",
       "      <td>1</td>\n",
       "      <td>30</td>\n",
       "      <td>7</td>\n",
       "      <td>8498.0</td>\n",
       "    </tr>\n",
       "    <tr>\n",
       "      <th>0</th>\n",
       "      <td>1</td>\n",
       "      <td>30</td>\n",
       "      <td>7</td>\n",
       "      <td>5529.0</td>\n",
       "    </tr>\n",
       "    <tr>\n",
       "      <th>0</th>\n",
       "      <td>1</td>\n",
       "      <td>30</td>\n",
       "      <td>7</td>\n",
       "      <td>5351.0</td>\n",
       "    </tr>\n",
       "    <tr>\n",
       "      <th>0</th>\n",
       "      <td>1</td>\n",
       "      <td>30</td>\n",
       "      <td>7</td>\n",
       "      <td>1174.0</td>\n",
       "    </tr>\n",
       "  </tbody>\n",
       "</table>\n",
       "</div>"
      ],
      "text/plain": [
       "   user_id  week_no  count_shares  id_shares\n",
       "0        1       30             7     7681.0\n",
       "0        1       30             7     8498.0\n",
       "0        1       30             7     5529.0\n",
       "0        1       30             7     5351.0\n",
       "0        1       30             7     1174.0"
      ]
     },
     "execution_count": 52,
     "metadata": {},
     "output_type": "execute_result"
    }
   ],
   "source": [
    "df_interactions.head()"
   ]
  },
  {
   "cell_type": "code",
   "execution_count": 49,
   "id": "a6efbbab",
   "metadata": {},
   "outputs": [],
   "source": [
    "# \"стакаем\" номера недель \n",
    "s = df_interactions.apply(lambda x: pd.Series(x['shares_deal']), axis=1).stack().reset_index(level=1, drop=True)"
   ]
  },
  {
   "cell_type": "code",
   "execution_count": 50,
   "id": "6e74536f",
   "metadata": {},
   "outputs": [],
   "source": [
    "s.name = 'id_shares'\n",
    "df_interactions = df_interactions.drop('shares_deal', axis=1).join(s)"
   ]
  },
  {
   "cell_type": "code",
   "execution_count": 51,
   "id": "67ec2f8a",
   "metadata": {},
   "outputs": [
    {
     "data": {
      "text/html": [
       "<div>\n",
       "<style scoped>\n",
       "    .dataframe tbody tr th:only-of-type {\n",
       "        vertical-align: middle;\n",
       "    }\n",
       "\n",
       "    .dataframe tbody tr th {\n",
       "        vertical-align: top;\n",
       "    }\n",
       "\n",
       "    .dataframe thead th {\n",
       "        text-align: right;\n",
       "    }\n",
       "</style>\n",
       "<table border=\"1\" class=\"dataframe\">\n",
       "  <thead>\n",
       "    <tr style=\"text-align: right;\">\n",
       "      <th></th>\n",
       "      <th>user_id</th>\n",
       "      <th>week_no</th>\n",
       "      <th>count_shares</th>\n",
       "      <th>id_shares</th>\n",
       "    </tr>\n",
       "  </thead>\n",
       "  <tbody>\n",
       "    <tr>\n",
       "      <th>0</th>\n",
       "      <td>1</td>\n",
       "      <td>30</td>\n",
       "      <td>7</td>\n",
       "      <td>7681.0</td>\n",
       "    </tr>\n",
       "    <tr>\n",
       "      <th>0</th>\n",
       "      <td>1</td>\n",
       "      <td>30</td>\n",
       "      <td>7</td>\n",
       "      <td>8498.0</td>\n",
       "    </tr>\n",
       "    <tr>\n",
       "      <th>0</th>\n",
       "      <td>1</td>\n",
       "      <td>30</td>\n",
       "      <td>7</td>\n",
       "      <td>5529.0</td>\n",
       "    </tr>\n",
       "    <tr>\n",
       "      <th>0</th>\n",
       "      <td>1</td>\n",
       "      <td>30</td>\n",
       "      <td>7</td>\n",
       "      <td>5351.0</td>\n",
       "    </tr>\n",
       "    <tr>\n",
       "      <th>0</th>\n",
       "      <td>1</td>\n",
       "      <td>30</td>\n",
       "      <td>7</td>\n",
       "      <td>1174.0</td>\n",
       "    </tr>\n",
       "    <tr>\n",
       "      <th>0</th>\n",
       "      <td>1</td>\n",
       "      <td>30</td>\n",
       "      <td>7</td>\n",
       "      <td>2026.0</td>\n",
       "    </tr>\n",
       "    <tr>\n",
       "      <th>0</th>\n",
       "      <td>1</td>\n",
       "      <td>30</td>\n",
       "      <td>7</td>\n",
       "      <td>5907.0</td>\n",
       "    </tr>\n",
       "    <tr>\n",
       "      <th>1</th>\n",
       "      <td>1</td>\n",
       "      <td>34</td>\n",
       "      <td>4</td>\n",
       "      <td>5511.0</td>\n",
       "    </tr>\n",
       "    <tr>\n",
       "      <th>1</th>\n",
       "      <td>1</td>\n",
       "      <td>34</td>\n",
       "      <td>4</td>\n",
       "      <td>3289.0</td>\n",
       "    </tr>\n",
       "    <tr>\n",
       "      <th>1</th>\n",
       "      <td>1</td>\n",
       "      <td>34</td>\n",
       "      <td>4</td>\n",
       "      <td>7661.0</td>\n",
       "    </tr>\n",
       "    <tr>\n",
       "      <th>1</th>\n",
       "      <td>1</td>\n",
       "      <td>34</td>\n",
       "      <td>4</td>\n",
       "      <td>8398.0</td>\n",
       "    </tr>\n",
       "    <tr>\n",
       "      <th>2</th>\n",
       "      <td>1</td>\n",
       "      <td>39</td>\n",
       "      <td>6</td>\n",
       "      <td>1274.0</td>\n",
       "    </tr>\n",
       "    <tr>\n",
       "      <th>2</th>\n",
       "      <td>1</td>\n",
       "      <td>39</td>\n",
       "      <td>6</td>\n",
       "      <td>3627.0</td>\n",
       "    </tr>\n",
       "    <tr>\n",
       "      <th>2</th>\n",
       "      <td>1</td>\n",
       "      <td>39</td>\n",
       "      <td>6</td>\n",
       "      <td>1833.0</td>\n",
       "    </tr>\n",
       "    <tr>\n",
       "      <th>2</th>\n",
       "      <td>1</td>\n",
       "      <td>39</td>\n",
       "      <td>6</td>\n",
       "      <td>1.0</td>\n",
       "    </tr>\n",
       "    <tr>\n",
       "      <th>2</th>\n",
       "      <td>1</td>\n",
       "      <td>39</td>\n",
       "      <td>6</td>\n",
       "      <td>2387.0</td>\n",
       "    </tr>\n",
       "    <tr>\n",
       "      <th>2</th>\n",
       "      <td>1</td>\n",
       "      <td>39</td>\n",
       "      <td>6</td>\n",
       "      <td>7291.0</td>\n",
       "    </tr>\n",
       "    <tr>\n",
       "      <th>3</th>\n",
       "      <td>1</td>\n",
       "      <td>41</td>\n",
       "      <td>2</td>\n",
       "      <td>2661.0</td>\n",
       "    </tr>\n",
       "    <tr>\n",
       "      <th>3</th>\n",
       "      <td>1</td>\n",
       "      <td>41</td>\n",
       "      <td>2</td>\n",
       "      <td>354.0</td>\n",
       "    </tr>\n",
       "    <tr>\n",
       "      <th>4</th>\n",
       "      <td>1</td>\n",
       "      <td>46</td>\n",
       "      <td>6</td>\n",
       "      <td>4383.0</td>\n",
       "    </tr>\n",
       "  </tbody>\n",
       "</table>\n",
       "</div>"
      ],
      "text/plain": [
       "   user_id  week_no  count_shares  id_shares\n",
       "0        1       30             7     7681.0\n",
       "0        1       30             7     8498.0\n",
       "0        1       30             7     5529.0\n",
       "0        1       30             7     5351.0\n",
       "0        1       30             7     1174.0\n",
       "0        1       30             7     2026.0\n",
       "0        1       30             7     5907.0\n",
       "1        1       34             4     5511.0\n",
       "1        1       34             4     3289.0\n",
       "1        1       34             4     7661.0\n",
       "1        1       34             4     8398.0\n",
       "2        1       39             6     1274.0\n",
       "2        1       39             6     3627.0\n",
       "2        1       39             6     1833.0\n",
       "2        1       39             6        1.0\n",
       "2        1       39             6     2387.0\n",
       "2        1       39             6     7291.0\n",
       "3        1       41             2     2661.0\n",
       "3        1       41             2      354.0\n",
       "4        1       46             6     4383.0"
      ]
     },
     "execution_count": 51,
     "metadata": {},
     "output_type": "execute_result"
    }
   ],
   "source": [
    "df_interactions.head(20)"
   ]
  },
  {
   "cell_type": "code",
   "execution_count": 53,
   "id": "836f44eb",
   "metadata": {},
   "outputs": [],
   "source": [
    "df_interactions = df_interactions.reset_index()"
   ]
  },
  {
   "cell_type": "code",
   "execution_count": 54,
   "id": "f60184cc",
   "metadata": {},
   "outputs": [],
   "source": [
    "df_interactions = df_interactions.drop('index', axis=1)"
   ]
  },
  {
   "cell_type": "code",
   "execution_count": 55,
   "id": "ea1a7e24",
   "metadata": {},
   "outputs": [
    {
     "data": {
      "text/html": [
       "<div>\n",
       "<style scoped>\n",
       "    .dataframe tbody tr th:only-of-type {\n",
       "        vertical-align: middle;\n",
       "    }\n",
       "\n",
       "    .dataframe tbody tr th {\n",
       "        vertical-align: top;\n",
       "    }\n",
       "\n",
       "    .dataframe thead th {\n",
       "        text-align: right;\n",
       "    }\n",
       "</style>\n",
       "<table border=\"1\" class=\"dataframe\">\n",
       "  <thead>\n",
       "    <tr style=\"text-align: right;\">\n",
       "      <th></th>\n",
       "      <th>user_id</th>\n",
       "      <th>week_no</th>\n",
       "      <th>count_shares</th>\n",
       "      <th>id_shares</th>\n",
       "    </tr>\n",
       "  </thead>\n",
       "  <tbody>\n",
       "    <tr>\n",
       "      <th>0</th>\n",
       "      <td>1</td>\n",
       "      <td>30</td>\n",
       "      <td>7</td>\n",
       "      <td>7681.0</td>\n",
       "    </tr>\n",
       "    <tr>\n",
       "      <th>1</th>\n",
       "      <td>1</td>\n",
       "      <td>30</td>\n",
       "      <td>7</td>\n",
       "      <td>8498.0</td>\n",
       "    </tr>\n",
       "    <tr>\n",
       "      <th>2</th>\n",
       "      <td>1</td>\n",
       "      <td>30</td>\n",
       "      <td>7</td>\n",
       "      <td>5529.0</td>\n",
       "    </tr>\n",
       "    <tr>\n",
       "      <th>3</th>\n",
       "      <td>1</td>\n",
       "      <td>30</td>\n",
       "      <td>7</td>\n",
       "      <td>5351.0</td>\n",
       "    </tr>\n",
       "    <tr>\n",
       "      <th>4</th>\n",
       "      <td>1</td>\n",
       "      <td>30</td>\n",
       "      <td>7</td>\n",
       "      <td>1174.0</td>\n",
       "    </tr>\n",
       "    <tr>\n",
       "      <th>...</th>\n",
       "      <td>...</td>\n",
       "      <td>...</td>\n",
       "      <td>...</td>\n",
       "      <td>...</td>\n",
       "    </tr>\n",
       "    <tr>\n",
       "      <th>601123</th>\n",
       "      <td>25000</td>\n",
       "      <td>38</td>\n",
       "      <td>3</td>\n",
       "      <td>2142.0</td>\n",
       "    </tr>\n",
       "    <tr>\n",
       "      <th>601124</th>\n",
       "      <td>25000</td>\n",
       "      <td>43</td>\n",
       "      <td>1</td>\n",
       "      <td>2757.0</td>\n",
       "    </tr>\n",
       "    <tr>\n",
       "      <th>601125</th>\n",
       "      <td>25000</td>\n",
       "      <td>44</td>\n",
       "      <td>2</td>\n",
       "      <td>8154.0</td>\n",
       "    </tr>\n",
       "    <tr>\n",
       "      <th>601126</th>\n",
       "      <td>25000</td>\n",
       "      <td>44</td>\n",
       "      <td>2</td>\n",
       "      <td>716.0</td>\n",
       "    </tr>\n",
       "    <tr>\n",
       "      <th>601127</th>\n",
       "      <td>25000</td>\n",
       "      <td>51</td>\n",
       "      <td>1</td>\n",
       "      <td>5996.0</td>\n",
       "    </tr>\n",
       "  </tbody>\n",
       "</table>\n",
       "<p>601128 rows × 4 columns</p>\n",
       "</div>"
      ],
      "text/plain": [
       "        user_id  week_no  count_shares  id_shares\n",
       "0             1       30             7     7681.0\n",
       "1             1       30             7     8498.0\n",
       "2             1       30             7     5529.0\n",
       "3             1       30             7     5351.0\n",
       "4             1       30             7     1174.0\n",
       "...         ...      ...           ...        ...\n",
       "601123    25000       38             3     2142.0\n",
       "601124    25000       43             1     2757.0\n",
       "601125    25000       44             2     8154.0\n",
       "601126    25000       44             2      716.0\n",
       "601127    25000       51             1     5996.0\n",
       "\n",
       "[601128 rows x 4 columns]"
      ]
     },
     "execution_count": 55,
     "metadata": {},
     "output_type": "execute_result"
    }
   ],
   "source": [
    "df_interactions"
   ]
  },
  {
   "cell_type": "markdown",
   "id": "07e10413",
   "metadata": {},
   "source": [
    "__Осталось добавить кол-во каждой акции при покупке. Будем диверсифицировать кол-во акций каждого инвестора в зависимости от отраслей__"
   ]
  },
  {
   "cell_type": "code",
   "execution_count": 56,
   "id": "313b9b1a",
   "metadata": {},
   "outputs": [
    {
     "data": {
      "text/plain": [
       "array(['Consumer Cyclical', 'Financial', 'Technology', 'Industrials',\n",
       "       'Healthcare', 'Consumer Defensive', 'Real Estate',\n",
       "       'Basic Materials', 'Communication Services', 'Utilities', 'Energy'],\n",
       "      dtype=object)"
      ]
     },
     "execution_count": 56,
     "metadata": {},
     "output_type": "execute_result"
    }
   ],
   "source": [
    "df_shares['industry'].unique()"
   ]
  },
  {
   "cell_type": "code",
   "execution_count": 57,
   "id": "53944b69",
   "metadata": {},
   "outputs": [],
   "source": [
    "industries = df_shares['industry'].to_list()"
   ]
  },
  {
   "cell_type": "code",
   "execution_count": 58,
   "id": "121ff532",
   "metadata": {},
   "outputs": [],
   "source": [
    "def industry_list_shares(industry, X):\n",
    "    industry_df = X[X['industry'] == industry]\n",
    "    industry_list = industry_df.id_share.to_list()\n",
    "    industry_list = [float(i) for i in industry_list]\n",
    "\n",
    "    return industry_list"
   ]
  },
  {
   "cell_type": "code",
   "execution_count": 59,
   "id": "e7232e56",
   "metadata": {},
   "outputs": [],
   "source": [
    "financial_list = industry_list_shares('Financial', df_shares)\n",
    "consumer_list = industry_list_shares('Consumer Cyclical', df_shares)\n",
    "technology_list = industry_list_shares('Technology', df_shares)\n",
    "industrial_list = industry_list_shares('Industrials', df_shares)\n",
    "healthcare_list = industry_list_shares('Healthcare', df_shares)\n",
    "defensive_list = industry_list_shares('Consumer Defensive', df_shares) \n",
    "estate_list = industry_list_shares('Real Estate', df_shares)\n",
    "materials_list = industry_list_shares('Basic Materials', df_shares)\n",
    "service_list = industry_list_shares('Communication Services', df_shares) \n",
    "utils_list = industry_list_shares('Utilities', df_shares)\n",
    "energy_list = industry_list_shares('Energy', df_shares)"
   ]
  },
  {
   "cell_type": "markdown",
   "id": "54210cb8",
   "metadata": {},
   "source": [
    "_Кол-во акций на каждую отрасль_"
   ]
  },
  {
   "cell_type": "code",
   "execution_count": 60,
   "id": "15fbb440",
   "metadata": {},
   "outputs": [],
   "source": [
    "#id всех акций из датасета df_interactions: \n",
    "list_id_shares = df_interactions.id_shares.to_list()"
   ]
  },
  {
   "cell_type": "code",
   "execution_count": 61,
   "id": "ec0032da",
   "metadata": {},
   "outputs": [],
   "source": [
    "quantity_2 = []\n",
    "for sh in list_id_shares: \n",
    "    if sh in financial_list: \n",
    "        quantity_2.append(random.randint(260, 275))\n",
    "    elif sh in consumer_list:\n",
    "        quantity_2.append(random.randint(125, 150))\n",
    "    elif sh in technology_list:\n",
    "        quantity_2.append(random.randint(250, 260))\n",
    "    elif sh in industrial_list:\n",
    "        quantity_2.append(random.randint(15, 20))\n",
    "    elif sh in healthcare_list:\n",
    "        quantity_2.append(random.randint(225, 250))\n",
    "    elif sh in defensive_list:\n",
    "        quantity_2.append(random.randint(40, 65))\n",
    "    elif sh in estate_list:\n",
    "        quantity_2.append(random.randint(10, 15))\n",
    "    elif sh in materials_list:\n",
    "        quantity_2.append(random.randint(75, 100))\n",
    "    elif sh in service_list:\n",
    "        quantity_2.append(random.randint(1, 5))\n",
    "    elif sh in utils_list:\n",
    "        quantity_2.append(random.randint(5, 10))\n",
    "    elif sh in energy_list:\n",
    "        quantity_2.append(random.randint(175, 200))"
   ]
  },
  {
   "cell_type": "code",
   "execution_count": 62,
   "id": "f5e5a679",
   "metadata": {},
   "outputs": [],
   "source": [
    "df_interactions['quantity'] = quantity_2"
   ]
  },
  {
   "cell_type": "code",
   "execution_count": 63,
   "id": "fa77dee8",
   "metadata": {},
   "outputs": [
    {
     "data": {
      "text/html": [
       "<div>\n",
       "<style scoped>\n",
       "    .dataframe tbody tr th:only-of-type {\n",
       "        vertical-align: middle;\n",
       "    }\n",
       "\n",
       "    .dataframe tbody tr th {\n",
       "        vertical-align: top;\n",
       "    }\n",
       "\n",
       "    .dataframe thead th {\n",
       "        text-align: right;\n",
       "    }\n",
       "</style>\n",
       "<table border=\"1\" class=\"dataframe\">\n",
       "  <thead>\n",
       "    <tr style=\"text-align: right;\">\n",
       "      <th></th>\n",
       "      <th>user_id</th>\n",
       "      <th>week_no</th>\n",
       "      <th>count_shares</th>\n",
       "      <th>id_shares</th>\n",
       "      <th>quantity</th>\n",
       "    </tr>\n",
       "  </thead>\n",
       "  <tbody>\n",
       "    <tr>\n",
       "      <th>0</th>\n",
       "      <td>1</td>\n",
       "      <td>30</td>\n",
       "      <td>7</td>\n",
       "      <td>7681.0</td>\n",
       "      <td>263</td>\n",
       "    </tr>\n",
       "    <tr>\n",
       "      <th>1</th>\n",
       "      <td>1</td>\n",
       "      <td>30</td>\n",
       "      <td>7</td>\n",
       "      <td>8498.0</td>\n",
       "      <td>237</td>\n",
       "    </tr>\n",
       "    <tr>\n",
       "      <th>2</th>\n",
       "      <td>1</td>\n",
       "      <td>30</td>\n",
       "      <td>7</td>\n",
       "      <td>5529.0</td>\n",
       "      <td>49</td>\n",
       "    </tr>\n",
       "    <tr>\n",
       "      <th>3</th>\n",
       "      <td>1</td>\n",
       "      <td>30</td>\n",
       "      <td>7</td>\n",
       "      <td>5351.0</td>\n",
       "      <td>145</td>\n",
       "    </tr>\n",
       "    <tr>\n",
       "      <th>4</th>\n",
       "      <td>1</td>\n",
       "      <td>30</td>\n",
       "      <td>7</td>\n",
       "      <td>1174.0</td>\n",
       "      <td>134</td>\n",
       "    </tr>\n",
       "    <tr>\n",
       "      <th>...</th>\n",
       "      <td>...</td>\n",
       "      <td>...</td>\n",
       "      <td>...</td>\n",
       "      <td>...</td>\n",
       "      <td>...</td>\n",
       "    </tr>\n",
       "    <tr>\n",
       "      <th>601123</th>\n",
       "      <td>25000</td>\n",
       "      <td>38</td>\n",
       "      <td>3</td>\n",
       "      <td>2142.0</td>\n",
       "      <td>136</td>\n",
       "    </tr>\n",
       "    <tr>\n",
       "      <th>601124</th>\n",
       "      <td>25000</td>\n",
       "      <td>43</td>\n",
       "      <td>1</td>\n",
       "      <td>2757.0</td>\n",
       "      <td>16</td>\n",
       "    </tr>\n",
       "    <tr>\n",
       "      <th>601125</th>\n",
       "      <td>25000</td>\n",
       "      <td>44</td>\n",
       "      <td>2</td>\n",
       "      <td>8154.0</td>\n",
       "      <td>248</td>\n",
       "    </tr>\n",
       "    <tr>\n",
       "      <th>601126</th>\n",
       "      <td>25000</td>\n",
       "      <td>44</td>\n",
       "      <td>2</td>\n",
       "      <td>716.0</td>\n",
       "      <td>270</td>\n",
       "    </tr>\n",
       "    <tr>\n",
       "      <th>601127</th>\n",
       "      <td>25000</td>\n",
       "      <td>51</td>\n",
       "      <td>1</td>\n",
       "      <td>5996.0</td>\n",
       "      <td>2</td>\n",
       "    </tr>\n",
       "  </tbody>\n",
       "</table>\n",
       "<p>601128 rows × 5 columns</p>\n",
       "</div>"
      ],
      "text/plain": [
       "        user_id  week_no  count_shares  id_shares  quantity\n",
       "0             1       30             7     7681.0       263\n",
       "1             1       30             7     8498.0       237\n",
       "2             1       30             7     5529.0        49\n",
       "3             1       30             7     5351.0       145\n",
       "4             1       30             7     1174.0       134\n",
       "...         ...      ...           ...        ...       ...\n",
       "601123    25000       38             3     2142.0       136\n",
       "601124    25000       43             1     2757.0        16\n",
       "601125    25000       44             2     8154.0       248\n",
       "601126    25000       44             2      716.0       270\n",
       "601127    25000       51             1     5996.0         2\n",
       "\n",
       "[601128 rows x 5 columns]"
      ]
     },
     "execution_count": 63,
     "metadata": {},
     "output_type": "execute_result"
    }
   ],
   "source": [
    "#count shares - это кол-во купленных акций юзером id в определенную неделю. \n",
    "# например за 29 неделю пользователь номер 1 купил 2 акции. \n",
    "# опционально можно менять подходы: ставить или quantity или count_shares\n",
    "df_interactions"
   ]
  },
  {
   "cell_type": "code",
   "execution_count": 64,
   "id": "b2f976b8",
   "metadata": {},
   "outputs": [],
   "source": [
    "import pandas as pd\n",
    "import numpy as np\n",
    "import matplotlib.pyplot as plt\n",
    "%matplotlib inline\n",
    "from implicit.als import AlternatingLeastSquares\n",
    "from implicit.bpr import BayesianPersonalizedRanking\n",
    "from implicit.nearest_neighbours import bm25_weight\n",
    "\n",
    "# Для работы с матрицами\n",
    "from scipy.sparse import csr_matrix, coo_matrix\n",
    "\n",
    "# Детерминированные алгоритмы\n",
    "from implicit.nearest_neighbours import ItemItemRecommender, CosineRecommender, TFIDFRecommender, BM25Recommender\n",
    "\n",
    "# Метрики\n",
    "from implicit.evaluation import train_test_split\n",
    "from implicit.evaluation import precision_at_k, mean_average_precision_at_k, AUC_at_k, ndcg_at_k"
   ]
  },
  {
   "cell_type": "markdown",
   "id": "0497b894",
   "metadata": {},
   "source": [
    "## Train-test split"
   ]
  },
  {
   "cell_type": "code",
   "execution_count": 65,
   "id": "c5b3d197",
   "metadata": {},
   "outputs": [],
   "source": [
    "test_size_weeks = 4\n",
    "\n",
    "data_train = df_interactions[df_interactions['week_no'] < df_interactions['week_no'].max() - test_size_weeks]\n",
    "data_test = df_interactions[df_interactions['week_no'] >= df_interactions['week_no'].max() - test_size_weeks]"
   ]
  },
  {
   "cell_type": "markdown",
   "id": "fdcb3c09",
   "metadata": {},
   "source": [
    "## Метрика"
   ]
  },
  {
   "cell_type": "code",
   "execution_count": 66,
   "id": "77f55dfa",
   "metadata": {},
   "outputs": [],
   "source": [
    "def precision_at_k(recommended_list, bought_list):\n",
    "    \n",
    "    k=5\n",
    "    bought_list = np.array(bought_list)\n",
    "    recommended_list = np.array(recommended_list)\n",
    "    bought_list = bought_list  # Тут нет [:k] !!\n",
    "    recommended_list = recommended_list[:k]\n",
    "    flags = np.isin(bought_list, recommended_list)\n",
    "    #print(flags)\n",
    "    precision = flags.sum() / len(recommended_list)\n",
    "    \n",
    "    return precision"
   ]
  },
  {
   "cell_type": "markdown",
   "id": "5ff49e29",
   "metadata": {},
   "source": [
    "_Для бизнеса и для ML я выбрал метрику `precision_at_k.` В первую очередь брокер заинтересован в том, чтобы клиент\n",
    "совершал сделки, а во вторую очередь зарабатывал. Идеальным вариантом считаю кастомную метрику, которая отражает\n",
    "доход с каждой рекомендации_"
   ]
  },
  {
   "cell_type": "markdown",
   "id": "3c2cb876",
   "metadata": {},
   "source": [
    "## Бейзлайны"
   ]
  },
  {
   "cell_type": "markdown",
   "id": "3e7c4030",
   "metadata": {},
   "source": [
    "Создадим датафрейм с покупками юзеров на тестовом датасете (последние 3 недели)"
   ]
  },
  {
   "cell_type": "code",
   "execution_count": 67,
   "id": "f9d9d181",
   "metadata": {},
   "outputs": [
    {
     "data": {
      "text/html": [
       "<div>\n",
       "<style scoped>\n",
       "    .dataframe tbody tr th:only-of-type {\n",
       "        vertical-align: middle;\n",
       "    }\n",
       "\n",
       "    .dataframe tbody tr th {\n",
       "        vertical-align: top;\n",
       "    }\n",
       "\n",
       "    .dataframe thead th {\n",
       "        text-align: right;\n",
       "    }\n",
       "</style>\n",
       "<table border=\"1\" class=\"dataframe\">\n",
       "  <thead>\n",
       "    <tr style=\"text-align: right;\">\n",
       "      <th></th>\n",
       "      <th>user_id</th>\n",
       "      <th>actual</th>\n",
       "    </tr>\n",
       "  </thead>\n",
       "  <tbody>\n",
       "    <tr>\n",
       "      <th>0</th>\n",
       "      <td>1</td>\n",
       "      <td>[7463.0, 5423.0, 1855.0, 5931.0]</td>\n",
       "    </tr>\n",
       "    <tr>\n",
       "      <th>1</th>\n",
       "      <td>2</td>\n",
       "      <td>[1793.0, 3387.0, 3351.0, 5889.0, 30.0, 6241.0,...</td>\n",
       "    </tr>\n",
       "  </tbody>\n",
       "</table>\n",
       "</div>"
      ],
      "text/plain": [
       "   user_id                                             actual\n",
       "0        1                   [7463.0, 5423.0, 1855.0, 5931.0]\n",
       "1        2  [1793.0, 3387.0, 3351.0, 5889.0, 30.0, 6241.0,..."
      ]
     },
     "execution_count": 67,
     "metadata": {},
     "output_type": "execute_result"
    }
   ],
   "source": [
    "result = data_test.groupby('user_id')['id_shares'].unique().reset_index()\n",
    "result.columns=['user_id', 'actual']\n",
    "result.head(2)"
   ]
  },
  {
   "cell_type": "markdown",
   "id": "312fe786",
   "metadata": {},
   "source": [
    "### 1.2 Popularity-based recommendation"
   ]
  },
  {
   "cell_type": "code",
   "execution_count": 68,
   "id": "6360c337",
   "metadata": {},
   "outputs": [],
   "source": [
    "def spb100_recommendation(shares, n=5):\n",
    "    \"\"\"Топ-n популярных акций из индекса spb-100\"\"\"\n",
    "    \n",
    "    recs = np.array(shares)\n",
    "    recs = [float(i) for i in recs]\n",
    "    rec_list = random.sample(recs, k=n)\n",
    "    \n",
    "    return rec_list"
   ]
  },
  {
   "cell_type": "code",
   "execution_count": 69,
   "id": "b8a9995b",
   "metadata": {},
   "outputs": [],
   "source": [
    "spb = pd.read_csv('popular_spb.csv')"
   ]
  },
  {
   "cell_type": "code",
   "execution_count": 70,
   "id": "b6578e76",
   "metadata": {
    "tags": []
   },
   "outputs": [
    {
     "name": "stdout",
     "output_type": "stream",
     "text": [
      "Wall time: 1.13 s\n"
     ]
    },
    {
     "data": {
      "text/html": [
       "<div>\n",
       "<style scoped>\n",
       "    .dataframe tbody tr th:only-of-type {\n",
       "        vertical-align: middle;\n",
       "    }\n",
       "\n",
       "    .dataframe tbody tr th {\n",
       "        vertical-align: top;\n",
       "    }\n",
       "\n",
       "    .dataframe thead th {\n",
       "        text-align: right;\n",
       "    }\n",
       "</style>\n",
       "<table border=\"1\" class=\"dataframe\">\n",
       "  <thead>\n",
       "    <tr style=\"text-align: right;\">\n",
       "      <th></th>\n",
       "      <th>user_id</th>\n",
       "      <th>actual</th>\n",
       "      <th>spb100_recommendation</th>\n",
       "    </tr>\n",
       "  </thead>\n",
       "  <tbody>\n",
       "    <tr>\n",
       "      <th>0</th>\n",
       "      <td>1</td>\n",
       "      <td>[7463.0, 5423.0, 1855.0, 5931.0]</td>\n",
       "      <td>[4.0, 1833.0, 4624.0, 7745.0, 7661.0]</td>\n",
       "    </tr>\n",
       "    <tr>\n",
       "      <th>1</th>\n",
       "      <td>2</td>\n",
       "      <td>[1793.0, 3387.0, 3351.0, 5889.0, 30.0, 6241.0,...</td>\n",
       "      <td>[4792.0, 8040.0, 7392.0, 2553.0, 2331.0]</td>\n",
       "    </tr>\n",
       "  </tbody>\n",
       "</table>\n",
       "</div>"
      ],
      "text/plain": [
       "   user_id                                             actual  \\\n",
       "0        1                   [7463.0, 5423.0, 1855.0, 5931.0]   \n",
       "1        2  [1793.0, 3387.0, 3351.0, 5889.0, 30.0, 6241.0,...   \n",
       "\n",
       "                      spb100_recommendation  \n",
       "0     [4.0, 1833.0, 4624.0, 7745.0, 7661.0]  \n",
       "1  [4792.0, 8040.0, 7392.0, 2553.0, 2331.0]  "
      ]
     },
     "execution_count": 70,
     "metadata": {},
     "output_type": "execute_result"
    }
   ],
   "source": [
    "%%time\n",
    "\n",
    "shares_spb = spb.id_share.unique()\n",
    "\n",
    "result['spb100_recommendation'] = result['user_id'].apply(lambda x: spb100_recommendation(shares_spb, n=5))\n",
    "result.head(2)"
   ]
  },
  {
   "cell_type": "code",
   "execution_count": 71,
   "id": "4f070eb7",
   "metadata": {},
   "outputs": [],
   "source": [
    "def popularity_recommendation(data, n=5):\n",
    "    \"\"\"Топ-n рандомно популярных акций\"\"\"\n",
    "    \n",
    "    popular = data.groupby('id_shares')['quantity'].sum().reset_index()\n",
    "    popular.sort_values('quantity', ascending=False, inplace=True)\n",
    "    \n",
    "    recs = popular.head(25).id_shares.to_list()\n",
    "    \n",
    "    rec_list = random.sample(recs, k=n)\n",
    "    \n",
    "    return rec_list"
   ]
  },
  {
   "cell_type": "code",
   "execution_count": 72,
   "id": "fcbb88f1",
   "metadata": {},
   "outputs": [],
   "source": [
    "####"
   ]
  },
  {
   "cell_type": "code",
   "execution_count": 73,
   "id": "2e964fdf",
   "metadata": {},
   "outputs": [
    {
     "data": {
      "text/html": [
       "<div>\n",
       "<style scoped>\n",
       "    .dataframe tbody tr th:only-of-type {\n",
       "        vertical-align: middle;\n",
       "    }\n",
       "\n",
       "    .dataframe tbody tr th {\n",
       "        vertical-align: top;\n",
       "    }\n",
       "\n",
       "    .dataframe thead th {\n",
       "        text-align: right;\n",
       "    }\n",
       "</style>\n",
       "<table border=\"1\" class=\"dataframe\">\n",
       "  <thead>\n",
       "    <tr style=\"text-align: right;\">\n",
       "      <th></th>\n",
       "      <th>user_id</th>\n",
       "      <th>actual</th>\n",
       "      <th>spb100_recommendation</th>\n",
       "      <th>popular_recommendation</th>\n",
       "    </tr>\n",
       "  </thead>\n",
       "  <tbody>\n",
       "    <tr>\n",
       "      <th>0</th>\n",
       "      <td>1</td>\n",
       "      <td>[7463.0, 5423.0, 1855.0, 5931.0]</td>\n",
       "      <td>[4.0, 1833.0, 4624.0, 7745.0, 7661.0]</td>\n",
       "      <td>[6276.0, 6260.0, 5172.0, 5113.0, 4060.0]</td>\n",
       "    </tr>\n",
       "    <tr>\n",
       "      <th>1</th>\n",
       "      <td>2</td>\n",
       "      <td>[1793.0, 3387.0, 3351.0, 5889.0, 30.0, 6241.0,...</td>\n",
       "      <td>[4792.0, 8040.0, 7392.0, 2553.0, 2331.0]</td>\n",
       "      <td>[6276.0, 6260.0, 5172.0, 5113.0, 4060.0]</td>\n",
       "    </tr>\n",
       "  </tbody>\n",
       "</table>\n",
       "</div>"
      ],
      "text/plain": [
       "   user_id                                             actual  \\\n",
       "0        1                   [7463.0, 5423.0, 1855.0, 5931.0]   \n",
       "1        2  [1793.0, 3387.0, 3351.0, 5889.0, 30.0, 6241.0,...   \n",
       "\n",
       "                      spb100_recommendation  \\\n",
       "0     [4.0, 1833.0, 4624.0, 7745.0, 7661.0]   \n",
       "1  [4792.0, 8040.0, 7392.0, 2553.0, 2331.0]   \n",
       "\n",
       "                     popular_recommendation  \n",
       "0  [6276.0, 6260.0, 5172.0, 5113.0, 4060.0]  \n",
       "1  [6276.0, 6260.0, 5172.0, 5113.0, 4060.0]  "
      ]
     },
     "execution_count": 73,
     "metadata": {},
     "output_type": "execute_result"
    }
   ],
   "source": [
    "popular_recs = popularity_recommendation(data_train, n=5)\n",
    "\n",
    "result['popular_recommendation'] = result['user_id'].apply(lambda x: popular_recs)\n",
    "result.head(2)"
   ]
  },
  {
   "cell_type": "markdown",
   "id": "3db0ec64",
   "metadata": {},
   "source": [
    "__Сформируем датасет из популярных акций__"
   ]
  },
  {
   "cell_type": "code",
   "execution_count": 74,
   "id": "af7358bb",
   "metadata": {},
   "outputs": [
    {
     "data": {
      "text/html": [
       "<div>\n",
       "<style scoped>\n",
       "    .dataframe tbody tr th:only-of-type {\n",
       "        vertical-align: middle;\n",
       "    }\n",
       "\n",
       "    .dataframe tbody tr th {\n",
       "        vertical-align: top;\n",
       "    }\n",
       "\n",
       "    .dataframe thead th {\n",
       "        text-align: right;\n",
       "    }\n",
       "</style>\n",
       "<table border=\"1\" class=\"dataframe\">\n",
       "  <thead>\n",
       "    <tr style=\"text-align: right;\">\n",
       "      <th></th>\n",
       "      <th>id_shares</th>\n",
       "      <th>quantity</th>\n",
       "    </tr>\n",
       "  </thead>\n",
       "  <tbody>\n",
       "    <tr>\n",
       "      <th>0</th>\n",
       "      <td>1.0</td>\n",
       "      <td>151094</td>\n",
       "    </tr>\n",
       "    <tr>\n",
       "      <th>1</th>\n",
       "      <td>2.0</td>\n",
       "      <td>1851</td>\n",
       "    </tr>\n",
       "    <tr>\n",
       "      <th>2</th>\n",
       "      <td>3.0</td>\n",
       "      <td>2818</td>\n",
       "    </tr>\n",
       "    <tr>\n",
       "      <th>3</th>\n",
       "      <td>4.0</td>\n",
       "      <td>456810</td>\n",
       "    </tr>\n",
       "    <tr>\n",
       "      <th>4</th>\n",
       "      <td>5.0</td>\n",
       "      <td>72</td>\n",
       "    </tr>\n",
       "    <tr>\n",
       "      <th>...</th>\n",
       "      <td>...</td>\n",
       "      <td>...</td>\n",
       "    </tr>\n",
       "    <tr>\n",
       "      <th>495</th>\n",
       "      <td>501.0</td>\n",
       "      <td>4822</td>\n",
       "    </tr>\n",
       "    <tr>\n",
       "      <th>496</th>\n",
       "      <td>502.0</td>\n",
       "      <td>2403</td>\n",
       "    </tr>\n",
       "    <tr>\n",
       "      <th>497</th>\n",
       "      <td>503.0</td>\n",
       "      <td>68</td>\n",
       "    </tr>\n",
       "    <tr>\n",
       "      <th>498</th>\n",
       "      <td>504.0</td>\n",
       "      <td>1267</td>\n",
       "    </tr>\n",
       "    <tr>\n",
       "      <th>499</th>\n",
       "      <td>505.0</td>\n",
       "      <td>1870</td>\n",
       "    </tr>\n",
       "  </tbody>\n",
       "</table>\n",
       "<p>500 rows × 2 columns</p>\n",
       "</div>"
      ],
      "text/plain": [
       "     id_shares  quantity\n",
       "0          1.0    151094\n",
       "1          2.0      1851\n",
       "2          3.0      2818\n",
       "3          4.0    456810\n",
       "4          5.0        72\n",
       "..         ...       ...\n",
       "495      501.0      4822\n",
       "496      502.0      2403\n",
       "497      503.0        68\n",
       "498      504.0      1267\n",
       "499      505.0      1870\n",
       "\n",
       "[500 rows x 2 columns]"
      ]
     },
     "execution_count": 74,
     "metadata": {},
     "output_type": "execute_result"
    }
   ],
   "source": [
    "popularity = df_interactions.groupby('id_shares')['quantity'].sum().reset_index()\n",
    "\n",
    "popularity.head(500)"
   ]
  },
  {
   "cell_type": "code",
   "execution_count": 75,
   "id": "ff29f61e",
   "metadata": {},
   "outputs": [],
   "source": [
    "top_250 = popularity.sort_values('quantity', ascending=False).head(250).id_shares.tolist()"
   ]
  },
  {
   "cell_type": "code",
   "execution_count": 76,
   "id": "38d0754b",
   "metadata": {},
   "outputs": [
    {
     "name": "stderr",
     "output_type": "stream",
     "text": [
      "c:\\users\\anatoly\\appdata\\local\\programs\\python\\python39\\lib\\site-packages\\pandas\\core\\indexing.py:1720: SettingWithCopyWarning: \n",
      "A value is trying to be set on a copy of a slice from a DataFrame.\n",
      "Try using .loc[row_indexer,col_indexer] = value instead\n",
      "\n",
      "See the caveats in the documentation: https://pandas.pydata.org/pandas-docs/stable/user_guide/indexing.html#returning-a-view-versus-a-copy\n",
      "  self._setitem_single_column(loc, value, pi)\n"
     ]
    },
    {
     "data": {
      "text/html": [
       "<div>\n",
       "<style scoped>\n",
       "    .dataframe tbody tr th:only-of-type {\n",
       "        vertical-align: middle;\n",
       "    }\n",
       "\n",
       "    .dataframe tbody tr th {\n",
       "        vertical-align: top;\n",
       "    }\n",
       "\n",
       "    .dataframe thead th {\n",
       "        text-align: right;\n",
       "    }\n",
       "</style>\n",
       "<table border=\"1\" class=\"dataframe\">\n",
       "  <thead>\n",
       "    <tr style=\"text-align: right;\">\n",
       "      <th>id_shares</th>\n",
       "      <th>4.0</th>\n",
       "      <th>19.0</th>\n",
       "      <th>28.0</th>\n",
       "      <th>30.0</th>\n",
       "      <th>39.0</th>\n",
       "      <th>43.0</th>\n",
       "      <th>95.0</th>\n",
       "      <th>104.0</th>\n",
       "      <th>118.0</th>\n",
       "      <th>130.0</th>\n",
       "      <th>...</th>\n",
       "      <th>8356.0</th>\n",
       "      <th>8367.0</th>\n",
       "      <th>8380.0</th>\n",
       "      <th>8435.0</th>\n",
       "      <th>8458.0</th>\n",
       "      <th>8498.0</th>\n",
       "      <th>8535.0</th>\n",
       "      <th>8537.0</th>\n",
       "      <th>8555.0</th>\n",
       "      <th>999999.0</th>\n",
       "    </tr>\n",
       "    <tr>\n",
       "      <th>user_id</th>\n",
       "      <th></th>\n",
       "      <th></th>\n",
       "      <th></th>\n",
       "      <th></th>\n",
       "      <th></th>\n",
       "      <th></th>\n",
       "      <th></th>\n",
       "      <th></th>\n",
       "      <th></th>\n",
       "      <th></th>\n",
       "      <th></th>\n",
       "      <th></th>\n",
       "      <th></th>\n",
       "      <th></th>\n",
       "      <th></th>\n",
       "      <th></th>\n",
       "      <th></th>\n",
       "      <th></th>\n",
       "      <th></th>\n",
       "      <th></th>\n",
       "      <th></th>\n",
       "    </tr>\n",
       "  </thead>\n",
       "  <tbody>\n",
       "    <tr>\n",
       "      <th>1</th>\n",
       "      <td>0.0</td>\n",
       "      <td>0.0</td>\n",
       "      <td>0.0</td>\n",
       "      <td>0.0</td>\n",
       "      <td>0.0</td>\n",
       "      <td>0.0</td>\n",
       "      <td>0.0</td>\n",
       "      <td>0.0</td>\n",
       "      <td>0.0</td>\n",
       "      <td>0.0</td>\n",
       "      <td>...</td>\n",
       "      <td>0.0</td>\n",
       "      <td>0.0</td>\n",
       "      <td>0.0</td>\n",
       "      <td>0.0</td>\n",
       "      <td>0.0</td>\n",
       "      <td>1.0</td>\n",
       "      <td>0.0</td>\n",
       "      <td>0.0</td>\n",
       "      <td>0.0</td>\n",
       "      <td>1.0</td>\n",
       "    </tr>\n",
       "    <tr>\n",
       "      <th>2</th>\n",
       "      <td>0.0</td>\n",
       "      <td>0.0</td>\n",
       "      <td>0.0</td>\n",
       "      <td>0.0</td>\n",
       "      <td>0.0</td>\n",
       "      <td>0.0</td>\n",
       "      <td>1.0</td>\n",
       "      <td>0.0</td>\n",
       "      <td>0.0</td>\n",
       "      <td>0.0</td>\n",
       "      <td>...</td>\n",
       "      <td>0.0</td>\n",
       "      <td>0.0</td>\n",
       "      <td>0.0</td>\n",
       "      <td>0.0</td>\n",
       "      <td>0.0</td>\n",
       "      <td>1.0</td>\n",
       "      <td>0.0</td>\n",
       "      <td>0.0</td>\n",
       "      <td>0.0</td>\n",
       "      <td>1.0</td>\n",
       "    </tr>\n",
       "    <tr>\n",
       "      <th>3</th>\n",
       "      <td>0.0</td>\n",
       "      <td>0.0</td>\n",
       "      <td>0.0</td>\n",
       "      <td>0.0</td>\n",
       "      <td>0.0</td>\n",
       "      <td>0.0</td>\n",
       "      <td>0.0</td>\n",
       "      <td>0.0</td>\n",
       "      <td>0.0</td>\n",
       "      <td>0.0</td>\n",
       "      <td>...</td>\n",
       "      <td>0.0</td>\n",
       "      <td>0.0</td>\n",
       "      <td>0.0</td>\n",
       "      <td>0.0</td>\n",
       "      <td>0.0</td>\n",
       "      <td>0.0</td>\n",
       "      <td>0.0</td>\n",
       "      <td>0.0</td>\n",
       "      <td>0.0</td>\n",
       "      <td>1.0</td>\n",
       "    </tr>\n",
       "  </tbody>\n",
       "</table>\n",
       "<p>3 rows × 251 columns</p>\n",
       "</div>"
      ],
      "text/plain": [
       "id_shares  4.0       19.0      28.0      30.0      39.0      43.0      \\\n",
       "user_id                                                                 \n",
       "1               0.0       0.0       0.0       0.0       0.0       0.0   \n",
       "2               0.0       0.0       0.0       0.0       0.0       0.0   \n",
       "3               0.0       0.0       0.0       0.0       0.0       0.0   \n",
       "\n",
       "id_shares  95.0      104.0     118.0     130.0     ...  8356.0    8367.0    \\\n",
       "user_id                                            ...                       \n",
       "1               0.0       0.0       0.0       0.0  ...       0.0       0.0   \n",
       "2               1.0       0.0       0.0       0.0  ...       0.0       0.0   \n",
       "3               0.0       0.0       0.0       0.0  ...       0.0       0.0   \n",
       "\n",
       "id_shares  8380.0    8435.0    8458.0    8498.0    8535.0    8537.0    \\\n",
       "user_id                                                                 \n",
       "1               0.0       0.0       0.0       1.0       0.0       0.0   \n",
       "2               0.0       0.0       0.0       1.0       0.0       0.0   \n",
       "3               0.0       0.0       0.0       0.0       0.0       0.0   \n",
       "\n",
       "id_shares  8555.0    999999.0  \n",
       "user_id                        \n",
       "1               0.0       1.0  \n",
       "2               0.0       1.0  \n",
       "3               0.0       1.0  \n",
       "\n",
       "[3 rows x 251 columns]"
      ]
     },
     "execution_count": 76,
     "metadata": {},
     "output_type": "execute_result"
    }
   ],
   "source": [
    "# Заведем фиктивный shares_id (если юзер не купил акцию из топ-250, то он \"купил\" такую акцию)\n",
    "data_train.loc[~data_train['id_shares'].isin(top_250), 'id_shares'] = 999999\n",
    "\n",
    "user_item_matrix = pd.pivot_table(data_train, \n",
    "                                  index='user_id', columns='id_shares', \n",
    "                                  values='quantity',\n",
    "                                  aggfunc='count', \n",
    "                                  fill_value=0\n",
    "                                 )\n",
    "\n",
    "user_item_matrix[user_item_matrix > 0] = 1 # так как в итоге хотим предсказать \n",
    "user_item_matrix = user_item_matrix.astype(float) # необходимый тип матрицы для implicit\n",
    "\n",
    "# переведем в формат saprse matrix\n",
    "sparse_user_item = csr_matrix(user_item_matrix).tocsr()\n",
    "\n",
    "user_item_matrix.head(3)"
   ]
  },
  {
   "cell_type": "code",
   "execution_count": 77,
   "id": "5ab9fee8",
   "metadata": {},
   "outputs": [
    {
     "data": {
      "text/plain": [
       "(25000, 251)"
      ]
     },
     "execution_count": 77,
     "metadata": {},
     "output_type": "execute_result"
    }
   ],
   "source": [
    "user_item_matrix.shape"
   ]
  },
  {
   "cell_type": "code",
   "execution_count": 78,
   "id": "8946a1d2",
   "metadata": {},
   "outputs": [],
   "source": [
    "userids = user_item_matrix.index.values\n",
    "itemids = user_item_matrix.columns.values\n",
    "\n",
    "matrix_userids = np.arange(len(userids))\n",
    "matrix_itemids = np.arange(len(itemids))\n",
    "\n",
    "id_to_itemid = dict(zip(matrix_itemids, itemids))\n",
    "id_to_userid = dict(zip(matrix_userids, userids))\n",
    "\n",
    "itemid_to_id = dict(zip(itemids, matrix_itemids))\n",
    "userid_to_id = dict(zip(userids, matrix_userids))"
   ]
  },
  {
   "cell_type": "markdown",
   "id": "1eea9bce",
   "metadata": {},
   "source": [
    "## ItemItemRecommender"
   ]
  },
  {
   "cell_type": "code",
   "execution_count": 79,
   "id": "04fae881",
   "metadata": {},
   "outputs": [
    {
     "data": {
      "application/vnd.jupyter.widget-view+json": {
       "model_id": "cc3c6daf41b2438e871de5f296c2f704",
       "version_major": 2,
       "version_minor": 0
      },
      "text/plain": [
       "  0%|          | 0/251 [00:00<?, ?it/s]"
      ]
     },
     "metadata": {},
     "output_type": "display_data"
    },
    {
     "name": "stdout",
     "output_type": "stream",
     "text": [
      "Wall time: 453 ms\n"
     ]
    }
   ],
   "source": [
    "%%time\n",
    "\n",
    "model = ItemItemRecommender(K=5, num_threads=4) # K - кол-во билжайших соседей\n",
    "\n",
    "model.fit(csr_matrix(user_item_matrix).T.tocsr(),  # На вход item-user matrix\n",
    "          show_progress=True)\n",
    "\n",
    "recs = model.recommend(userid=userid_to_id[2],  # userid - id от 0 до N\n",
    "                        user_items=csr_matrix(user_item_matrix).tocsr(),   # на вход user-item matrix\n",
    "                        N=5, # кол-во рекомендаций \n",
    "                        filter_already_liked_items=True, \n",
    "                        filter_items=None, \n",
    "                        recalculate_user=True)"
   ]
  },
  {
   "cell_type": "code",
   "execution_count": 80,
   "id": "2afe97c2",
   "metadata": {},
   "outputs": [],
   "source": [
    "result['itemitem'] = result['user_id'].\\\n",
    "    apply(lambda x: [id_to_itemid[rec[0]] for rec in \n",
    "                    model.recommend(userid=userid_to_id[x], \n",
    "                                    user_items=sparse_user_item,   # на вход user-item matrix\n",
    "                                    N=5, \n",
    "                                    filter_already_liked_items=True, \n",
    "                                    filter_items=None, \n",
    "                                    recalculate_user=True)])"
   ]
  },
  {
   "cell_type": "code",
   "execution_count": 81,
   "id": "a330064d",
   "metadata": {},
   "outputs": [
    {
     "data": {
      "text/html": [
       "<div>\n",
       "<style scoped>\n",
       "    .dataframe tbody tr th:only-of-type {\n",
       "        vertical-align: middle;\n",
       "    }\n",
       "\n",
       "    .dataframe tbody tr th {\n",
       "        vertical-align: top;\n",
       "    }\n",
       "\n",
       "    .dataframe thead th {\n",
       "        text-align: right;\n",
       "    }\n",
       "</style>\n",
       "<table border=\"1\" class=\"dataframe\">\n",
       "  <thead>\n",
       "    <tr style=\"text-align: right;\">\n",
       "      <th></th>\n",
       "      <th>user_id</th>\n",
       "      <th>actual</th>\n",
       "      <th>spb100_recommendation</th>\n",
       "      <th>popular_recommendation</th>\n",
       "      <th>itemitem</th>\n",
       "    </tr>\n",
       "  </thead>\n",
       "  <tbody>\n",
       "    <tr>\n",
       "      <th>0</th>\n",
       "      <td>1</td>\n",
       "      <td>[7463.0, 5423.0, 1855.0, 5931.0]</td>\n",
       "      <td>[4.0, 1833.0, 4624.0, 7745.0, 7661.0]</td>\n",
       "      <td>[6276.0, 6260.0, 5172.0, 5113.0, 4060.0]</td>\n",
       "      <td>[388.0, 5604.0, 8458.0, 5747.0, 5172.0]</td>\n",
       "    </tr>\n",
       "    <tr>\n",
       "      <th>1</th>\n",
       "      <td>2</td>\n",
       "      <td>[1793.0, 3387.0, 3351.0, 5889.0, 30.0, 6241.0,...</td>\n",
       "      <td>[4792.0, 8040.0, 7392.0, 2553.0, 2331.0]</td>\n",
       "      <td>[6276.0, 6260.0, 5172.0, 5113.0, 4060.0]</td>\n",
       "      <td>[8458.0, 1833.0, 388.0, 5604.0, 7924.0]</td>\n",
       "    </tr>\n",
       "  </tbody>\n",
       "</table>\n",
       "</div>"
      ],
      "text/plain": [
       "   user_id                                             actual  \\\n",
       "0        1                   [7463.0, 5423.0, 1855.0, 5931.0]   \n",
       "1        2  [1793.0, 3387.0, 3351.0, 5889.0, 30.0, 6241.0,...   \n",
       "\n",
       "                      spb100_recommendation  \\\n",
       "0     [4.0, 1833.0, 4624.0, 7745.0, 7661.0]   \n",
       "1  [4792.0, 8040.0, 7392.0, 2553.0, 2331.0]   \n",
       "\n",
       "                     popular_recommendation  \\\n",
       "0  [6276.0, 6260.0, 5172.0, 5113.0, 4060.0]   \n",
       "1  [6276.0, 6260.0, 5172.0, 5113.0, 4060.0]   \n",
       "\n",
       "                                  itemitem  \n",
       "0  [388.0, 5604.0, 8458.0, 5747.0, 5172.0]  \n",
       "1  [8458.0, 1833.0, 388.0, 5604.0, 7924.0]  "
      ]
     },
     "execution_count": 81,
     "metadata": {},
     "output_type": "execute_result"
    }
   ],
   "source": [
    "result.head(2)"
   ]
  },
  {
   "cell_type": "markdown",
   "id": "5494b2f9",
   "metadata": {},
   "source": [
    "## Cosine Similarity"
   ]
  },
  {
   "cell_type": "code",
   "execution_count": 82,
   "id": "36cc4ac8",
   "metadata": {},
   "outputs": [
    {
     "data": {
      "application/vnd.jupyter.widget-view+json": {
       "model_id": "2c180a9cdfbf486fb8252aea883499e3",
       "version_major": 2,
       "version_minor": 0
      },
      "text/plain": [
       "  0%|          | 0/251 [00:00<?, ?it/s]"
      ]
     },
     "metadata": {},
     "output_type": "display_data"
    },
    {
     "name": "stdout",
     "output_type": "stream",
     "text": [
      "Wall time: 436 ms\n"
     ]
    }
   ],
   "source": [
    "%%time\n",
    "\n",
    "model = CosineRecommender(K=5, num_threads=4) # K - кол-во билжайших соседей\n",
    "\n",
    "model.fit(csr_matrix(user_item_matrix).T.tocsr(), \n",
    "          show_progress=True)\n",
    "\n",
    "recs = model.recommend(userid=userid_to_id[1], \n",
    "                        user_items=csr_matrix(user_item_matrix).tocsr(),   # на вход user-item matrix\n",
    "                        N=5, \n",
    "                        filter_already_liked_items=True, \n",
    "                        filter_items=None, \n",
    "                        recalculate_user=False)"
   ]
  },
  {
   "cell_type": "code",
   "execution_count": 83,
   "id": "64928361",
   "metadata": {},
   "outputs": [
    {
     "data": {
      "text/plain": [
       "[388.0, 5604.0, 8458.0, 5747.0, 436.0]"
      ]
     },
     "execution_count": 83,
     "metadata": {},
     "output_type": "execute_result"
    }
   ],
   "source": [
    "[id_to_itemid[rec[0]] for rec in recs]"
   ]
  },
  {
   "cell_type": "code",
   "execution_count": 84,
   "id": "53c6188c",
   "metadata": {},
   "outputs": [
    {
     "name": "stdout",
     "output_type": "stream",
     "text": [
      "Wall time: 1.19 s\n"
     ]
    }
   ],
   "source": [
    "%%time\n",
    "\n",
    "result['cosine'] = result['user_id'].\\\n",
    "    apply(lambda x: [id_to_itemid[rec[0]] for rec in \n",
    "                    model.recommend(userid=userid_to_id[x], \n",
    "                                    user_items=sparse_user_item,   # на вход user-item matrix\n",
    "                                    N=5, \n",
    "                                    filter_already_liked_items=True, \n",
    "                                    filter_items=None, \n",
    "                                    recalculate_user=True)])"
   ]
  },
  {
   "cell_type": "code",
   "execution_count": 85,
   "id": "ba5ea100",
   "metadata": {},
   "outputs": [
    {
     "data": {
      "text/html": [
       "<div>\n",
       "<style scoped>\n",
       "    .dataframe tbody tr th:only-of-type {\n",
       "        vertical-align: middle;\n",
       "    }\n",
       "\n",
       "    .dataframe tbody tr th {\n",
       "        vertical-align: top;\n",
       "    }\n",
       "\n",
       "    .dataframe thead th {\n",
       "        text-align: right;\n",
       "    }\n",
       "</style>\n",
       "<table border=\"1\" class=\"dataframe\">\n",
       "  <thead>\n",
       "    <tr style=\"text-align: right;\">\n",
       "      <th></th>\n",
       "      <th>user_id</th>\n",
       "      <th>actual</th>\n",
       "      <th>spb100_recommendation</th>\n",
       "      <th>popular_recommendation</th>\n",
       "      <th>itemitem</th>\n",
       "      <th>cosine</th>\n",
       "    </tr>\n",
       "  </thead>\n",
       "  <tbody>\n",
       "    <tr>\n",
       "      <th>0</th>\n",
       "      <td>1</td>\n",
       "      <td>[7463.0, 5423.0, 1855.0, 5931.0]</td>\n",
       "      <td>[4.0, 1833.0, 4624.0, 7745.0, 7661.0]</td>\n",
       "      <td>[6276.0, 6260.0, 5172.0, 5113.0, 4060.0]</td>\n",
       "      <td>[388.0, 5604.0, 8458.0, 5747.0, 5172.0]</td>\n",
       "      <td>[388.0, 5604.0, 8458.0, 5747.0, 436.0]</td>\n",
       "    </tr>\n",
       "    <tr>\n",
       "      <th>1</th>\n",
       "      <td>2</td>\n",
       "      <td>[1793.0, 3387.0, 3351.0, 5889.0, 30.0, 6241.0,...</td>\n",
       "      <td>[4792.0, 8040.0, 7392.0, 2553.0, 2331.0]</td>\n",
       "      <td>[6276.0, 6260.0, 5172.0, 5113.0, 4060.0]</td>\n",
       "      <td>[8458.0, 1833.0, 388.0, 5604.0, 7924.0]</td>\n",
       "      <td>[1833.0, 388.0, 8458.0, 5604.0, 7924.0]</td>\n",
       "    </tr>\n",
       "  </tbody>\n",
       "</table>\n",
       "</div>"
      ],
      "text/plain": [
       "   user_id                                             actual  \\\n",
       "0        1                   [7463.0, 5423.0, 1855.0, 5931.0]   \n",
       "1        2  [1793.0, 3387.0, 3351.0, 5889.0, 30.0, 6241.0,...   \n",
       "\n",
       "                      spb100_recommendation  \\\n",
       "0     [4.0, 1833.0, 4624.0, 7745.0, 7661.0]   \n",
       "1  [4792.0, 8040.0, 7392.0, 2553.0, 2331.0]   \n",
       "\n",
       "                     popular_recommendation  \\\n",
       "0  [6276.0, 6260.0, 5172.0, 5113.0, 4060.0]   \n",
       "1  [6276.0, 6260.0, 5172.0, 5113.0, 4060.0]   \n",
       "\n",
       "                                  itemitem  \\\n",
       "0  [388.0, 5604.0, 8458.0, 5747.0, 5172.0]   \n",
       "1  [8458.0, 1833.0, 388.0, 5604.0, 7924.0]   \n",
       "\n",
       "                                    cosine  \n",
       "0   [388.0, 5604.0, 8458.0, 5747.0, 436.0]  \n",
       "1  [1833.0, 388.0, 8458.0, 5604.0, 7924.0]  "
      ]
     },
     "execution_count": 85,
     "metadata": {},
     "output_type": "execute_result"
    }
   ],
   "source": [
    "result.head(2)"
   ]
  },
  {
   "cell_type": "markdown",
   "id": "82454e5e",
   "metadata": {},
   "source": [
    "## TFIDFRecommender"
   ]
  },
  {
   "cell_type": "code",
   "execution_count": 86,
   "id": "95eb84b1",
   "metadata": {},
   "outputs": [
    {
     "data": {
      "application/vnd.jupyter.widget-view+json": {
       "model_id": "07c5b4c9380a4d418fe382bb8274f3b9",
       "version_major": 2,
       "version_minor": 0
      },
      "text/plain": [
       "  0%|          | 0/251 [00:00<?, ?it/s]"
      ]
     },
     "metadata": {},
     "output_type": "display_data"
    },
    {
     "name": "stdout",
     "output_type": "stream",
     "text": [
      "Wall time: 453 ms\n"
     ]
    }
   ],
   "source": [
    "%%time\n",
    "\n",
    "model = TFIDFRecommender(K=5, num_threads=4) # K - кол-во билжайших соседей\n",
    "\n",
    "model.fit(csr_matrix(user_item_matrix).T.tocsr(), \n",
    "          show_progress=True)\n",
    "\n",
    "recs = model.recommend(userid=userid_to_id[1], \n",
    "                        user_items=csr_matrix(user_item_matrix).tocsr(),   # на вход user-item matrix\n",
    "                        N=5, \n",
    "                        filter_already_liked_items=True, \n",
    "                        filter_items=None, \n",
    "                        recalculate_user=False)"
   ]
  },
  {
   "cell_type": "code",
   "execution_count": 87,
   "id": "8e94a7dc",
   "metadata": {},
   "outputs": [
    {
     "data": {
      "text/plain": [
       "[5604.0, 5889.0, 8458.0, 716.0, 5747.0]"
      ]
     },
     "execution_count": 87,
     "metadata": {},
     "output_type": "execute_result"
    }
   ],
   "source": [
    "[id_to_itemid[rec[0]] for rec in recs]"
   ]
  },
  {
   "cell_type": "code",
   "execution_count": 88,
   "id": "d832e026",
   "metadata": {},
   "outputs": [
    {
     "name": "stdout",
     "output_type": "stream",
     "text": [
      "Wall time: 1.17 s\n"
     ]
    }
   ],
   "source": [
    "%%time\n",
    "\n",
    "result['tfidf'] = result['user_id'].\\\n",
    "    apply(lambda x: [id_to_itemid[rec[0]] for rec in \n",
    "                    model.recommend(userid=userid_to_id[x], \n",
    "                                    user_items=sparse_user_item,   # на вход user-item matrix\n",
    "                                    N=5, \n",
    "                                    filter_already_liked_items=True, \n",
    "                                    filter_items=None, \n",
    "                                    recalculate_user=False)])"
   ]
  },
  {
   "cell_type": "code",
   "execution_count": 89,
   "id": "bba6bd40",
   "metadata": {},
   "outputs": [
    {
     "data": {
      "text/html": [
       "<div>\n",
       "<style scoped>\n",
       "    .dataframe tbody tr th:only-of-type {\n",
       "        vertical-align: middle;\n",
       "    }\n",
       "\n",
       "    .dataframe tbody tr th {\n",
       "        vertical-align: top;\n",
       "    }\n",
       "\n",
       "    .dataframe thead th {\n",
       "        text-align: right;\n",
       "    }\n",
       "</style>\n",
       "<table border=\"1\" class=\"dataframe\">\n",
       "  <thead>\n",
       "    <tr style=\"text-align: right;\">\n",
       "      <th></th>\n",
       "      <th>user_id</th>\n",
       "      <th>actual</th>\n",
       "      <th>spb100_recommendation</th>\n",
       "      <th>popular_recommendation</th>\n",
       "      <th>itemitem</th>\n",
       "      <th>cosine</th>\n",
       "      <th>tfidf</th>\n",
       "    </tr>\n",
       "  </thead>\n",
       "  <tbody>\n",
       "    <tr>\n",
       "      <th>0</th>\n",
       "      <td>1</td>\n",
       "      <td>[7463.0, 5423.0, 1855.0, 5931.0]</td>\n",
       "      <td>[4.0, 1833.0, 4624.0, 7745.0, 7661.0]</td>\n",
       "      <td>[6276.0, 6260.0, 5172.0, 5113.0, 4060.0]</td>\n",
       "      <td>[388.0, 5604.0, 8458.0, 5747.0, 5172.0]</td>\n",
       "      <td>[388.0, 5604.0, 8458.0, 5747.0, 436.0]</td>\n",
       "      <td>[5604.0, 5889.0, 8458.0, 716.0, 5747.0]</td>\n",
       "    </tr>\n",
       "    <tr>\n",
       "      <th>1</th>\n",
       "      <td>2</td>\n",
       "      <td>[1793.0, 3387.0, 3351.0, 5889.0, 30.0, 6241.0,...</td>\n",
       "      <td>[4792.0, 8040.0, 7392.0, 2553.0, 2331.0]</td>\n",
       "      <td>[6276.0, 6260.0, 5172.0, 5113.0, 4060.0]</td>\n",
       "      <td>[8458.0, 1833.0, 388.0, 5604.0, 7924.0]</td>\n",
       "      <td>[1833.0, 388.0, 8458.0, 5604.0, 7924.0]</td>\n",
       "      <td>[8458.0, 5604.0, 5889.0, 716.0, 7924.0]</td>\n",
       "    </tr>\n",
       "  </tbody>\n",
       "</table>\n",
       "</div>"
      ],
      "text/plain": [
       "   user_id                                             actual  \\\n",
       "0        1                   [7463.0, 5423.0, 1855.0, 5931.0]   \n",
       "1        2  [1793.0, 3387.0, 3351.0, 5889.0, 30.0, 6241.0,...   \n",
       "\n",
       "                      spb100_recommendation  \\\n",
       "0     [4.0, 1833.0, 4624.0, 7745.0, 7661.0]   \n",
       "1  [4792.0, 8040.0, 7392.0, 2553.0, 2331.0]   \n",
       "\n",
       "                     popular_recommendation  \\\n",
       "0  [6276.0, 6260.0, 5172.0, 5113.0, 4060.0]   \n",
       "1  [6276.0, 6260.0, 5172.0, 5113.0, 4060.0]   \n",
       "\n",
       "                                  itemitem  \\\n",
       "0  [388.0, 5604.0, 8458.0, 5747.0, 5172.0]   \n",
       "1  [8458.0, 1833.0, 388.0, 5604.0, 7924.0]   \n",
       "\n",
       "                                    cosine  \\\n",
       "0   [388.0, 5604.0, 8458.0, 5747.0, 436.0]   \n",
       "1  [1833.0, 388.0, 8458.0, 5604.0, 7924.0]   \n",
       "\n",
       "                                     tfidf  \n",
       "0  [5604.0, 5889.0, 8458.0, 716.0, 5747.0]  \n",
       "1  [8458.0, 5604.0, 5889.0, 716.0, 7924.0]  "
      ]
     },
     "execution_count": 89,
     "metadata": {},
     "output_type": "execute_result"
    }
   ],
   "source": [
    "result.head(2)"
   ]
  },
  {
   "cell_type": "markdown",
   "id": "fc3b9a2c",
   "metadata": {},
   "source": [
    "## ALS"
   ]
  },
  {
   "cell_type": "code",
   "execution_count": 90,
   "id": "ba13ec42",
   "metadata": {},
   "outputs": [
    {
     "name": "stderr",
     "output_type": "stream",
     "text": [
      "WARNING:root:OpenBLAS detected. Its highly recommend to set the environment variable 'export OPENBLAS_NUM_THREADS=1' to disable its internal multithreading\n"
     ]
    },
    {
     "data": {
      "application/vnd.jupyter.widget-view+json": {
       "model_id": "441e72a8f89d448d9912c884d05f3122",
       "version_major": 2,
       "version_minor": 0
      },
      "text/plain": [
       "  0%|          | 0/15 [00:00<?, ?it/s]"
      ]
     },
     "metadata": {},
     "output_type": "display_data"
    },
    {
     "name": "stdout",
     "output_type": "stream",
     "text": [
      "Wall time: 31.3 s\n"
     ]
    }
   ],
   "source": [
    "%%time\n",
    "\n",
    "model = AlternatingLeastSquares(factors=100,  # Нужно подбирать\n",
    "                                regularization=0.001,\n",
    "                                iterations=15,\n",
    "                                calculate_training_loss=True, \n",
    "                                num_threads=4)\n",
    "\n",
    "model.fit(csr_matrix(user_item_matrix).T.tocsr(),  # На вход item-user matrix\n",
    "          show_progress=True)\n",
    "\n",
    "recs = model.recommend(userid=userid_to_id[2],  # userid - id от 0 до N\n",
    "                        user_items=csr_matrix(user_item_matrix).tocsr(),   # на вход user-item matrix\n",
    "                        N=5, # кол-во рекомендаций \n",
    "                        filter_already_liked_items=[itemid_to_id[999999]], \n",
    "                        filter_items=None, \n",
    "                        recalculate_user=False)"
   ]
  },
  {
   "cell_type": "code",
   "execution_count": 91,
   "id": "525266b2",
   "metadata": {},
   "outputs": [
    {
     "data": {
      "text/plain": [
       "[(236, 0.21963489),\n",
       " (47, 0.21725845),\n",
       " (165, 0.20511593),\n",
       " (84, 0.19392784),\n",
       " (104, 0.17844523)]"
      ]
     },
     "execution_count": 91,
     "metadata": {},
     "output_type": "execute_result"
    }
   ],
   "source": [
    "recs"
   ]
  },
  {
   "cell_type": "code",
   "execution_count": 92,
   "id": "99b39727",
   "metadata": {},
   "outputs": [
    {
     "data": {
      "text/plain": [
       "[8235.0, 1238.0, 5339.0, 2458.0, 3387.0]"
      ]
     },
     "execution_count": 92,
     "metadata": {},
     "output_type": "execute_result"
    }
   ],
   "source": [
    "[id_to_itemid[rec[0]] for rec in recs]"
   ]
  },
  {
   "cell_type": "code",
   "execution_count": 93,
   "id": "3eb8fcdd",
   "metadata": {},
   "outputs": [],
   "source": [
    "def get_recommendations(user, model, N=5):\n",
    "    res = [id_to_itemid[rec[0]] for rec in \n",
    "                    model.recommend(userid=userid_to_id[user], \n",
    "                                    user_items=sparse_user_item,   # на вход user-item matrix\n",
    "                                    N=N, \n",
    "                                    filter_already_liked_items=False, \n",
    "                                    filter_items=[itemid_to_id[999999]], \n",
    "                                    recalculate_user=True)]\n",
    "    return res"
   ]
  },
  {
   "cell_type": "code",
   "execution_count": 94,
   "id": "30f5dccd",
   "metadata": {},
   "outputs": [
    {
     "name": "stdout",
     "output_type": "stream",
     "text": [
      "Wall time: 50.8 s\n"
     ]
    }
   ],
   "source": [
    "%%time\n",
    "    \n",
    "result['als'] = result['user_id'].apply(lambda x: get_recommendations(x, model=model, N=5))"
   ]
  },
  {
   "cell_type": "code",
   "execution_count": 95,
   "id": "c7ed759b",
   "metadata": {},
   "outputs": [
    {
     "data": {
      "text/html": [
       "<div>\n",
       "<style scoped>\n",
       "    .dataframe tbody tr th:only-of-type {\n",
       "        vertical-align: middle;\n",
       "    }\n",
       "\n",
       "    .dataframe tbody tr th {\n",
       "        vertical-align: top;\n",
       "    }\n",
       "\n",
       "    .dataframe thead th {\n",
       "        text-align: right;\n",
       "    }\n",
       "</style>\n",
       "<table border=\"1\" class=\"dataframe\">\n",
       "  <thead>\n",
       "    <tr style=\"text-align: right;\">\n",
       "      <th></th>\n",
       "      <th>user_id</th>\n",
       "      <th>actual</th>\n",
       "      <th>spb100_recommendation</th>\n",
       "      <th>popular_recommendation</th>\n",
       "      <th>itemitem</th>\n",
       "      <th>cosine</th>\n",
       "      <th>tfidf</th>\n",
       "      <th>als</th>\n",
       "    </tr>\n",
       "  </thead>\n",
       "  <tbody>\n",
       "    <tr>\n",
       "      <th>0</th>\n",
       "      <td>1</td>\n",
       "      <td>[7463.0, 5423.0, 1855.0, 5931.0]</td>\n",
       "      <td>[4.0, 1833.0, 4624.0, 7745.0, 7661.0]</td>\n",
       "      <td>[6276.0, 6260.0, 5172.0, 5113.0, 4060.0]</td>\n",
       "      <td>[388.0, 5604.0, 8458.0, 5747.0, 5172.0]</td>\n",
       "      <td>[388.0, 5604.0, 8458.0, 5747.0, 436.0]</td>\n",
       "      <td>[5604.0, 5889.0, 8458.0, 716.0, 5747.0]</td>\n",
       "      <td>[1833.0, 354.0, 5511.0, 4383.0, 349.0]</td>\n",
       "    </tr>\n",
       "    <tr>\n",
       "      <th>1</th>\n",
       "      <td>2</td>\n",
       "      <td>[1793.0, 3387.0, 3351.0, 5889.0, 30.0, 6241.0,...</td>\n",
       "      <td>[4792.0, 8040.0, 7392.0, 2553.0, 2331.0]</td>\n",
       "      <td>[6276.0, 6260.0, 5172.0, 5113.0, 4060.0]</td>\n",
       "      <td>[8458.0, 1833.0, 388.0, 5604.0, 7924.0]</td>\n",
       "      <td>[1833.0, 388.0, 8458.0, 5604.0, 7924.0]</td>\n",
       "      <td>[8458.0, 5604.0, 5889.0, 716.0, 7924.0]</td>\n",
       "      <td>[1703.0, 6241.0, 5270.0, 95.0, 8498.0]</td>\n",
       "    </tr>\n",
       "  </tbody>\n",
       "</table>\n",
       "</div>"
      ],
      "text/plain": [
       "   user_id                                             actual  \\\n",
       "0        1                   [7463.0, 5423.0, 1855.0, 5931.0]   \n",
       "1        2  [1793.0, 3387.0, 3351.0, 5889.0, 30.0, 6241.0,...   \n",
       "\n",
       "                      spb100_recommendation  \\\n",
       "0     [4.0, 1833.0, 4624.0, 7745.0, 7661.0]   \n",
       "1  [4792.0, 8040.0, 7392.0, 2553.0, 2331.0]   \n",
       "\n",
       "                     popular_recommendation  \\\n",
       "0  [6276.0, 6260.0, 5172.0, 5113.0, 4060.0]   \n",
       "1  [6276.0, 6260.0, 5172.0, 5113.0, 4060.0]   \n",
       "\n",
       "                                  itemitem  \\\n",
       "0  [388.0, 5604.0, 8458.0, 5747.0, 5172.0]   \n",
       "1  [8458.0, 1833.0, 388.0, 5604.0, 7924.0]   \n",
       "\n",
       "                                    cosine  \\\n",
       "0   [388.0, 5604.0, 8458.0, 5747.0, 436.0]   \n",
       "1  [1833.0, 388.0, 8458.0, 5604.0, 7924.0]   \n",
       "\n",
       "                                     tfidf  \\\n",
       "0  [5604.0, 5889.0, 8458.0, 716.0, 5747.0]   \n",
       "1  [8458.0, 5604.0, 5889.0, 716.0, 7924.0]   \n",
       "\n",
       "                                      als  \n",
       "0  [1833.0, 354.0, 5511.0, 4383.0, 349.0]  \n",
       "1  [1703.0, 6241.0, 5270.0, 95.0, 8498.0]  "
      ]
     },
     "execution_count": 95,
     "metadata": {},
     "output_type": "execute_result"
    }
   ],
   "source": [
    "result.head(2)"
   ]
  },
  {
   "cell_type": "code",
   "execution_count": 96,
   "id": "9cacc2a9",
   "metadata": {},
   "outputs": [],
   "source": [
    "## Попробуем применить bm-25 взвешивание"
   ]
  },
  {
   "cell_type": "code",
   "execution_count": 97,
   "id": "f1fde561",
   "metadata": {},
   "outputs": [],
   "source": [
    "user_item_matrix = bm25_weight(user_item_matrix.T).T  # Применяется к item-user матрице ! "
   ]
  },
  {
   "cell_type": "code",
   "execution_count": 98,
   "id": "257762b8",
   "metadata": {},
   "outputs": [
    {
     "data": {
      "application/vnd.jupyter.widget-view+json": {
       "model_id": "fbbd383817b24793bc591521793a84c0",
       "version_major": 2,
       "version_minor": 0
      },
      "text/plain": [
       "  0%|          | 0/15 [00:00<?, ?it/s]"
      ]
     },
     "metadata": {},
     "output_type": "display_data"
    },
    {
     "name": "stdout",
     "output_type": "stream",
     "text": [
      "Wall time: 1min 31s\n"
     ]
    }
   ],
   "source": [
    "%%time\n",
    "\n",
    "model = AlternatingLeastSquares(factors=100, \n",
    "                                regularization=0.001,\n",
    "                                iterations=15, \n",
    "                                calculate_training_loss=True, \n",
    "                                num_threads=4) # K - кол-во билжайших соседей\n",
    "\n",
    "model.fit(csr_matrix(user_item_matrix).T.tocsr(),  # На вход item-user matrix\n",
    "          show_progress=True)\n",
    "\n",
    "result['als_bm25'] = result['user_id'].apply(lambda x: get_recommendations(x, model=model, N=5))"
   ]
  },
  {
   "cell_type": "code",
   "execution_count": 100,
   "id": "850fee30",
   "metadata": {},
   "outputs": [
    {
     "data": {
      "text/html": [
       "<div>\n",
       "<style scoped>\n",
       "    .dataframe tbody tr th:only-of-type {\n",
       "        vertical-align: middle;\n",
       "    }\n",
       "\n",
       "    .dataframe tbody tr th {\n",
       "        vertical-align: top;\n",
       "    }\n",
       "\n",
       "    .dataframe thead th {\n",
       "        text-align: right;\n",
       "    }\n",
       "</style>\n",
       "<table border=\"1\" class=\"dataframe\">\n",
       "  <thead>\n",
       "    <tr style=\"text-align: right;\">\n",
       "      <th></th>\n",
       "      <th>user_id</th>\n",
       "      <th>actual</th>\n",
       "      <th>spb100_recommendation</th>\n",
       "      <th>popular_recommendation</th>\n",
       "      <th>itemitem</th>\n",
       "      <th>cosine</th>\n",
       "      <th>tfidf</th>\n",
       "      <th>als</th>\n",
       "      <th>als_bm25</th>\n",
       "    </tr>\n",
       "  </thead>\n",
       "  <tbody>\n",
       "    <tr>\n",
       "      <th>0</th>\n",
       "      <td>1</td>\n",
       "      <td>[7463.0, 5423.0, 1855.0, 5931.0]</td>\n",
       "      <td>[4.0, 1833.0, 4624.0, 7745.0, 7661.0]</td>\n",
       "      <td>[6276.0, 6260.0, 5172.0, 5113.0, 4060.0]</td>\n",
       "      <td>[388.0, 5604.0, 8458.0, 5747.0, 5172.0]</td>\n",
       "      <td>[388.0, 5604.0, 8458.0, 5747.0, 436.0]</td>\n",
       "      <td>[5604.0, 5889.0, 8458.0, 716.0, 5747.0]</td>\n",
       "      <td>[1833.0, 354.0, 5511.0, 4383.0, 349.0]</td>\n",
       "      <td>[1833.0, 354.0, 7681.0, 5511.0, 349.0]</td>\n",
       "    </tr>\n",
       "    <tr>\n",
       "      <th>1</th>\n",
       "      <td>2</td>\n",
       "      <td>[1793.0, 3387.0, 3351.0, 5889.0, 30.0, 6241.0,...</td>\n",
       "      <td>[4792.0, 8040.0, 7392.0, 2553.0, 2331.0]</td>\n",
       "      <td>[6276.0, 6260.0, 5172.0, 5113.0, 4060.0]</td>\n",
       "      <td>[8458.0, 1833.0, 388.0, 5604.0, 7924.0]</td>\n",
       "      <td>[1833.0, 388.0, 8458.0, 5604.0, 7924.0]</td>\n",
       "      <td>[8458.0, 5604.0, 5889.0, 716.0, 7924.0]</td>\n",
       "      <td>[1703.0, 6241.0, 5270.0, 95.0, 8498.0]</td>\n",
       "      <td>[1703.0, 6241.0, 95.0, 5270.0, 5817.0]</td>\n",
       "    </tr>\n",
       "    <tr>\n",
       "      <th>2</th>\n",
       "      <td>3</td>\n",
       "      <td>[7681.0, 2767.0, 2173.0, 938.0, 1539.0, 6334.0...</td>\n",
       "      <td>[4792.0, 8058.0, 6276.0, 8544.0, 8458.0]</td>\n",
       "      <td>[6276.0, 6260.0, 5172.0, 5113.0, 4060.0]</td>\n",
       "      <td>[388.0, 5604.0, 8458.0, 1833.0, 7664.0]</td>\n",
       "      <td>[5604.0, 1833.0, 388.0, 8458.0, 30.0]</td>\n",
       "      <td>[5604.0, 5889.0, 8458.0, 716.0, 7664.0]</td>\n",
       "      <td>[5747.0, 3611.0, 1308.0, 7658.0, 349.0]</td>\n",
       "      <td>[349.0, 7658.0, 1770.0, 3611.0, 5747.0]</td>\n",
       "    </tr>\n",
       "    <tr>\n",
       "      <th>3</th>\n",
       "      <td>4</td>\n",
       "      <td>[6037.0, 7937.0]</td>\n",
       "      <td>[699.0, 1124.0, 3325.0, 4287.0, 716.0]</td>\n",
       "      <td>[6276.0, 6260.0, 5172.0, 5113.0, 4060.0]</td>\n",
       "      <td>[8458.0, 1833.0, 5604.0, 388.0, 7664.0]</td>\n",
       "      <td>[8458.0, 5604.0, 388.0, 1833.0, 7664.0]</td>\n",
       "      <td>[8458.0, 5604.0, 5889.0, 716.0, 7664.0]</td>\n",
       "      <td>[8154.0, 7498.0, 2806.0, 3366.0, 1982.0]</td>\n",
       "      <td>[2806.0, 8154.0, 7498.0, 2995.0, 3366.0]</td>\n",
       "    </tr>\n",
       "    <tr>\n",
       "      <th>4</th>\n",
       "      <td>5</td>\n",
       "      <td>[4066.0, 2803.0, 5297.0, 388.0, 4423.0, 7362.0...</td>\n",
       "      <td>[6260.0, 5172.0, 4252.0, 3819.0, 7392.0]</td>\n",
       "      <td>[6276.0, 6260.0, 5172.0, 5113.0, 4060.0]</td>\n",
       "      <td>[1833.0, 8458.0, 5604.0, 388.0, 5747.0]</td>\n",
       "      <td>[1833.0, 5604.0, 8458.0, 388.0, 6276.0]</td>\n",
       "      <td>[5604.0, 716.0, 8458.0, 5889.0, 6276.0]</td>\n",
       "      <td>[4060.0, 354.0, 2700.0, 4092.0, 4056.0]</td>\n",
       "      <td>[354.0, 4060.0, 4056.0, 4882.0, 2700.0]</td>\n",
       "    </tr>\n",
       "  </tbody>\n",
       "</table>\n",
       "</div>"
      ],
      "text/plain": [
       "   user_id                                             actual  \\\n",
       "0        1                   [7463.0, 5423.0, 1855.0, 5931.0]   \n",
       "1        2  [1793.0, 3387.0, 3351.0, 5889.0, 30.0, 6241.0,...   \n",
       "2        3  [7681.0, 2767.0, 2173.0, 938.0, 1539.0, 6334.0...   \n",
       "3        4                                   [6037.0, 7937.0]   \n",
       "4        5  [4066.0, 2803.0, 5297.0, 388.0, 4423.0, 7362.0...   \n",
       "\n",
       "                      spb100_recommendation  \\\n",
       "0     [4.0, 1833.0, 4624.0, 7745.0, 7661.0]   \n",
       "1  [4792.0, 8040.0, 7392.0, 2553.0, 2331.0]   \n",
       "2  [4792.0, 8058.0, 6276.0, 8544.0, 8458.0]   \n",
       "3    [699.0, 1124.0, 3325.0, 4287.0, 716.0]   \n",
       "4  [6260.0, 5172.0, 4252.0, 3819.0, 7392.0]   \n",
       "\n",
       "                     popular_recommendation  \\\n",
       "0  [6276.0, 6260.0, 5172.0, 5113.0, 4060.0]   \n",
       "1  [6276.0, 6260.0, 5172.0, 5113.0, 4060.0]   \n",
       "2  [6276.0, 6260.0, 5172.0, 5113.0, 4060.0]   \n",
       "3  [6276.0, 6260.0, 5172.0, 5113.0, 4060.0]   \n",
       "4  [6276.0, 6260.0, 5172.0, 5113.0, 4060.0]   \n",
       "\n",
       "                                  itemitem  \\\n",
       "0  [388.0, 5604.0, 8458.0, 5747.0, 5172.0]   \n",
       "1  [8458.0, 1833.0, 388.0, 5604.0, 7924.0]   \n",
       "2  [388.0, 5604.0, 8458.0, 1833.0, 7664.0]   \n",
       "3  [8458.0, 1833.0, 5604.0, 388.0, 7664.0]   \n",
       "4  [1833.0, 8458.0, 5604.0, 388.0, 5747.0]   \n",
       "\n",
       "                                    cosine  \\\n",
       "0   [388.0, 5604.0, 8458.0, 5747.0, 436.0]   \n",
       "1  [1833.0, 388.0, 8458.0, 5604.0, 7924.0]   \n",
       "2    [5604.0, 1833.0, 388.0, 8458.0, 30.0]   \n",
       "3  [8458.0, 5604.0, 388.0, 1833.0, 7664.0]   \n",
       "4  [1833.0, 5604.0, 8458.0, 388.0, 6276.0]   \n",
       "\n",
       "                                     tfidf  \\\n",
       "0  [5604.0, 5889.0, 8458.0, 716.0, 5747.0]   \n",
       "1  [8458.0, 5604.0, 5889.0, 716.0, 7924.0]   \n",
       "2  [5604.0, 5889.0, 8458.0, 716.0, 7664.0]   \n",
       "3  [8458.0, 5604.0, 5889.0, 716.0, 7664.0]   \n",
       "4  [5604.0, 716.0, 8458.0, 5889.0, 6276.0]   \n",
       "\n",
       "                                        als  \\\n",
       "0    [1833.0, 354.0, 5511.0, 4383.0, 349.0]   \n",
       "1    [1703.0, 6241.0, 5270.0, 95.0, 8498.0]   \n",
       "2   [5747.0, 3611.0, 1308.0, 7658.0, 349.0]   \n",
       "3  [8154.0, 7498.0, 2806.0, 3366.0, 1982.0]   \n",
       "4   [4060.0, 354.0, 2700.0, 4092.0, 4056.0]   \n",
       "\n",
       "                                   als_bm25  \n",
       "0    [1833.0, 354.0, 7681.0, 5511.0, 349.0]  \n",
       "1    [1703.0, 6241.0, 95.0, 5270.0, 5817.0]  \n",
       "2   [349.0, 7658.0, 1770.0, 3611.0, 5747.0]  \n",
       "3  [2806.0, 8154.0, 7498.0, 2995.0, 3366.0]  \n",
       "4   [354.0, 4060.0, 4056.0, 4882.0, 2700.0]  "
      ]
     },
     "execution_count": 100,
     "metadata": {},
     "output_type": "execute_result"
    }
   ],
   "source": [
    "result.head()"
   ]
  },
  {
   "cell_type": "markdown",
   "id": "382c86e6",
   "metadata": {},
   "source": [
    "## Bayesian personalized ranking"
   ]
  },
  {
   "cell_type": "code",
   "execution_count": 101,
   "id": "50e93a6a",
   "metadata": {},
   "outputs": [],
   "source": [
    "## Попробуем применить bm-25 взвешивание + BayesianPersonalizedRanking"
   ]
  },
  {
   "cell_type": "code",
   "execution_count": 102,
   "id": "6793e54c",
   "metadata": {},
   "outputs": [
    {
     "data": {
      "application/vnd.jupyter.widget-view+json": {
       "model_id": "5dda68018ccb4f7fa1537bace9b8f79d",
       "version_major": 2,
       "version_minor": 0
      },
      "text/plain": [
       "  0%|          | 0/15 [00:00<?, ?it/s]"
      ]
     },
     "metadata": {},
     "output_type": "display_data"
    },
    {
     "name": "stdout",
     "output_type": "stream",
     "text": [
      "Wall time: 1.05 s\n"
     ]
    }
   ],
   "source": [
    "%%time\n",
    "\n",
    "model_bpr = BayesianPersonalizedRanking(factors=20, \n",
    "                                regularization=0.001,\n",
    "                                iterations=15,  \n",
    "                                num_threads=4)\n",
    "\n",
    "model_bpr.fit(csr_matrix(user_item_matrix).T.tocsr(),  # На вход item-user matrix, взвешенную по bm25\n",
    "          show_progress=True)"
   ]
  },
  {
   "cell_type": "code",
   "execution_count": 103,
   "id": "8bdd70eb",
   "metadata": {},
   "outputs": [],
   "source": [
    "def get_recommendations(user, model, N=5):\n",
    "    res = [id_to_itemid[rec[0]] for rec in \n",
    "                    model.recommend(userid=userid_to_id[user], \n",
    "                                    user_items=csr_matrix(user_item_matrix).tocsr(),   # на вход user-item matrix\n",
    "                                    N=N, \n",
    "                                    filter_already_liked_items=False, \n",
    "                                    filter_items=[itemid_to_id[999999]],  # !!! \n",
    "                                    recalculate_user=False)]\n",
    "    return res"
   ]
  },
  {
   "cell_type": "code",
   "execution_count": 104,
   "id": "dce74b71",
   "metadata": {},
   "outputs": [],
   "source": [
    "result['bm25_bpr'] = result['user_id'].apply(lambda x: get_recommendations(x, model=model_bpr, N=5))"
   ]
  },
  {
   "cell_type": "code",
   "execution_count": 105,
   "id": "b200fc8c",
   "metadata": {},
   "outputs": [],
   "source": [
    "# Посмотрим результаты по метрике"
   ]
  },
  {
   "cell_type": "code",
   "execution_count": 106,
   "id": "07b6962d",
   "metadata": {},
   "outputs": [
    {
     "data": {
      "text/html": [
       "<div>\n",
       "<style scoped>\n",
       "    .dataframe tbody tr th:only-of-type {\n",
       "        vertical-align: middle;\n",
       "    }\n",
       "\n",
       "    .dataframe tbody tr th {\n",
       "        vertical-align: top;\n",
       "    }\n",
       "\n",
       "    .dataframe thead th {\n",
       "        text-align: right;\n",
       "    }\n",
       "</style>\n",
       "<table border=\"1\" class=\"dataframe\">\n",
       "  <thead>\n",
       "    <tr style=\"text-align: right;\">\n",
       "      <th></th>\n",
       "      <th>spb100_recommendation</th>\n",
       "      <th>popular_recommendation</th>\n",
       "      <th>itemitem</th>\n",
       "      <th>cosine</th>\n",
       "      <th>tfidf</th>\n",
       "      <th>als</th>\n",
       "      <th>als_bm25</th>\n",
       "      <th>bm25_bpr</th>\n",
       "    </tr>\n",
       "  </thead>\n",
       "  <tbody>\n",
       "    <tr>\n",
       "      <th>precision_at_k</th>\n",
       "      <td>0.01044</td>\n",
       "      <td>0.014536</td>\n",
       "      <td>0.01528</td>\n",
       "      <td>0.015112</td>\n",
       "      <td>0.014928</td>\n",
       "      <td>0.011104</td>\n",
       "      <td>0.010672</td>\n",
       "      <td>0.010784</td>\n",
       "    </tr>\n",
       "  </tbody>\n",
       "</table>\n",
       "</div>"
      ],
      "text/plain": [
       "                spb100_recommendation  popular_recommendation  itemitem  \\\n",
       "precision_at_k                0.01044                0.014536   0.01528   \n",
       "\n",
       "                  cosine     tfidf       als  als_bm25  bm25_bpr  \n",
       "precision_at_k  0.015112  0.014928  0.011104  0.010672  0.010784  "
      ]
     },
     "execution_count": 106,
     "metadata": {},
     "output_type": "execute_result"
    }
   ],
   "source": [
    "pd.DataFrame([\n",
    "    result.apply(lambda row: precision_at_k(row['spb100_recommendation'], row['actual']), axis=1).mean(),\n",
    "    result.apply(lambda row: precision_at_k(row['popular_recommendation'], row['actual']), axis=1).mean(),\n",
    "    result.apply(lambda row: precision_at_k(row['itemitem'], row['actual']), axis=1).mean(),\n",
    "    result.apply(lambda row: precision_at_k(row['cosine'], row['actual']), axis=1).mean(),\n",
    "    result.apply(lambda row: precision_at_k(row['tfidf'], row['actual']), axis=1).mean(),\n",
    "    result.apply(lambda row: precision_at_k(row['als'], row['actual']), axis=1).mean(),\n",
    "    result.apply(lambda row: precision_at_k(row['als_bm25'], row['actual']), axis=1).mean(),\n",
    "    result.apply(lambda row: precision_at_k(row['bm25_bpr'], row['actual']), axis=1).mean(),\n",
    "], \n",
    "    columns=['precision_at_k'], \n",
    "    index=['spb100_recommendation', 'popular_recommendation', 'itemitem', 'cosine', 'tfidf', 'als',\n",
    "          'als_bm25', 'bm25_bpr']\n",
    ").T"
   ]
  },
  {
   "cell_type": "code",
   "execution_count": 78,
   "id": "302d2c7a",
   "metadata": {},
   "outputs": [],
   "source": [
    "# Метрики, конечно, удивили.... \n",
    "# - Как улучшить/изменить ситуацию (сузить круг бумаг или круг пользователей): \n",
    "#        - изменить снова входные id_share. Поставить предфильтрацию по наличию бумаги в s&p500\n",
    "#        - изменить кол-во уникальных пользователей. Сократить со 100 000 до 2500 и провести снова тест"
   ]
  },
  {
   "cell_type": "code",
   "execution_count": 107,
   "id": "259a62a5",
   "metadata": {},
   "outputs": [],
   "source": [
    "# Было: \n",
    "#       spb100_recommendation\tpopular_recommendation\titemitem\tcosine\ttfidf\tals\tals_bm25\tbm25_bpr\n",
    "\n",
    "# precision_at_k\t0.00048\t0.000452\t0.000422\t0.000418\t0.000422\t0.000526\t0.00063\t0.000586"
   ]
  },
  {
   "cell_type": "code",
   "execution_count": 108,
   "id": "8f8822ea",
   "metadata": {},
   "outputs": [],
   "source": [
    "## Метрики улучшились в разы из-за изменения распределения по акциям, но по-прежнему все не очень хорошо. 1.5% для рекомендательной\n",
    "# системы - очень плохая история. \n",
    "# Надо убирать 'рандомную' акцию из листа всех акций и настраивать первичную предфильтрацию. Например, отфильтровать сначала только\n",
    "# уботочные компании. "
   ]
  },
  {
   "cell_type": "code",
   "execution_count": null,
   "id": "051ae464",
   "metadata": {},
   "outputs": [],
   "source": []
  }
 ],
 "metadata": {
  "kernelspec": {
   "display_name": "Python 3",
   "language": "python",
   "name": "python3"
  },
  "language_info": {
   "codemirror_mode": {
    "name": "ipython",
    "version": 3
   },
   "file_extension": ".py",
   "mimetype": "text/x-python",
   "name": "python",
   "nbconvert_exporter": "python",
   "pygments_lexer": "ipython3",
   "version": "3.9.6"
  }
 },
 "nbformat": 4,
 "nbformat_minor": 5
}
