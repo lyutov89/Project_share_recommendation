{
 "cells": [
  {
   "cell_type": "code",
   "execution_count": 1,
   "id": "293c4855",
   "metadata": {},
   "outputs": [],
   "source": [
    "import numpy as np\n",
    "import pandas as pd\n",
    "import random"
   ]
  },
  {
   "cell_type": "code",
   "execution_count": 2,
   "id": "ba523769",
   "metadata": {},
   "outputs": [],
   "source": [
    "df_interactions = pd.read_csv('interactions.csv')"
   ]
  },
  {
   "cell_type": "code",
   "execution_count": 3,
   "id": "2cd9e373",
   "metadata": {},
   "outputs": [
    {
     "data": {
      "text/html": [
       "<div>\n",
       "<style scoped>\n",
       "    .dataframe tbody tr th:only-of-type {\n",
       "        vertical-align: middle;\n",
       "    }\n",
       "\n",
       "    .dataframe tbody tr th {\n",
       "        vertical-align: top;\n",
       "    }\n",
       "\n",
       "    .dataframe thead th {\n",
       "        text-align: right;\n",
       "    }\n",
       "</style>\n",
       "<table border=\"1\" class=\"dataframe\">\n",
       "  <thead>\n",
       "    <tr style=\"text-align: right;\">\n",
       "      <th></th>\n",
       "      <th>user_id</th>\n",
       "      <th>week_no</th>\n",
       "      <th>shares_deal</th>\n",
       "    </tr>\n",
       "  </thead>\n",
       "  <tbody>\n",
       "    <tr>\n",
       "      <th>0</th>\n",
       "      <td>1</td>\n",
       "      <td>31</td>\n",
       "      <td>[3375, 1810]</td>\n",
       "    </tr>\n",
       "    <tr>\n",
       "      <th>1</th>\n",
       "      <td>1</td>\n",
       "      <td>32</td>\n",
       "      <td>[322, 3965]</td>\n",
       "    </tr>\n",
       "    <tr>\n",
       "      <th>2</th>\n",
       "      <td>1</td>\n",
       "      <td>39</td>\n",
       "      <td>[2816, 7203, 2227]</td>\n",
       "    </tr>\n",
       "    <tr>\n",
       "      <th>3</th>\n",
       "      <td>1</td>\n",
       "      <td>43</td>\n",
       "      <td>[3497]</td>\n",
       "    </tr>\n",
       "    <tr>\n",
       "      <th>4</th>\n",
       "      <td>1</td>\n",
       "      <td>47</td>\n",
       "      <td>[8337]</td>\n",
       "    </tr>\n",
       "  </tbody>\n",
       "</table>\n",
       "</div>"
      ],
      "text/plain": [
       "   user_id  week_no         shares_deal\n",
       "0        1       31        [3375, 1810]\n",
       "1        1       32         [322, 3965]\n",
       "2        1       39  [2816, 7203, 2227]\n",
       "3        1       43              [3497]\n",
       "4        1       47              [8337]"
      ]
     },
     "execution_count": 3,
     "metadata": {},
     "output_type": "execute_result"
    }
   ],
   "source": [
    "df_interactions.head()"
   ]
  },
  {
   "cell_type": "code",
   "execution_count": 4,
   "id": "6873d255",
   "metadata": {},
   "outputs": [
    {
     "data": {
      "text/plain": [
       "(600000, 3)"
      ]
     },
     "execution_count": 4,
     "metadata": {},
     "output_type": "execute_result"
    }
   ],
   "source": [
    "df_interactions.shape"
   ]
  },
  {
   "cell_type": "code",
   "execution_count": 5,
   "id": "237fea12",
   "metadata": {},
   "outputs": [],
   "source": [
    "df_shares = pd.read_csv('finviz_shares.csv')"
   ]
  },
  {
   "cell_type": "code",
   "execution_count": 6,
   "id": "84c6c068",
   "metadata": {},
   "outputs": [
    {
     "data": {
      "text/html": [
       "<div>\n",
       "<style scoped>\n",
       "    .dataframe tbody tr th:only-of-type {\n",
       "        vertical-align: middle;\n",
       "    }\n",
       "\n",
       "    .dataframe tbody tr th {\n",
       "        vertical-align: top;\n",
       "    }\n",
       "\n",
       "    .dataframe thead th {\n",
       "        text-align: right;\n",
       "    }\n",
       "</style>\n",
       "<table border=\"1\" class=\"dataframe\">\n",
       "  <thead>\n",
       "    <tr style=\"text-align: right;\">\n",
       "      <th></th>\n",
       "      <th>ticker</th>\n",
       "      <th>id_share</th>\n",
       "      <th>industry</th>\n",
       "      <th>Index</th>\n",
       "      <th>P/E</th>\n",
       "      <th>EPS (ttm)</th>\n",
       "      <th>Insider Own</th>\n",
       "      <th>Perf Week</th>\n",
       "      <th>Forward P/E</th>\n",
       "      <th>EPS next Y</th>\n",
       "      <th>...</th>\n",
       "      <th>Market Cap_full_count</th>\n",
       "      <th>Income_full_count</th>\n",
       "      <th>Sales_full_count</th>\n",
       "      <th>Shs Outstand_full_count</th>\n",
       "      <th>Shs Float_full_count</th>\n",
       "      <th>Avg Volume_full_count</th>\n",
       "      <th>52_w_range_low</th>\n",
       "      <th>52_w_range_high</th>\n",
       "      <th>Volatility_low_%</th>\n",
       "      <th>Volatility_high_%</th>\n",
       "    </tr>\n",
       "  </thead>\n",
       "  <tbody>\n",
       "    <tr>\n",
       "      <th>0</th>\n",
       "      <td>AAP</td>\n",
       "      <td>1</td>\n",
       "      <td>Consumer Cyclical</td>\n",
       "      <td>S&amp;P 500</td>\n",
       "      <td>22.54</td>\n",
       "      <td>9.88</td>\n",
       "      <td>0.10</td>\n",
       "      <td>-4.20</td>\n",
       "      <td>16.78</td>\n",
       "      <td>11.37</td>\n",
       "      <td>...</td>\n",
       "      <td>1.423000e+13</td>\n",
       "      <td>6.464000e+08</td>\n",
       "      <td>1.097000e+13</td>\n",
       "      <td>6.285000e+07</td>\n",
       "      <td>6.208000e+07</td>\n",
       "      <td>679290.0</td>\n",
       "      <td>151.01</td>\n",
       "      <td>244.55</td>\n",
       "      <td>2.73</td>\n",
       "      <td>2.73</td>\n",
       "    </tr>\n",
       "    <tr>\n",
       "      <th>1</th>\n",
       "      <td>AAQC</td>\n",
       "      <td>2</td>\n",
       "      <td>Financial</td>\n",
       "      <td>-</td>\n",
       "      <td>NaN</td>\n",
       "      <td>NaN</td>\n",
       "      <td>NaN</td>\n",
       "      <td>-0.10</td>\n",
       "      <td>NaN</td>\n",
       "      <td>NaN</td>\n",
       "      <td>...</td>\n",
       "      <td>3.880000e+08</td>\n",
       "      <td>NaN</td>\n",
       "      <td>NaN</td>\n",
       "      <td>4.000000e+07</td>\n",
       "      <td>NaN</td>\n",
       "      <td>55940.0</td>\n",
       "      <td>9.60</td>\n",
       "      <td>9.96</td>\n",
       "      <td>0.16</td>\n",
       "      <td>0.18</td>\n",
       "    </tr>\n",
       "    <tr>\n",
       "      <th>2</th>\n",
       "      <td>AAOI</td>\n",
       "      <td>3</td>\n",
       "      <td>Technology</td>\n",
       "      <td>-</td>\n",
       "      <td>NaN</td>\n",
       "      <td>-2.05</td>\n",
       "      <td>6.40</td>\n",
       "      <td>2.08</td>\n",
       "      <td>NaN</td>\n",
       "      <td>15.40</td>\n",
       "      <td>...</td>\n",
       "      <td>1.045800e+08</td>\n",
       "      <td>-5.310000e+07</td>\n",
       "      <td>2.095000e+08</td>\n",
       "      <td>2.710000e+07</td>\n",
       "      <td>2.539000e+07</td>\n",
       "      <td>506560.0</td>\n",
       "      <td>3.63</td>\n",
       "      <td>12.97</td>\n",
       "      <td>5.01</td>\n",
       "      <td>5.43</td>\n",
       "    </tr>\n",
       "    <tr>\n",
       "      <th>3</th>\n",
       "      <td>AAPL</td>\n",
       "      <td>4</td>\n",
       "      <td>Technology</td>\n",
       "      <td>DJIA S&amp;P500</td>\n",
       "      <td>28.58</td>\n",
       "      <td>6.02</td>\n",
       "      <td>0.07</td>\n",
       "      <td>-0.45</td>\n",
       "      <td>26.29</td>\n",
       "      <td>6.42</td>\n",
       "      <td>...</td>\n",
       "      <td>2.817210e+15</td>\n",
       "      <td>1.005600e+14</td>\n",
       "      <td>3.783200e+14</td>\n",
       "      <td>1.639000e+13</td>\n",
       "      <td>1.631000e+13</td>\n",
       "      <td>101620000.0</td>\n",
       "      <td>116.21</td>\n",
       "      <td>182.94</td>\n",
       "      <td>1.87</td>\n",
       "      <td>2.63</td>\n",
       "    </tr>\n",
       "    <tr>\n",
       "      <th>4</th>\n",
       "      <td>AAON</td>\n",
       "      <td>5</td>\n",
       "      <td>Industrials</td>\n",
       "      <td>-</td>\n",
       "      <td>43.79</td>\n",
       "      <td>1.33</td>\n",
       "      <td>16.60</td>\n",
       "      <td>-4.43</td>\n",
       "      <td>34.57</td>\n",
       "      <td>34.88</td>\n",
       "      <td>...</td>\n",
       "      <td>3.120000e+12</td>\n",
       "      <td>7.150000e+07</td>\n",
       "      <td>5.149000e+08</td>\n",
       "      <td>5.242000e+07</td>\n",
       "      <td>4.156000e+07</td>\n",
       "      <td>244130.0</td>\n",
       "      <td>58.65</td>\n",
       "      <td>83.79</td>\n",
       "      <td>3.30</td>\n",
       "      <td>3.88</td>\n",
       "    </tr>\n",
       "  </tbody>\n",
       "</table>\n",
       "<p>5 rows × 76 columns</p>\n",
       "</div>"
      ],
      "text/plain": [
       "  ticker  id_share           industry        Index    P/E  EPS (ttm)  \\\n",
       "0    AAP         1  Consumer Cyclical      S&P 500  22.54       9.88   \n",
       "1   AAQC         2          Financial            -    NaN        NaN   \n",
       "2   AAOI         3         Technology            -    NaN      -2.05   \n",
       "3   AAPL         4         Technology  DJIA S&P500  28.58       6.02   \n",
       "4   AAON         5        Industrials            -  43.79       1.33   \n",
       "\n",
       "   Insider Own  Perf Week  Forward P/E  EPS next Y  ...  \\\n",
       "0         0.10      -4.20        16.78       11.37  ...   \n",
       "1          NaN      -0.10          NaN         NaN  ...   \n",
       "2         6.40       2.08          NaN       15.40  ...   \n",
       "3         0.07      -0.45        26.29        6.42  ...   \n",
       "4        16.60      -4.43        34.57       34.88  ...   \n",
       "\n",
       "   Market Cap_full_count  Income_full_count  Sales_full_count  \\\n",
       "0           1.423000e+13       6.464000e+08      1.097000e+13   \n",
       "1           3.880000e+08                NaN               NaN   \n",
       "2           1.045800e+08      -5.310000e+07      2.095000e+08   \n",
       "3           2.817210e+15       1.005600e+14      3.783200e+14   \n",
       "4           3.120000e+12       7.150000e+07      5.149000e+08   \n",
       "\n",
       "   Shs Outstand_full_count  Shs Float_full_count  Avg Volume_full_count  \\\n",
       "0             6.285000e+07          6.208000e+07               679290.0   \n",
       "1             4.000000e+07                   NaN                55940.0   \n",
       "2             2.710000e+07          2.539000e+07               506560.0   \n",
       "3             1.639000e+13          1.631000e+13            101620000.0   \n",
       "4             5.242000e+07          4.156000e+07               244130.0   \n",
       "\n",
       "   52_w_range_low  52_w_range_high  Volatility_low_%  Volatility_high_%  \n",
       "0          151.01           244.55              2.73               2.73  \n",
       "1            9.60             9.96              0.16               0.18  \n",
       "2            3.63            12.97              5.01               5.43  \n",
       "3          116.21           182.94              1.87               2.63  \n",
       "4           58.65            83.79              3.30               3.88  \n",
       "\n",
       "[5 rows x 76 columns]"
      ]
     },
     "execution_count": 6,
     "metadata": {},
     "output_type": "execute_result"
    }
   ],
   "source": [
    "df_shares.head()"
   ]
  },
  {
   "cell_type": "code",
   "execution_count": 7,
   "id": "e0920708",
   "metadata": {},
   "outputs": [],
   "source": [
    "df_interactions.shares_deal = df_interactions.shares_deal.map(lambda x: x.lstrip('['))"
   ]
  },
  {
   "cell_type": "code",
   "execution_count": 8,
   "id": "b0bbe6b3",
   "metadata": {},
   "outputs": [],
   "source": [
    "df_interactions.shares_deal = df_interactions.shares_deal.map(lambda x: x.rstrip(']'))"
   ]
  },
  {
   "cell_type": "code",
   "execution_count": 9,
   "id": "1fe4ebe1",
   "metadata": {},
   "outputs": [],
   "source": [
    "df_interactions.shares_deal = df_interactions.shares_deal.map(lambda x: x.split(', '))"
   ]
  },
  {
   "cell_type": "code",
   "execution_count": 10,
   "id": "19b282c9",
   "metadata": {},
   "outputs": [
    {
     "data": {
      "text/html": [
       "<div>\n",
       "<style scoped>\n",
       "    .dataframe tbody tr th:only-of-type {\n",
       "        vertical-align: middle;\n",
       "    }\n",
       "\n",
       "    .dataframe tbody tr th {\n",
       "        vertical-align: top;\n",
       "    }\n",
       "\n",
       "    .dataframe thead th {\n",
       "        text-align: right;\n",
       "    }\n",
       "</style>\n",
       "<table border=\"1\" class=\"dataframe\">\n",
       "  <thead>\n",
       "    <tr style=\"text-align: right;\">\n",
       "      <th></th>\n",
       "      <th>user_id</th>\n",
       "      <th>week_no</th>\n",
       "      <th>shares_deal</th>\n",
       "    </tr>\n",
       "  </thead>\n",
       "  <tbody>\n",
       "    <tr>\n",
       "      <th>0</th>\n",
       "      <td>1</td>\n",
       "      <td>31</td>\n",
       "      <td>[3375, 1810]</td>\n",
       "    </tr>\n",
       "    <tr>\n",
       "      <th>1</th>\n",
       "      <td>1</td>\n",
       "      <td>32</td>\n",
       "      <td>[322, 3965]</td>\n",
       "    </tr>\n",
       "    <tr>\n",
       "      <th>2</th>\n",
       "      <td>1</td>\n",
       "      <td>39</td>\n",
       "      <td>[2816, 7203, 2227]</td>\n",
       "    </tr>\n",
       "    <tr>\n",
       "      <th>3</th>\n",
       "      <td>1</td>\n",
       "      <td>43</td>\n",
       "      <td>[3497]</td>\n",
       "    </tr>\n",
       "    <tr>\n",
       "      <th>4</th>\n",
       "      <td>1</td>\n",
       "      <td>47</td>\n",
       "      <td>[8337]</td>\n",
       "    </tr>\n",
       "  </tbody>\n",
       "</table>\n",
       "</div>"
      ],
      "text/plain": [
       "   user_id  week_no         shares_deal\n",
       "0        1       31        [3375, 1810]\n",
       "1        1       32         [322, 3965]\n",
       "2        1       39  [2816, 7203, 2227]\n",
       "3        1       43              [3497]\n",
       "4        1       47              [8337]"
      ]
     },
     "execution_count": 10,
     "metadata": {},
     "output_type": "execute_result"
    }
   ],
   "source": [
    "df_interactions.head()"
   ]
  },
  {
   "cell_type": "code",
   "execution_count": 11,
   "id": "2b46a2df",
   "metadata": {},
   "outputs": [],
   "source": [
    "def shares_treatment(feature_name, X):\n",
    "    \n",
    "    list_of_shares = X[feature_name]\n",
    "    new_list = []\n",
    "    \n",
    "    for i in range(X.shape[0]):\n",
    "        temp_list = []\n",
    "        for j in range(len(list_of_shares[i])): \n",
    "            if list_of_shares[i][j].isdigit() == True: \n",
    "                temp_list.append(float(list_of_shares[i][j]))\n",
    "        new_list.append(temp_list)\n",
    "    \n",
    "    X[feature_name] = new_list\n",
    "    \n",
    "    return X"
   ]
  },
  {
   "cell_type": "code",
   "execution_count": 12,
   "id": "ec4a5118",
   "metadata": {},
   "outputs": [],
   "source": [
    "df_interactions = shares_treatment(feature_name = 'shares_deal', X = df_interactions)"
   ]
  },
  {
   "cell_type": "code",
   "execution_count": 13,
   "id": "ffb2aeec",
   "metadata": {},
   "outputs": [],
   "source": [
    "# кол-во покупок акций за 1 неделю\n",
    "df_interactions['count_shares'] = df_interactions.shares_deal.map(lambda x: len(x))"
   ]
  },
  {
   "cell_type": "code",
   "execution_count": 14,
   "id": "773c23da",
   "metadata": {},
   "outputs": [
    {
     "data": {
      "text/html": [
       "<div>\n",
       "<style scoped>\n",
       "    .dataframe tbody tr th:only-of-type {\n",
       "        vertical-align: middle;\n",
       "    }\n",
       "\n",
       "    .dataframe tbody tr th {\n",
       "        vertical-align: top;\n",
       "    }\n",
       "\n",
       "    .dataframe thead th {\n",
       "        text-align: right;\n",
       "    }\n",
       "</style>\n",
       "<table border=\"1\" class=\"dataframe\">\n",
       "  <thead>\n",
       "    <tr style=\"text-align: right;\">\n",
       "      <th></th>\n",
       "      <th>user_id</th>\n",
       "      <th>week_no</th>\n",
       "      <th>shares_deal</th>\n",
       "      <th>count_shares</th>\n",
       "    </tr>\n",
       "  </thead>\n",
       "  <tbody>\n",
       "    <tr>\n",
       "      <th>0</th>\n",
       "      <td>1</td>\n",
       "      <td>31</td>\n",
       "      <td>[3375.0, 1810.0]</td>\n",
       "      <td>2</td>\n",
       "    </tr>\n",
       "    <tr>\n",
       "      <th>1</th>\n",
       "      <td>1</td>\n",
       "      <td>32</td>\n",
       "      <td>[322.0, 3965.0]</td>\n",
       "      <td>2</td>\n",
       "    </tr>\n",
       "    <tr>\n",
       "      <th>2</th>\n",
       "      <td>1</td>\n",
       "      <td>39</td>\n",
       "      <td>[2816.0, 7203.0, 2227.0]</td>\n",
       "      <td>3</td>\n",
       "    </tr>\n",
       "    <tr>\n",
       "      <th>3</th>\n",
       "      <td>1</td>\n",
       "      <td>43</td>\n",
       "      <td>[3497.0]</td>\n",
       "      <td>1</td>\n",
       "    </tr>\n",
       "    <tr>\n",
       "      <th>4</th>\n",
       "      <td>1</td>\n",
       "      <td>47</td>\n",
       "      <td>[8337.0]</td>\n",
       "      <td>1</td>\n",
       "    </tr>\n",
       "    <tr>\n",
       "      <th>...</th>\n",
       "      <td>...</td>\n",
       "      <td>...</td>\n",
       "      <td>...</td>\n",
       "      <td>...</td>\n",
       "    </tr>\n",
       "    <tr>\n",
       "      <th>599995</th>\n",
       "      <td>100000</td>\n",
       "      <td>35</td>\n",
       "      <td>[1169.0]</td>\n",
       "      <td>1</td>\n",
       "    </tr>\n",
       "    <tr>\n",
       "      <th>599996</th>\n",
       "      <td>100000</td>\n",
       "      <td>38</td>\n",
       "      <td>[55.0, 6054.0, 7056.0]</td>\n",
       "      <td>3</td>\n",
       "    </tr>\n",
       "    <tr>\n",
       "      <th>599997</th>\n",
       "      <td>100000</td>\n",
       "      <td>42</td>\n",
       "      <td>[8374.0, 5118.0, 810.0]</td>\n",
       "      <td>3</td>\n",
       "    </tr>\n",
       "    <tr>\n",
       "      <th>599998</th>\n",
       "      <td>100000</td>\n",
       "      <td>45</td>\n",
       "      <td>[5559.0, 7208.0]</td>\n",
       "      <td>2</td>\n",
       "    </tr>\n",
       "    <tr>\n",
       "      <th>599999</th>\n",
       "      <td>100000</td>\n",
       "      <td>51</td>\n",
       "      <td>[5276.0, 2034.0, 7905.0, 6132.0, 4887.0, 3881.0]</td>\n",
       "      <td>6</td>\n",
       "    </tr>\n",
       "  </tbody>\n",
       "</table>\n",
       "<p>600000 rows × 4 columns</p>\n",
       "</div>"
      ],
      "text/plain": [
       "        user_id  week_no                                       shares_deal  \\\n",
       "0             1       31                                  [3375.0, 1810.0]   \n",
       "1             1       32                                   [322.0, 3965.0]   \n",
       "2             1       39                          [2816.0, 7203.0, 2227.0]   \n",
       "3             1       43                                          [3497.0]   \n",
       "4             1       47                                          [8337.0]   \n",
       "...         ...      ...                                               ...   \n",
       "599995   100000       35                                          [1169.0]   \n",
       "599996   100000       38                            [55.0, 6054.0, 7056.0]   \n",
       "599997   100000       42                           [8374.0, 5118.0, 810.0]   \n",
       "599998   100000       45                                  [5559.0, 7208.0]   \n",
       "599999   100000       51  [5276.0, 2034.0, 7905.0, 6132.0, 4887.0, 3881.0]   \n",
       "\n",
       "        count_shares  \n",
       "0                  2  \n",
       "1                  2  \n",
       "2                  3  \n",
       "3                  1  \n",
       "4                  1  \n",
       "...              ...  \n",
       "599995             1  \n",
       "599996             3  \n",
       "599997             3  \n",
       "599998             2  \n",
       "599999             6  \n",
       "\n",
       "[600000 rows x 4 columns]"
      ]
     },
     "execution_count": 14,
     "metadata": {},
     "output_type": "execute_result"
    }
   ],
   "source": [
    "df_interactions"
   ]
  },
  {
   "cell_type": "code",
   "execution_count": 15,
   "id": "714aaf24",
   "metadata": {},
   "outputs": [],
   "source": [
    "# \"стакаем\" номера недель \n",
    "s = df_interactions.apply(lambda x: pd.Series(x['shares_deal']), axis=1).stack().reset_index(level=1, drop=True)"
   ]
  },
  {
   "cell_type": "code",
   "execution_count": 16,
   "id": "230a38cc",
   "metadata": {},
   "outputs": [],
   "source": [
    "s.name = 'id_shares'\n",
    "df_interactions = df_interactions.drop('shares_deal', axis=1).join(s)"
   ]
  },
  {
   "cell_type": "code",
   "execution_count": 17,
   "id": "47f7b045",
   "metadata": {},
   "outputs": [
    {
     "data": {
      "text/html": [
       "<div>\n",
       "<style scoped>\n",
       "    .dataframe tbody tr th:only-of-type {\n",
       "        vertical-align: middle;\n",
       "    }\n",
       "\n",
       "    .dataframe tbody tr th {\n",
       "        vertical-align: top;\n",
       "    }\n",
       "\n",
       "    .dataframe thead th {\n",
       "        text-align: right;\n",
       "    }\n",
       "</style>\n",
       "<table border=\"1\" class=\"dataframe\">\n",
       "  <thead>\n",
       "    <tr style=\"text-align: right;\">\n",
       "      <th></th>\n",
       "      <th>user_id</th>\n",
       "      <th>week_no</th>\n",
       "      <th>count_shares</th>\n",
       "      <th>id_shares</th>\n",
       "    </tr>\n",
       "  </thead>\n",
       "  <tbody>\n",
       "    <tr>\n",
       "      <th>0</th>\n",
       "      <td>1</td>\n",
       "      <td>31</td>\n",
       "      <td>2</td>\n",
       "      <td>3375.0</td>\n",
       "    </tr>\n",
       "    <tr>\n",
       "      <th>0</th>\n",
       "      <td>1</td>\n",
       "      <td>31</td>\n",
       "      <td>2</td>\n",
       "      <td>1810.0</td>\n",
       "    </tr>\n",
       "    <tr>\n",
       "      <th>1</th>\n",
       "      <td>1</td>\n",
       "      <td>32</td>\n",
       "      <td>2</td>\n",
       "      <td>322.0</td>\n",
       "    </tr>\n",
       "    <tr>\n",
       "      <th>1</th>\n",
       "      <td>1</td>\n",
       "      <td>32</td>\n",
       "      <td>2</td>\n",
       "      <td>3965.0</td>\n",
       "    </tr>\n",
       "    <tr>\n",
       "      <th>2</th>\n",
       "      <td>1</td>\n",
       "      <td>39</td>\n",
       "      <td>3</td>\n",
       "      <td>2816.0</td>\n",
       "    </tr>\n",
       "    <tr>\n",
       "      <th>2</th>\n",
       "      <td>1</td>\n",
       "      <td>39</td>\n",
       "      <td>3</td>\n",
       "      <td>7203.0</td>\n",
       "    </tr>\n",
       "    <tr>\n",
       "      <th>2</th>\n",
       "      <td>1</td>\n",
       "      <td>39</td>\n",
       "      <td>3</td>\n",
       "      <td>2227.0</td>\n",
       "    </tr>\n",
       "    <tr>\n",
       "      <th>3</th>\n",
       "      <td>1</td>\n",
       "      <td>43</td>\n",
       "      <td>1</td>\n",
       "      <td>3497.0</td>\n",
       "    </tr>\n",
       "    <tr>\n",
       "      <th>4</th>\n",
       "      <td>1</td>\n",
       "      <td>47</td>\n",
       "      <td>1</td>\n",
       "      <td>8337.0</td>\n",
       "    </tr>\n",
       "    <tr>\n",
       "      <th>5</th>\n",
       "      <td>1</td>\n",
       "      <td>49</td>\n",
       "      <td>4</td>\n",
       "      <td>689.0</td>\n",
       "    </tr>\n",
       "    <tr>\n",
       "      <th>5</th>\n",
       "      <td>1</td>\n",
       "      <td>49</td>\n",
       "      <td>4</td>\n",
       "      <td>1039.0</td>\n",
       "    </tr>\n",
       "    <tr>\n",
       "      <th>5</th>\n",
       "      <td>1</td>\n",
       "      <td>49</td>\n",
       "      <td>4</td>\n",
       "      <td>6724.0</td>\n",
       "    </tr>\n",
       "    <tr>\n",
       "      <th>5</th>\n",
       "      <td>1</td>\n",
       "      <td>49</td>\n",
       "      <td>4</td>\n",
       "      <td>7819.0</td>\n",
       "    </tr>\n",
       "    <tr>\n",
       "      <th>6</th>\n",
       "      <td>2</td>\n",
       "      <td>28</td>\n",
       "      <td>2</td>\n",
       "      <td>1317.0</td>\n",
       "    </tr>\n",
       "    <tr>\n",
       "      <th>6</th>\n",
       "      <td>2</td>\n",
       "      <td>28</td>\n",
       "      <td>2</td>\n",
       "      <td>7561.0</td>\n",
       "    </tr>\n",
       "    <tr>\n",
       "      <th>7</th>\n",
       "      <td>2</td>\n",
       "      <td>33</td>\n",
       "      <td>3</td>\n",
       "      <td>8042.0</td>\n",
       "    </tr>\n",
       "    <tr>\n",
       "      <th>7</th>\n",
       "      <td>2</td>\n",
       "      <td>33</td>\n",
       "      <td>3</td>\n",
       "      <td>3448.0</td>\n",
       "    </tr>\n",
       "    <tr>\n",
       "      <th>7</th>\n",
       "      <td>2</td>\n",
       "      <td>33</td>\n",
       "      <td>3</td>\n",
       "      <td>3998.0</td>\n",
       "    </tr>\n",
       "    <tr>\n",
       "      <th>8</th>\n",
       "      <td>2</td>\n",
       "      <td>37</td>\n",
       "      <td>3</td>\n",
       "      <td>4991.0</td>\n",
       "    </tr>\n",
       "    <tr>\n",
       "      <th>8</th>\n",
       "      <td>2</td>\n",
       "      <td>37</td>\n",
       "      <td>3</td>\n",
       "      <td>7989.0</td>\n",
       "    </tr>\n",
       "  </tbody>\n",
       "</table>\n",
       "</div>"
      ],
      "text/plain": [
       "   user_id  week_no  count_shares  id_shares\n",
       "0        1       31             2     3375.0\n",
       "0        1       31             2     1810.0\n",
       "1        1       32             2      322.0\n",
       "1        1       32             2     3965.0\n",
       "2        1       39             3     2816.0\n",
       "2        1       39             3     7203.0\n",
       "2        1       39             3     2227.0\n",
       "3        1       43             1     3497.0\n",
       "4        1       47             1     8337.0\n",
       "5        1       49             4      689.0\n",
       "5        1       49             4     1039.0\n",
       "5        1       49             4     6724.0\n",
       "5        1       49             4     7819.0\n",
       "6        2       28             2     1317.0\n",
       "6        2       28             2     7561.0\n",
       "7        2       33             3     8042.0\n",
       "7        2       33             3     3448.0\n",
       "7        2       33             3     3998.0\n",
       "8        2       37             3     4991.0\n",
       "8        2       37             3     7989.0"
      ]
     },
     "execution_count": 17,
     "metadata": {},
     "output_type": "execute_result"
    }
   ],
   "source": [
    "df_interactions.head(20)"
   ]
  },
  {
   "cell_type": "code",
   "execution_count": 18,
   "id": "6b946212",
   "metadata": {},
   "outputs": [],
   "source": [
    "df_interactions = df_interactions.reset_index()"
   ]
  },
  {
   "cell_type": "code",
   "execution_count": 19,
   "id": "b5430a25",
   "metadata": {},
   "outputs": [],
   "source": [
    "df_interactions = df_interactions.drop('index', axis=1)"
   ]
  },
  {
   "cell_type": "code",
   "execution_count": 20,
   "id": "4156f426",
   "metadata": {},
   "outputs": [
    {
     "data": {
      "text/html": [
       "<div>\n",
       "<style scoped>\n",
       "    .dataframe tbody tr th:only-of-type {\n",
       "        vertical-align: middle;\n",
       "    }\n",
       "\n",
       "    .dataframe tbody tr th {\n",
       "        vertical-align: top;\n",
       "    }\n",
       "\n",
       "    .dataframe thead th {\n",
       "        text-align: right;\n",
       "    }\n",
       "</style>\n",
       "<table border=\"1\" class=\"dataframe\">\n",
       "  <thead>\n",
       "    <tr style=\"text-align: right;\">\n",
       "      <th></th>\n",
       "      <th>user_id</th>\n",
       "      <th>week_no</th>\n",
       "      <th>count_shares</th>\n",
       "      <th>id_shares</th>\n",
       "    </tr>\n",
       "  </thead>\n",
       "  <tbody>\n",
       "    <tr>\n",
       "      <th>0</th>\n",
       "      <td>1</td>\n",
       "      <td>31</td>\n",
       "      <td>2</td>\n",
       "      <td>3375.0</td>\n",
       "    </tr>\n",
       "    <tr>\n",
       "      <th>1</th>\n",
       "      <td>1</td>\n",
       "      <td>31</td>\n",
       "      <td>2</td>\n",
       "      <td>1810.0</td>\n",
       "    </tr>\n",
       "    <tr>\n",
       "      <th>2</th>\n",
       "      <td>1</td>\n",
       "      <td>32</td>\n",
       "      <td>2</td>\n",
       "      <td>322.0</td>\n",
       "    </tr>\n",
       "    <tr>\n",
       "      <th>3</th>\n",
       "      <td>1</td>\n",
       "      <td>32</td>\n",
       "      <td>2</td>\n",
       "      <td>3965.0</td>\n",
       "    </tr>\n",
       "    <tr>\n",
       "      <th>4</th>\n",
       "      <td>1</td>\n",
       "      <td>39</td>\n",
       "      <td>3</td>\n",
       "      <td>2816.0</td>\n",
       "    </tr>\n",
       "    <tr>\n",
       "      <th>...</th>\n",
       "      <td>...</td>\n",
       "      <td>...</td>\n",
       "      <td>...</td>\n",
       "      <td>...</td>\n",
       "    </tr>\n",
       "    <tr>\n",
       "      <th>2100555</th>\n",
       "      <td>100000</td>\n",
       "      <td>51</td>\n",
       "      <td>6</td>\n",
       "      <td>2034.0</td>\n",
       "    </tr>\n",
       "    <tr>\n",
       "      <th>2100556</th>\n",
       "      <td>100000</td>\n",
       "      <td>51</td>\n",
       "      <td>6</td>\n",
       "      <td>7905.0</td>\n",
       "    </tr>\n",
       "    <tr>\n",
       "      <th>2100557</th>\n",
       "      <td>100000</td>\n",
       "      <td>51</td>\n",
       "      <td>6</td>\n",
       "      <td>6132.0</td>\n",
       "    </tr>\n",
       "    <tr>\n",
       "      <th>2100558</th>\n",
       "      <td>100000</td>\n",
       "      <td>51</td>\n",
       "      <td>6</td>\n",
       "      <td>4887.0</td>\n",
       "    </tr>\n",
       "    <tr>\n",
       "      <th>2100559</th>\n",
       "      <td>100000</td>\n",
       "      <td>51</td>\n",
       "      <td>6</td>\n",
       "      <td>3881.0</td>\n",
       "    </tr>\n",
       "  </tbody>\n",
       "</table>\n",
       "<p>2100560 rows × 4 columns</p>\n",
       "</div>"
      ],
      "text/plain": [
       "         user_id  week_no  count_shares  id_shares\n",
       "0              1       31             2     3375.0\n",
       "1              1       31             2     1810.0\n",
       "2              1       32             2      322.0\n",
       "3              1       32             2     3965.0\n",
       "4              1       39             3     2816.0\n",
       "...          ...      ...           ...        ...\n",
       "2100555   100000       51             6     2034.0\n",
       "2100556   100000       51             6     7905.0\n",
       "2100557   100000       51             6     6132.0\n",
       "2100558   100000       51             6     4887.0\n",
       "2100559   100000       51             6     3881.0\n",
       "\n",
       "[2100560 rows x 4 columns]"
      ]
     },
     "execution_count": 20,
     "metadata": {},
     "output_type": "execute_result"
    }
   ],
   "source": [
    "df_interactions"
   ]
  },
  {
   "cell_type": "markdown",
   "id": "5e060b67",
   "metadata": {},
   "source": [
    "__Будем диверсифицировать кол-во акций каждого инвестора в зависимости от отраслей__"
   ]
  },
  {
   "cell_type": "code",
   "execution_count": 21,
   "id": "0a92888a",
   "metadata": {},
   "outputs": [
    {
     "data": {
      "text/plain": [
       "array(['Consumer Cyclical', 'Financial', 'Technology', 'Industrials',\n",
       "       'Healthcare', 'Consumer Defensive', 'Real Estate',\n",
       "       'Basic Materials', 'Communication Services', 'Utilities', 'Energy'],\n",
       "      dtype=object)"
      ]
     },
     "execution_count": 21,
     "metadata": {},
     "output_type": "execute_result"
    }
   ],
   "source": [
    "df_shares['industry'].unique()"
   ]
  },
  {
   "cell_type": "code",
   "execution_count": 22,
   "id": "3e923581",
   "metadata": {},
   "outputs": [],
   "source": [
    "industries = df_shares['industry'].to_list()"
   ]
  },
  {
   "cell_type": "code",
   "execution_count": 23,
   "id": "68de58cb",
   "metadata": {},
   "outputs": [],
   "source": [
    "def industry_list_shares(industry, X):\n",
    "    industry_df = X[X['industry'] == industry]\n",
    "    industry_list = industry_df.id_share.to_list()\n",
    "    industry_list = [float(i) for i in industry_list]\n",
    "\n",
    "    return industry_list"
   ]
  },
  {
   "cell_type": "code",
   "execution_count": 24,
   "id": "a689ab2e",
   "metadata": {},
   "outputs": [],
   "source": [
    "financial_list = industry_list_shares('Financial', df_shares)\n",
    "consumer_list = industry_list_shares('Consumer Cyclical', df_shares)\n",
    "technology_list = industry_list_shares('Technology', df_shares)\n",
    "industrial_list = industry_list_shares('Industrials', df_shares)\n",
    "healthcare_list = industry_list_shares('Healthcare', df_shares)\n",
    "defensive_list = industry_list_shares('Consumer Defensive', df_shares) \n",
    "estate_list = industry_list_shares('Real Estate', df_shares)\n",
    "materials_list = industry_list_shares('Basic Materials', df_shares)\n",
    "service_list = industry_list_shares('Communication Services', df_shares) \n",
    "utils_list = industry_list_shares('Utilities', df_shares)\n",
    "energy_list = industry_list_shares('Energy', df_shares)"
   ]
  },
  {
   "cell_type": "markdown",
   "id": "ccee89cb",
   "metadata": {},
   "source": [
    "_Кол-во акций на каждую отрасль_"
   ]
  },
  {
   "cell_type": "code",
   "execution_count": 26,
   "id": "6fc2f95a",
   "metadata": {},
   "outputs": [],
   "source": [
    "#id всех акций из датасета df_interactions: \n",
    "list_id_shares = df_interactions.id_shares.to_list()"
   ]
  },
  {
   "cell_type": "code",
   "execution_count": 27,
   "id": "ce3477bf",
   "metadata": {},
   "outputs": [],
   "source": [
    "quantity_2 = []\n",
    "for sh in list_id_shares: \n",
    "    if sh in financial_list: \n",
    "        quantity_2.append(random.randint(260, 275))\n",
    "    elif sh in consumer_list:\n",
    "        quantity_2.append(random.randint(125, 150))\n",
    "    elif sh in technology_list:\n",
    "        quantity_2.append(random.randint(250, 260))\n",
    "    elif sh in industrial_list:\n",
    "        quantity_2.append(random.randint(15, 20))\n",
    "    elif sh in healthcare_list:\n",
    "        quantity_2.append(random.randint(225, 250))\n",
    "    elif sh in defensive_list:\n",
    "        quantity_2.append(random.randint(40, 65))\n",
    "    elif sh in estate_list:\n",
    "        quantity_2.append(random.randint(10, 15))\n",
    "    elif sh in materials_list:\n",
    "        quantity_2.append(random.randint(75, 100))\n",
    "    elif sh in service_list:\n",
    "        quantity_2.append(random.randint(1, 5))\n",
    "    elif sh in utils_list:\n",
    "        quantity_2.append(random.randint(5, 10))\n",
    "    elif sh in energy_list:\n",
    "        quantity_2.append(random.randint(175, 200))"
   ]
  },
  {
   "cell_type": "code",
   "execution_count": 28,
   "id": "1fab9c0c",
   "metadata": {},
   "outputs": [],
   "source": [
    "df_interactions['quantity'] = quantity_2"
   ]
  },
  {
   "cell_type": "code",
   "execution_count": 29,
   "id": "112b84c6",
   "metadata": {},
   "outputs": [
    {
     "data": {
      "text/html": [
       "<div>\n",
       "<style scoped>\n",
       "    .dataframe tbody tr th:only-of-type {\n",
       "        vertical-align: middle;\n",
       "    }\n",
       "\n",
       "    .dataframe tbody tr th {\n",
       "        vertical-align: top;\n",
       "    }\n",
       "\n",
       "    .dataframe thead th {\n",
       "        text-align: right;\n",
       "    }\n",
       "</style>\n",
       "<table border=\"1\" class=\"dataframe\">\n",
       "  <thead>\n",
       "    <tr style=\"text-align: right;\">\n",
       "      <th></th>\n",
       "      <th>user_id</th>\n",
       "      <th>week_no</th>\n",
       "      <th>count_shares</th>\n",
       "      <th>id_shares</th>\n",
       "      <th>quantity</th>\n",
       "    </tr>\n",
       "  </thead>\n",
       "  <tbody>\n",
       "    <tr>\n",
       "      <th>0</th>\n",
       "      <td>1</td>\n",
       "      <td>31</td>\n",
       "      <td>2</td>\n",
       "      <td>3375.0</td>\n",
       "      <td>15</td>\n",
       "    </tr>\n",
       "    <tr>\n",
       "      <th>1</th>\n",
       "      <td>1</td>\n",
       "      <td>31</td>\n",
       "      <td>2</td>\n",
       "      <td>1810.0</td>\n",
       "      <td>14</td>\n",
       "    </tr>\n",
       "    <tr>\n",
       "      <th>2</th>\n",
       "      <td>1</td>\n",
       "      <td>32</td>\n",
       "      <td>2</td>\n",
       "      <td>322.0</td>\n",
       "      <td>264</td>\n",
       "    </tr>\n",
       "    <tr>\n",
       "      <th>3</th>\n",
       "      <td>1</td>\n",
       "      <td>32</td>\n",
       "      <td>2</td>\n",
       "      <td>3965.0</td>\n",
       "      <td>273</td>\n",
       "    </tr>\n",
       "    <tr>\n",
       "      <th>4</th>\n",
       "      <td>1</td>\n",
       "      <td>39</td>\n",
       "      <td>3</td>\n",
       "      <td>2816.0</td>\n",
       "      <td>270</td>\n",
       "    </tr>\n",
       "    <tr>\n",
       "      <th>...</th>\n",
       "      <td>...</td>\n",
       "      <td>...</td>\n",
       "      <td>...</td>\n",
       "      <td>...</td>\n",
       "      <td>...</td>\n",
       "    </tr>\n",
       "    <tr>\n",
       "      <th>2100555</th>\n",
       "      <td>100000</td>\n",
       "      <td>51</td>\n",
       "      <td>6</td>\n",
       "      <td>2034.0</td>\n",
       "      <td>258</td>\n",
       "    </tr>\n",
       "    <tr>\n",
       "      <th>2100556</th>\n",
       "      <td>100000</td>\n",
       "      <td>51</td>\n",
       "      <td>6</td>\n",
       "      <td>7905.0</td>\n",
       "      <td>258</td>\n",
       "    </tr>\n",
       "    <tr>\n",
       "      <th>2100557</th>\n",
       "      <td>100000</td>\n",
       "      <td>51</td>\n",
       "      <td>6</td>\n",
       "      <td>6132.0</td>\n",
       "      <td>270</td>\n",
       "    </tr>\n",
       "    <tr>\n",
       "      <th>2100558</th>\n",
       "      <td>100000</td>\n",
       "      <td>51</td>\n",
       "      <td>6</td>\n",
       "      <td>4887.0</td>\n",
       "      <td>261</td>\n",
       "    </tr>\n",
       "    <tr>\n",
       "      <th>2100559</th>\n",
       "      <td>100000</td>\n",
       "      <td>51</td>\n",
       "      <td>6</td>\n",
       "      <td>3881.0</td>\n",
       "      <td>274</td>\n",
       "    </tr>\n",
       "  </tbody>\n",
       "</table>\n",
       "<p>2100560 rows × 5 columns</p>\n",
       "</div>"
      ],
      "text/plain": [
       "         user_id  week_no  count_shares  id_shares  quantity\n",
       "0              1       31             2     3375.0        15\n",
       "1              1       31             2     1810.0        14\n",
       "2              1       32             2      322.0       264\n",
       "3              1       32             2     3965.0       273\n",
       "4              1       39             3     2816.0       270\n",
       "...          ...      ...           ...        ...       ...\n",
       "2100555   100000       51             6     2034.0       258\n",
       "2100556   100000       51             6     7905.0       258\n",
       "2100557   100000       51             6     6132.0       270\n",
       "2100558   100000       51             6     4887.0       261\n",
       "2100559   100000       51             6     3881.0       274\n",
       "\n",
       "[2100560 rows x 5 columns]"
      ]
     },
     "execution_count": 29,
     "metadata": {},
     "output_type": "execute_result"
    }
   ],
   "source": [
    "#count shares - это кол-во купленных акций юзером id в определенную неделю. \n",
    "# например за 29 неделю пользователь номер 1 купил 2 акции. \n",
    "# опционально можно менять подходы: ставить или quantity или count_shares\n",
    "df_interactions"
   ]
  },
  {
   "cell_type": "code",
   "execution_count": 69,
   "id": "d1927a91",
   "metadata": {},
   "outputs": [],
   "source": [
    "import pandas as pd\n",
    "import numpy as np\n",
    "import matplotlib.pyplot as plt\n",
    "%matplotlib inline\n",
    "from implicit.als import AlternatingLeastSquares\n",
    "from implicit.bpr import BayesianPersonalizedRanking\n",
    "from implicit.nearest_neighbours import bm25_weight\n",
    "\n",
    "# Для работы с матрицами\n",
    "from scipy.sparse import csr_matrix, coo_matrix\n",
    "\n",
    "# Детерминированные алгоритмы\n",
    "from implicit.nearest_neighbours import ItemItemRecommender, CosineRecommender, TFIDFRecommender, BM25Recommender\n",
    "\n",
    "# Метрики\n",
    "from implicit.evaluation import train_test_split\n",
    "from implicit.evaluation import precision_at_k, mean_average_precision_at_k, AUC_at_k, ndcg_at_k"
   ]
  },
  {
   "cell_type": "markdown",
   "id": "5d97e636",
   "metadata": {},
   "source": [
    "## Train-test split"
   ]
  },
  {
   "cell_type": "code",
   "execution_count": 31,
   "id": "6291e222",
   "metadata": {},
   "outputs": [],
   "source": [
    "test_size_weeks = 4\n",
    "\n",
    "data_train = df_interactions[df_interactions['week_no'] < df_interactions['week_no'].max() - test_size_weeks]\n",
    "data_test = df_interactions[df_interactions['week_no'] >= df_interactions['week_no'].max() - test_size_weeks]"
   ]
  },
  {
   "cell_type": "markdown",
   "id": "3585590f",
   "metadata": {},
   "source": [
    "## Метрика"
   ]
  },
  {
   "cell_type": "code",
   "execution_count": 75,
   "id": "15d96576",
   "metadata": {},
   "outputs": [],
   "source": [
    "def precision_at_k(recommended_list, bought_list):\n",
    "    \n",
    "    k=5\n",
    "    bought_list = np.array(bought_list)\n",
    "    recommended_list = np.array(recommended_list)\n",
    "    bought_list = bought_list  # Тут нет [:k] !!\n",
    "    recommended_list = recommended_list[:k]\n",
    "    flags = np.isin(bought_list, recommended_list)\n",
    "    #print(flags)\n",
    "    precision = flags.sum() / len(recommended_list)\n",
    "    \n",
    "    return precision"
   ]
  },
  {
   "cell_type": "markdown",
   "id": "a89e7be8",
   "metadata": {},
   "source": [
    "_Для бизнеса и для ML я выбрал метрику `precision_at_k.` В первую очередь брокер заинтересован в том, чтобы клиент\n",
    "совершал сделки, а во вторую очередь зарабатывал. Идеальным вариантом считаю кастомную метрику, которая отражает\n",
    "доход с каждой рекомендации_"
   ]
  },
  {
   "cell_type": "markdown",
   "id": "b32176bc",
   "metadata": {},
   "source": [
    "## Бейзлайны"
   ]
  },
  {
   "cell_type": "markdown",
   "id": "ac81b879",
   "metadata": {},
   "source": [
    "Создадим датафрейм с покупками юзеров на тестовом датасете (последние 3 недели)"
   ]
  },
  {
   "cell_type": "code",
   "execution_count": 33,
   "id": "630f9db9",
   "metadata": {},
   "outputs": [
    {
     "data": {
      "text/html": [
       "<div>\n",
       "<style scoped>\n",
       "    .dataframe tbody tr th:only-of-type {\n",
       "        vertical-align: middle;\n",
       "    }\n",
       "\n",
       "    .dataframe tbody tr th {\n",
       "        vertical-align: top;\n",
       "    }\n",
       "\n",
       "    .dataframe thead th {\n",
       "        text-align: right;\n",
       "    }\n",
       "</style>\n",
       "<table border=\"1\" class=\"dataframe\">\n",
       "  <thead>\n",
       "    <tr style=\"text-align: right;\">\n",
       "      <th></th>\n",
       "      <th>user_id</th>\n",
       "      <th>actual</th>\n",
       "    </tr>\n",
       "  </thead>\n",
       "  <tbody>\n",
       "    <tr>\n",
       "      <th>0</th>\n",
       "      <td>1</td>\n",
       "      <td>[8337.0, 689.0, 1039.0, 6724.0, 7819.0]</td>\n",
       "    </tr>\n",
       "    <tr>\n",
       "      <th>1</th>\n",
       "      <td>2</td>\n",
       "      <td>[1342.0, 3794.0, 4661.0, 650.0, 731.0, 6062.0,...</td>\n",
       "    </tr>\n",
       "  </tbody>\n",
       "</table>\n",
       "</div>"
      ],
      "text/plain": [
       "   user_id                                             actual\n",
       "0        1            [8337.0, 689.0, 1039.0, 6724.0, 7819.0]\n",
       "1        2  [1342.0, 3794.0, 4661.0, 650.0, 731.0, 6062.0,..."
      ]
     },
     "execution_count": 33,
     "metadata": {},
     "output_type": "execute_result"
    }
   ],
   "source": [
    "result = data_test.groupby('user_id')['id_shares'].unique().reset_index()\n",
    "result.columns=['user_id', 'actual']\n",
    "result.head(2)"
   ]
  },
  {
   "cell_type": "markdown",
   "id": "e3d70d8f",
   "metadata": {},
   "source": [
    "### 1.2 Popularity-based recommendation"
   ]
  },
  {
   "cell_type": "code",
   "execution_count": 34,
   "id": "4e6c526c",
   "metadata": {},
   "outputs": [],
   "source": [
    "def spb100_recommendation(shares, n=5):\n",
    "    \"\"\"Топ-n популярных акций из индекса spb-100\"\"\"\n",
    "    \n",
    "    recs = np.array(shares)\n",
    "    recs = [float(i) for i in recs]\n",
    "    rec_list = random.sample(recs, k=n)\n",
    "    \n",
    "    return rec_list"
   ]
  },
  {
   "cell_type": "code",
   "execution_count": 36,
   "id": "bece10f2",
   "metadata": {},
   "outputs": [],
   "source": [
    "spb = pd.read_csv('popular_spb.csv')"
   ]
  },
  {
   "cell_type": "code",
   "execution_count": 37,
   "id": "b2a9c24f",
   "metadata": {
    "tags": []
   },
   "outputs": [
    {
     "name": "stdout",
     "output_type": "stream",
     "text": [
      "Wall time: 5.75 s\n"
     ]
    },
    {
     "data": {
      "text/html": [
       "<div>\n",
       "<style scoped>\n",
       "    .dataframe tbody tr th:only-of-type {\n",
       "        vertical-align: middle;\n",
       "    }\n",
       "\n",
       "    .dataframe tbody tr th {\n",
       "        vertical-align: top;\n",
       "    }\n",
       "\n",
       "    .dataframe thead th {\n",
       "        text-align: right;\n",
       "    }\n",
       "</style>\n",
       "<table border=\"1\" class=\"dataframe\">\n",
       "  <thead>\n",
       "    <tr style=\"text-align: right;\">\n",
       "      <th></th>\n",
       "      <th>user_id</th>\n",
       "      <th>actual</th>\n",
       "      <th>spb100_recommendation</th>\n",
       "    </tr>\n",
       "  </thead>\n",
       "  <tbody>\n",
       "    <tr>\n",
       "      <th>0</th>\n",
       "      <td>1</td>\n",
       "      <td>[8337.0, 689.0, 1039.0, 6724.0, 7819.0]</td>\n",
       "      <td>[1897.0, 7392.0, 7360.0, 716.0, 4792.0]</td>\n",
       "    </tr>\n",
       "    <tr>\n",
       "      <th>1</th>\n",
       "      <td>2</td>\n",
       "      <td>[1342.0, 3794.0, 4661.0, 650.0, 731.0, 6062.0,...</td>\n",
       "      <td>[1219.0, 1505.0, 5511.0, 8058.0, 7147.0]</td>\n",
       "    </tr>\n",
       "  </tbody>\n",
       "</table>\n",
       "</div>"
      ],
      "text/plain": [
       "   user_id                                             actual  \\\n",
       "0        1            [8337.0, 689.0, 1039.0, 6724.0, 7819.0]   \n",
       "1        2  [1342.0, 3794.0, 4661.0, 650.0, 731.0, 6062.0,...   \n",
       "\n",
       "                      spb100_recommendation  \n",
       "0   [1897.0, 7392.0, 7360.0, 716.0, 4792.0]  \n",
       "1  [1219.0, 1505.0, 5511.0, 8058.0, 7147.0]  "
      ]
     },
     "execution_count": 37,
     "metadata": {},
     "output_type": "execute_result"
    }
   ],
   "source": [
    "%%time\n",
    "\n",
    "shares_spb = spb.id_share.unique()\n",
    "\n",
    "result['spb100_recommendation'] = result['user_id'].apply(lambda x: spb100_recommendation(shares_spb, n=5))\n",
    "result.head(2)"
   ]
  },
  {
   "cell_type": "code",
   "execution_count": 38,
   "id": "562d1158",
   "metadata": {},
   "outputs": [],
   "source": [
    "def popularity_recommendation(data, n=5):\n",
    "    \"\"\"Топ-n популярных акций\"\"\"\n",
    "    \n",
    "    popular = data.groupby('id_shares')['quantity'].sum().reset_index()\n",
    "    popular.sort_values('quantity', ascending=False, inplace=True)\n",
    "    \n",
    "    recs = popular.head(n).id_shares\n",
    "    \n",
    "    return recs.tolist()"
   ]
  },
  {
   "cell_type": "code",
   "execution_count": 39,
   "id": "cc6789d3",
   "metadata": {},
   "outputs": [],
   "source": [
    "####"
   ]
  },
  {
   "cell_type": "code",
   "execution_count": 40,
   "id": "53142ac6",
   "metadata": {},
   "outputs": [
    {
     "data": {
      "text/html": [
       "<div>\n",
       "<style scoped>\n",
       "    .dataframe tbody tr th:only-of-type {\n",
       "        vertical-align: middle;\n",
       "    }\n",
       "\n",
       "    .dataframe tbody tr th {\n",
       "        vertical-align: top;\n",
       "    }\n",
       "\n",
       "    .dataframe thead th {\n",
       "        text-align: right;\n",
       "    }\n",
       "</style>\n",
       "<table border=\"1\" class=\"dataframe\">\n",
       "  <thead>\n",
       "    <tr style=\"text-align: right;\">\n",
       "      <th></th>\n",
       "      <th>user_id</th>\n",
       "      <th>actual</th>\n",
       "      <th>spb100_recommendation</th>\n",
       "      <th>popular_recommendation</th>\n",
       "    </tr>\n",
       "  </thead>\n",
       "  <tbody>\n",
       "    <tr>\n",
       "      <th>0</th>\n",
       "      <td>1</td>\n",
       "      <td>[8337.0, 689.0, 1039.0, 6724.0, 7819.0]</td>\n",
       "      <td>[1897.0, 7392.0, 7360.0, 716.0, 4792.0]</td>\n",
       "      <td>[3899.0, 3340.0, 6499.0, 3914.0, 2351.0]</td>\n",
       "    </tr>\n",
       "    <tr>\n",
       "      <th>1</th>\n",
       "      <td>2</td>\n",
       "      <td>[1342.0, 3794.0, 4661.0, 650.0, 731.0, 6062.0,...</td>\n",
       "      <td>[1219.0, 1505.0, 5511.0, 8058.0, 7147.0]</td>\n",
       "      <td>[3899.0, 3340.0, 6499.0, 3914.0, 2351.0]</td>\n",
       "    </tr>\n",
       "  </tbody>\n",
       "</table>\n",
       "</div>"
      ],
      "text/plain": [
       "   user_id                                             actual  \\\n",
       "0        1            [8337.0, 689.0, 1039.0, 6724.0, 7819.0]   \n",
       "1        2  [1342.0, 3794.0, 4661.0, 650.0, 731.0, 6062.0,...   \n",
       "\n",
       "                      spb100_recommendation  \\\n",
       "0   [1897.0, 7392.0, 7360.0, 716.0, 4792.0]   \n",
       "1  [1219.0, 1505.0, 5511.0, 8058.0, 7147.0]   \n",
       "\n",
       "                     popular_recommendation  \n",
       "0  [3899.0, 3340.0, 6499.0, 3914.0, 2351.0]  \n",
       "1  [3899.0, 3340.0, 6499.0, 3914.0, 2351.0]  "
      ]
     },
     "execution_count": 40,
     "metadata": {},
     "output_type": "execute_result"
    }
   ],
   "source": [
    "popular_recs = popularity_recommendation(data_train, n=5)\n",
    "\n",
    "result['popular_recommendation'] = result['user_id'].apply(lambda x: popular_recs)\n",
    "result.head(2)"
   ]
  },
  {
   "cell_type": "markdown",
   "id": "f13c71c4",
   "metadata": {},
   "source": [
    "__Сформируем датасет из популярных акций__"
   ]
  },
  {
   "cell_type": "code",
   "execution_count": 41,
   "id": "e4e3c2f7",
   "metadata": {},
   "outputs": [
    {
     "data": {
      "text/html": [
       "<div>\n",
       "<style scoped>\n",
       "    .dataframe tbody tr th:only-of-type {\n",
       "        vertical-align: middle;\n",
       "    }\n",
       "\n",
       "    .dataframe tbody tr th {\n",
       "        vertical-align: top;\n",
       "    }\n",
       "\n",
       "    .dataframe thead th {\n",
       "        text-align: right;\n",
       "    }\n",
       "</style>\n",
       "<table border=\"1\" class=\"dataframe\">\n",
       "  <thead>\n",
       "    <tr style=\"text-align: right;\">\n",
       "      <th></th>\n",
       "      <th>id_shares</th>\n",
       "      <th>quantity</th>\n",
       "    </tr>\n",
       "  </thead>\n",
       "  <tbody>\n",
       "    <tr>\n",
       "      <th>0</th>\n",
       "      <td>1.0</td>\n",
       "      <td>32707</td>\n",
       "    </tr>\n",
       "    <tr>\n",
       "      <th>1</th>\n",
       "      <td>2.0</td>\n",
       "      <td>61070</td>\n",
       "    </tr>\n",
       "    <tr>\n",
       "      <th>2</th>\n",
       "      <td>3.0</td>\n",
       "      <td>70067</td>\n",
       "    </tr>\n",
       "    <tr>\n",
       "      <th>3</th>\n",
       "      <td>4.0</td>\n",
       "      <td>64593</td>\n",
       "    </tr>\n",
       "    <tr>\n",
       "      <th>4</th>\n",
       "      <td>5.0</td>\n",
       "      <td>4306</td>\n",
       "    </tr>\n",
       "    <tr>\n",
       "      <th>...</th>\n",
       "      <td>...</td>\n",
       "      <td>...</td>\n",
       "    </tr>\n",
       "    <tr>\n",
       "      <th>495</th>\n",
       "      <td>496.0</td>\n",
       "      <td>58864</td>\n",
       "    </tr>\n",
       "    <tr>\n",
       "      <th>496</th>\n",
       "      <td>497.0</td>\n",
       "      <td>2743</td>\n",
       "    </tr>\n",
       "    <tr>\n",
       "      <th>497</th>\n",
       "      <td>498.0</td>\n",
       "      <td>61363</td>\n",
       "    </tr>\n",
       "    <tr>\n",
       "      <th>498</th>\n",
       "      <td>499.0</td>\n",
       "      <td>58491</td>\n",
       "    </tr>\n",
       "    <tr>\n",
       "      <th>499</th>\n",
       "      <td>500.0</td>\n",
       "      <td>71861</td>\n",
       "    </tr>\n",
       "  </tbody>\n",
       "</table>\n",
       "<p>500 rows × 2 columns</p>\n",
       "</div>"
      ],
      "text/plain": [
       "     id_shares  quantity\n",
       "0          1.0     32707\n",
       "1          2.0     61070\n",
       "2          3.0     70067\n",
       "3          4.0     64593\n",
       "4          5.0      4306\n",
       "..         ...       ...\n",
       "495      496.0     58864\n",
       "496      497.0      2743\n",
       "497      498.0     61363\n",
       "498      499.0     58491\n",
       "499      500.0     71861\n",
       "\n",
       "[500 rows x 2 columns]"
      ]
     },
     "execution_count": 41,
     "metadata": {},
     "output_type": "execute_result"
    }
   ],
   "source": [
    "popularity = df_interactions.groupby('id_shares')['quantity'].sum().reset_index()\n",
    "\n",
    "popularity.head(500)"
   ]
  },
  {
   "cell_type": "code",
   "execution_count": 42,
   "id": "418159bf",
   "metadata": {},
   "outputs": [],
   "source": [
    "top_250 = popularity.sort_values('quantity', ascending=False).head(250).id_shares.tolist()"
   ]
  },
  {
   "cell_type": "code",
   "execution_count": 43,
   "id": "8967e4cf",
   "metadata": {},
   "outputs": [
    {
     "name": "stderr",
     "output_type": "stream",
     "text": [
      "c:\\users\\anatoly\\appdata\\local\\programs\\python\\python39\\lib\\site-packages\\pandas\\core\\indexing.py:1720: SettingWithCopyWarning: \n",
      "A value is trying to be set on a copy of a slice from a DataFrame.\n",
      "Try using .loc[row_indexer,col_indexer] = value instead\n",
      "\n",
      "See the caveats in the documentation: https://pandas.pydata.org/pandas-docs/stable/user_guide/indexing.html#returning-a-view-versus-a-copy\n",
      "  self._setitem_single_column(loc, value, pi)\n"
     ]
    },
    {
     "data": {
      "text/html": [
       "<div>\n",
       "<style scoped>\n",
       "    .dataframe tbody tr th:only-of-type {\n",
       "        vertical-align: middle;\n",
       "    }\n",
       "\n",
       "    .dataframe tbody tr th {\n",
       "        vertical-align: top;\n",
       "    }\n",
       "\n",
       "    .dataframe thead th {\n",
       "        text-align: right;\n",
       "    }\n",
       "</style>\n",
       "<table border=\"1\" class=\"dataframe\">\n",
       "  <thead>\n",
       "    <tr style=\"text-align: right;\">\n",
       "      <th>id_shares</th>\n",
       "      <th>82.0</th>\n",
       "      <th>118.0</th>\n",
       "      <th>120.0</th>\n",
       "      <th>197.0</th>\n",
       "      <th>225.0</th>\n",
       "      <th>368.0</th>\n",
       "      <th>478.0</th>\n",
       "      <th>549.0</th>\n",
       "      <th>623.0</th>\n",
       "      <th>702.0</th>\n",
       "      <th>...</th>\n",
       "      <th>8352.0</th>\n",
       "      <th>8380.0</th>\n",
       "      <th>8386.0</th>\n",
       "      <th>8401.0</th>\n",
       "      <th>8459.0</th>\n",
       "      <th>8476.0</th>\n",
       "      <th>8491.0</th>\n",
       "      <th>8514.0</th>\n",
       "      <th>8519.0</th>\n",
       "      <th>999999.0</th>\n",
       "    </tr>\n",
       "    <tr>\n",
       "      <th>user_id</th>\n",
       "      <th></th>\n",
       "      <th></th>\n",
       "      <th></th>\n",
       "      <th></th>\n",
       "      <th></th>\n",
       "      <th></th>\n",
       "      <th></th>\n",
       "      <th></th>\n",
       "      <th></th>\n",
       "      <th></th>\n",
       "      <th></th>\n",
       "      <th></th>\n",
       "      <th></th>\n",
       "      <th></th>\n",
       "      <th></th>\n",
       "      <th></th>\n",
       "      <th></th>\n",
       "      <th></th>\n",
       "      <th></th>\n",
       "      <th></th>\n",
       "      <th></th>\n",
       "    </tr>\n",
       "  </thead>\n",
       "  <tbody>\n",
       "    <tr>\n",
       "      <th>1</th>\n",
       "      <td>0.0</td>\n",
       "      <td>0.0</td>\n",
       "      <td>0.0</td>\n",
       "      <td>0.0</td>\n",
       "      <td>0.0</td>\n",
       "      <td>0.0</td>\n",
       "      <td>0.0</td>\n",
       "      <td>0.0</td>\n",
       "      <td>0.0</td>\n",
       "      <td>0.0</td>\n",
       "      <td>...</td>\n",
       "      <td>0.0</td>\n",
       "      <td>0.0</td>\n",
       "      <td>0.0</td>\n",
       "      <td>0.0</td>\n",
       "      <td>0.0</td>\n",
       "      <td>0.0</td>\n",
       "      <td>0.0</td>\n",
       "      <td>0.0</td>\n",
       "      <td>0.0</td>\n",
       "      <td>1.0</td>\n",
       "    </tr>\n",
       "    <tr>\n",
       "      <th>2</th>\n",
       "      <td>0.0</td>\n",
       "      <td>0.0</td>\n",
       "      <td>0.0</td>\n",
       "      <td>0.0</td>\n",
       "      <td>0.0</td>\n",
       "      <td>0.0</td>\n",
       "      <td>0.0</td>\n",
       "      <td>0.0</td>\n",
       "      <td>0.0</td>\n",
       "      <td>0.0</td>\n",
       "      <td>...</td>\n",
       "      <td>0.0</td>\n",
       "      <td>0.0</td>\n",
       "      <td>0.0</td>\n",
       "      <td>0.0</td>\n",
       "      <td>0.0</td>\n",
       "      <td>0.0</td>\n",
       "      <td>0.0</td>\n",
       "      <td>0.0</td>\n",
       "      <td>0.0</td>\n",
       "      <td>1.0</td>\n",
       "    </tr>\n",
       "    <tr>\n",
       "      <th>3</th>\n",
       "      <td>0.0</td>\n",
       "      <td>0.0</td>\n",
       "      <td>0.0</td>\n",
       "      <td>0.0</td>\n",
       "      <td>0.0</td>\n",
       "      <td>0.0</td>\n",
       "      <td>0.0</td>\n",
       "      <td>0.0</td>\n",
       "      <td>0.0</td>\n",
       "      <td>0.0</td>\n",
       "      <td>...</td>\n",
       "      <td>0.0</td>\n",
       "      <td>0.0</td>\n",
       "      <td>0.0</td>\n",
       "      <td>0.0</td>\n",
       "      <td>0.0</td>\n",
       "      <td>0.0</td>\n",
       "      <td>0.0</td>\n",
       "      <td>0.0</td>\n",
       "      <td>0.0</td>\n",
       "      <td>1.0</td>\n",
       "    </tr>\n",
       "  </tbody>\n",
       "</table>\n",
       "<p>3 rows × 251 columns</p>\n",
       "</div>"
      ],
      "text/plain": [
       "id_shares  82.0      118.0     120.0     197.0     225.0     368.0     \\\n",
       "user_id                                                                 \n",
       "1               0.0       0.0       0.0       0.0       0.0       0.0   \n",
       "2               0.0       0.0       0.0       0.0       0.0       0.0   \n",
       "3               0.0       0.0       0.0       0.0       0.0       0.0   \n",
       "\n",
       "id_shares  478.0     549.0     623.0     702.0     ...  8352.0    8380.0    \\\n",
       "user_id                                            ...                       \n",
       "1               0.0       0.0       0.0       0.0  ...       0.0       0.0   \n",
       "2               0.0       0.0       0.0       0.0  ...       0.0       0.0   \n",
       "3               0.0       0.0       0.0       0.0  ...       0.0       0.0   \n",
       "\n",
       "id_shares  8386.0    8401.0    8459.0    8476.0    8491.0    8514.0    \\\n",
       "user_id                                                                 \n",
       "1               0.0       0.0       0.0       0.0       0.0       0.0   \n",
       "2               0.0       0.0       0.0       0.0       0.0       0.0   \n",
       "3               0.0       0.0       0.0       0.0       0.0       0.0   \n",
       "\n",
       "id_shares  8519.0    999999.0  \n",
       "user_id                        \n",
       "1               0.0       1.0  \n",
       "2               0.0       1.0  \n",
       "3               0.0       1.0  \n",
       "\n",
       "[3 rows x 251 columns]"
      ]
     },
     "execution_count": 43,
     "metadata": {},
     "output_type": "execute_result"
    }
   ],
   "source": [
    "# Заведем фиктивный shares_id (если юзер не купил акцию из топ-250, то он \"купил\" такую акцию)\n",
    "data_train.loc[~data_train['id_shares'].isin(top_250), 'id_shares'] = 999999\n",
    "\n",
    "user_item_matrix = pd.pivot_table(data_train, \n",
    "                                  index='user_id', columns='id_shares', \n",
    "                                  values='quantity',\n",
    "                                  aggfunc='count', \n",
    "                                  fill_value=0\n",
    "                                 )\n",
    "\n",
    "user_item_matrix[user_item_matrix > 0] = 1 # так как в итоге хотим предсказать \n",
    "user_item_matrix = user_item_matrix.astype(float) # необходимый тип матрицы для implicit\n",
    "\n",
    "# переведем в формат saprse matrix\n",
    "sparse_user_item = csr_matrix(user_item_matrix).tocsr()\n",
    "\n",
    "user_item_matrix.head(3)"
   ]
  },
  {
   "cell_type": "code",
   "execution_count": 44,
   "id": "c1fce99e",
   "metadata": {},
   "outputs": [
    {
     "data": {
      "text/plain": [
       "(100000, 251)"
      ]
     },
     "execution_count": 44,
     "metadata": {},
     "output_type": "execute_result"
    }
   ],
   "source": [
    "user_item_matrix.shape"
   ]
  },
  {
   "cell_type": "code",
   "execution_count": 45,
   "id": "bb966700",
   "metadata": {},
   "outputs": [],
   "source": [
    "userids = user_item_matrix.index.values\n",
    "itemids = user_item_matrix.columns.values\n",
    "\n",
    "matrix_userids = np.arange(len(userids))\n",
    "matrix_itemids = np.arange(len(itemids))\n",
    "\n",
    "id_to_itemid = dict(zip(matrix_itemids, itemids))\n",
    "id_to_userid = dict(zip(matrix_userids, userids))\n",
    "\n",
    "itemid_to_id = dict(zip(itemids, matrix_itemids))\n",
    "userid_to_id = dict(zip(userids, matrix_userids))"
   ]
  },
  {
   "cell_type": "markdown",
   "id": "6bca17ea",
   "metadata": {},
   "source": [
    "## ItemItemRecommender"
   ]
  },
  {
   "cell_type": "code",
   "execution_count": 46,
   "id": "e022b7ec",
   "metadata": {},
   "outputs": [
    {
     "data": {
      "application/vnd.jupyter.widget-view+json": {
       "model_id": "29635f46847742aa9d75e31693a12cfe",
       "version_major": 2,
       "version_minor": 0
      },
      "text/plain": [
       "  0%|          | 0/251 [00:00<?, ?it/s]"
      ]
     },
     "metadata": {},
     "output_type": "display_data"
    },
    {
     "name": "stdout",
     "output_type": "stream",
     "text": [
      "Wall time: 1.22 s\n"
     ]
    }
   ],
   "source": [
    "%%time\n",
    "\n",
    "model = ItemItemRecommender(K=5, num_threads=4) # K - кол-во билжайших соседей\n",
    "\n",
    "model.fit(csr_matrix(user_item_matrix).T.tocsr(),  # На вход item-user matrix\n",
    "          show_progress=True)\n",
    "\n",
    "recs = model.recommend(userid=userid_to_id[2],  # userid - id от 0 до N\n",
    "                        user_items=csr_matrix(user_item_matrix).tocsr(),   # на вход user-item matrix\n",
    "                        N=5, # кол-во рекомендаций \n",
    "                        filter_already_liked_items=True, \n",
    "                        filter_items=None, \n",
    "                        recalculate_user=True)"
   ]
  },
  {
   "cell_type": "code",
   "execution_count": 47,
   "id": "bdd2911b",
   "metadata": {},
   "outputs": [],
   "source": [
    "result['itemitem'] = result['user_id'].\\\n",
    "    apply(lambda x: [id_to_itemid[rec[0]] for rec in \n",
    "                    model.recommend(userid=userid_to_id[x], \n",
    "                                    user_items=sparse_user_item,   # на вход user-item matrix\n",
    "                                    N=5, \n",
    "                                    filter_already_liked_items=True, \n",
    "                                    filter_items=None, \n",
    "                                    recalculate_user=True)])"
   ]
  },
  {
   "cell_type": "code",
   "execution_count": 48,
   "id": "249f3cb9",
   "metadata": {},
   "outputs": [
    {
     "data": {
      "text/html": [
       "<div>\n",
       "<style scoped>\n",
       "    .dataframe tbody tr th:only-of-type {\n",
       "        vertical-align: middle;\n",
       "    }\n",
       "\n",
       "    .dataframe tbody tr th {\n",
       "        vertical-align: top;\n",
       "    }\n",
       "\n",
       "    .dataframe thead th {\n",
       "        text-align: right;\n",
       "    }\n",
       "</style>\n",
       "<table border=\"1\" class=\"dataframe\">\n",
       "  <thead>\n",
       "    <tr style=\"text-align: right;\">\n",
       "      <th></th>\n",
       "      <th>user_id</th>\n",
       "      <th>actual</th>\n",
       "      <th>spb100_recommendation</th>\n",
       "      <th>popular_recommendation</th>\n",
       "      <th>itemitem</th>\n",
       "    </tr>\n",
       "  </thead>\n",
       "  <tbody>\n",
       "    <tr>\n",
       "      <th>0</th>\n",
       "      <td>1</td>\n",
       "      <td>[8337.0, 689.0, 1039.0, 6724.0, 7819.0]</td>\n",
       "      <td>[1897.0, 7392.0, 7360.0, 716.0, 4792.0]</td>\n",
       "      <td>[3899.0, 3340.0, 6499.0, 3914.0, 2351.0]</td>\n",
       "      <td>[3899.0, 3340.0, 6499.0, 3914.0, 999999.0]</td>\n",
       "    </tr>\n",
       "    <tr>\n",
       "      <th>1</th>\n",
       "      <td>2</td>\n",
       "      <td>[1342.0, 3794.0, 4661.0, 650.0, 731.0, 6062.0,...</td>\n",
       "      <td>[1219.0, 1505.0, 5511.0, 8058.0, 7147.0]</td>\n",
       "      <td>[3899.0, 3340.0, 6499.0, 3914.0, 2351.0]</td>\n",
       "      <td>[3899.0, 3340.0, 6499.0, 3914.0, 999999.0]</td>\n",
       "    </tr>\n",
       "  </tbody>\n",
       "</table>\n",
       "</div>"
      ],
      "text/plain": [
       "   user_id                                             actual  \\\n",
       "0        1            [8337.0, 689.0, 1039.0, 6724.0, 7819.0]   \n",
       "1        2  [1342.0, 3794.0, 4661.0, 650.0, 731.0, 6062.0,...   \n",
       "\n",
       "                      spb100_recommendation  \\\n",
       "0   [1897.0, 7392.0, 7360.0, 716.0, 4792.0]   \n",
       "1  [1219.0, 1505.0, 5511.0, 8058.0, 7147.0]   \n",
       "\n",
       "                     popular_recommendation  \\\n",
       "0  [3899.0, 3340.0, 6499.0, 3914.0, 2351.0]   \n",
       "1  [3899.0, 3340.0, 6499.0, 3914.0, 2351.0]   \n",
       "\n",
       "                                     itemitem  \n",
       "0  [3899.0, 3340.0, 6499.0, 3914.0, 999999.0]  \n",
       "1  [3899.0, 3340.0, 6499.0, 3914.0, 999999.0]  "
      ]
     },
     "execution_count": 48,
     "metadata": {},
     "output_type": "execute_result"
    }
   ],
   "source": [
    "result.head(2)"
   ]
  },
  {
   "cell_type": "markdown",
   "id": "4d63a2b7",
   "metadata": {},
   "source": [
    "## Cosine Similarity"
   ]
  },
  {
   "cell_type": "code",
   "execution_count": 49,
   "id": "e03bc46b",
   "metadata": {},
   "outputs": [
    {
     "data": {
      "application/vnd.jupyter.widget-view+json": {
       "model_id": "c020381e9fed4b5eb91b585b7a748e7c",
       "version_major": 2,
       "version_minor": 0
      },
      "text/plain": [
       "  0%|          | 0/251 [00:00<?, ?it/s]"
      ]
     },
     "metadata": {},
     "output_type": "display_data"
    },
    {
     "name": "stdout",
     "output_type": "stream",
     "text": [
      "Wall time: 1.1 s\n"
     ]
    }
   ],
   "source": [
    "%%time\n",
    "\n",
    "model = CosineRecommender(K=5, num_threads=4) # K - кол-во билжайших соседей\n",
    "\n",
    "model.fit(csr_matrix(user_item_matrix).T.tocsr(), \n",
    "          show_progress=True)\n",
    "\n",
    "recs = model.recommend(userid=userid_to_id[1], \n",
    "                        user_items=csr_matrix(user_item_matrix).tocsr(),   # на вход user-item matrix\n",
    "                        N=5, \n",
    "                        filter_already_liked_items=True, \n",
    "                        filter_items=None, \n",
    "                        recalculate_user=False)"
   ]
  },
  {
   "cell_type": "code",
   "execution_count": 50,
   "id": "63968c1a",
   "metadata": {},
   "outputs": [
    {
     "data": {
      "text/plain": [
       "[3899.0, 3340.0, 6499.0, 3914.0, 999999.0]"
      ]
     },
     "execution_count": 50,
     "metadata": {},
     "output_type": "execute_result"
    }
   ],
   "source": [
    "[id_to_itemid[rec[0]] for rec in recs]"
   ]
  },
  {
   "cell_type": "code",
   "execution_count": 51,
   "id": "0fb634b1",
   "metadata": {},
   "outputs": [
    {
     "name": "stdout",
     "output_type": "stream",
     "text": [
      "Wall time: 4.78 s\n"
     ]
    }
   ],
   "source": [
    "%%time\n",
    "\n",
    "result['cosine'] = result['user_id'].\\\n",
    "    apply(lambda x: [id_to_itemid[rec[0]] for rec in \n",
    "                    model.recommend(userid=userid_to_id[x], \n",
    "                                    user_items=sparse_user_item,   # на вход user-item matrix\n",
    "                                    N=5, \n",
    "                                    filter_already_liked_items=True, \n",
    "                                    filter_items=None, \n",
    "                                    recalculate_user=True)])"
   ]
  },
  {
   "cell_type": "code",
   "execution_count": 52,
   "id": "d9858427",
   "metadata": {},
   "outputs": [
    {
     "data": {
      "text/html": [
       "<div>\n",
       "<style scoped>\n",
       "    .dataframe tbody tr th:only-of-type {\n",
       "        vertical-align: middle;\n",
       "    }\n",
       "\n",
       "    .dataframe tbody tr th {\n",
       "        vertical-align: top;\n",
       "    }\n",
       "\n",
       "    .dataframe thead th {\n",
       "        text-align: right;\n",
       "    }\n",
       "</style>\n",
       "<table border=\"1\" class=\"dataframe\">\n",
       "  <thead>\n",
       "    <tr style=\"text-align: right;\">\n",
       "      <th></th>\n",
       "      <th>user_id</th>\n",
       "      <th>actual</th>\n",
       "      <th>spb100_recommendation</th>\n",
       "      <th>popular_recommendation</th>\n",
       "      <th>itemitem</th>\n",
       "      <th>cosine</th>\n",
       "    </tr>\n",
       "  </thead>\n",
       "  <tbody>\n",
       "    <tr>\n",
       "      <th>0</th>\n",
       "      <td>1</td>\n",
       "      <td>[8337.0, 689.0, 1039.0, 6724.0, 7819.0]</td>\n",
       "      <td>[1897.0, 7392.0, 7360.0, 716.0, 4792.0]</td>\n",
       "      <td>[3899.0, 3340.0, 6499.0, 3914.0, 2351.0]</td>\n",
       "      <td>[3899.0, 3340.0, 6499.0, 3914.0, 999999.0]</td>\n",
       "      <td>[3899.0, 3340.0, 6499.0, 3914.0, 999999.0]</td>\n",
       "    </tr>\n",
       "    <tr>\n",
       "      <th>1</th>\n",
       "      <td>2</td>\n",
       "      <td>[1342.0, 3794.0, 4661.0, 650.0, 731.0, 6062.0,...</td>\n",
       "      <td>[1219.0, 1505.0, 5511.0, 8058.0, 7147.0]</td>\n",
       "      <td>[3899.0, 3340.0, 6499.0, 3914.0, 2351.0]</td>\n",
       "      <td>[3899.0, 3340.0, 6499.0, 3914.0, 999999.0]</td>\n",
       "      <td>[3899.0, 3340.0, 6499.0, 3914.0, 999999.0]</td>\n",
       "    </tr>\n",
       "  </tbody>\n",
       "</table>\n",
       "</div>"
      ],
      "text/plain": [
       "   user_id                                             actual  \\\n",
       "0        1            [8337.0, 689.0, 1039.0, 6724.0, 7819.0]   \n",
       "1        2  [1342.0, 3794.0, 4661.0, 650.0, 731.0, 6062.0,...   \n",
       "\n",
       "                      spb100_recommendation  \\\n",
       "0   [1897.0, 7392.0, 7360.0, 716.0, 4792.0]   \n",
       "1  [1219.0, 1505.0, 5511.0, 8058.0, 7147.0]   \n",
       "\n",
       "                     popular_recommendation  \\\n",
       "0  [3899.0, 3340.0, 6499.0, 3914.0, 2351.0]   \n",
       "1  [3899.0, 3340.0, 6499.0, 3914.0, 2351.0]   \n",
       "\n",
       "                                     itemitem  \\\n",
       "0  [3899.0, 3340.0, 6499.0, 3914.0, 999999.0]   \n",
       "1  [3899.0, 3340.0, 6499.0, 3914.0, 999999.0]   \n",
       "\n",
       "                                       cosine  \n",
       "0  [3899.0, 3340.0, 6499.0, 3914.0, 999999.0]  \n",
       "1  [3899.0, 3340.0, 6499.0, 3914.0, 999999.0]  "
      ]
     },
     "execution_count": 52,
     "metadata": {},
     "output_type": "execute_result"
    }
   ],
   "source": [
    "result.head(2)"
   ]
  },
  {
   "cell_type": "markdown",
   "id": "2468c85e",
   "metadata": {},
   "source": [
    "## TFIDFRecommender"
   ]
  },
  {
   "cell_type": "code",
   "execution_count": 53,
   "id": "17e65711",
   "metadata": {},
   "outputs": [
    {
     "data": {
      "application/vnd.jupyter.widget-view+json": {
       "model_id": "c8ec731303e44b60988242ccfafa8657",
       "version_major": 2,
       "version_minor": 0
      },
      "text/plain": [
       "  0%|          | 0/251 [00:00<?, ?it/s]"
      ]
     },
     "metadata": {},
     "output_type": "display_data"
    },
    {
     "name": "stdout",
     "output_type": "stream",
     "text": [
      "Wall time: 1.1 s\n"
     ]
    }
   ],
   "source": [
    "%%time\n",
    "\n",
    "model = TFIDFRecommender(K=5, num_threads=4) # K - кол-во билжайших соседей\n",
    "\n",
    "model.fit(csr_matrix(user_item_matrix).T.tocsr(), \n",
    "          show_progress=True)\n",
    "\n",
    "recs = model.recommend(userid=userid_to_id[1], \n",
    "                        user_items=csr_matrix(user_item_matrix).tocsr(),   # на вход user-item matrix\n",
    "                        N=5, \n",
    "                        filter_already_liked_items=True, \n",
    "                        filter_items=None, \n",
    "                        recalculate_user=False)"
   ]
  },
  {
   "cell_type": "code",
   "execution_count": 54,
   "id": "e33693e0",
   "metadata": {},
   "outputs": [
    {
     "data": {
      "text/plain": [
       "[3340.0, 3899.0, 6499.0, 3914.0, 999999.0]"
      ]
     },
     "execution_count": 54,
     "metadata": {},
     "output_type": "execute_result"
    }
   ],
   "source": [
    "[id_to_itemid[rec[0]] for rec in recs]"
   ]
  },
  {
   "cell_type": "code",
   "execution_count": 55,
   "id": "1008d369",
   "metadata": {},
   "outputs": [
    {
     "name": "stdout",
     "output_type": "stream",
     "text": [
      "Wall time: 4.37 s\n"
     ]
    }
   ],
   "source": [
    "%%time\n",
    "\n",
    "result['tfidf'] = result['user_id'].\\\n",
    "    apply(lambda x: [id_to_itemid[rec[0]] for rec in \n",
    "                    model.recommend(userid=userid_to_id[x], \n",
    "                                    user_items=sparse_user_item,   # на вход user-item matrix\n",
    "                                    N=5, \n",
    "                                    filter_already_liked_items=True, \n",
    "                                    filter_items=None, \n",
    "                                    recalculate_user=False)])"
   ]
  },
  {
   "cell_type": "code",
   "execution_count": 56,
   "id": "306314bf",
   "metadata": {},
   "outputs": [
    {
     "data": {
      "text/html": [
       "<div>\n",
       "<style scoped>\n",
       "    .dataframe tbody tr th:only-of-type {\n",
       "        vertical-align: middle;\n",
       "    }\n",
       "\n",
       "    .dataframe tbody tr th {\n",
       "        vertical-align: top;\n",
       "    }\n",
       "\n",
       "    .dataframe thead th {\n",
       "        text-align: right;\n",
       "    }\n",
       "</style>\n",
       "<table border=\"1\" class=\"dataframe\">\n",
       "  <thead>\n",
       "    <tr style=\"text-align: right;\">\n",
       "      <th></th>\n",
       "      <th>user_id</th>\n",
       "      <th>actual</th>\n",
       "      <th>spb100_recommendation</th>\n",
       "      <th>popular_recommendation</th>\n",
       "      <th>itemitem</th>\n",
       "      <th>cosine</th>\n",
       "      <th>tfidf</th>\n",
       "    </tr>\n",
       "  </thead>\n",
       "  <tbody>\n",
       "    <tr>\n",
       "      <th>0</th>\n",
       "      <td>1</td>\n",
       "      <td>[8337.0, 689.0, 1039.0, 6724.0, 7819.0]</td>\n",
       "      <td>[1897.0, 7392.0, 7360.0, 716.0, 4792.0]</td>\n",
       "      <td>[3899.0, 3340.0, 6499.0, 3914.0, 2351.0]</td>\n",
       "      <td>[3899.0, 3340.0, 6499.0, 3914.0, 999999.0]</td>\n",
       "      <td>[3899.0, 3340.0, 6499.0, 3914.0, 999999.0]</td>\n",
       "      <td>[3340.0, 3899.0, 6499.0, 3914.0, 999999.0]</td>\n",
       "    </tr>\n",
       "    <tr>\n",
       "      <th>1</th>\n",
       "      <td>2</td>\n",
       "      <td>[1342.0, 3794.0, 4661.0, 650.0, 731.0, 6062.0,...</td>\n",
       "      <td>[1219.0, 1505.0, 5511.0, 8058.0, 7147.0]</td>\n",
       "      <td>[3899.0, 3340.0, 6499.0, 3914.0, 2351.0]</td>\n",
       "      <td>[3899.0, 3340.0, 6499.0, 3914.0, 999999.0]</td>\n",
       "      <td>[3899.0, 3340.0, 6499.0, 3914.0, 999999.0]</td>\n",
       "      <td>[3340.0, 3899.0, 6499.0, 3914.0, 999999.0]</td>\n",
       "    </tr>\n",
       "  </tbody>\n",
       "</table>\n",
       "</div>"
      ],
      "text/plain": [
       "   user_id                                             actual  \\\n",
       "0        1            [8337.0, 689.0, 1039.0, 6724.0, 7819.0]   \n",
       "1        2  [1342.0, 3794.0, 4661.0, 650.0, 731.0, 6062.0,...   \n",
       "\n",
       "                      spb100_recommendation  \\\n",
       "0   [1897.0, 7392.0, 7360.0, 716.0, 4792.0]   \n",
       "1  [1219.0, 1505.0, 5511.0, 8058.0, 7147.0]   \n",
       "\n",
       "                     popular_recommendation  \\\n",
       "0  [3899.0, 3340.0, 6499.0, 3914.0, 2351.0]   \n",
       "1  [3899.0, 3340.0, 6499.0, 3914.0, 2351.0]   \n",
       "\n",
       "                                     itemitem  \\\n",
       "0  [3899.0, 3340.0, 6499.0, 3914.0, 999999.0]   \n",
       "1  [3899.0, 3340.0, 6499.0, 3914.0, 999999.0]   \n",
       "\n",
       "                                       cosine  \\\n",
       "0  [3899.0, 3340.0, 6499.0, 3914.0, 999999.0]   \n",
       "1  [3899.0, 3340.0, 6499.0, 3914.0, 999999.0]   \n",
       "\n",
       "                                        tfidf  \n",
       "0  [3340.0, 3899.0, 6499.0, 3914.0, 999999.0]  \n",
       "1  [3340.0, 3899.0, 6499.0, 3914.0, 999999.0]  "
      ]
     },
     "execution_count": 56,
     "metadata": {},
     "output_type": "execute_result"
    }
   ],
   "source": [
    "result.head(2)"
   ]
  },
  {
   "cell_type": "markdown",
   "id": "3d20f378",
   "metadata": {},
   "source": [
    "## ALS"
   ]
  },
  {
   "cell_type": "code",
   "execution_count": 57,
   "id": "b28ff482",
   "metadata": {},
   "outputs": [
    {
     "name": "stderr",
     "output_type": "stream",
     "text": [
      "WARNING:root:OpenBLAS detected. Its highly recommend to set the environment variable 'export OPENBLAS_NUM_THREADS=1' to disable its internal multithreading\n"
     ]
    },
    {
     "data": {
      "application/vnd.jupyter.widget-view+json": {
       "model_id": "9c67a5ac284e4f809b5b347ea1409c84",
       "version_major": 2,
       "version_minor": 0
      },
      "text/plain": [
       "  0%|          | 0/15 [00:00<?, ?it/s]"
      ]
     },
     "metadata": {},
     "output_type": "display_data"
    },
    {
     "name": "stdout",
     "output_type": "stream",
     "text": [
      "Wall time: 2min 20s\n"
     ]
    }
   ],
   "source": [
    "%%time\n",
    "\n",
    "model = AlternatingLeastSquares(factors=100,  # Нужно подбирать\n",
    "                                regularization=0.001,\n",
    "                                iterations=15,\n",
    "                                calculate_training_loss=True, \n",
    "                                num_threads=4)\n",
    "\n",
    "model.fit(csr_matrix(user_item_matrix).T.tocsr(),  # На вход item-user matrix\n",
    "          show_progress=True)\n",
    "\n",
    "recs = model.recommend(userid=userid_to_id[2],  # userid - id от 0 до N\n",
    "                        user_items=csr_matrix(user_item_matrix).tocsr(),   # на вход user-item matrix\n",
    "                        N=5, # кол-во рекомендаций \n",
    "                        filter_already_liked_items=[itemid_to_id[999999]], \n",
    "                        filter_items=None, \n",
    "                        recalculate_user=False)"
   ]
  },
  {
   "cell_type": "code",
   "execution_count": 58,
   "id": "55ae98ef",
   "metadata": {},
   "outputs": [
    {
     "data": {
      "text/plain": [
       "[(130, 0.0003321208),\n",
       " (135, 0.0003103339),\n",
       " (54, 0.00030463282),\n",
       " (9, 0.0002918737),\n",
       " (208, 0.0002754843)]"
      ]
     },
     "execution_count": 58,
     "metadata": {},
     "output_type": "execute_result"
    }
   ],
   "source": [
    "recs"
   ]
  },
  {
   "cell_type": "code",
   "execution_count": 59,
   "id": "f96f7671",
   "metadata": {},
   "outputs": [
    {
     "data": {
      "text/plain": [
       "[4390.0, 4569.0, 2251.0, 702.0, 7512.0]"
      ]
     },
     "execution_count": 59,
     "metadata": {},
     "output_type": "execute_result"
    }
   ],
   "source": [
    "[id_to_itemid[rec[0]] for rec in recs]"
   ]
  },
  {
   "cell_type": "code",
   "execution_count": 60,
   "id": "6d469695",
   "metadata": {},
   "outputs": [],
   "source": [
    "def get_recommendations(user, model, N=5):\n",
    "    res = [id_to_itemid[rec[0]] for rec in \n",
    "                    model.recommend(userid=userid_to_id[user], \n",
    "                                    user_items=sparse_user_item,   # на вход user-item matrix\n",
    "                                    N=N, \n",
    "                                    filter_already_liked_items=False, \n",
    "                                    filter_items=[itemid_to_id[999999]], \n",
    "                                    recalculate_user=True)]\n",
    "    return res"
   ]
  },
  {
   "cell_type": "code",
   "execution_count": 61,
   "id": "e3ac60ff",
   "metadata": {},
   "outputs": [
    {
     "name": "stdout",
     "output_type": "stream",
     "text": [
      "Wall time: 2min 19s\n"
     ]
    }
   ],
   "source": [
    "%%time\n",
    "    \n",
    "result['als'] = result['user_id'].apply(lambda x: get_recommendations(x, model=model, N=5))"
   ]
  },
  {
   "cell_type": "code",
   "execution_count": 62,
   "id": "92698722",
   "metadata": {},
   "outputs": [
    {
     "data": {
      "text/html": [
       "<div>\n",
       "<style scoped>\n",
       "    .dataframe tbody tr th:only-of-type {\n",
       "        vertical-align: middle;\n",
       "    }\n",
       "\n",
       "    .dataframe tbody tr th {\n",
       "        vertical-align: top;\n",
       "    }\n",
       "\n",
       "    .dataframe thead th {\n",
       "        text-align: right;\n",
       "    }\n",
       "</style>\n",
       "<table border=\"1\" class=\"dataframe\">\n",
       "  <thead>\n",
       "    <tr style=\"text-align: right;\">\n",
       "      <th></th>\n",
       "      <th>user_id</th>\n",
       "      <th>actual</th>\n",
       "      <th>spb100_recommendation</th>\n",
       "      <th>popular_recommendation</th>\n",
       "      <th>itemitem</th>\n",
       "      <th>cosine</th>\n",
       "      <th>tfidf</th>\n",
       "      <th>als</th>\n",
       "    </tr>\n",
       "  </thead>\n",
       "  <tbody>\n",
       "    <tr>\n",
       "      <th>0</th>\n",
       "      <td>1</td>\n",
       "      <td>[8337.0, 689.0, 1039.0, 6724.0, 7819.0]</td>\n",
       "      <td>[1897.0, 7392.0, 7360.0, 716.0, 4792.0]</td>\n",
       "      <td>[3899.0, 3340.0, 6499.0, 3914.0, 2351.0]</td>\n",
       "      <td>[3899.0, 3340.0, 6499.0, 3914.0, 999999.0]</td>\n",
       "      <td>[3899.0, 3340.0, 6499.0, 3914.0, 999999.0]</td>\n",
       "      <td>[3340.0, 3899.0, 6499.0, 3914.0, 999999.0]</td>\n",
       "      <td>[5189.0, 702.0, 3317.0, 8339.0, 7321.0]</td>\n",
       "    </tr>\n",
       "    <tr>\n",
       "      <th>1</th>\n",
       "      <td>2</td>\n",
       "      <td>[1342.0, 3794.0, 4661.0, 650.0, 731.0, 6062.0,...</td>\n",
       "      <td>[1219.0, 1505.0, 5511.0, 8058.0, 7147.0]</td>\n",
       "      <td>[3899.0, 3340.0, 6499.0, 3914.0, 2351.0]</td>\n",
       "      <td>[3899.0, 3340.0, 6499.0, 3914.0, 999999.0]</td>\n",
       "      <td>[3899.0, 3340.0, 6499.0, 3914.0, 999999.0]</td>\n",
       "      <td>[3340.0, 3899.0, 6499.0, 3914.0, 999999.0]</td>\n",
       "      <td>[5189.0, 702.0, 3317.0, 8339.0, 7321.0]</td>\n",
       "    </tr>\n",
       "  </tbody>\n",
       "</table>\n",
       "</div>"
      ],
      "text/plain": [
       "   user_id                                             actual  \\\n",
       "0        1            [8337.0, 689.0, 1039.0, 6724.0, 7819.0]   \n",
       "1        2  [1342.0, 3794.0, 4661.0, 650.0, 731.0, 6062.0,...   \n",
       "\n",
       "                      spb100_recommendation  \\\n",
       "0   [1897.0, 7392.0, 7360.0, 716.0, 4792.0]   \n",
       "1  [1219.0, 1505.0, 5511.0, 8058.0, 7147.0]   \n",
       "\n",
       "                     popular_recommendation  \\\n",
       "0  [3899.0, 3340.0, 6499.0, 3914.0, 2351.0]   \n",
       "1  [3899.0, 3340.0, 6499.0, 3914.0, 2351.0]   \n",
       "\n",
       "                                     itemitem  \\\n",
       "0  [3899.0, 3340.0, 6499.0, 3914.0, 999999.0]   \n",
       "1  [3899.0, 3340.0, 6499.0, 3914.0, 999999.0]   \n",
       "\n",
       "                                       cosine  \\\n",
       "0  [3899.0, 3340.0, 6499.0, 3914.0, 999999.0]   \n",
       "1  [3899.0, 3340.0, 6499.0, 3914.0, 999999.0]   \n",
       "\n",
       "                                        tfidf  \\\n",
       "0  [3340.0, 3899.0, 6499.0, 3914.0, 999999.0]   \n",
       "1  [3340.0, 3899.0, 6499.0, 3914.0, 999999.0]   \n",
       "\n",
       "                                       als  \n",
       "0  [5189.0, 702.0, 3317.0, 8339.0, 7321.0]  \n",
       "1  [5189.0, 702.0, 3317.0, 8339.0, 7321.0]  "
      ]
     },
     "execution_count": 62,
     "metadata": {},
     "output_type": "execute_result"
    }
   ],
   "source": [
    "result.head(2)"
   ]
  },
  {
   "cell_type": "code",
   "execution_count": 63,
   "id": "83447f1d",
   "metadata": {},
   "outputs": [],
   "source": [
    "## Попробуем применить bm-25 взвешивание"
   ]
  },
  {
   "cell_type": "code",
   "execution_count": 64,
   "id": "755d1350",
   "metadata": {},
   "outputs": [],
   "source": [
    "user_item_matrix = bm25_weight(user_item_matrix.T).T  # Применяется к item-user матрице ! "
   ]
  },
  {
   "cell_type": "code",
   "execution_count": 65,
   "id": "76a4c226",
   "metadata": {},
   "outputs": [
    {
     "data": {
      "application/vnd.jupyter.widget-view+json": {
       "model_id": "7137e7f3b1c24292a0407f96cf6b048b",
       "version_major": 2,
       "version_minor": 0
      },
      "text/plain": [
       "  0%|          | 0/15 [00:00<?, ?it/s]"
      ]
     },
     "metadata": {},
     "output_type": "display_data"
    },
    {
     "name": "stdout",
     "output_type": "stream",
     "text": [
      "Wall time: 4min 23s\n"
     ]
    }
   ],
   "source": [
    "%%time\n",
    "\n",
    "model = AlternatingLeastSquares(factors=100, \n",
    "                                regularization=0.001,\n",
    "                                iterations=15, \n",
    "                                calculate_training_loss=True, \n",
    "                                num_threads=4) # K - кол-во билжайших соседей\n",
    "\n",
    "model.fit(csr_matrix(user_item_matrix).T.tocsr(),  # На вход item-user matrix\n",
    "          show_progress=True)\n",
    "\n",
    "result['als_bm25'] = result['user_id'].apply(lambda x: get_recommendations(x, model=model, N=5))"
   ]
  },
  {
   "cell_type": "code",
   "execution_count": 66,
   "id": "22066ad8",
   "metadata": {},
   "outputs": [
    {
     "data": {
      "text/html": [
       "<div>\n",
       "<style scoped>\n",
       "    .dataframe tbody tr th:only-of-type {\n",
       "        vertical-align: middle;\n",
       "    }\n",
       "\n",
       "    .dataframe tbody tr th {\n",
       "        vertical-align: top;\n",
       "    }\n",
       "\n",
       "    .dataframe thead th {\n",
       "        text-align: right;\n",
       "    }\n",
       "</style>\n",
       "<table border=\"1\" class=\"dataframe\">\n",
       "  <thead>\n",
       "    <tr style=\"text-align: right;\">\n",
       "      <th></th>\n",
       "      <th>user_id</th>\n",
       "      <th>actual</th>\n",
       "      <th>spb100_recommendation</th>\n",
       "      <th>popular_recommendation</th>\n",
       "      <th>itemitem</th>\n",
       "      <th>cosine</th>\n",
       "      <th>tfidf</th>\n",
       "      <th>als</th>\n",
       "      <th>als_bm25</th>\n",
       "    </tr>\n",
       "  </thead>\n",
       "  <tbody>\n",
       "    <tr>\n",
       "      <th>0</th>\n",
       "      <td>1</td>\n",
       "      <td>[8337.0, 689.0, 1039.0, 6724.0, 7819.0]</td>\n",
       "      <td>[1897.0, 7392.0, 7360.0, 716.0, 4792.0]</td>\n",
       "      <td>[3899.0, 3340.0, 6499.0, 3914.0, 2351.0]</td>\n",
       "      <td>[3899.0, 3340.0, 6499.0, 3914.0, 999999.0]</td>\n",
       "      <td>[3899.0, 3340.0, 6499.0, 3914.0, 999999.0]</td>\n",
       "      <td>[3340.0, 3899.0, 6499.0, 3914.0, 999999.0]</td>\n",
       "      <td>[5189.0, 702.0, 3317.0, 8339.0, 7321.0]</td>\n",
       "      <td>[4368.0, 4552.0, 2242.0, 4390.0, 6091.0]</td>\n",
       "    </tr>\n",
       "    <tr>\n",
       "      <th>1</th>\n",
       "      <td>2</td>\n",
       "      <td>[1342.0, 3794.0, 4661.0, 650.0, 731.0, 6062.0,...</td>\n",
       "      <td>[1219.0, 1505.0, 5511.0, 8058.0, 7147.0]</td>\n",
       "      <td>[3899.0, 3340.0, 6499.0, 3914.0, 2351.0]</td>\n",
       "      <td>[3899.0, 3340.0, 6499.0, 3914.0, 999999.0]</td>\n",
       "      <td>[3899.0, 3340.0, 6499.0, 3914.0, 999999.0]</td>\n",
       "      <td>[3340.0, 3899.0, 6499.0, 3914.0, 999999.0]</td>\n",
       "      <td>[5189.0, 702.0, 3317.0, 8339.0, 7321.0]</td>\n",
       "      <td>[4368.0, 4552.0, 2242.0, 4390.0, 6091.0]</td>\n",
       "    </tr>\n",
       "  </tbody>\n",
       "</table>\n",
       "</div>"
      ],
      "text/plain": [
       "   user_id                                             actual  \\\n",
       "0        1            [8337.0, 689.0, 1039.0, 6724.0, 7819.0]   \n",
       "1        2  [1342.0, 3794.0, 4661.0, 650.0, 731.0, 6062.0,...   \n",
       "\n",
       "                      spb100_recommendation  \\\n",
       "0   [1897.0, 7392.0, 7360.0, 716.0, 4792.0]   \n",
       "1  [1219.0, 1505.0, 5511.0, 8058.0, 7147.0]   \n",
       "\n",
       "                     popular_recommendation  \\\n",
       "0  [3899.0, 3340.0, 6499.0, 3914.0, 2351.0]   \n",
       "1  [3899.0, 3340.0, 6499.0, 3914.0, 2351.0]   \n",
       "\n",
       "                                     itemitem  \\\n",
       "0  [3899.0, 3340.0, 6499.0, 3914.0, 999999.0]   \n",
       "1  [3899.0, 3340.0, 6499.0, 3914.0, 999999.0]   \n",
       "\n",
       "                                       cosine  \\\n",
       "0  [3899.0, 3340.0, 6499.0, 3914.0, 999999.0]   \n",
       "1  [3899.0, 3340.0, 6499.0, 3914.0, 999999.0]   \n",
       "\n",
       "                                        tfidf  \\\n",
       "0  [3340.0, 3899.0, 6499.0, 3914.0, 999999.0]   \n",
       "1  [3340.0, 3899.0, 6499.0, 3914.0, 999999.0]   \n",
       "\n",
       "                                       als  \\\n",
       "0  [5189.0, 702.0, 3317.0, 8339.0, 7321.0]   \n",
       "1  [5189.0, 702.0, 3317.0, 8339.0, 7321.0]   \n",
       "\n",
       "                                   als_bm25  \n",
       "0  [4368.0, 4552.0, 2242.0, 4390.0, 6091.0]  \n",
       "1  [4368.0, 4552.0, 2242.0, 4390.0, 6091.0]  "
      ]
     },
     "execution_count": 66,
     "metadata": {},
     "output_type": "execute_result"
    }
   ],
   "source": [
    "result.head(2)"
   ]
  },
  {
   "cell_type": "markdown",
   "id": "b3f89df2",
   "metadata": {},
   "source": [
    "## Bayesian personalized ranking"
   ]
  },
  {
   "cell_type": "code",
   "execution_count": 67,
   "id": "950b7ce2",
   "metadata": {},
   "outputs": [],
   "source": [
    "## Попробуем применить bm-25 взвешивание + BayesianPersonalizedRanking"
   ]
  },
  {
   "cell_type": "code",
   "execution_count": 70,
   "id": "f28b1344",
   "metadata": {},
   "outputs": [
    {
     "data": {
      "application/vnd.jupyter.widget-view+json": {
       "model_id": "4eb5af4fbfbb4af4a7308ccf95961091",
       "version_major": 2,
       "version_minor": 0
      },
      "text/plain": [
       "  0%|          | 0/15 [00:00<?, ?it/s]"
      ]
     },
     "metadata": {},
     "output_type": "display_data"
    },
    {
     "name": "stdout",
     "output_type": "stream",
     "text": [
      "Wall time: 640 ms\n"
     ]
    }
   ],
   "source": [
    "%%time\n",
    "\n",
    "model_bpr = BayesianPersonalizedRanking(factors=20, \n",
    "                                regularization=0.001,\n",
    "                                iterations=15,  \n",
    "                                num_threads=4)\n",
    "\n",
    "model_bpr.fit(csr_matrix(user_item_matrix).T.tocsr(),  # На вход item-user matrix, взвешенную по bm25\n",
    "          show_progress=True)"
   ]
  },
  {
   "cell_type": "code",
   "execution_count": 72,
   "id": "b16a69cc",
   "metadata": {},
   "outputs": [],
   "source": [
    "def get_recommendations(user, model, N=5):\n",
    "    res = [id_to_itemid[rec[0]] for rec in \n",
    "                    model.recommend(userid=userid_to_id[user], \n",
    "                                    user_items=csr_matrix(user_item_matrix).tocsr(),   # на вход user-item matrix\n",
    "                                    N=N, \n",
    "                                    filter_already_liked_items=False, \n",
    "                                    filter_items=[itemid_to_id[999999]],  # !!! \n",
    "                                    recalculate_user=False)]\n",
    "    return res"
   ]
  },
  {
   "cell_type": "code",
   "execution_count": 73,
   "id": "cf14d843",
   "metadata": {},
   "outputs": [],
   "source": [
    "result['bm25_bpr'] = result['user_id'].apply(lambda x: get_recommendations(x, model=model_bpr, N=5))"
   ]
  },
  {
   "cell_type": "code",
   "execution_count": 79,
   "id": "28a9e496",
   "metadata": {},
   "outputs": [],
   "source": [
    "# Посмотрим результаты по метрике"
   ]
  },
  {
   "cell_type": "code",
   "execution_count": 76,
   "id": "eaa6e1c8",
   "metadata": {},
   "outputs": [
    {
     "data": {
      "text/html": [
       "<div>\n",
       "<style scoped>\n",
       "    .dataframe tbody tr th:only-of-type {\n",
       "        vertical-align: middle;\n",
       "    }\n",
       "\n",
       "    .dataframe tbody tr th {\n",
       "        vertical-align: top;\n",
       "    }\n",
       "\n",
       "    .dataframe thead th {\n",
       "        text-align: right;\n",
       "    }\n",
       "</style>\n",
       "<table border=\"1\" class=\"dataframe\">\n",
       "  <thead>\n",
       "    <tr style=\"text-align: right;\">\n",
       "      <th></th>\n",
       "      <th>spb100_recommendation</th>\n",
       "      <th>popular_recommendation</th>\n",
       "      <th>itemitem</th>\n",
       "      <th>cosine</th>\n",
       "      <th>tfidf</th>\n",
       "      <th>als</th>\n",
       "      <th>als_bm25</th>\n",
       "      <th>bm25_bpr</th>\n",
       "    </tr>\n",
       "  </thead>\n",
       "  <tbody>\n",
       "    <tr>\n",
       "      <th>precision_at_k</th>\n",
       "      <td>0.00048</td>\n",
       "      <td>0.000452</td>\n",
       "      <td>0.000422</td>\n",
       "      <td>0.000418</td>\n",
       "      <td>0.000422</td>\n",
       "      <td>0.000526</td>\n",
       "      <td>0.00063</td>\n",
       "      <td>0.000586</td>\n",
       "    </tr>\n",
       "  </tbody>\n",
       "</table>\n",
       "</div>"
      ],
      "text/plain": [
       "                spb100_recommendation  popular_recommendation  itemitem  \\\n",
       "precision_at_k                0.00048                0.000452  0.000422   \n",
       "\n",
       "                  cosine     tfidf       als  als_bm25  bm25_bpr  \n",
       "precision_at_k  0.000418  0.000422  0.000526   0.00063  0.000586  "
      ]
     },
     "execution_count": 76,
     "metadata": {},
     "output_type": "execute_result"
    }
   ],
   "source": [
    "pd.DataFrame([\n",
    "    result.apply(lambda row: precision_at_k(row['spb100_recommendation'], row['actual']), axis=1).mean(),\n",
    "    result.apply(lambda row: precision_at_k(row['popular_recommendation'], row['actual']), axis=1).mean(),\n",
    "    result.apply(lambda row: precision_at_k(row['itemitem'], row['actual']), axis=1).mean(),\n",
    "    result.apply(lambda row: precision_at_k(row['cosine'], row['actual']), axis=1).mean(),\n",
    "    result.apply(lambda row: precision_at_k(row['tfidf'], row['actual']), axis=1).mean(),\n",
    "    result.apply(lambda row: precision_at_k(row['als'], row['actual']), axis=1).mean(),\n",
    "    result.apply(lambda row: precision_at_k(row['als_bm25'], row['actual']), axis=1).mean(),\n",
    "    result.apply(lambda row: precision_at_k(row['bm25_bpr'], row['actual']), axis=1).mean(),\n",
    "], \n",
    "    columns=['precision_at_k'], \n",
    "    index=['spb100_recommendation', 'popular_recommendation', 'itemitem', 'cosine', 'tfidf', 'als',\n",
    "          'als_bm25', 'bm25_bpr']\n",
    ").T"
   ]
  },
  {
   "cell_type": "code",
   "execution_count": 78,
   "id": "06944e37",
   "metadata": {},
   "outputs": [],
   "source": [
    "# Метрики, конечно, удивили.... \n",
    "# - Как улучшить/изменить ситуацию (сузить круг бумаг или круг пользователей): \n",
    "#        - изменить снова входные id_share. Поставить предфильтрацию по наличию бумаги в s&p500\n",
    "#        - изменить кол-во уникальных пользователей. Сократить со 100 000 до 2500 и провести снова тест"
   ]
  },
  {
   "cell_type": "code",
   "execution_count": null,
   "id": "c89ef31c",
   "metadata": {},
   "outputs": [],
   "source": []
  }
 ],
 "metadata": {
  "kernelspec": {
   "display_name": "Python 3",
   "language": "python",
   "name": "python3"
  },
  "language_info": {
   "codemirror_mode": {
    "name": "ipython",
    "version": 3
   },
   "file_extension": ".py",
   "mimetype": "text/x-python",
   "name": "python",
   "nbconvert_exporter": "python",
   "pygments_lexer": "ipython3",
   "version": "3.9.6"
  }
 },
 "nbformat": 4,
 "nbformat_minor": 5
}
